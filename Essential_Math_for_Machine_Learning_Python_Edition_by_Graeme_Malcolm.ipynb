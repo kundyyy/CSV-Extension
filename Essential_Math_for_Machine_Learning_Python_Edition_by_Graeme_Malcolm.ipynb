{
  "nbformat": 4,
  "nbformat_minor": 0,
  "metadata": {
    "colab": {
      "name": "Essential Math for Machine Learning: Python Edition by Graeme Malcolm",
      "provenance": [],
      "collapsed_sections": [
        "XM9WFFk0YFY0",
        "CjFKaVrCY4gR",
        "MNnk8WQoY883",
        "pz5Yc5WGZLuz",
        "xLK4KqAHZVfk",
        "zu_vPQv4ZoeT",
        "p5I3WZjbZ_9s",
        "24QTB_vMbGh8",
        "KJkHFrwpbn_u",
        "XOBl23S1bqm6",
        "TS7Q8W_rbtQX",
        "MwK-WIyEbxmh",
        "W-O17U2CcKdl",
        "E6nh-GUZcInI",
        "EwN-kHrJcInS",
        "0X6WmXexcInW",
        "jLu-YHMtcInf",
        "6JBUKyj0cInk",
        "Vsl6racjdFfq",
        "1Yh9K0ARdBJ9",
        "heuz-P3XdBKP",
        "byiQukIFe_up",
        "J1y7zWIBe4m6",
        "bpmgrkqce4nA",
        "za8Qey0We4nA",
        "E6sgaEoKe4nM",
        "sPCzVf1Oe4nU",
        "S7kZtuXTe4na",
        "oveU01F7e4ne",
        "Curs_z2ze4nf",
        "mUh2fEJXe4ng",
        "-LrlPSgBgBgb",
        "T8FTGxXSfnS2",
        "qez2rlGEfnS4",
        "jiooR_V0fnS5",
        "2jwdfwDifnS-",
        "Ieks4WYqhWwe",
        "R_vYRyxVhTol",
        "CwBTTHBphTo7",
        "Fg22wrEthTpA",
        "MvNsb1fdhTpH",
        "YD0mP5CmhTpL",
        "V2IKfk8miQsa",
        "dpTKy3UUiL3E",
        "MPDAhPoviL3L",
        "hJ7fmHPGiL3T",
        "WWg4CUdfiL3b",
        "kNf2TvIVjuDp",
        "34S7sEpyiscd",
        "faqF8oZ3iscr",
        "p-Trde1oisc1",
        "eDswUUl4isc6",
        "0adI9vWLjAld",
        "2tI2UxNli0AC",
        "zx4uECZHi0AN",
        "MQC-xE4Vi0AS",
        "VfWpXI7ui0AW",
        "oiR33ubui0AX",
        "YuM4hXr3i0Ab",
        "M3BQ0kfRkwFX",
        "BzkNWh_0kr4v",
        "4ApfP1xTkr4-",
        "kb0YSZ5Wkr5L",
        "FAyQ_rCDkr5P",
        "VcmaWylEkr5x",
        "_5zYIefUkr6I",
        "RmNot_xokr6Q",
        "2FlW4PoTluk_",
        "gykliVttllve",
        "FKR3HLIUllvu",
        "X-h4CZIvllvx",
        "QNPWwvLvllwP",
        "i6OtFzLZllwp",
        "JM8KlCf6llxM",
        "2ayd_zIyllxb",
        "hNpJf_L2oJhN",
        "LRpiQwsLoJhO",
        "Ofhz5MxfoJhX",
        "Q0ONFr8CoJhc",
        "hykeZUBqoJhg",
        "CEwfRCv3oJhj",
        "iIJArBCqoJh4",
        "B4EpI7OFoJiC",
        "8QXWG5vboJiG",
        "zEBXB780oJi-",
        "NdDDZwpYoJjc",
        "z9l0A9HuoJjz",
        "_OXLt8-SoJj4",
        "P81V8kMQoJj8",
        "LlkoLDHvoJkC",
        "NcKyiD1woJkD",
        "bwA5S05Jpsrn",
        "C6mWpIWfpljf",
        "Dq3gzKG6pljq",
        "CS4XXdqZplj5",
        "y8NZfEOmplj-",
        "J4EmbGNtplkK",
        "vkf49bERplkU",
        "bXV4zarJqaC7",
        "j-eBaE6PqIo3",
        "pIkUcG9IqIo4",
        "2iXOKIFHqIpI",
        "_RI3h6GiqIpN",
        "fI92j-SRqIpO",
        "ngJPDEihqIpP",
        "TGzyZGTSqIpT",
        "nF-CGOlCqIpb",
        "b9p2aT-gqIpu",
        "5KUdvd9BsxYc",
        "Rs3Tvu6ssNpx",
        "uHzIZy_LsNp_",
        "4au4zMEJsNqc",
        "RKB9FqLIsNq3",
        "eODo4leksNq9",
        "RTDp-ByOsNrT",
        "odA4mE_UsNrU"
      ],
      "toc_visible": true,
      "include_colab_link": true
    },
    "kernelspec": {
      "name": "python3",
      "display_name": "Python 3"
    }
  },
  "cells": [
    {
      "cell_type": "markdown",
      "metadata": {
        "id": "view-in-github",
        "colab_type": "text"
      },
      "source": [
        "<a href=\"https://colab.research.google.com/github/kundyyy/CSV-Extension/blob/5.x/Essential_Math_for_Machine_Learning_Python_Edition_by_Graeme_Malcolm.ipynb\" target=\"_parent\"><img src=\"https://colab.research.google.com/assets/colab-badge.svg\" alt=\"Open In Colab\"/></a>"
      ]
    },
    {
      "cell_type": "markdown",
      "metadata": {
        "id": "dioIJuSzru6_",
        "colab_type": "text"
      },
      "source": [
        "# Essential Maths for Machine Learning"
      ]
    },
    {
      "cell_type": "markdown",
      "metadata": {
        "id": "buEuMsAqsHG5",
        "colab_type": "text"
      },
      "source": [
        "The following sections come from the Essentials Maths for Machine Learning Course [Edx](https://https://www.edx.org/course/essential-math-for-machine-learning-python-editi-2)"
      ]
    },
    {
      "cell_type": "markdown",
      "metadata": {
        "id": "XM9WFFk0YFY0",
        "colab_type": "text"
      },
      "source": [
        "## 1. Introduction to Equations"
      ]
    },
    {
      "cell_type": "markdown",
      "metadata": {
        "id": "CjFKaVrCY4gR",
        "colab_type": "text"
      },
      "source": [
        "### One Step Equations"
      ]
    },
    {
      "cell_type": "markdown",
      "metadata": {
        "id": "JmLr4Fu3X7Qv",
        "colab_type": "text"
      },
      "source": [
        "Equations are calculations in which one or more variables represent unknown values. \n",
        "\n",
        "Consider the following equation:\n",
        "\n",
        "\\begin{equation}x + 16 = -25\\end{equation}\n",
        "\n",
        "The challenge here is to find the value for **x**, and to do this we need to *isolate the variable*. In this case, we need to get **x** onto one side of the \"=\" sign, and all of the other values onto the other side. To accomplish this we'll follow these rules:\n",
        "1. Use opposite operations to cancel out the values we don't want on one side. In this case, the left side of the equation includes an addition of 16, so we'll cancel that out by subtracting 16 and the left side of the equation becomes **x + 16 - 16**.\n",
        "2. Whatever you do to one side, you must also do to the other side. In this case, we subtracted 16 from the left side, so we must also subtract 16 from the right side of the equation, which becomes **-25 - 16**.\n",
        "Our equation now looks like this:\n",
        "\n",
        "\\begin{equation}x + 16 - 16 = -25 - 16\\end{equation}\n",
        "\n",
        "Now we can calculate the values on both side. On the left side, 16 - 16 is 0, so we're left with:\n",
        "\n",
        "\\begin{equation}x = -25 - 16\\end{equation}\n",
        "\n",
        "Which yields the result **-41**. Our equation is now solved, as you can see here:\n",
        "\n",
        "\\begin{equation}x = -41\\end{equation}\n",
        "\n",
        "It's always good practice to verify your result by plugging the variable value you've calculated into the original equation and ensuring that it holds true. We can easily do that by using some simple Python code.\n",
        "\n",
        "To verify the equation using Python code, lets run the following code:"
      ]
    },
    {
      "cell_type": "code",
      "metadata": {
        "id": "VqASN60mYcIw",
        "colab_type": "code",
        "colab": {}
      },
      "source": [
        "x = -41\n",
        "x + 16 == -25"
      ],
      "execution_count": 0,
      "outputs": []
    },
    {
      "cell_type": "markdown",
      "metadata": {
        "id": "MNnk8WQoY883",
        "colab_type": "text"
      },
      "source": [
        "### Two-Step Equations\n"
      ]
    },
    {
      "cell_type": "markdown",
      "metadata": {
        "id": "PiwpSahWXu7G",
        "colab_type": "text"
      },
      "source": [
        "The previous example was fairly simple - you could probably work it out in your head. So what about something a little more complex?\n",
        "\n",
        "\\begin{equation}3x - 2 = 10 \\end{equation}\n",
        "\n",
        "As before, we need to isolate the variable **x**, but this time we'll do it in two steps. The first thing we'll do is to cancel out the *constants*. A constant is any number that stands on its own, so in this case the 2 that we're subtracting on the left side is a constant. We'll use an opposite operation to cancel it out on the left side, so since the current operation is to subtract 2, we'll add 2; and of course whatever we do on the left side we also need to do on the right side, so after the first step, our equation looks like this:\n",
        "\n",
        "\\begin{equation}3x - 2 + 2 = 10 + 2 \\end{equation}\n",
        "\n",
        "Now the -2 and +2 on the left cancel one another out, and on the right side, 10 + 2 is 12; so the equation is now:\n",
        "\n",
        "\\begin{equation}3x = 12 \\end{equation}\n",
        "\n",
        "OK, time for step two - we need to deal with the *coefficients* - a coefficient is a number that is applied to a variable. In this case, our expression on the left is 3x, which means x multiplied by 3; so we can apply the opposite operation to cancel it out as long as we do the same to the other side, like this:\n",
        "\n",
        "\\begin{equation}\\frac{3x}{3} = \\frac{12}{3} \\end{equation}\n",
        "\n",
        "3x &divide; 3 is x, so we've now isolated the variable\n",
        "\n",
        "\\begin{equation}x = \\frac{12}{3} \\end{equation}\n",
        "\n",
        "And we can calculate the result as <sup>12</sup>/<sub>3</sub> which is **4**:\n",
        "\n",
        "\\begin{equation}x = 4 \\end{equation}\n",
        "\n",
        "Let's verify that result using Python:"
      ]
    },
    {
      "cell_type": "code",
      "metadata": {
        "id": "LjAQ6NGBXu7K",
        "colab_type": "code",
        "colab": {}
      },
      "source": [
        "x = 4\n",
        "3*x - 2 == 10"
      ],
      "execution_count": 0,
      "outputs": []
    },
    {
      "cell_type": "markdown",
      "metadata": {
        "id": "pz5Yc5WGZLuz",
        "colab_type": "text"
      },
      "source": [
        "### Combining Like Terms"
      ]
    },
    {
      "cell_type": "markdown",
      "metadata": {
        "id": "QsTq_PCTXu7a",
        "colab_type": "text"
      },
      "source": [
        "Like terms are elements of an expression that relate to the same variable or constant (with the same *order* or *exponential*, which we'll discuss later). For example, consider the following equation:\n",
        "\n",
        "\\begin{equation}\\textbf{5x} + 1 \\textbf{- 2x} = 22 \\end{equation}\n",
        "\n",
        "In this equation, the left side includes the terms **5x** and **- 2x**, both of which represent the variable **x** multiplied by a coefficent. Note that we include the sign (+ or -) in front of the value.\n",
        "\n",
        "We can rewrite the equation to combine these like terms:\n",
        "\n",
        "\\begin{equation}\\textbf{5x - 2x} + 1 = 22 \\end{equation}\n",
        "\n",
        "We can then simply perform the necessary operations on the like terms to consolidate them into a single term:\n",
        "\n",
        "\\begin{equation}\\textbf{3x} + 1 = 22 \\end{equation}\n",
        "\n",
        "Now, we can solve this like any other two-step equation. First we'll remove the constants from the left side - in this case, there's a constant expression that adds 1, so we'll use the opposite operation to remove it and do the same on the other side:\n",
        "\n",
        "\\begin{equation}3x + 1 - 1 = 22 - 1 \\end{equation}\n",
        "\n",
        "That gives us:\n",
        "\n",
        "\\begin{equation}3x = 21 \\end{equation}\n",
        "\n",
        "Then we'll deal with the coefficients - in this case x is multiplied by 3, so we'll divide by 3 on boths sides to remove that:\n",
        "\n",
        "\\begin{equation}\\frac{3x}{3} = \\frac{21}{3} \\end{equation}\n",
        "\n",
        "This give us our answer:\n",
        "\n",
        "\\begin{equation}x = 7 \\end{equation}"
      ]
    },
    {
      "cell_type": "code",
      "metadata": {
        "id": "6_RFl7nRXu7b",
        "colab_type": "code",
        "colab": {}
      },
      "source": [
        "x = 7\n",
        "5*x + 1 - 2*x == 22"
      ],
      "execution_count": 0,
      "outputs": []
    },
    {
      "cell_type": "markdown",
      "metadata": {
        "id": "xLK4KqAHZVfk",
        "colab_type": "text"
      },
      "source": [
        "### Working with Fractions"
      ]
    },
    {
      "cell_type": "markdown",
      "metadata": {
        "id": "agPkwQAyXu7u",
        "colab_type": "text"
      },
      "source": [
        "Some of the steps in solving the equations above have involved working wth fractions - which in themselves are actually just division operations. Let's take a look at an example of an equation in which our variable is defined as a fraction:\n",
        "\n",
        "\\begin{equation}\\frac{x}{3} + 1 = 16 \\end{equation}\n",
        "\n",
        "We follow the same approach as before, first removing the constants from the left side - so we'll subtract 1 from both sides.\n",
        "\n",
        "\\begin{equation}\\frac{x}{3} = 15 \\end{equation}\n",
        "\n",
        "Now we need to deal with the fraction on the left so that we're left with just **x**. The fraction is <sup>x</sup>/<sub>3</sub> which is another way of saying *x divided by 3*, so we can apply the opposite operation to both sides. In this case, we need to multiply both sides by the denominator under our variable, which is 3. To make it easier to work with a term that contains fractions, we can express whole numbers as fractions with a denominator of 1; so on the left, we can express 3 as <sup>3</sup>/<sub>1</sub> and multiply it with <sup>x</sup>/<sub>3</sub>. Note that the notation for mutiplication is a **&bull;** symbol rather than the standard *x* multiplication operator (which would cause confusion with the variable **x**) or the asterisk symbol used by most programming languages.\n",
        "\n",
        "\\begin{equation}\\frac{3}{1} \\cdot \\frac{x}{3} = 15 \\cdot 3 \\end{equation}\n",
        "\n",
        "This gives us the following result:\n",
        "\n",
        "\\begin{equation}x = 45 \\end{equation}\n",
        "\n",
        "Let's verify that with some Python code:"
      ]
    },
    {
      "cell_type": "code",
      "metadata": {
        "id": "E-22gGZJXu70",
        "colab_type": "code",
        "colab": {}
      },
      "source": [
        "x = 45\n",
        "x/3 + 1 == 16"
      ],
      "execution_count": 0,
      "outputs": []
    },
    {
      "cell_type": "markdown",
      "metadata": {
        "id": "rWhX_xiZXu8j",
        "colab_type": "text"
      },
      "source": [
        "Let's look at another example, in which the variable is a whole number, but its coefficient is a fraction:\n",
        "\n",
        "\\begin{equation}\\frac{2}{5}x + 1 = 11 \\end{equation}\n",
        "\n",
        "As usual, we'll start by removing the constants from the variable expression; so in this case we need to subtract 1 from both sides:\n",
        "\n",
        "\\begin{equation}\\frac{2}{5}x = 10 \\end{equation}\n",
        "\n",
        "Now we need to cancel out the fraction. The expression equates to two-fifths times x, so the opposite operation is to divide by <sup>2</sup>/<sub>5</sub>; but a simpler way to do this with a fraction is to multiply it by its *reciprocal*, which is just the inverse of the fraction, in this case <sup>5</sup>/<sub>2</sub>. Of course, we need to do this to both sides:\n",
        "\n",
        "\\begin{equation}\\frac{5}{2} \\cdot \\frac{2}{5}x = \\frac{10}{1} \\cdot \\frac{5}{2} \\end{equation}\n",
        "\n",
        "That gives us the following result:\n",
        "\n",
        "\\begin{equation}x = \\frac{50}{2} \\end{equation}\n",
        "\n",
        "Which we can simplify to:\n",
        "\n",
        "\\begin{equation}x = 25 \\end{equation}\n",
        "\n",
        "We can confirm that with Python:"
      ]
    },
    {
      "cell_type": "code",
      "metadata": {
        "id": "HjtyaAnYXu8q",
        "colab_type": "code",
        "colab": {}
      },
      "source": [
        "x = 25\n",
        "2/5 * x + 1 ==11"
      ],
      "execution_count": 0,
      "outputs": []
    },
    {
      "cell_type": "markdown",
      "metadata": {
        "id": "zu_vPQv4ZoeT",
        "colab_type": "text"
      },
      "source": [
        "### Equations with Variables on Both Sides"
      ]
    },
    {
      "cell_type": "markdown",
      "metadata": {
        "id": "r98UmlLvXu89",
        "colab_type": "text"
      },
      "source": [
        "So far, all of our equations have had a variable term on only one side. However, variable terms can exist on both sides. \n",
        "\n",
        "Consider this equation:\n",
        "\n",
        "\\begin{equation}3x + 2 = 5x - 1 \\end{equation}\n",
        "\n",
        "This time, we have terms that include **x** on both sides. Let's take exactly the same approach to solving this kind of equation as we did for the previous examples. First, let's deal with the constants by adding 1 to both sides. That gets rid of the -1 on the right:\n",
        "\n",
        "\\begin{equation}3x + 3 = 5x \\end{equation}\n",
        "\n",
        "Now we can eliminate the variable expression from one side by subtracting 3x from both sides. That gets rid of the 3x on the left:\n",
        "\n",
        "\\begin{equation}3 = 2x \\end{equation}\n",
        "\n",
        "Next, we can deal with the coefficient by dividing both sides by 2:\n",
        "\n",
        "\\begin{equation}\\frac{3}{2} = x \\end{equation}\n",
        "\n",
        "Now we've isolated x. It looks a little strange because we usually have the variable on the left side, so if it makes you more comfortable you can simply reverse the equation:\n",
        "\n",
        "\\begin{equation}x = \\frac{3}{2} \\end{equation}\n",
        "\n",
        "Finally, this answer is correct as it is; but <sup>3</sup>/<sub>2</sub> is an improper fraction. We can simplify it to:\n",
        "\n",
        "\\begin{equation}x = 1\\frac{1}{2} \\end{equation}\n",
        "\n",
        "So x is 1<sup>1</sup>/<sub>2</sub> (which is of course 1.5 in decimal notation).\n",
        "Let's check it in Python:"
      ]
    },
    {
      "cell_type": "code",
      "metadata": {
        "id": "XSNSHuwtXu9B",
        "colab_type": "code",
        "colab": {}
      },
      "source": [
        "x = 1.5\n",
        "3*x + 2 == 5*x -1"
      ],
      "execution_count": 0,
      "outputs": []
    },
    {
      "cell_type": "markdown",
      "metadata": {
        "id": "p5I3WZjbZ_9s",
        "colab_type": "text"
      },
      "source": [
        "### Using the Distributive Property"
      ]
    },
    {
      "cell_type": "markdown",
      "metadata": {
        "id": "w4coqkg0Xu9T",
        "colab_type": "text"
      },
      "source": [
        "The distributive property is a mathematical law that enables us to distribute the same operation to terms within parenthesis. For example, consider the following equation:\n",
        "\n",
        "\\begin{equation}\\textbf{4(x + 2)} + \\textbf{3(x - 2)} = 16 \\end{equation}\n",
        "\n",
        "The equation includes two operations in parenthesis: **4(*x* + 2)** and **3(*x* - 2)**. Each of these operations consists of a constant by which the contents of the parenthesis must be multipled: for example, 4 times (*x* + 2). The distributive property means that we can achieve the same result by multiplying each term in the parenthesis and adding the results, so for the first parenthetical operation, we can multiply 4 by *x* and add it to 4 times +2; and for the second parenthetical operation, we can calculate 3 times *x* + 3 times -2). Note that the constants in the parenthesis include the sign (+ or -) that preceed them:\n",
        "\n",
        "\\begin{equation}4x + 8 + 3x - 6 = 16 \\end{equation}\n",
        "\n",
        "Now we can group our like terms:\n",
        "\n",
        "\\begin{equation}7x + 2 = 16 \\end{equation}\n",
        "\n",
        "Then we move the constant to the other side:\n",
        "\n",
        "\\begin{equation}7x = 14 \\end{equation}\n",
        "\n",
        "And now we can deal with the coefficient:\n",
        "\n",
        "\\begin{equation}\\frac{7x}{7} = \\frac{14}{7} \\end{equation}\n",
        "\n",
        "Which gives us our anwer:\n",
        "\n",
        "\\begin{equation}x = 2 \\end{equation}\n",
        "\n",
        "Here's the original equation with the calculated value for *x* in Python:"
      ]
    },
    {
      "cell_type": "code",
      "metadata": {
        "id": "W_P-yPueXu9V",
        "colab_type": "code",
        "colab": {}
      },
      "source": [
        "x = 2\n",
        "4*(x + 2) + 3*(x - 2) == 16"
      ],
      "execution_count": 0,
      "outputs": []
    },
    {
      "cell_type": "markdown",
      "metadata": {
        "id": "24QTB_vMbGh8",
        "colab_type": "text"
      },
      "source": [
        "## 2. Linear Equations"
      ]
    },
    {
      "cell_type": "markdown",
      "metadata": {
        "id": "KJkHFrwpbn_u",
        "colab_type": "text"
      },
      "source": [
        "### Solving a Linear Equation"
      ]
    },
    {
      "cell_type": "markdown",
      "metadata": {
        "id": "EZPGWEI5ahET",
        "colab_type": "text"
      },
      "source": [
        "Consider the following equation:\n",
        "\n",
        "\\begin{equation}2y + 3 = 3x - 1 \\end{equation}\n",
        "\n",
        "This equation includes two different variables, **x** and **y**. These variables depend on one another; the value of x is determined in part by the value of y and vice-versa; so we can't solve the equation and find absolute values for both x and y. However, we *can* solve the equation for one of the variables and obtain a result that describes a relative relationship between the variables.\n",
        "\n",
        "For example, let's solve this equation for y. First, we'll get rid of the constant on the right by adding 1 to both sides:\n",
        "\n",
        "\\begin{equation}2y + 4 = 3x \\end{equation}\n",
        "\n",
        "Then we'll use the same technique to move the constant on the left to the right to isolate the y term by subtracting 4 from both sides:\n",
        "\n",
        "\\begin{equation}2y = 3x - 4 \\end{equation}\n",
        "\n",
        "Now we can deal with the coefficient for y by dividing both sides by 2:\n",
        "\n",
        "\\begin{equation}y = \\frac{3x - 4}{2} \\end{equation}\n",
        "\n",
        "Our equation is now solved. We've isolated **y** and defined it as <sup>3x-4</sup>/<sub>2</sub>\n",
        "\n",
        "While we can't express **y** as a particular value, we can calculate it for any value of **x**. For example, if **x** has a value of 6, then **y** can be calculated as:\n",
        "\n",
        "\\begin{equation}y = \\frac{3\\cdot6 - 4}{2} \\end{equation}\n",
        "\n",
        "This gives the result <sup>14</sup>/<sub>2</sub> which can be simplified to 7.\n",
        "\n",
        "You can view the values of **y** for a range of **x** values by applying the equation to them using the following Python code:"
      ]
    },
    {
      "cell_type": "code",
      "metadata": {
        "id": "auJUjJ5dahEV",
        "colab_type": "code",
        "colab": {}
      },
      "source": [
        "import pandas as pd\n",
        "\n",
        "# Create a dataframe with an x column containing values from -10 to 10\n",
        "df = pd.DataFrame ({'x': range(-10, 11)})\n",
        "\n",
        "# Add a y column by applying the solved equation to x\n",
        "df['y'] = (3*df['x'] - 4) / 2\n",
        "\n",
        "#Display the dataframe\n",
        "df"
      ],
      "execution_count": 0,
      "outputs": []
    },
    {
      "cell_type": "markdown",
      "metadata": {
        "id": "a_Iw5EqVahEa",
        "colab_type": "text"
      },
      "source": [
        "We can also plot these values to visualize the relationship between x and y as a line. For this reason, equations that describe a relative relationship between two variables are known as *linear equations*:"
      ]
    },
    {
      "cell_type": "code",
      "metadata": {
        "id": "Q4ko4h_-ahEb",
        "colab_type": "code",
        "colab": {}
      },
      "source": [
        "%matplotlib inline\n",
        "from matplotlib import pyplot as plt\n",
        "\n",
        "plt.plot(df.x, df.y, color=\"grey\", marker = \"o\")\n",
        "plt.xlabel('x')\n",
        "plt.ylabel('y')\n",
        "plt.grid()\n",
        "plt.show()"
      ],
      "execution_count": 0,
      "outputs": []
    },
    {
      "cell_type": "markdown",
      "metadata": {
        "id": "uzCwxI__ahEf",
        "colab_type": "text"
      },
      "source": [
        "In a linear equation, a valid solution is described by an ordered pair of x and y values. For example, valid solutions to the linear equation above include:\n",
        "- (-10, -17)\n",
        "- (0, -2)\n",
        "- (9, 11.5)\n",
        "\n",
        "The cool thing about linear equations is that we can plot the points for some specific ordered pair solutions to create the line, and then interpolate the x value for any y value (or vice-versa) along the line."
      ]
    },
    {
      "cell_type": "markdown",
      "metadata": {
        "id": "XOBl23S1bqm6",
        "colab_type": "text"
      },
      "source": [
        "### Intercepts"
      ]
    },
    {
      "cell_type": "markdown",
      "metadata": {
        "id": "_XOfuxMOahEf",
        "colab_type": "text"
      },
      "source": [
        "\n",
        "When we use a linear equation to plot a line, we can easily see where the line intersects the X and Y axes of the plot. These points are known as *intercepts*. The *x-intercept* is where the line intersects the X (horizontal) axis, and the *y-intercept* is where the line intersects the Y (horizontal) axis.\n",
        "\n",
        "Let's take a look at the line from our linear equation with the X and Y axis shown through the origin (0,0)."
      ]
    },
    {
      "cell_type": "code",
      "metadata": {
        "id": "6DYenn04ahEg",
        "colab_type": "code",
        "colab": {}
      },
      "source": [
        "plt.plot(df.x, df.y, color=\"grey\")\n",
        "plt.xlabel('x')\n",
        "plt.ylabel('y')\n",
        "plt.grid()\n",
        "\n",
        "## add axis lines for 0,0\n",
        "plt.axhline()\n",
        "plt.axvline()\n",
        "plt.show()"
      ],
      "execution_count": 0,
      "outputs": []
    },
    {
      "cell_type": "markdown",
      "metadata": {
        "id": "S9uTD0icahEj",
        "colab_type": "text"
      },
      "source": [
        "The x-intercept is the point where the line crosses the X axis, and at this point, the **y** value is always 0. Similarly, the y-intercept is where the line crosses the Y axis, at which point the **x** value is 0. So to find the intercepts, we need to solve the equation for **x** when **y** is 0.\n",
        "\n",
        "For the x-intercept, our equation looks like this:\n",
        "\n",
        "\\begin{equation}0 = \\frac{3x - 4}{2} \\end{equation}\n",
        "\n",
        "Which can be reversed to make it look more familar with the x expression on the left:\n",
        "\n",
        "\\begin{equation}\\frac{3x - 4}{2} = 0 \\end{equation}\n",
        "\n",
        "We can multiply both sides by 2 to get rid of the fraction:\n",
        "\n",
        "\\begin{equation}3x - 4 = 0 \\end{equation}\n",
        "\n",
        "Then we can add 4 to both sides to get rid of the constant on the left:\n",
        "\n",
        "\\begin{equation}3x = 4 \\end{equation}\n",
        "\n",
        "And finally we can divide both sides by 3 to get the value for x:\n",
        "\n",
        "\\begin{equation}x = \\frac{4}{3} \\end{equation}\n",
        "\n",
        "Which simplifies to:\n",
        "\n",
        "\\begin{equation}x = 1\\frac{1}{3} \\end{equation}\n",
        "\n",
        "So the x-intercept is 1<sup>1</sup>/<sub>3</sub> (approximately 1.333).\n",
        "\n",
        "To get the y-intercept, we solve the equation for y when x is 0:\n",
        "\n",
        "\\begin{equation}y = \\frac{3\\cdot0 - 4}{2} \\end{equation}\n",
        "\n",
        "Since 3 x 0 is 0, this can be simplified to:\n",
        "\n",
        "\\begin{equation}y = \\frac{-4}{2} \\end{equation}\n",
        "\n",
        "-4 divided by 2 is -2, so:\n",
        "\n",
        "\\begin{equation}y = -2 \\end{equation}\n",
        "\n",
        "This gives us our y-intercept, so we can plot both intercepts on the graph:"
      ]
    },
    {
      "cell_type": "code",
      "metadata": {
        "id": "2tMjv857ahEk",
        "colab_type": "code",
        "colab": {}
      },
      "source": [
        "plt.plot(df.x, df.y, color=\"grey\")\n",
        "plt.xlabel('x')\n",
        "plt.ylabel('y')\n",
        "plt.grid()\n",
        "\n",
        "## add axis lines for 0,0\n",
        "plt.axhline()\n",
        "plt.axvline()\n",
        "plt.annotate('x-intercept',(1.333, 0))\n",
        "plt.annotate('y-intercept',(0,-2))\n",
        "plt.show()"
      ],
      "execution_count": 0,
      "outputs": []
    },
    {
      "cell_type": "markdown",
      "metadata": {
        "id": "tiLH1juKahEn",
        "colab_type": "text"
      },
      "source": [
        "The ability to calculate the intercepts for a linear equation is useful, because you can calculate only these two points and then draw a straight line through them to create the entire line for the equation."
      ]
    },
    {
      "cell_type": "markdown",
      "metadata": {
        "id": "TS7Q8W_rbtQX",
        "colab_type": "text"
      },
      "source": [
        "### Slope"
      ]
    },
    {
      "cell_type": "markdown",
      "metadata": {
        "id": "1n6hWWoqahEo",
        "colab_type": "text"
      },
      "source": [
        "It's clear from the graph that the line from our linear equation describes a slope in which values increase as we travel up and to the right along the line. It can be useful to quantify the slope in terms of how much **x** increases (or decreases) for a given change in **y**. In the notation for this, we use the greek letter &Delta; (*delta*) to represent change:\n",
        "\n",
        "\\begin{equation}slope = \\frac{\\Delta{y}}{\\Delta{x}} \\end{equation}\n",
        "\n",
        "Sometimes slope is represented by the variable ***m***, and the equation is written as:\n",
        "\n",
        "\\begin{equation}m = \\frac{y_{2} - y_{1}}{x_{2} - x_{1}} \\end{equation}\n",
        "\n",
        "Although this form of the equation is a little more verbose, it gives us a clue as to how we calculate slope. What we need is any two ordered pairs of x,y values for the line - for example, we know that our line passes through the following two points:\n",
        "- (0,-2)\n",
        "- (6,7)\n",
        "\n",
        "We can take the x and y values from the first pair, and label them x<sub>1</sub> and y<sub>1</sub>; and then take the x and y values from the second point and label them x<sub>2</sub> and y<sub>2</sub>. Then we can plug those into our slope equation:\n",
        "\n",
        "\\begin{equation}m = \\frac{7 - -2}{6 - 0} \\end{equation}\n",
        "\n",
        "This is the same as:\n",
        "\n",
        "\\begin{equation}m = \\frac{7 + 2}{6 - 0} \\end{equation}\n",
        "\n",
        "That gives us the result <sup>9</sup>/<sub>6</sub> which is 1<sup>1</sup>/<sub>2</sub> or 1.5 .\n",
        "\n",
        "So what does that actually mean? Well, it tells us that for every change of **1** in x, **y** changes by 1<sup>1</sup>/<sub>2</sub> or 1.5. So if we start from any point on the line and move one unit to the right (along the X axis), we'll need to move 1.5 units up (along the Y axis) to get back to the line.\n",
        "\n",
        "You can plot the slope onto the original line with the following Python code to verify it fits:"
      ]
    },
    {
      "cell_type": "code",
      "metadata": {
        "id": "AGmDrKWYahEq",
        "colab_type": "code",
        "colab": {}
      },
      "source": [
        "plt.plot(df.x, df.y, color=\"grey\")\n",
        "plt.xlabel('x')\n",
        "plt.ylabel('y')\n",
        "plt.grid()\n",
        "plt.axhline()\n",
        "plt.axvline()\n",
        "\n",
        "# set the slope\n",
        "m = 1.5\n",
        "\n",
        "# get the y-intercept\n",
        "yInt = -2\n",
        "\n",
        "# plot the slope from the y-intercept for 1x\n",
        "mx = [0, 1]\n",
        "my = [yInt, yInt + m]\n",
        "plt.plot(mx,my, color='red', lw=5)\n",
        "\n",
        "plt.show()"
      ],
      "execution_count": 0,
      "outputs": []
    },
    {
      "cell_type": "markdown",
      "metadata": {
        "id": "MwK-WIyEbxmh",
        "colab_type": "text"
      },
      "source": [
        "### Slope-Intercept Form"
      ]
    },
    {
      "cell_type": "markdown",
      "metadata": {
        "id": "ux9R4XSTahEu",
        "colab_type": "text"
      },
      "source": [
        "One of the great things about algebraic expressions is that you can write the same equation in multiple ways, or *forms*. The *slope-intercept form* is a specific way of writing a 2-variable linear equation so that the equation definition includes the slope and y-intercept. The generalised slope-intercept form looks like this:\n",
        "\n",
        "\\begin{equation}y = mx + b \\end{equation}\n",
        "\n",
        "In this notation, ***m*** is the slope and ***b*** is the y-intercept.\n",
        "\n",
        "For example, let's look at the solved linear equation we've been working with so far in this section:\n",
        "\n",
        "\\begin{equation}y = \\frac{3x - 4}{2} \\end{equation}\n",
        "\n",
        "Now that we know the slope and y-intercept for the line that this equation defines, we can rewrite the equation as:\n",
        "\n",
        "\\begin{equation}y = 1\\frac{1}{2}x + -2 \\end{equation}\n",
        "\n",
        "You can see intuitively that this is true. In our original form of the equation, to find y we multiply x by three, subtract 4, and divide by two - in other words, x is half of 3x - 4; which is 1.5x - 2. So these equations are equivalent, but the slope-intercept form has the advantages of being simpler, and including two key pieces of information we need to plot the line represented by the equation. We know the y-intecept that the line passes through (0, -2), and we know the slope of the line (for every x, we add 1.5 to y.\n",
        "\n",
        "Let's recreate our set of test x and y values using the slope-intercept form of the equation, and plot them to prove that this  describes the same line:"
      ]
    },
    {
      "cell_type": "code",
      "metadata": {
        "id": "-71ohPqFahEu",
        "colab_type": "code",
        "colab": {}
      },
      "source": [
        "%matplotlib inline\n",
        "\n",
        "import pandas as pd\n",
        "from matplotlib import pyplot as plt\n",
        "\n",
        "# Create a dataframe with an x column containing values from -10 to 10\n",
        "df = pd.DataFrame ({'x': range(-10, 11)})\n",
        "\n",
        "# Define slope and y-intercept\n",
        "m = 1.5\n",
        "yInt = -2\n",
        "\n",
        "# Add a y column by applying the slope-intercept equation to x\n",
        "df['y'] = m*df['x'] + yInt\n",
        "\n",
        "# Plot the line\n",
        "from matplotlib import pyplot as plt\n",
        "\n",
        "plt.plot(df.x, df.y, color=\"grey\")\n",
        "plt.xlabel('x')\n",
        "plt.ylabel('y')\n",
        "plt.grid()\n",
        "plt.axhline()\n",
        "plt.axvline()\n",
        "\n",
        "# label the y-intercept\n",
        "plt.annotate('y-intercept',(0,yInt))\n",
        "\n",
        "# plot the slope from the y-intercept for 1x\n",
        "mx = [0, 1]\n",
        "my = [yInt, yInt + m]\n",
        "plt.plot(mx,my, color='red', lw=5)\n",
        "\n",
        "plt.show()"
      ],
      "execution_count": 0,
      "outputs": []
    },
    {
      "cell_type": "markdown",
      "metadata": {
        "id": "W-O17U2CcKdl",
        "colab_type": "text"
      },
      "source": [
        "## 3. Factorization"
      ]
    },
    {
      "cell_type": "markdown",
      "metadata": {
        "id": "g-7eOpYtchN1",
        "colab_type": "text"
      },
      "source": [
        "Factorization is the process of restating an expression as the *product* of two expressions (in other words, expressions multiplied together).\n",
        "\n",
        "For example, you can make the value **16** by performing the following multiplications of integer numbers:\n",
        "- 1 x 16\n",
        "- 2 x 8\n",
        "- 4 x 4\n",
        "\n",
        "Another way of saying this is that 1, 2, 4, 8, and 16 are all factors of 16."
      ]
    },
    {
      "cell_type": "markdown",
      "metadata": {
        "id": "E6nh-GUZcInI",
        "colab_type": "text"
      },
      "source": [
        "### Factors of Polynomial Expressions\n",
        "We can apply the same logic to polynomial expressions. For example, consider the following monomial expression:\n",
        "\n",
        "\\begin{equation}-6x^{2}y^{3} \\end{equation}\n",
        "\n",
        "You can get this value by performing the following multiplication:\n",
        "\n",
        "\\begin{equation}(2xy^{2})(-3xy) \\end{equation}\n",
        "\n",
        "Run the following Python code to test this with arbitrary ***x*** and ***y*** values:"
      ]
    },
    {
      "cell_type": "code",
      "metadata": {
        "id": "Bw6FL578cInJ",
        "colab_type": "code",
        "colab": {}
      },
      "source": [
        "from random import randint\n",
        "x = randint(1,100)\n",
        "y = randint(1,100)\n",
        "\n",
        "(2*x*y**2)*(-3*x*y) == -6*x**2*y**3"
      ],
      "execution_count": 0,
      "outputs": []
    },
    {
      "cell_type": "markdown",
      "metadata": {
        "id": "XEZqG4w0cInO",
        "colab_type": "text"
      },
      "source": [
        "So, we can say that **2xy<sup>2</sup>** and **-3xy** are both factors of **-6x<sup>2</sup>y<sup>3</sup>**.\n",
        "\n",
        "This also applies to polynomials with more than one term. For example, consider the following expression:\n",
        "\n",
        "\\begin{equation}(x + 2)(2x^{2} - 3y + 2) = 2x^{3} + 4x^{2} - 3xy + 2x - 6y + 4 \\end{equation}\n",
        "\n",
        "Based on this, **x+2** and **2x<sup>2</sup> - 3y + 2** are both factors of **2x<sup>3</sup> + 4x<sup>2</sup> - 3xy + 2x - 6y + 4**.\n",
        "\n",
        "(and if you don't believe me, you can try this with random values for x and y with the following Python code):"
      ]
    },
    {
      "cell_type": "code",
      "metadata": {
        "id": "Wr636qDScInP",
        "colab_type": "code",
        "colab": {}
      },
      "source": [
        "from random import randint\n",
        "x = randint(1,100)\n",
        "y = randint(1,100)\n",
        "\n",
        "(x + 2)*(2*x**2 - 3*y + 2) == 2*x**3 + 4*x**2 - 3*x*y + 2*x - 6*y + 4"
      ],
      "execution_count": 0,
      "outputs": []
    },
    {
      "cell_type": "markdown",
      "metadata": {
        "id": "EwN-kHrJcInS",
        "colab_type": "text"
      },
      "source": [
        "### Greatest Common Factor\n",
        "Of course, these may not be the only factors of **-6x<sup>2</sup>y<sup>3</sup>**, just as 8 and 2 are not the only factors of 16.\n",
        "\n",
        "Additionally, 2 and 8 aren't just factors of 16; they're factors of other numbers too - for example, they're both factors of 24 (because 2 x 12 = 24 and 8 x 3 = 24). Which leads us to the question, what is the highest number that is a factor of both 16 and 24? Well, let's look at all the numbers that multiply evenly into 12 and all the numbers that multiply evenly into 24:\n",
        "\n",
        "|   16   |   24   |\n",
        "|--------|--------|\n",
        "| 1 x 16 | 1 x 24 |\n",
        "| 2 x **8**  | 2 x 12 |\n",
        "|        | 3 x **8**  |\n",
        "| 4 x 4  | 4 x 6  |\n",
        "\n",
        "The highest value that is a multiple of both 16 and 24 is **8**, so 8 is the *Greatest Common Factor* (or GCF) of 16 and 24.\n",
        "\n",
        "OK, let's apply that logic to the following expressions:\n",
        "\n",
        "\\begin{equation}15x^{2}y\\;\\;\\;\\;\\;\\;\\;\\;9xy^{3}\\end{equation}\n",
        "\n",
        "So what's the greatest common factor of these two expressions?\n",
        "\n",
        "It helps to break the expressions into their consitituent components. Let's deal with the coefficients first; we have 15 and 9. The highest value that divides evenly into both of these is **3** (3 x 5 = 15 and 3 x 3 = 9).\n",
        "\n",
        "Now let's look at the ***x*** terms; we have x<sup>2</sup> and x. The highest value that divides evenly into both is these is **x** (*x* goes into *x* once and into *x*<sup>2</sup> *x* times).\n",
        "\n",
        "Finally, for our ***y*** terms, we have y and y<sup>3</sup>. The highest value that divides evenly into both is these is **y** (*y* goes into *y* once and into *y*<sup>3</sup> *y&bull;y* times).\n",
        "\n",
        "Putting all of that together, the GCF of both of our expression is:\n",
        "\n",
        "\\begin{equation}3xy\\end{equation}\n",
        "\n",
        "An easy shortcut to identifying the GCF of an expression that includes variables with exponentials is that it will always consist of:\n",
        "- The *largest* numeric factor of the numeric coefficients in the polynomial expressions (in this case 3)\n",
        "- The *smallest* exponential of each variable (in this case, x and y, which technically are x<sup>1</sup> and y<sup>1</sup>.\n",
        "\n",
        "You can check your answer by dividing the original expressions by the GCF to find the coefficent expressions for the GCF (in other words, how many times the GCF divides into the original expression). The result, when multiplied by the GCF will always produce the original expression. So in this case, we need to perform the following divisions:\n",
        "\n",
        "\\begin{equation}\\frac{15x^{2}y}{3xy}\\;\\;\\;\\;\\;\\;\\;\\;\\frac{9xy^{3}}{3xy}\\end{equation}\n",
        "\n",
        "These fractions simplify to **5x** and **3y<sup>2</sup>**, giving us the following calculations to prove our factorization:\n",
        "\n",
        "\\begin{equation}3xy(5x) = 15x^{2}y\\end{equation}\n",
        "\\begin{equation}3xy(3y^{2}) = 9xy^{3}\\end{equation}\n",
        "\n",
        "Let's try both of those in Python:"
      ]
    },
    {
      "cell_type": "code",
      "metadata": {
        "id": "hi-uk3_9cInT",
        "colab_type": "code",
        "colab": {}
      },
      "source": [
        "from random import randint\n",
        "x = randint(1,100)\n",
        "y = randint(1,100)\n",
        "\n",
        "print((3*x*y)*(5*x) == 15*x**2*y)\n",
        "print((3*x*y)*(3*y**2) == 9*x*y**3)"
      ],
      "execution_count": 0,
      "outputs": []
    },
    {
      "cell_type": "markdown",
      "metadata": {
        "id": "0X6WmXexcInW",
        "colab_type": "text"
      },
      "source": [
        "### Distributing Factors\n",
        "Let's look at another example. Here is a binomial expression:\n",
        "\n",
        "\\begin{equation}6x + 15y \\end{equation}\n",
        "\n",
        "To factor this, we need to find an expression that divides equally into both of these expressions. In this case, we can use **3** to factor the coefficents, because 3 &bull; 2x = 6x and 3&bull; 5y = 15y, so we can write our original expression as:\n",
        "\n",
        "\\begin{equation}6x + 15y = 3(2x) + 3(5y) \\end{equation}\n",
        "\n",
        "Now, remember the distributive property? It enables us to multiply each term of an expression by the same factor to calculate the product of the expression multiplied by the factor. We can *factor-out* the common factor in this expression to distribute it like this:\n",
        "\n",
        "\\begin{equation}6x + 15y = 3(2x) + 3(5y) = \\mathbf{3(2x + 5y)} \\end{equation}\n",
        "\n",
        "Let's prove to ourselves that these all evaluate to the same thing:"
      ]
    },
    {
      "cell_type": "code",
      "metadata": {
        "id": "x4BBK1KHcInX",
        "colab_type": "code",
        "colab": {}
      },
      "source": [
        "from random import randint\n",
        "x = randint(1,100)\n",
        "y = randint(1,100)\n",
        "\n",
        "(6*x + 15*y) == (3*(2*x) + 3*(5*y)) == (3*(2*x + 5*y))"
      ],
      "execution_count": 0,
      "outputs": []
    },
    {
      "cell_type": "markdown",
      "metadata": {
        "id": "payjAqhDcIna",
        "colab_type": "text"
      },
      "source": [
        "For something a little more complex, let's return to our previous example. Suppose we want to add our original 15x<sup>2</sup>y and 9xy<sup>3</sup> expressions:\n",
        "\n",
        "\\begin{equation}15x^{2}y + 9xy^{3}\\end{equation}\n",
        "\n",
        "We've already calculated the common factor, so we know that:\n",
        "\n",
        "\\begin{equation}3xy(5x) = 15x^{2}y\\end{equation}\n",
        "\\begin{equation}3xy(3y^{2}) = 9xy^{3}\\end{equation}\n",
        "\n",
        "Now we can factor-out the common factor to produce a single expression:\n",
        "\n",
        "\\begin{equation}15x^{2}y + 9xy^{3} = \\mathbf{3xy(5x + 3y^{2})}\\end{equation}\n",
        "\n",
        "And here's the Python test code:"
      ]
    },
    {
      "cell_type": "code",
      "metadata": {
        "id": "jcNWTk4CcInb",
        "colab_type": "code",
        "colab": {}
      },
      "source": [
        "from random import randint\n",
        "x = randint(1,100)\n",
        "y = randint(1,100)\n",
        "\n",
        "(15*x**2*y + 9*x*y**3) == (3*x*y*(5*x + 3*y**2))"
      ],
      "execution_count": 0,
      "outputs": []
    },
    {
      "cell_type": "markdown",
      "metadata": {
        "id": "xYYxHFNAcIne",
        "colab_type": "text"
      },
      "source": [
        "So you might be wondering what's so great about being able to distribute the common factor like this. The answer is that it can often be useful to apply a common factor to multiple terms in order to solve seemingly complex problems.\n",
        "\n",
        "For example, consider this:\n",
        "\n",
        "\\begin{equation}x^{2} + y^{2} + z^{2} = 127\\end{equation}\n",
        "\n",
        "Now solve this equation:\n",
        "\n",
        "\\begin{equation}a = 5x^{2} + 5y^{2} + 5z^{2}\\end{equation}\n",
        "\n",
        "At first glance, this seems tricky because there are three unknown variables, and even though we know that their squares add up to 127, we don't know their individual values. However, we can distribute the common factor and apply what we *do* know. Let's restate the problem like this:\n",
        "\n",
        "\\begin{equation}a = 5(x^{2} + y^{2} + z^{2})\\end{equation}\n",
        "\n",
        "Now it becomes easier to solve, because we know that the expression in parenthesis is equal to 127, so actually our equation is:\n",
        "\n",
        "\\begin{equation}a = 5(127)\\end{equation}\n",
        "\n",
        "So ***a*** is 5 times 127, which is 635"
      ]
    },
    {
      "cell_type": "markdown",
      "metadata": {
        "id": "jLu-YHMtcInf",
        "colab_type": "text"
      },
      "source": [
        "### Formulae for Factoring Squares\n",
        "There are some useful ways that you can employ factoring to deal with expressions that contain squared values (that is, values with an exponential of 2).\n",
        "\n",
        "### Differences of Squares\n",
        "Consider the following expression:\n",
        "\n",
        "\\begin{equation}x^{2} - 9\\end{equation}\n",
        "\n",
        "The constant *9* is 3<sup>2</sup>, so we could rewrite this as:\n",
        "\n",
        "\\begin{equation}x^{2} - 3^{2}\\end{equation}\n",
        "\n",
        "Whenever you need to subtract one squared term from another, you can use an approach called the *difference of squares*, whereby we can factor *a<sup>2</sup> - b<sup>2</sup>* as *(a - b)(a + b)*; so we can rewrite the expression as:\n",
        "\n",
        "\\begin{equation}(x - 3)(x + 3)\\end{equation}\n",
        "\n",
        "Run the code below to check this:"
      ]
    },
    {
      "cell_type": "code",
      "metadata": {
        "id": "jEn6XyHPcIng",
        "colab_type": "code",
        "colab": {}
      },
      "source": [
        "from random import randint\n",
        "x = randint(1,100)\n",
        "\n",
        "(x**2 - 9) == (x - 3)*(x + 3)"
      ],
      "execution_count": 0,
      "outputs": []
    },
    {
      "cell_type": "markdown",
      "metadata": {
        "id": "6JBUKyj0cInk",
        "colab_type": "text"
      },
      "source": [
        "### Perfect Squares\n",
        "A *perfect square* is a number multiplied by itself, for example 3 multipled by 3 is 9, so 9 is a perfect square.\n",
        "\n",
        "When working with equations, the ability to factor between polynomial expressions and binomial perfect square expressions can be a useful tool. For example, consider this expression:\n",
        "\n",
        "\\begin{equation}x^{2} + 10x + 25\\end{equation}\n",
        "\n",
        "We can use 5 as a common factor to rewrite this as:\n",
        "\n",
        "\\begin{equation}(x + 5)(x + 5)\\end{equation}\n",
        "\n",
        "So what happened here?\n",
        "\n",
        "Well, first we found a common factor for our coefficients: 5 goes into 10 twice and into 25 five times (in other words, squared). Then we just expressed this factoring as a multiplication of two identical binomials *(x + 5)(x + 5)*.\n",
        "\n",
        "Remember the rule for multiplication of polynomials is to multiple each term in the first polynomial by each term in the second polynomial and then add the results; so you can do this to verify the factorization:\n",
        "\n",
        "- x &bull; x = x<sup>2</sup>\n",
        "- x &bull; 5 = 5x\n",
        "- 5 &bull; x = 5x\n",
        "- 5 &bull; 5 = 25\n",
        "\n",
        "When you combine the two 5x terms we get back to our original expression of x<sup>2</sup> + 10x + 25.\n",
        "\n",
        "Now we have an expression multipled by itself; in other words, a perfect square. We can therefore rewrite this as:\n",
        "\n",
        "\\begin{equation}(x + 5)^{2}\\end{equation}\n",
        "\n",
        "Factorization of perfect squares is a useful technique, as you'll see when we start to tackle quadratic equations in the next section. In fact, it's so useful that it's worth memorizing its formula:\n",
        "\n",
        "\\begin{equation}(a + b)^{2} = a^{2} + b^{2}+ 2ab \\end{equation}\n",
        "\n",
        "In our example, the *a* terms is ***x*** and the *b* terms is ***5***, and in standard form, our equation  *x<sup>2</sup> + 10x + 25* is actually *a<sup>2</sup> +  2ab + b<sup>2</sup>*. The operations are all additions, so the order isn't actually important!\n",
        "\n",
        "Run the following code with random values for *a* and *b* to verify that the formula works:"
      ]
    },
    {
      "cell_type": "code",
      "metadata": {
        "id": "PDLXrGdtcInk",
        "colab_type": "code",
        "colab": {}
      },
      "source": [
        "from random import randint\n",
        "a = randint(1,100)\n",
        "b = randint(1,100)\n",
        "\n",
        "a**2 + b**2 + (2*a*b) == (a + b)**2"
      ],
      "execution_count": 0,
      "outputs": []
    },
    {
      "cell_type": "markdown",
      "metadata": {
        "id": "Vsl6racjdFfq",
        "colab_type": "text"
      },
      "source": [
        "## 4. Functions"
      ]
    },
    {
      "cell_type": "markdown",
      "metadata": {
        "id": "Rdl8xLRJdBJo",
        "colab_type": "text"
      },
      "source": [
        "So far in this course we've explored equations that perform algebraic operations to produce one or more results. A *function* is a way of encapsulating an operation that takes an input and produces exactly one ouput.\n",
        "\n",
        "For example, consider the following function definition:\n",
        "\n",
        "\\begin{equation}f(x) = x^{2} + 2\\end{equation}\n",
        "\n",
        "This defines a function named ***f*** that accepts one input (***x***) and returns a single value that is the result calculated by the expression *x<sup>2</sup> + 2*.\n",
        "\n",
        "Having defined the function, we can use it for any input value. For example:\n",
        "\n",
        "\\begin{equation}f(3) = 11\\end{equation}\n",
        "\n",
        "You've already seen a few examples of Python functions, which are defined using the **def** keyword. However, the strict definition of an algebraic function is that it must return a single value. Here's an example of defining and using a Python function that meets this criteria:"
      ]
    },
    {
      "cell_type": "code",
      "metadata": {
        "id": "TFflqi_hdBJr",
        "colab_type": "code",
        "colab": {}
      },
      "source": [
        "# define a function to return x^2 + 2\n",
        "def f(x):\n",
        "    return x**2 + 2\n",
        "\n",
        "# call the function\n",
        "f(3)"
      ],
      "execution_count": 0,
      "outputs": []
    },
    {
      "cell_type": "markdown",
      "metadata": {
        "id": "5xiIk13QdBJw",
        "colab_type": "text"
      },
      "source": [
        "You can use functions in equations, just like any other term. For example, consider the following equation:\n",
        "\n",
        "\\begin{equation}y = f(x) - 1\\end{equation}\n",
        "\n",
        "To calculate a value for ***y***, we take the ***f*** of ***x*** and subtract 1. So assuming that ***f*** is defined as previously, given an ***x*** value of 4, this equation returns a ***y*** value of **17** (*f*(4) returns 4<sup>2</sup> + 2, so 16 + 2 = 18; and then the equation subtracts 1 to give us 17). Here it is in Python:"
      ]
    },
    {
      "cell_type": "code",
      "metadata": {
        "id": "GJb75dmRdBJx",
        "colab_type": "code",
        "colab": {}
      },
      "source": [
        "x = 4\n",
        "y = f(x) - 1\n",
        "print(y)"
      ],
      "execution_count": 0,
      "outputs": []
    },
    {
      "cell_type": "markdown",
      "metadata": {
        "id": "lPgftBR2dBJ3",
        "colab_type": "text"
      },
      "source": [
        "Of course, the value returned by a function depends on the input; and you can graph this with the iput (let's call it ***x***) on one axis and the output (***f(x)***) on the other."
      ]
    },
    {
      "cell_type": "code",
      "metadata": {
        "id": "md5vFDP1dBJ4",
        "colab_type": "code",
        "colab": {}
      },
      "source": [
        "%matplotlib inline\n",
        "\n",
        "import numpy as np\n",
        "from matplotlib import pyplot as plt\n",
        "\n",
        "# Create an array of x values from -100 to 100\n",
        "x = np.array(range(-100, 101))\n",
        "\n",
        "# Set up the graph\n",
        "plt.xlabel('x')\n",
        "plt.ylabel('f(x)')\n",
        "plt.grid()\n",
        "\n",
        "# Plot x against f(x)\n",
        "plt.plot(x,f(x), color='purple')\n",
        "\n",
        "plt.show()"
      ],
      "execution_count": 0,
      "outputs": []
    },
    {
      "cell_type": "markdown",
      "metadata": {
        "id": "NIGfiC7MdBJ9",
        "colab_type": "text"
      },
      "source": [
        "As you can see (if you hadn't already figured it out), our function is a *quadratic function* - it returns a squared value that results in a parabolic graph when the output for multiple input values are plotted."
      ]
    },
    {
      "cell_type": "markdown",
      "metadata": {
        "id": "1Yh9K0ARdBJ9",
        "colab_type": "text"
      },
      "source": [
        "### Bounds of a Function\n",
        "Some functions will work for any input and may return any output. For example, consider the function ***u*** defined here:\n",
        "\n",
        "\\begin{equation}u(x) = x + 1\\end{equation}\n",
        "\n",
        "This function simply adds 1 to whatever input is passed to it, so it will produce a defined output for any value of ***x*** that is a *real* number; in other words, any \"regular\" number - but not an *imaginary* number like &radic;-1, or &infin; (infinity). You can specify the set of real numbers using the symbol ${\\rm I\\!R}$ (note the double stroke). The values that can be used for ***x*** can be expressed as a *set*, which we indicate by enclosing all of the members of the set in \"{...}\" braces; so to indicate the set of all possible values for x such that x is a member of the set of all real numbers, we can use the following expression:\n",
        "\n",
        "\\begin{equation}\\{x \\in \\rm I\\!R\\}\\end{equation}\n",
        "\n",
        "\n",
        "### Domain of a Function\n",
        "We call the set of numbers for which a function can return value it's *domain*, and in this case, the domain of ***u*** is the set of all real numbers; which is actually the default assumption for most functions.\n",
        "\n",
        "Now consider the following function ***g***:\n",
        "\n",
        "\\begin{equation}g(x) = (\\frac{12}{2x})^{2}\\end{equation}\n",
        "\n",
        "If we use this function with an ***x*** value of **2**, we would get the output **9**; because (12 &div; (2&bull;2))<sup>2</sup> is 9. Similarly, if we use the value **-3** for ***x***, the output will be **4**. However, what happens when we apply this function to an ***x*** value of **0**? Anything divided by 0 is undefined, so the function ***g*** doesn't work for an ***x*** value of 0.\n",
        "\n",
        "So we need a way to denote the domain of the function ***g*** by indicating the input values for which a defined output can be returned. Specifically, we need to restrict ***x*** to a specific list of values - specifically any real number that is not 0. To indicate this, we can use the following notation:\n",
        "\n",
        "\\begin{equation}\\{x \\in \\rm I\\!R\\;\\;|\\;\\; x \\ne 0 \\}\\end{equation}\n",
        "\n",
        "This is interpreted as *Any value for x where x is in the set of real numbers such that x is not equal to 0*, and we can incorporate this into the function's definition like this:\n",
        "\n",
        "\\begin{equation}g(x) = (\\frac{12}{2x})^{2}, \\{x \\in \\rm I\\!R\\;\\;|\\;\\; x \\ne 0 \\}\\end{equation}\n",
        "\n",
        "Or more simply:\n",
        "\n",
        "\\begin{equation}g(x) = (\\frac{12}{2x})^{2},\\;\\; x \\ne 0\\end{equation}\n",
        "\n",
        "When you plot the output of a function, you can indicate the gaps caused by input values that are not in the function's domain by plotting an empty circle to show that the function is not defined at this point:"
      ]
    },
    {
      "cell_type": "code",
      "metadata": {
        "id": "v7FomfModBJ-",
        "colab_type": "code",
        "colab": {}
      },
      "source": [
        "%matplotlib inline\n",
        "\n",
        "# Define function g\n",
        "def g(x):\n",
        "    if x != 0:\n",
        "        return (12/(2*x))**2\n",
        "\n",
        "# Plot output from function g\n",
        "import numpy as np\n",
        "from matplotlib import pyplot as plt\n",
        "\n",
        "# Create an array of x values from -100 to 100\n",
        "x = range(-100, 101)\n",
        "\n",
        "# Get the corresponding y values from the function\n",
        "y = [g(a) for a in x]\n",
        "\n",
        "# Set up the graph\n",
        "plt.xlabel('x')\n",
        "plt.ylabel('g(x)')\n",
        "plt.grid()\n",
        "\n",
        "# Plot x against g(x)\n",
        "plt.plot(x,y, color='purple')\n",
        "\n",
        "# plot an empty circle to show the undefined point\n",
        "plt.plot(0,g(0.0000001), color='purple', marker='o', markerfacecolor='w', markersize=8)\n",
        "\n",
        "plt.show()"
      ],
      "execution_count": 0,
      "outputs": []
    },
    {
      "cell_type": "markdown",
      "metadata": {
        "id": "NPBpi6cDdBKC",
        "colab_type": "text"
      },
      "source": [
        "Note that the function works for every value other than 0; so the function is defined for x = 0.000000001, and for x = -0.000000001; it only fails to return a defined value for exactly 0.\n",
        "\n",
        "OK, let's take another example. Consider this function:\n",
        "\n",
        "\\begin{equation}h(x) = 2\\sqrt{x}\\end{equation}\n",
        "\n",
        "Applying this function to a non-negative ***x*** value returns a meaningful output; but for any value where ***x*** is negative, the output is undefined.\n",
        "\n",
        "We can indicate the domain of this function in its definition like this:\n",
        "\n",
        "\\begin{equation}h(x) = 2\\sqrt{x}, \\{x \\in \\rm I\\!R\\;\\;|\\;\\; x \\ge 0 \\}\\end{equation}\n",
        "\n",
        "This is interpreted as *Any value for x where x is in the set of real numbers such that x is greater than or equal to 0*.\n",
        "\n",
        "Or, you might see this in a simpler format:\n",
        "\n",
        "\\begin{equation}h(x) = 2\\sqrt{x},\\;\\; x \\ge 0\\end{equation}\n",
        "\n",
        "Note that the symbol &ge; is used to indicate that the value must be *greater than **or equal to*** 0; and this means that **0** is included in the set of valid values. To indicate that the value must be *greater than 0, **not including 0***, use the &gt; symbol. You can also use the equivalent symbols for *less than or equal to* (&le;) and *less than* (&lt;).\n",
        "\n",
        "When plotting a function line that marks the end of a continuous range, the end of the line is shown as a circle, which is filled if the function includes the value at that point, and unfilled if it does not.\n",
        "\n",
        "Here's the Python to plot function ***h***:"
      ]
    },
    {
      "cell_type": "code",
      "metadata": {
        "id": "mwKEKYBMdBKC",
        "colab_type": "code",
        "colab": {}
      },
      "source": [
        "%matplotlib inline\n",
        "\n",
        "def h(x):\n",
        "    if x >= 0:\n",
        "        import numpy as np\n",
        "        return 2 * np.sqrt(x)\n",
        "\n",
        "# Plot output from function h\n",
        "import numpy as np\n",
        "from matplotlib import pyplot as plt\n",
        "\n",
        "# Create an array of x values from -100 to 100\n",
        "x = range(-100, 101)\n",
        "\n",
        "# Get the corresponding y values from the function\n",
        "y = [h(a) for a in x]\n",
        "\n",
        "# Set up the graph\n",
        "plt.xlabel('x')\n",
        "plt.ylabel('h(x)')\n",
        "plt.grid()\n",
        "\n",
        "# Plot x against h(x)\n",
        "plt.plot(x,y, color='purple')\n",
        "\n",
        "# plot a filled circle at the end to indicate a closed interval\n",
        "plt.plot(0, h(0), color='purple', marker='o', markerfacecolor='purple', markersize=8)\n",
        "\n",
        "plt.show()"
      ],
      "execution_count": 0,
      "outputs": []
    },
    {
      "cell_type": "markdown",
      "metadata": {
        "id": "w83MdSVTdBKG",
        "colab_type": "text"
      },
      "source": [
        "Sometimes, a function may be defined for a specific *interval*; for example, for all values between 0 and 5:\n",
        "\n",
        "\\begin{equation}j(x) = x + 2,\\;\\; x \\ge 0 \\text{ and } x \\le 5\\end{equation}\n",
        "\n",
        "In this case, the function is defined for ***x*** values between 0 and 5 *inclusive*; in other words, **0** and **5** are included in the set of defined values. This is known as a *closed* interval and can be indicated like this:\n",
        "\n",
        "\\begin{equation}\\{x \\in \\rm I\\!R\\;\\;|\\;\\; 0 \\le x \\le 5 \\}\\end{equation}\n",
        "\n",
        "It could also be indicated like this:\n",
        "\n",
        "\\begin{equation}\\{x \\in \\rm I\\!R\\;\\;|\\;\\; [0,5] \\}\\end{equation}\n",
        "\n",
        "If the condition in the function was **x > 0 and x < 5**, then the interval would be described as *open* and 0 and 5 would *not* be included in the set of defined values. This would be indicated using one of the following expressions:\n",
        "\n",
        "\\begin{equation}\\{x \\in \\rm I\\!R\\;\\;|\\;\\; 0 \\lt x \\lt 5 \\}\\end{equation}\n",
        "\\begin{equation}\\{x \\in \\rm I\\!R\\;\\;|\\;\\; (0,5) \\}\\end{equation}\n",
        "\n",
        "Here's function ***j*** in Python:"
      ]
    },
    {
      "cell_type": "code",
      "metadata": {
        "id": "HFYLF1JYdBKH",
        "colab_type": "code",
        "colab": {}
      },
      "source": [
        "%matplotlib inline\n",
        "\n",
        "def j(x):\n",
        "    if x >= 0 and x <= 5:\n",
        "        return x + 2\n",
        "\n",
        "    \n",
        "# Plot output from function j\n",
        "import numpy as np\n",
        "from matplotlib import pyplot as plt\n",
        "\n",
        "# Create an array of x values from -100 to 100\n",
        "x = range(-100, 101)\n",
        "y = [j(a) for a in x]\n",
        "\n",
        "# Set up the graph\n",
        "plt.xlabel('x')\n",
        "plt.ylabel('j(x)')\n",
        "plt.grid()\n",
        "\n",
        "# Plot x against k(x)\n",
        "plt.plot(x, y, color='purple')\n",
        "\n",
        "# plot a filled circle at the ends to indicate an open interval\n",
        "plt.plot(0, j(0), color='purple', marker='o', markerfacecolor='purple', markersize=8)\n",
        "plt.plot(5, j(5), color='purple', marker='o', markerfacecolor='purple', markersize=8)\n",
        "\n",
        "plt.show()"
      ],
      "execution_count": 0,
      "outputs": []
    },
    {
      "cell_type": "markdown",
      "metadata": {
        "id": "BPOm3F2mdBKL",
        "colab_type": "text"
      },
      "source": [
        "Now, suppose we have a function like this:\n",
        "\n",
        "\\begin{equation}\n",
        "k(x) = \\begin{cases}\n",
        "  0, & \\text{if } x = 0, \\\\\n",
        "  1, & \\text{if } x = 100\n",
        "\\end{cases}\n",
        "\\end{equation}\n",
        "\n",
        "In this case, the function has highly restricted domain; it only returns a defined output for 0 and 100. No output for any other ***x*** value is defined. In this case, the set of the domain is:\n",
        "\n",
        "\\begin{equation}\\{0,100\\}\\end{equation}\n",
        "\n",
        "Note that this does not include all real numbers, it only includes 0 and 100.\n",
        "\n",
        "When we use Python to plot this function, note that it only makes sense to plot a scatter plot showing the individual values returned, there is no line in between because the function is not continuous between the values within the domain. "
      ]
    },
    {
      "cell_type": "code",
      "metadata": {
        "id": "ACY9RtUNdBKL",
        "colab_type": "code",
        "colab": {}
      },
      "source": [
        "%matplotlib inline\n",
        "\n",
        "def k(x):\n",
        "    if x == 0:\n",
        "        return 0\n",
        "    elif x == 100:\n",
        "        return 1\n",
        "\n",
        "    \n",
        "# Plot output from function k\n",
        "from matplotlib import pyplot as plt\n",
        "\n",
        "# Create an array of x values from -100 to 100\n",
        "x = range(-100, 101)\n",
        "# Get the k(x) values for every value in x\n",
        "y = [k(a) for a in x]\n",
        "\n",
        "# Set up the graph\n",
        "plt.xlabel('x')\n",
        "plt.ylabel('k(x)')\n",
        "plt.grid()\n",
        "\n",
        "# Plot x against k(x)\n",
        "plt.scatter(x, y, color='purple')\n",
        "\n",
        "plt.show()"
      ],
      "execution_count": 0,
      "outputs": []
    },
    {
      "cell_type": "markdown",
      "metadata": {
        "id": "heuz-P3XdBKP",
        "colab_type": "text"
      },
      "source": [
        "### Range of a Function\n",
        "Just as the domain of a function defines the set of values for which the function is defined, the *range* of a function defines the set of possible outputs from the function.\n",
        "\n",
        "For example, consider the following function:\n",
        "\n",
        "\\begin{equation}p(x) = x^{2} + 1\\end{equation}\n",
        "\n",
        "The domain of this function is all real numbers. However, this is a quadratic function, so the output values will form a parabola; and since the function has no negative coefficient or constant, it will be an upward opening parabola with a vertex that has a y value of 1.\n",
        "\n",
        "So what does that tell us? Well, the minimum value that will be returned by this function is 1, so it's range is:\n",
        "\n",
        "\\begin{equation}\\{p(x) \\in \\rm I\\!R\\;\\;|\\;\\; p(x) \\ge 1 \\}\\end{equation}\n",
        "\n",
        "Let's create and plot the function for a range of ***x*** values in Python:"
      ]
    },
    {
      "cell_type": "code",
      "metadata": {
        "id": "ntQOaIZmdBKP",
        "colab_type": "code",
        "colab": {}
      },
      "source": [
        "%matplotlib inline\n",
        "\n",
        "# define a function to return x^2 + 1\n",
        "def p(x):\n",
        "    return x**2 + 1\n",
        "\n",
        "\n",
        "# Plot the function\n",
        "import numpy as np\n",
        "from matplotlib import pyplot as plt\n",
        "\n",
        "# Create an array of x values from -100 to 100\n",
        "x = np.array(range(-100, 101))\n",
        "\n",
        "# Set up the graph\n",
        "plt.xlabel('x')\n",
        "plt.ylabel('p(x)')\n",
        "plt.grid()\n",
        "\n",
        "# Plot x against f(x)\n",
        "plt.plot(x,p(x), color='purple')\n",
        "\n",
        "plt.show()"
      ],
      "execution_count": 0,
      "outputs": []
    },
    {
      "cell_type": "markdown",
      "metadata": {
        "id": "m-3b8AHodBKS",
        "colab_type": "text"
      },
      "source": [
        "Note that the ***p(x)*** values in the plot drop exponentially for ***x*** values that are negative, and then rise exponentially for positive ***x*** values; but the minimum value returned by the function (for an *x* value of 0) is **1**."
      ]
    },
    {
      "cell_type": "markdown",
      "metadata": {
        "id": "byiQukIFe_up",
        "colab_type": "text"
      },
      "source": [
        "## 5. Differentiation and Derivatives"
      ]
    },
    {
      "cell_type": "markdown",
      "metadata": {
        "id": "2J5GZL1oe4mo",
        "colab_type": "text"
      },
      "source": [
        "\n",
        "Now you're going to build on that knowledge and look at a calculus technique called *differentiation*. In differentiation, we use our knowledge of limits to calculate the *derivative* of a function in order to determine the rate of change at an individual point on a line.\n",
        "\n",
        "Let's remind ourselves of the problem we're trying to solve, here's a function:\n",
        "\n",
        "\\begin{equation}f(x) = x^{2} + x\\end{equation}\n",
        "\n",
        "We can visualize part of the line that this function defines using the folllowing Python code:"
      ]
    },
    {
      "cell_type": "code",
      "metadata": {
        "id": "uz-mA7IQe4mp",
        "colab_type": "code",
        "colab": {}
      },
      "source": [
        "%matplotlib inline\n",
        "\n",
        "# Here's the function\n",
        "def f(x):\n",
        "    return x**2 + x\n",
        "\n",
        "from matplotlib import pyplot as plt\n",
        "\n",
        "# Create an array of x values from 0 to 10 to plot\n",
        "x = list(range(0, 11))\n",
        "\n",
        "# Use the function to get the y values\n",
        "y = [f(i) for i in x]\n",
        "\n",
        "# Set up the graph\n",
        "plt.xlabel('x')\n",
        "plt.ylabel('f(x)')\n",
        "plt.grid()\n",
        "\n",
        "# Plot the function\n",
        "plt.plot(x,y, color='green')\n",
        "\n",
        "plt.show()"
      ],
      "execution_count": 0,
      "outputs": []
    },
    {
      "cell_type": "markdown",
      "metadata": {
        "id": "qCGcNu9-e4mv",
        "colab_type": "text"
      },
      "source": [
        "Now, we know that we can calculate the average rate of change for a given interval on the line by calculating the slope for a secant line that connects two points on the line. For example, we can calculate the average change for the interval between x=4 and x=6 by dividing the change (or *delta*, indicated as &Delta;) in the value of *f(x)* by the change in the value of *x*:\n",
        "\n",
        "\\begin{equation}m = \\frac{\\Delta{f(x)}}{\\Delta{x}} \\end{equation}\n",
        "\n",
        "The delta for *f(x)* is calculated by subtracting the *f(x)* values of our points, and the delta for *x* is calculated by subtracting the *x* values of our points; like this:\n",
        "\n",
        "\\begin{equation}m = \\frac{f(x)_{2} - f(x)_{1}}{x_{2} - x_{1}} \\end{equation}\n",
        "\n",
        "So for the interval between x=4 and x=6, that's:\n",
        "\n",
        "\\begin{equation}m = \\frac{f(6) - f(4)}{6 - 4} \\end{equation}\n",
        "\n",
        "We can calculate and plot this using the following Python:"
      ]
    },
    {
      "cell_type": "code",
      "metadata": {
        "id": "UQ7U-cgPe4mw",
        "colab_type": "code",
        "colab": {}
      },
      "source": [
        "%matplotlib inline\n",
        "\n",
        "def f(x):\n",
        "    return x**2 + x\n",
        "\n",
        "from matplotlib import pyplot as plt\n",
        "\n",
        "# Create an array of x values from 0 to 10 to plot\n",
        "x = list(range(0, 11))\n",
        "\n",
        "# Use the function to get the y values\n",
        "y = [f(i) for i in x]\n",
        "\n",
        "# Set the a values\n",
        "x1 = 4\n",
        "x2 = 6\n",
        "\n",
        "# Get the corresponding f(x) values \n",
        "y1 = f(x1)\n",
        "y2 = f(x2)\n",
        "\n",
        "# Calculate the slope by dividing the deltas\n",
        "a = (y2 - y1)/(x2 - x1)\n",
        "\n",
        "# Create an array of x values for the secant line\n",
        "sx = [x1,x2]\n",
        "\n",
        "# Use the function to get the y values\n",
        "sy = [f(i) for i in sx]\n",
        "\n",
        "# Set up the graph\n",
        "plt.xlabel('x')\n",
        "plt.ylabel('f(x)')\n",
        "plt.grid()\n",
        "\n",
        "# Plot the function\n",
        "plt.plot(x,y, color='green')\n",
        "\n",
        "# Plot the interval points\n",
        "plt.scatter([x1,x2],[y1,y2], c='red')\n",
        "\n",
        "# Plot the secant line\n",
        "plt.plot(sx,sy, color='magenta')\n",
        "\n",
        "# Display the calculated average rate of change\n",
        "plt.annotate('Average change =' + str(a),(x2, (y2+y1)/2))\n",
        "\n",
        "plt.show()"
      ],
      "execution_count": 0,
      "outputs": []
    },
    {
      "cell_type": "markdown",
      "metadata": {
        "id": "QXKG7bMNe4m0",
        "colab_type": "text"
      },
      "source": [
        "The average rate of change for the interval between x=4 and x=6 is <sup>11</sup>/<sub>1</sub> (or simply 11), meaning that for every **1** added to *x*, *f(x)* increases by **11**. Put another way, if x represents time in seconds and f(x) represents distance in meters, the average rate of change for distance over time (in other words, *velocity*) for the 4 to 6 second interval is 11 meters-per-second.\n",
        "\n",
        "So far, this is just basic algebra; but what if instead of the average rate of change over an interval, we want to calculate the rate of change at a single point, say, where x = 4.5?\n",
        "\n",
        "One approach we could take is to create a secant line between the point at which we want the slope and another point on the function line that is infintesimally close to it. So close in fact that the secant line is actually a tangent that goes through both points. We can then calculate the slope for the secant line as before. This would look something like the graph produced by the following code:"
      ]
    },
    {
      "cell_type": "code",
      "metadata": {
        "id": "Ee1DCuVqe4m1",
        "colab_type": "code",
        "colab": {}
      },
      "source": [
        "%matplotlib inline\n",
        "\n",
        "def f(x):\n",
        "    return x**2 + x\n",
        "\n",
        "from matplotlib import pyplot as plt\n",
        "\n",
        "# Create an array of x values from 0 to 10 to plot\n",
        "x = list(range(0, 11))\n",
        "\n",
        "# Use the function to get the y values\n",
        "y = [f(i) for i in x]\n",
        "\n",
        "# Set the x1 point, arbitrarily 5\n",
        "x1 = 4.5\n",
        "y1 = f(x1)\n",
        "\n",
        "# Set the x2 point, very close to x1\n",
        "x2 = 5.000000001\n",
        "y2 = f(x2)\n",
        "\n",
        "# Set up the graph\n",
        "plt.xlabel('x')\n",
        "plt.ylabel('f(x)')\n",
        "plt.grid()\n",
        "\n",
        "# Plot the function\n",
        "plt.plot(x,y, color='green')\n",
        "\n",
        "# Plot the point\n",
        "plt.scatter(x1,y1, c='red')\n",
        "plt.annotate('x' + str(x1),(x1,y1), xytext=(x1-0.5, y1+3))\n",
        "\n",
        "# Approximate the tangent slope and plot it\n",
        "m = (y2-y1)/(x2-x1)\n",
        "xMin = x1 - 3\n",
        "yMin = y1 - (3*m)\n",
        "xMax = x1 + 3\n",
        "yMax = y1 + (3*m)\n",
        "plt.plot([xMin,xMax],[yMin,yMax], color='magenta')\n",
        "\n",
        "plt.show()"
      ],
      "execution_count": 0,
      "outputs": []
    },
    {
      "cell_type": "markdown",
      "metadata": {
        "id": "J1y7zWIBe4m6",
        "colab_type": "text"
      },
      "source": [
        "### Calculating a Derivative\n",
        "In the Python code above, we created the (almost) tangential secant line by specifying a point that is very close to the point at which we want to calculate the rate of change. This is adequate to show the line conceptually in the graph, but it's not a particularly generalizable (or accurate) way to actually calculate the line so that we can get the rate of change at any given point.\n",
        "\n",
        "If only we knew of a way to calculate a point on the line that is as close as possible to point with a given *x* value.\n",
        "\n",
        "Oh wait, we do! It's a *limit*.\n",
        "\n",
        "So how do we apply a limit in this scenario? Well, let's start by examining our general approach to calculating slope in a little more detail.Our tried and tested approach is to plot a secant line between two points at different values of x, so let's plot an arbitrary (*x,y*) point, and then add an arbitrary amount to *x*, which we'll call *h*. Then we know that we can plot a secant line between (*x,f(x)*) and (*x+h,f(x+h)*) and find its slope.\n",
        "\n",
        "Run the cell below to see these points:"
      ]
    },
    {
      "cell_type": "code",
      "metadata": {
        "scrolled": false,
        "id": "prooLmyJe4m7",
        "colab_type": "code",
        "colab": {}
      },
      "source": [
        "%matplotlib inline\n",
        "\n",
        "def f(x):\n",
        "    return x**2 + x\n",
        "\n",
        "\n",
        "from matplotlib import pyplot as plt\n",
        "\n",
        "# Create an array of x values from 0 to 10 to plot\n",
        "x = list(range(0, 11))\n",
        "\n",
        "# Use the function to get the y values\n",
        "y = [f(i) for i in x]\n",
        "\n",
        "# Set the x point\n",
        "x1 = 3\n",
        "y1 = f(x1)\n",
        "\n",
        "# set the increment\n",
        "h = 3\n",
        "\n",
        "# set the x+h point\n",
        "x2 = x1+h\n",
        "y2 = f(x2)\n",
        "\n",
        "# Set up the graph\n",
        "plt.xlabel('x')\n",
        "plt.ylabel('f(x)')\n",
        "plt.grid()\n",
        "\n",
        "# Plot the function\n",
        "plt.plot(x,y, color='green')\n",
        "\n",
        "# Plot the x point\n",
        "plt.scatter(x1,y1, c='red')\n",
        "plt.annotate('(x,f(x))',(x1,y1), xytext=(x1-0.5, y1+3))\n",
        "\n",
        "# Plot the x+h point\n",
        "plt.scatter(x2,y2, c='red')\n",
        "plt.annotate('(x+h, f(x+h))',(x2,y2), xytext=(x2+0.5, y2))\n",
        "\n",
        "plt.show()"
      ],
      "execution_count": 0,
      "outputs": []
    },
    {
      "cell_type": "markdown",
      "metadata": {
        "id": "cgDj20E9e4m_",
        "colab_type": "text"
      },
      "source": [
        "As we saw previously, our formula to calculate slope is:\n",
        "\n",
        "\\begin{equation}m = \\frac{\\Delta{f(x)}}{\\Delta{x}} \\end{equation}\n",
        "\n",
        "The delta for *f(x)* is calculated by subtracting the *f(x + h)* and *f(x)* values of our points, and the delta for *x* is just the difference between *x* and *x + h*; in other words, *h*:\n",
        "\n",
        "\\begin{equation}m = \\frac{f(x + h) - f(x)}{h} \\end{equation}\n",
        "\n",
        "What we actually need is the slope at the shortest possible distance between x and x+h, so we're looking for the smallest possible value of *h*. In other words, we need the limit as *h* approaches 0.\n",
        "\n",
        "\\begin{equation}\\lim_{h \\to 0} \\frac{f(x + h) - f(x)}{h} \\end{equation}\n",
        "\n",
        "This equation is generalizable, and we can use it as the definition of a function to help us find the slope at any given value of *x* on the line, and it's what we call the *derivative* of our original function (which in this case is called *f*). This is generally indicated in *Lagrange* notation like this:\n",
        "\n",
        "\\begin{equation}f'(x) = \\lim_{h \\to 0} \\frac{f(x + h) - f(x)}{h} \\end{equation}\n",
        "\n",
        "You'll also sometimes see derivatives written in *Leibniz's* notation like this:\n",
        "\n",
        "\\begin{equation}\\frac{d}{dx}f(x) = \\lim_{h \\to 0} \\frac{f(x + h) - f(x)}{h} \\end{equation}\n",
        "\n",
        "***Note:*** *Some textbooks use **h** to symbolize the difference between **x<sub>0</sub>** and **x<sub>1</sub>**, while others use **&Delta;x**. It makes no diffrerence which symbolic value you use.*"
      ]
    },
    {
      "cell_type": "markdown",
      "metadata": {
        "id": "bpmgrkqce4nA",
        "colab_type": "text"
      },
      "source": [
        "#### Alternate Form for a Derivative\n",
        "The formula above shows the generalized form for a derivative. You can use the derivative function to get the slope at any given point, for example to get the slope at point *a* you could just plug the value for *a* into the generalized derivative function:\n",
        "\n",
        "\\begin{equation}f'(\\textbf{a}) = \\lim_{h \\to 0} \\frac{f(\\textbf{a} + h) - f(\\textbf{a})}{h} \\end{equation}\n",
        "\n",
        "Or you could use the alternate form, which is specific to point *a*:\n",
        "\n",
        "\\begin{equation}f'(a) = \\lim_{x \\to a} \\frac{f(x) - f(a)}{x - a} \\end{equation}\n",
        "\n",
        "These are mathematically equivalent."
      ]
    },
    {
      "cell_type": "markdown",
      "metadata": {
        "id": "za8Qey0We4nA",
        "colab_type": "text"
      },
      "source": [
        "### Finding the Derivative for a Specific Point\n",
        "It's easier to understand differentiation by seeing it in action, so let's use it to find the derivitive for a specific point in the function ***f***.\n",
        "\n",
        "Here's the definition of function ***f***:\n",
        "\n",
        "\\begin{equation}f(x) = x^{2} + x\\end{equation}\n",
        "\n",
        "Let's say we want to find ***f'(2)*** (the derivative for ***f*** when ***x*** is 2); so we're trying to find the slope at the point shown by the following code:"
      ]
    },
    {
      "cell_type": "code",
      "metadata": {
        "id": "1sEzmG_De4nB",
        "colab_type": "code",
        "colab": {}
      },
      "source": [
        "%matplotlib inline\n",
        "\n",
        "def f(x):\n",
        "    return x**2 + x\n",
        "\n",
        "from matplotlib import pyplot as plt\n",
        "\n",
        "# Create an array of x values from 0 to 10 to plot\n",
        "x = list(range(0, 11))\n",
        "\n",
        "# Use the function to get the y values\n",
        "y = [f(i) for i in x]\n",
        "\n",
        "# Set the point\n",
        "x1 = 2\n",
        "y1 = f(x1)\n",
        "\n",
        "# Set up the graph\n",
        "plt.xlabel('x')\n",
        "plt.ylabel('f(x)')\n",
        "plt.grid()\n",
        "\n",
        "# Plot the function\n",
        "plt.plot(x,y, color='green')\n",
        "\n",
        "# Plot the point\n",
        "plt.scatter(x1,y1, c='red')\n",
        "plt.annotate('(x,f(x))',(x1,y1), xytext=(x1-0.5, y1+3))\n",
        "\n",
        "plt.show()"
      ],
      "execution_count": 0,
      "outputs": []
    },
    {
      "cell_type": "markdown",
      "metadata": {
        "id": "grsqkozse4nF",
        "colab_type": "text"
      },
      "source": [
        "Here's our generalized formula for finding a derivative at a specific point (*a*):\n",
        "\n",
        "\\begin{equation}f'(a) = \\lim_{h \\to 0} \\frac{f(a + h) - f(a)}{h} \\end{equation}\n",
        "\n",
        "So let's just start by plugging our *a* value in:\n",
        "\n",
        "\\begin{equation}f'(\\textbf{2}) = \\lim_{h \\to 0} \\frac{f(\\textbf{2} + h) - f(\\textbf{2})}{h} \\end{equation}\n",
        "\n",
        "We know that ***f(x)*** encapsulates the equation ***x<sup>2</sup> + x***, so we can rewrite our derivative equation as:\n",
        "\n",
        "\\begin{equation}f'(2) = \\lim_{h \\to 0} \\frac{((2+h)^{2} + 2 + h) - (2^{2} + 2)}{h} \\end{equation}\n",
        "\n",
        "We can apply the distribution property to ***(2 + h)<sup>2</sup>*** using the rule that *(a + b)<sup>2</sup> = a<sup>2</sup> + b<sup>2</sup> + 2ab*:\n",
        "\n",
        "\\begin{equation}f'(2) = \\lim_{h \\to 0} \\frac{(4 + h^{2} + 4h + 2 + h) - (2^{2} + 2)}{h} \\end{equation}\n",
        "\n",
        "Then we can simplify 2<sup>2</sup> + 2 (2<sup>2</sup> is 4, plus 2 gives is 6):\n",
        "\n",
        "\\begin{equation}f'(2) = \\lim_{h \\to 0} \\frac{(4 + h^{2} + 4h + 2 + h) - 6}{h} \\end{equation}\n",
        "\n",
        "We can combine like terms on the left side of the numerator to make things a little clearer:\n",
        "\n",
        "\\begin{equation}f'(2) = \\lim_{h \\to 0} \\frac{(h^{2} + 5h + 6) - 6}{h} \\end{equation}\n",
        "\n",
        "Which combines even further to get rid of the *6*:\n",
        "\n",
        "\\begin{equation}f'(2) = \\lim_{h \\to 0} \\frac{h^{2} + 5h}{h} \\end{equation}\n",
        "\n",
        "And finally, we can simplify the fraction:\n",
        "\n",
        "\\begin{equation}f'(2) = \\lim_{h \\to 0} h + 5 \\end{equation}\n",
        "\n",
        "To get the limit when *h* is approaching 0, we can use direct substitution for h:\n",
        "\n",
        "\\begin{equation}f'(2) = 0 + 5 \\end{equation}\n",
        "\n",
        "so:\n",
        "\n",
        "\\begin{equation}f'(2) = 5 \\end{equation}\n",
        "\n",
        "Let's draw a tangent line with that slope on our graph to see if it looks right:"
      ]
    },
    {
      "cell_type": "code",
      "metadata": {
        "id": "xt5C1TbLe4nF",
        "colab_type": "code",
        "colab": {}
      },
      "source": [
        "%matplotlib inline\n",
        "\n",
        "def f(x):\n",
        "    return x**2 + x\n",
        "\n",
        "\n",
        "from matplotlib import pyplot as plt\n",
        "\n",
        "# Create an array of x values from 0 to 10 to plot\n",
        "x = list(range(0, 11))\n",
        "\n",
        "# Use the function to get the y values\n",
        "y = [f(i) for i in x]\n",
        "\n",
        "# Set the point\n",
        "x1 = 2\n",
        "y1 = f(x1)\n",
        "\n",
        "# Specify the derivative we calculated above\n",
        "m = 5\n",
        "\n",
        "# Set up the graph\n",
        "plt.xlabel('x')\n",
        "plt.ylabel('f(x)')\n",
        "plt.grid()\n",
        "\n",
        "# Plot the function\n",
        "plt.plot(x,y, color='green')\n",
        "\n",
        "# Plot the point\n",
        "plt.scatter(x1,y1, c='red')\n",
        "plt.annotate('(x,f(x))',(x1,y1), xytext=(x1-0.5, y1+3))\n",
        "\n",
        "# Plot the tangent line using the derivative we calculated\n",
        "xMin = x1 - 3\n",
        "yMin = y1 - (3*m)\n",
        "xMax = x1 + 3\n",
        "yMax = y1 + (3*m)\n",
        "plt.plot([xMin,xMax],[yMin,yMax], color='magenta')\n",
        "\n",
        "plt.show()"
      ],
      "execution_count": 0,
      "outputs": []
    },
    {
      "cell_type": "markdown",
      "metadata": {
        "id": "E6sgaEoKe4nM",
        "colab_type": "text"
      },
      "source": [
        "### Finding a Derivative for Any Point\n",
        "Now let's put it all together and define a function that we can use to find the derivative for any point in the ***f*** function:\n",
        "\n",
        "Here's our general derivative function again:\n",
        "\n",
        "\\begin{equation}f'(x) = \\lim_{h \\to 0} \\frac{f(x + h) - f(x)}{h} \\end{equation}\n",
        "\n",
        "We know that ***f(x)*** encapsulates the equation ***x<sup>2</sup> + x***, so we can rewrite our derivative equation as:\n",
        "\n",
        "\\begin{equation}f'(x) = \\lim_{h \\to 0} \\frac{((x+h)^{2} + x + h) - (x^{2} + x)}{h} \\end{equation}\n",
        "\n",
        "We can apply the distribution property to ***(x + h)<sup>2</sup>*** using the rule that *(a + b)<sup>2</sup> = a<sup>2</sup> + b<sup>2</sup> + 2ab*:\n",
        "\n",
        "\\begin{equation}f'(x) = \\lim_{h \\to 0} \\frac{(x^{2} + h^{2} + 2xh + x + h) - (x^{2} + x)}{h} \\end{equation}\n",
        "\n",
        "Then we can use the distributive property to expand ***- (x<sup>2</sup> + x)***, which is the same thing as *-1(x<sup>2</sup> + x)*, to ***- x<sup>2</sup> - x***:\n",
        "\n",
        "\\begin{equation}f'(x) = \\lim_{h \\to 0} \\frac{x^{2} + h^{2} + 2xh + x + h - x^{2} - x}{h} \\end{equation}\n",
        "\n",
        "We can combine like terms on the numerator to make things a little clearer:\n",
        "\n",
        "\\begin{equation}f'(x) = \\lim_{h \\to 0} \\frac{h^{2} + 2xh + h}{h} \\end{equation}\n",
        "\n",
        "And finally, we can simplify the fraction:\n",
        "\n",
        "\\begin{equation}f'(x) = \\lim_{h \\to 0} 2x + h + 1 \\end{equation}\n",
        "\n",
        "To get the limit when *h* is approaching 0, we can use direct substitution for h:\n",
        "\n",
        "\\begin{equation}f'(x) = 2x + 0 + 1 \\end{equation}\n",
        "\n",
        "so:\n",
        "\n",
        "\\begin{equation}f'(x) = 2x + 1 \\end{equation}\n",
        "\n",
        "Now we have a function for the derivative of ***f***, which we can apply to any *x* value to find the slope of the function at ***f(x***).\n",
        "\n",
        "For example, let's find the derivative of ***f*** with an *x* value of 5:\n",
        "\n",
        "\\begin{equation}f'(5) = 2\\cdot5 + 1 = 10 + 1 = 11\\end{equation}\n",
        "\n",
        "Let's use Python to define the ***f(x)*** and ***f'(x)*** functions, plot ***f(5)*** and show the tangent line for ***f'(5)***:"
      ]
    },
    {
      "cell_type": "code",
      "metadata": {
        "id": "8dK8U6nxe4nO",
        "colab_type": "code",
        "colab": {}
      },
      "source": [
        "%matplotlib inline\n",
        "\n",
        "# Create function f\n",
        "def f(x):\n",
        "    return x**2 + x\n",
        "\n",
        "# Create derivative function for f\n",
        "def fd(x):\n",
        "    return (2 * x) + 1\n",
        "\n",
        "from matplotlib import pyplot as plt\n",
        "\n",
        "# Create an array of x values from 0 to 10 to plot\n",
        "x = list(range(0, 11))\n",
        "\n",
        "# Use the function to get the y values\n",
        "y = [f(i) for i in x]\n",
        "\n",
        "# Set the point\n",
        "x1 = 5\n",
        "y1 = f(x1)\n",
        "\n",
        "# Calculate the derivative using the derivative function\n",
        "m = fd(x1)\n",
        "\n",
        "# Set up the graph\n",
        "plt.xlabel('x')\n",
        "plt.ylabel('f(x)')\n",
        "plt.grid()\n",
        "\n",
        "# Plot the function\n",
        "plt.plot(x,y, color='green')\n",
        "\n",
        "# Plot the point\n",
        "plt.scatter(x1,y1, c='red')\n",
        "plt.annotate('(x,f(x))',(x1,y1), xytext=(x1-0.5, y1+3))\n",
        "\n",
        "# Plot the tangent line using the derivative we calculated\n",
        "xMin = x1 - 3\n",
        "yMin = y1 - (3*m)\n",
        "xMax = x1 + 3\n",
        "yMax = y1 + (3*m)\n",
        "plt.plot([xMin,xMax],[yMin,yMax], color='magenta')\n",
        "\n",
        "plt.show()"
      ],
      "execution_count": 0,
      "outputs": []
    },
    {
      "cell_type": "markdown",
      "metadata": {
        "id": "sPCzVf1Oe4nU",
        "colab_type": "text"
      },
      "source": [
        "### Differentiability\n",
        "It's important to realize that a function may not be *differentiable* at every point; that is, you might not be able to calculate the derivative for every point on the function line.\n",
        "\n",
        "To be differentiable at a given point:\n",
        "- The function must be *continuous* at that point.\n",
        "- The tangent line at that point cannot be vertical\n",
        "- The line must be *smooth* at that point (that is, it cannot take on a sudden change of direction at the point)\n",
        "\n",
        "For example, consider the following (somewhat bizarre) function:\n",
        "\n",
        "\\begin{equation}\n",
        "q(x) = \\begin{cases}\n",
        "  \\frac{40,000}{x^{2}}, & \\text{if } x < -4, \\\\\n",
        "  (x^{2} -2) \\cdot (x - 1), & \\text{if } x \\ne 0 \\text{ and } x \\ge -4 \\text{ and } x < 8, \\\\\n",
        "  (x^{2} -2), & \\text{if } x \\ne 0 \\text{ and } x \\ge 8\n",
        "\\end{cases}\n",
        "\\end{equation}"
      ]
    },
    {
      "cell_type": "code",
      "metadata": {
        "id": "sEavEDAPe4nV",
        "colab_type": "code",
        "colab": {}
      },
      "source": [
        "%matplotlib inline\n",
        "\n",
        "# Define function q\n",
        "def q(x):\n",
        "    if x != 0:\n",
        "        if x < -4:\n",
        "            return 40000 / (x**2)\n",
        "        elif x < 8:\n",
        "            return (x**2 - 2) * x - 1\n",
        "        else:\n",
        "            return (x**2 - 2)\n",
        "\n",
        "\n",
        "# Plot output from function g\n",
        "from matplotlib import pyplot as plt\n",
        "\n",
        "# Create an array of x values\n",
        "x = list(range(-10, -5))\n",
        "x.append(-4.01)\n",
        "x2 = list(range(-4,8))\n",
        "x2.append(7.9999)\n",
        "x2 = x2 + list(range(8,11))\n",
        "\n",
        "# Get the corresponding y values from the function\n",
        "y = [q(i) for i in x]\n",
        "y2 = [q(i) for i in x2]\n",
        "\n",
        "# Set up the graph\n",
        "plt.xlabel('x')\n",
        "plt.ylabel('q(x)')\n",
        "plt.grid()\n",
        "\n",
        "# Plot x against q(x)\n",
        "plt.plot(x,y, color='purple')\n",
        "plt.plot(x2,y2, color='purple')\n",
        "\n",
        "\n",
        "plt.scatter(-4,q(-4), c='red')\n",
        "plt.annotate('A (x= -4)',(-5,q(-3.9)), xytext=(-7, q(-3.9)))\n",
        "\n",
        "plt.scatter(0,0, c='red')\n",
        "plt.annotate('B (x= 0)',(0,0), xytext=(-1, 40))\n",
        "\n",
        "plt.scatter(8,q(8), c='red')\n",
        "plt.annotate('C (x= 8)',(8,q(8)), xytext=(8, 100))\n",
        "\n",
        "plt.show()"
      ],
      "execution_count": 0,
      "outputs": []
    },
    {
      "cell_type": "markdown",
      "metadata": {
        "collapsed": true,
        "id": "DsCXYVWJe4nZ",
        "colab_type": "text"
      },
      "source": [
        "The points marked on this graph are non-differentiable:\n",
        "- Point **A** is non-continuous - the limit from the negative side is infinity, but the limit from the positive side &approx; -57\n",
        "- Point **B** is also non-continuous - the function is not defined at x = 0.\n",
        "- Point **C** is defined and continuous, but the sharp change in direction makes it non-differentiable."
      ]
    },
    {
      "cell_type": "markdown",
      "metadata": {
        "id": "S7kZtuXTe4na",
        "colab_type": "text"
      },
      "source": [
        "### Derivatives of Equations\n",
        "\n",
        "We've been talking about derivatves of *functions*, but it's important to remember that functions are just named operations that return a value. We can apply what we know about calculating derivatives to any equation, for example:\n",
        "\n",
        "\\begin{equation}\\frac{d}{dx}(2x + 6)\\end{equation}\n",
        "\n",
        "Note that we generally switch to *Leibniz's* notation when finding derivatives of equations that are not encapsulated as functions; but the approach for solving this example is exactly the same as if we had a hypothetical function with the definition *2x + 6*:\n",
        "\n",
        "\\begin{equation}\\frac{d}{dx}(2x + 6) = \\lim_{h \\to 0} \\frac{(2(x+h) + 6) - (2x + 6)}{h} \\end{equation}\n",
        "\n",
        "After factoring out the* 2(x+h)* on the left and the *-(2x - 6)* on the right, this is:\n",
        "\n",
        "\\begin{equation}\\frac{d}{dx}(2x + 6) = \\lim_{h \\to 0} \\frac{2x + 2h + 6 - 2x - 6}{h} \\end{equation}\n",
        "\n",
        "We can simplify this to:\n",
        "\n",
        "\\begin{equation}\\frac{d}{dx}(2x + 6) = \\lim_{h \\to 0} \\frac{2h}{h} \\end{equation}\n",
        "\n",
        "Now we can factor *h* out entirely, so at any point:\n",
        "\n",
        "\\begin{equation}\\frac{d}{dx}(2x + 6) = 2 \\end{equation}\n",
        "\n",
        "If you run the Python code below to plot the line created by the equation, you'll see that it does indeed have a constant slope of 2:"
      ]
    },
    {
      "cell_type": "code",
      "metadata": {
        "id": "bEBNmQ-0e4nb",
        "colab_type": "code",
        "colab": {}
      },
      "source": [
        "%matplotlib inline\n",
        "from matplotlib import pyplot as plt\n",
        "\n",
        "# Create an array of x values from 0 to 10 to plot\n",
        "x = list(range(1, 11))\n",
        "\n",
        "# Use the function to get the y values\n",
        "y = [(2*i) + 6 for i in x]\n",
        "\n",
        "# Set up the graph\n",
        "plt.xlabel('x')\n",
        "plt.xticks(range(1,11, 1))\n",
        "plt.ylabel('y')\n",
        "plt.yticks(range(8,27, 1))\n",
        "plt.grid()\n",
        "\n",
        "# Plot the function\n",
        "plt.plot(x,y, color='purple')\n",
        "\n",
        "\n",
        "plt.show()"
      ],
      "execution_count": 0,
      "outputs": []
    },
    {
      "cell_type": "markdown",
      "metadata": {
        "id": "oveU01F7e4ne",
        "colab_type": "text"
      },
      "source": [
        "### Derivative Rules and Operations\n",
        "When working with derivatives, there are some rules, or shortcuts, that you can apply to make your life easier.\n",
        "\n",
        "### Basic Derivative Rules\n",
        "Let's start with some basic rules that it's useful to know.\n",
        "\n",
        "- If *f(x)* = *C* (where *C* is a constant), then *f'(x)* = 0\n",
        "\n",
        "    This makes sense if you think about it for a second. No matter what value you use for *x*, the function returns the same constant value; so the graph of the function will be a horizontal line. There's no rate of change in a horiziontal line, so its slope is 0 at all points. This is true of any constant, including symbolic constants like *&pi;* (pi).\n",
        "    \n",
        "    So, for example:\n",
        "    \n",
        "\\begin{equation}f(x) = 6 \\;\\; \\therefore \\;\\; f'(x) = 0 \\end{equation}\n",
        "\n",
        "    Or:\n",
        "\n",
        "\\begin{equation}f(x) = \\pi \\;\\; \\therefore \\;\\; f'(x) = 0 \\end{equation}\n",
        "    \n",
        "- If *f(x)* = *Cg(x)*, then *f'(x)* = *Cg'(x)*\n",
        "\n",
        "    This rule tells us that if a function is equal to a second function multiplied by a constant, then the derivative of the first function will be equal to the derivative of the second function multiplied by the same constant. For example:\n",
        "    \n",
        "\\begin{equation}f(x) = 2g(x) \\;\\; \\therefore \\;\\; f'(x) = 2g'(x) \\end{equation}\n",
        "\n",
        "- If *f(x)* = *g(x)* + *h(x)*, then *f'(x)* = *g'(x)* + *h'(x)*\n",
        "\n",
        "    In other words, if a function is the sum of two other functions, then the derivative of the first function is the sum of the derivatives of the other two functions. For example:\n",
        "    \n",
        "\\begin{equation}f(x) = g(x) + h(x) \\;\\; \\therefore \\;\\; f'(x) = g'(x) + h'(x) \\end{equation}\n",
        "\n",
        "    Of course, this also applies to subtraction:\n",
        "    \n",
        "\\begin{equation}f(x) = k(x) - l(x) \\;\\; \\therefore \\;\\; f'(x) = k'(x) - l'(x) \\end{equation}\n",
        "\n",
        "As discussed previously, functions are just equations encapsulated as a named entity that return a value; and the rules can be applied to any equation. For example:\n",
        "\n",
        "\\begin{equation}\\frac{d}{dx}(2x + 6) = \\frac{d}{dx} 2x +  \\frac{d}{dx} 6\\end{equation}\n",
        "\n",
        "So we can take advantage of the rules to make the calculation a little easier:\n",
        "\n",
        "\\begin{equation}\\frac{d}{dx}(2x) = \\lim_{h \\to 0} \\frac{2(x+h) - 2x}{h} \\end{equation}\n",
        "\n",
        "After factoring out the* 2(x+h)* on the left, this is:\n",
        "\n",
        "\\begin{equation}\\frac{d}{dx}(2x) = \\lim_{h \\to 0} \\frac{2x + 2h - 2x}{h} \\end{equation}\n",
        "\n",
        "We can simplify this to:\n",
        "\n",
        "\\begin{equation}\\frac{d}{dx}(2x) = \\lim_{h \\to 0} \\frac{2h}{h} \\end{equation}\n",
        "\n",
        "Which gives us:\n",
        "\n",
        "\\begin{equation}\\frac{d}{dx}(2x) = 2 \\end{equation}\n",
        "\n",
        "Now we can turn our attention to the derivative of the constant 6 with respect to *x*, and we know that the derivative of a constant is always 0, so:\n",
        "\n",
        "\\begin{equation}\\frac{d}{dx}(6) = 0\\end{equation}\n",
        "\n",
        "We add the two derivatives we calculated:\n",
        "\n",
        "\\begin{equation}\\frac{d}{dx}(2x + 6) = 2 + 0\\end{equation}\n",
        "\n",
        "Which gives us our result:\n",
        "\n",
        "\\begin{equation}\\frac{d}{dx}(2x + 6) = 2\\end{equation}\n",
        "\n",
        "\n",
        "### The Power Rule\n",
        "The *power rule* is one of the most useful shortcuts in the world of differential calculus. It can be stated like this:\n",
        "\n",
        "\\begin{equation}f(x) = x^{n} \\;\\; \\therefore \\;\\; f'(x) = nx^{n-1}\\end{equation}\n",
        "\n",
        "So if our function for *x* returns *x* to the power of some constant (which we'll call *n*), then the derivative of the function for *x* is *n* times *x* to the power of *n* - 1.\n",
        "\n",
        "It's probably helpful to look at a few examples to see how this works:\n",
        "\n",
        "\\begin{equation}f(x) = x^{3} \\;\\; \\therefore \\;\\; f'(x) = 3x^{2}\\end{equation}\n",
        "\n",
        "\\begin{equation}f(x) = x^{-2} \\;\\; \\therefore \\;\\; f'(x) = -2x^{-3}\\end{equation}\n",
        "\n",
        "\\begin{equation}f(x) = x^{2} \\;\\; \\therefore \\;\\; f'(x) = 2x\\end{equation}\n",
        "\n",
        "In each of these examples, the exponential of *x* in the function definition becomes the coefficient for *x* in the derivative definition, with the exponential is decremented by 1.\n",
        "\n",
        "Here's a worked example to find the derivative of the following function:\n",
        "\n",
        "\\begin{equation}f(x) = x^{2}\\end{equation}\n",
        "\n",
        "So we start with the general derivative function:\n",
        "\n",
        "\\begin{equation}f'(x) = \\lim_{h \\to 0} \\frac{f(x + h) - f(x)}{h} \\end{equation}\n",
        "\n",
        "We can plug in our definition for *f*:\n",
        "\n",
        "\\begin{equation}f'(x) = \\lim_{h \\to 0} \\frac{(x + h)^{2} - x^{2}}{h} \\end{equation}\n",
        "\n",
        "Now we can factor out the perfect square binomial on the left:\n",
        "\n",
        "\\begin{equation}f'(x) = \\lim_{h \\to 0} \\frac{x^{2} + h^{2} + 2xh - x^{2}}{h} \\end{equation}\n",
        "\n",
        "The x<sup>2</sup> terms cancel each other out so we get to:\n",
        "\n",
        "\\begin{equation}f'(x) = \\lim_{h \\to 0} \\frac{h^{2} + 2xh}{h} \\end{equation}\n",
        "\n",
        "Which simplifies to:\n",
        "\n",
        "\\begin{equation}f'(x) = \\lim_{h \\to 0} h + 2x \\end{equation}\n",
        "\n",
        "With *h* approaching 0, this is:\n",
        "\n",
        "\\begin{equation}f'(x) = 0 + 2x \\end{equation}\n",
        "\n",
        "So our answer is:\n",
        "\n",
        "\\begin{equation}f'(x) = 2x \\end{equation}\n",
        "\n",
        "Note that we could have achieved the same result by simply applying the power rule and transforming x<sup>2</sup> to 2x<sup>1</sup> (which is the same as 2x).\n",
        "\n",
        "### The Product Rule\n",
        "The product rule can be stated as:\n",
        "\n",
        "\\begin{equation}\\frac{d}{dx}[f(x)g(x)] = f'(x)g(x) + f(x)g'(x) \\end{equation}\n",
        "\n",
        "OK, let's break that down. What it's saying is that the derivative of *f(x)* multiplied by *g(x)* is equal to the derivative of *f(x)* multiplied by the value of *g(x)* added to the value of *f(x)* multiplied by the derivative of *g(x*).\n",
        "\n",
        "Let's see an example based on the following two functions:\n",
        "\n",
        "\\begin{equation}f(x) = 2x^{2} \\end{equation}\n",
        "\n",
        "\\begin{equation}g(x) = x + 1 \\end{equation}\n",
        "\n",
        "Let's start by calculating the derivative of *f(x)*:\n",
        "\n",
        "\\begin{equation}f'(x) = \\lim_{h \\to 0} \\frac{2(x + h)^{2} - 2x^{2}}{h} \\end{equation}\n",
        "\n",
        "This factors out to:\n",
        "\n",
        "\\begin{equation}f'(x) = \\lim_{h \\to 0} \\frac{2x^{2} + 2h^{2} + 4xh - 2x^{2}}{h} \\end{equation}\n",
        "\n",
        "Which when we cancel out the 2x<sup>2</sup> and -2x<sup>2</sup> is:\n",
        "\n",
        "\\begin{equation}f'(x) = \\lim_{h \\to 0} \\frac{2h^{2} + 4xh}{h} \\end{equation}\n",
        "\n",
        "Which simplifies to:\n",
        "\n",
        "\\begin{equation}f'(x) = \\lim_{h \\to 0} 2h + 4x \\end{equation}\n",
        "\n",
        "With *h* approaching 0, this is:\n",
        "\n",
        "\\begin{equation}f'(x) = 4x \\end{equation}\n",
        "\n",
        "Now let's look at *g'(x)*:\n",
        "\n",
        "\\begin{equation}g'(x) = \\lim_{h \\to 0} \\frac{(x + h) + 1 - (x + 1)}{h} \\end{equation}\n",
        "\n",
        "We can just remove the brackets on the left and factor out the *-(x + 1)* on the right:\n",
        "\n",
        "\\begin{equation}g'(x) = \\lim_{h \\to 0} \\frac{x + h + 1 - x - 1}{h} \\end{equation}\n",
        "\n",
        "Which can be cleaned up to:\n",
        "\n",
        "\\begin{equation}g'(x) = \\lim_{h \\to 0} \\frac{h}{h} \\end{equation}\n",
        "\n",
        "Enabling us to factor *h* out completely to give a constant derivative of *1*:\n",
        "\n",
        "\\begin{equation}g'(x) = 1 \\end{equation}\n",
        "\n",
        "So now we can calculate the derivative for the product of these functions by plugging the functions and the derivatives we've calculated for them into the product rule equation:\n",
        "\n",
        "\\begin{equation}\\frac{d}{dx}[f(x)g(x)] = f'(x)g(x) + f(x)g'(x) \\end{equation}\n",
        "\n",
        "So:\n",
        "\n",
        "\\begin{equation}\\frac{d}{dx}[f(x)g(x)] = (4x \\cdot (x + 1)) + (2x^{2} \\cdot 1) \\end{equation}\n",
        "\n",
        "Which can be simplified to:\n",
        "\n",
        "\\begin{equation}\\frac{d}{dx}[f(x)g(x)] = (4x^{2} + 4x) + 2x^{2} \\end{equation}\n",
        "\n",
        "Which can be further simplified to:\n",
        "\n",
        "\\begin{equation}\\frac{d}{dx}[f(x)g(x)] = 6x^{2} + 4x \\end{equation}"
      ]
    },
    {
      "cell_type": "markdown",
      "metadata": {
        "id": "Curs_z2ze4nf",
        "colab_type": "text"
      },
      "source": [
        "### The Quotient Rule\n",
        "The *quotient rule* applies to functions that are defined as a quotient of one expression divided by another; for example:\n",
        "\n",
        "\\begin{equation}r(x) = \\frac{s(x)}{t(x)} \\end{equation}\n",
        "\n",
        "In this situation, you can apply the following quotient rule to find the derivative of *r(x)*:\n",
        "\n",
        "\\begin{equation}r'(x) = \\frac{s'(x)t(x) - s(x)t'(x)}{[t(x)]^{2}} \\end{equation}\n",
        "\n",
        "Here are our definitions for *s(x)* and *t(x)*:\n",
        "\n",
        "\\begin{equation}s(x) = 3x^{2} \\end{equation}\n",
        "\n",
        "\\begin{equation}t(x) = 2x\\end{equation}\n",
        "\n",
        "Let's start with *s'(x)*:\n",
        "\n",
        "\\begin{equation}s'(x) = \\lim_{h \\to 0} \\frac{3(x + h)^{2} - 3x^{2}}{h} \\end{equation}\n",
        "\n",
        "This factors out to:\n",
        "\n",
        "\\begin{equation}s'(x) = \\lim_{h \\to 0} \\frac{3x^{2} + 3h^{2} + 6xh - 3x^{2}}{h} \\end{equation}\n",
        "\n",
        "Which when we cancel out the 3x<sup>2</sup> and -3x<sup>2</sup> is:\n",
        "\n",
        "\\begin{equation}s'(x) = \\lim_{h \\to 0} \\frac{3h^{2} + 6xh}{h} \\end{equation}\n",
        "\n",
        "Which simplifies to:\n",
        "\n",
        "\\begin{equation}s'(x) = \\lim_{h \\to 0} 3h + 6x \\end{equation}\n",
        "\n",
        "With *h* approaching 0, this is:\n",
        "\n",
        "\\begin{equation}s'(x) = 6x \\end{equation}\n",
        "\n",
        "Now let's look at *t'(x)*:\n",
        "\n",
        "\\begin{equation}t'(x) = \\lim_{h \\to 0} \\frac{2(x + h) - 2x}{h} \\end{equation}\n",
        "\n",
        "We can just factor out the *2(x + h)* on the left:\n",
        "\n",
        "\\begin{equation}t'(x) = \\lim_{h \\to 0} \\frac{2x + 2h - 2x}{h} \\end{equation}\n",
        "\n",
        "Which can be cleaned up to:\n",
        "\n",
        "\\begin{equation}t'(x) = \\lim_{h \\to 0} \\frac{2h}{h} \\end{equation}\n",
        "\n",
        "Enabling us to factor *h* out completely to give a constant derivative of *2*:\n",
        "\n",
        "\\begin{equation}t'(x) = 2 \\end{equation}\n",
        "\n",
        "So now we can calculate the derivative for the quotient of these functions by plugging the function definitions and the derivatives we've calculated for them into the quotient rule equation:\n",
        "\n",
        "\\begin{equation}r'(x) = \\frac{(6x \\cdot 2x) - (3x^{2} \\cdot 2)}{[2x]^{2}} \\end{equation}\n",
        "\n",
        "We can factor out the numerator terms like this:\n",
        "\n",
        "\\begin{equation}r'(x) = \\frac{12x^{2} - 6x^{2}}{[2x]^{2}} \\end{equation}\n",
        "\n",
        "Which can then be combined:\n",
        "\n",
        "\\begin{equation}r'(x) = \\frac{6x^{2}}{[2x]^{2}} \\end{equation}\n",
        "\n",
        "The denominator is [2x]<sup>2</sup> (note that this is different from 2x<sup>2</sup>. [2x]<sup>2</sup> is 2x &bull; 2x, whereas  2x<sup>2</sup> is 2 &bull; x<sup>2</sup>):\n",
        "\n",
        "\\begin{equation}r'(x) = \\frac{6x^{2}}{4x^{2}} \\end{equation}\n",
        "\n",
        "Which simplifies to:\n",
        "\n",
        "\\begin{equation}r'(x) = 1\\frac{1}{2} \\end{equation}\n",
        "\n",
        "So the derivative of *r(x)* is 1.5."
      ]
    },
    {
      "cell_type": "markdown",
      "metadata": {
        "id": "mUh2fEJXe4ng",
        "colab_type": "text"
      },
      "source": [
        "### The Chain Rule\n",
        "\n",
        "The *chain rule* takes advantage of the fact that equations can be encapsulated as functions, and since functions contain equations, it's possible to nest one function within another.\n",
        "\n",
        "For example, consider the following function:\n",
        "\n",
        "\\begin{equation}u(x) = 2x^{2} \\end{equation}\n",
        "\n",
        "We could view the definition of *u(x)* as a composite of two functions,; an *inner* function that calculates x<sup>2</sup>, and an *outer* function that multiplies the result of the inner function by 2.\n",
        "\n",
        "\\begin{equation}u(x) = \\widehat{\\color{blue}2\\color{blue}(\\underline{\\color{red}x^{\\color{red}2}}\\color{blue})} \\end{equation}\n",
        "\n",
        "To make things simpler, we can name these inner and outer functions:\n",
        "\n",
        "\\begin{equation}i(x) = x^{2} \\end{equation}\n",
        "\n",
        "\\begin{equation}o(x) = 2x \\end{equation}\n",
        "\n",
        "Note that *x* indicates the input for each function. Function *i* takes its input and squares it, and function *o* takes its input and multiplies it by 2. When we use these as a composite function, the *x* value input into the outer function will be the output from the inner function.\n",
        "\n",
        "Let's take a look at how we can apply these functions to get back to our original *u* function:\n",
        "\n",
        "\\begin{equation}u(x) = o(i(x)) \\end{equation}\n",
        "\n",
        "So first we need to find the output of the inner *i* function so we can use at as the input value for the outer *o* function. Well, that's easy, we know the definition of *i* (square the input), so we can just plug it in:\n",
        "\n",
        "\\begin{equation}u(x) = o(x^{2}) \\end{equation}\n",
        "\n",
        "We also know the definition for the outer *o* function (multiply the input by 2), so we can just apply that to the input:\n",
        "\n",
        "\\begin{equation}u(x) = 2x^{2} \\end{equation}\n",
        "\n",
        "OK, so now we know how to form a composite function. The *chain rule* can be stated like this:\n",
        "\n",
        "\\begin{equation}\\frac{d}{dx}[o(i(x))] = o'(i(x)) \\cdot i'(x)\\end{equation}\n",
        "\n",
        "Alright, let's start by plugging the output of the inner *i(x)* function in:\n",
        "\n",
        "\\begin{equation}\\frac{d}{dx}[o(i(x))] = o'(x^{2}) \\cdot i'(x)\\end{equation}\n",
        "\n",
        "Now let's use that to calculate the derivative of *o*, replacing each *x* in the equation with the output from the *i* function (*x<sup>2</sup>*):\n",
        "\n",
        "\\begin{equation}o'(x) = \\lim_{h \\to 0} \\frac{2(x^{2} + h) - 2x^{2}}{h} \\end{equation}\n",
        "\n",
        "This factors out to:\n",
        "\n",
        "\\begin{equation}o'(x) = \\lim_{h \\to 0} \\frac{2x^{2} + 2h - 2x^{2}}{h} \\end{equation}\n",
        "\n",
        "Which when we cancel out the 2x<sup>2</sup> and -2x<sup>2</sup> is:\n",
        "\n",
        "\\begin{equation}o'(x) = \\lim_{h \\to 0} \\frac{2h}{h} \\end{equation}\n",
        "\n",
        "Which simplifies to:\n",
        "\n",
        "\\begin{equation}o'(x) = 2 \\end{equation}\n",
        "\n",
        "Now we can calculate *i'(x)*. We know that the definition of *i(x)* is x<sup>2</sup>, and we can use the power rule to determine that *i'(x)* is therefore 2x.\n",
        "\n",
        "So our equation at this point is:\n",
        "\n",
        "\\begin{equation}\\frac{d}{dx}[o(i(x))] = 2 \\cdot 2x\\end{equation}\n",
        "\n",
        "Which is:\n",
        "\n",
        "\\begin{equation}\\frac{d}{dx}[o(i(x))] = 4x\\end{equation}\n",
        "\n",
        "Commonly, the chain rule is stated using a slighly different notation that you may find easier to work with. In this case, we can take our equation:\n",
        "\n",
        "\\begin{equation}\\frac{d}{dx}[o(i(x))] = o'(i(x)) \\cdot i'(x)\\end{equation}\n",
        "\n",
        "and rewrite it as \n",
        "\n",
        "\\begin{equation}\\frac{du}{dx} = \\frac{do}{di}\\frac{di}{dx}\\end{equation}\n",
        "\n",
        "We can then complete the calculations like this:\n",
        "\n",
        "\\begin{equation}\\frac{du}{dx} = 2 \\cdot 2x = 4x\\end{equation}"
      ]
    },
    {
      "cell_type": "markdown",
      "metadata": {
        "id": "-LrlPSgBgBgb",
        "colab_type": "text"
      },
      "source": [
        "## 6. Multivariate Functions and Partial Derivatives"
      ]
    },
    {
      "cell_type": "markdown",
      "metadata": {
        "id": "T8FTGxXSfnS2",
        "colab_type": "text"
      },
      "source": [
        "### Partial Derivatives\n",
        "Until now, we've considered derivatives of functions that operate on a single variable. How do we take the derivatives of a function like the following?\n",
        "\n",
        "$$f(x,y) = x^2 + y^2$$\n",
        "\n",
        "We can take a derivative of the changes in the function with respect to either x or y. We call these derivatives with respect to one variable partial derivatives. Let's give this a try by taking the derivative of $f(x,y)$ with respect to ***x***. We write this partial derivative as follows.\n",
        "\n",
        "$$\\frac{\\partial f(x,y)}{\\partial x} = \\frac{\\partial (x^2 + y^2)}{\\partial x}$$\n",
        "\n",
        "Just as ordinary derivatives give us a way to compute the rate of change of a function, partial derivatives give us a way to compute the rate of change of a function of many variables with respect to one of those variables.\n",
        "\n",
        "Since $f(x,y)$ is the sum of several simpler functions we need to take the partial derivative of each of these and sum the result. The first two parts are easy.\n",
        "\n",
        "$$\\frac{\\partial x^2}{\\partial x} = 2x$$\n",
        "\n",
        "Notice that we are following the usual rules of differentiation for any function of ***x*** here. \n",
        "\n",
        "Now we need to take the partial derivative of the last part of $f(x,y)$, which does not depend on ***x*** at all. In these care we get the following.\n",
        "\n",
        "$$\\frac{\\partial y^2}{\\partial x} = 0$$\n",
        "\n",
        "Now we can add up the parts to get the complete partail derivative of $f(x,y)$.\n",
        "\n",
        "$$\\frac{\\partial f(x,y)}{\\partial x} = 2x + 0 = 2x$$"
      ]
    },
    {
      "cell_type": "markdown",
      "metadata": {
        "id": "z12ZWyZUfnS3",
        "colab_type": "text"
      },
      "source": [
        "We can also take the partial derivative of $f(x,y)$ with respect to ***y***. The process proceeds in the following manner.\n",
        "\n",
        "$$\\frac{\\partial f(x,y)}{\\partial y} = 0 + 2y = 2y$$"
      ]
    },
    {
      "cell_type": "markdown",
      "metadata": {
        "collapsed": true,
        "id": "qez2rlGEfnS4",
        "colab_type": "text"
      },
      "source": [
        "### Computing a Gradient\n",
        "\n",
        "At this point, you may well ask what is the point of computing partial derivatives? Yes, they are a nifty math trick, but what are they good for? It turns out that partial derivatives are important if you want to find the analog of the slope for multi-dimensonal surfaces. We call this quantity the **gradient**. \n",
        "\n",
        "Recall that you can find minimum and maximum of curves using derivatives. In the same way, you can find the minimum and maximum of surfaces by following the gradiennt and finding the points were the gradient is zero in all directions. "
      ]
    },
    {
      "cell_type": "markdown",
      "metadata": {
        "id": "90bJRN8HfnS5",
        "colab_type": "text"
      },
      "source": [
        "You have already examined the partial derivatives of the function, $f(x,y) = x^2 + y^2$. These partial derivatives are:\n",
        "\n",
        "$$\\frac{\\partial f(x,y)}{\\partial x} = 2x \\\\\n",
        "\\frac{\\partial f(x,y)}{\\partial y} = 2y$$\n",
        "\n",
        "In this case, the gradient is a 2-dimensional vector of the change of the function in the $x$ direction and the change in the function in the $y$ direction. This vector can be written as follows:\n",
        "\n",
        "$$grad(f(x,y)) =  \\vec{g(x,y)} = \\begin{bmatrix}\\frac{\\partial f(x,y)}{\\partial x} \\\\ \\frac{\\partial f(x,y)}{\\partial y} \\end{bmatrix} = \\begin{bmatrix}2x \\\\ 2y \\end{bmatrix} $$"
      ]
    },
    {
      "cell_type": "markdown",
      "metadata": {
        "id": "jiooR_V0fnS5",
        "colab_type": "text"
      },
      "source": [
        "### Plotting the Gradient\n",
        "\n",
        "A plot will help you get feel for the meaning of the gradient. The code below plots the gradient of the function $f(x,y) = x^2 + y^2$ along with contours of the value of the function. Run this code and examine the plot.  "
      ]
    },
    {
      "cell_type": "code",
      "metadata": {
        "scrolled": false,
        "id": "8Pd2ZUkQfnS6",
        "colab_type": "code",
        "colab": {}
      },
      "source": [
        "%matplotlib inline\n",
        "import matplotlib.pyplot as plt\n",
        "import numpy as np\n",
        "import math\n",
        "\n",
        "## Create a uniform grid\n",
        "el = np.arange(-5,6)\n",
        "nx, ny = np.meshgrid(el, el, sparse=False, indexing='ij')\n",
        "\n",
        "## flatten the gird to 1-d and compute the value of the function z\n",
        "x_coord = []\n",
        "y_coord = []\n",
        "z = []\n",
        "for i in range(11):  \n",
        "    for j in range(11):\n",
        "        x_coord.append(float(-nx[i,j]))\n",
        "        y_coord.append(float(-ny[i,j]))       \n",
        "        z.append(nx[i,j]**2 + ny[i,j]**2)\n",
        "\n",
        "## perform vector arithmetic to get the x and y gradients        \n",
        "x_grad = [-2 * x for x in x_coord]\n",
        "y_grad = [-2 * y for y in y_coord] \n",
        "\n",
        "## Plot the arrows using  width for gradient\n",
        "plt.xlim(-5.5,5.5)\n",
        "plt.ylim(-5.5,5.5)\n",
        "for x, y, xg, yg in zip(list(x_coord), list(y_coord), list(x_grad), list(y_grad)):\n",
        "    if x != 0.0 or y != 0.0: ## Avoid the zero divide when scaling the arrow\n",
        "        l = math.sqrt(xg**2 + yg**2)/2.0\n",
        "        plt.quiver(x, y, xg, yg, width = l, units = 'dots')\n",
        "\n",
        "## Plot the countours of the function surface\n",
        "z = np.array(z).reshape(11,11)    \n",
        "plt.contour(el, el, z)    "
      ],
      "execution_count": 0,
      "outputs": []
    },
    {
      "cell_type": "markdown",
      "metadata": {
        "collapsed": true,
        "id": "2jwdfwDifnS-",
        "colab_type": "text"
      },
      "source": [
        "Notice the following properties of this plot. \n",
        "- The arrows in the plot point in the direction of the gradient.\n",
        "- The width of the arrows is proportional to the value of the gradient. The width of the arrows and the **gradient decreases as function gets closer to the minimum**. If this is the case everywhere, you can say that a function is **convex**. It is always much easier to find minimum of convex functions.  \n",
        "- The **direction of the gradient is always perpendicular to the contours**. This is an important property of multivariate functions. \n",
        "\n",
        "### Using the gradient\n",
        "\n",
        "So, what is all this good for? Say that you want to find the minimum of the function $f(x,y) = x^2 + y^2$. It is easy to see that the minimum of this function is at $x = 0$ and $y = 0$. But, what if you did not know this solution? Then you could do the following:\n",
        "\n",
        "1. Take some starting guess.\n",
        "2. Compute the  gradient.\n",
        "3. take a small step in the direction of the gradient.\n",
        "4. Determine if the gradient is close to zero. If so, then stop, since the gradient will be zero at the minimum.\n",
        "5. Repeate steps 2, 3 and 4. \n",
        "\n",
        "The algorithm outlined above is called the **gradient decent method**. It is the basis of many real-world minimization algorithms. "
      ]
    },
    {
      "cell_type": "markdown",
      "metadata": {
        "id": "Ieks4WYqhWwe",
        "colab_type": "text"
      },
      "source": [
        "## 7. Critical Points and Optimization\n"
      ]
    },
    {
      "cell_type": "markdown",
      "metadata": {
        "id": "R_vYRyxVhTol",
        "colab_type": "text"
      },
      "source": [
        "We've explored various techniques that we can use to calculate the derivative of a function at a specific *x* value; in other words, we can determine the *slope* of the line created by the function at any point on the line.\n",
        "\n",
        "This ability to calculate the slope means that we can use derivatives to determine some interesting properties of the function.\n",
        "\n",
        "### Function Direction at a Point\n",
        "Consider the following function, which represents the trajectory of a ball that has been kicked on a football field:\n",
        "\n",
        "\\begin{equation}k(x) = -10x^{2} + 100x + 3 \\end{equation}\n",
        "\n",
        "Run the Python code below to graph this function and see the trajectory of the ball over a period of 10 seconds."
      ]
    },
    {
      "cell_type": "code",
      "metadata": {
        "scrolled": false,
        "id": "C6jryrjHhTon",
        "colab_type": "code",
        "colab": {}
      },
      "source": [
        "%matplotlib inline\n",
        "\n",
        "# Create function k\n",
        "def k(x):\n",
        "    return -10*(x**2) + (100*x)  + 3\n",
        "\n",
        "from matplotlib import pyplot as plt\n",
        "\n",
        "# Create an array of x values to plot\n",
        "x = list(range(0, 11))\n",
        "\n",
        "# Use the function to get the y values\n",
        "y = [k(i) for i in x]\n",
        "\n",
        "# Set up the graph\n",
        "plt.xlabel('x (time in seconds)')\n",
        "plt.ylabel('k(x) (height in feet)')\n",
        "plt.xticks(range(0,15, 1))\n",
        "plt.yticks(range(-200, 500, 20))\n",
        "plt.grid()\n",
        "\n",
        "# Plot the function\n",
        "plt.plot(x,y, color='green')\n",
        "\n",
        "plt.show()"
      ],
      "execution_count": 0,
      "outputs": []
    },
    {
      "cell_type": "markdown",
      "metadata": {
        "id": "8f2dDiq-hTos",
        "colab_type": "text"
      },
      "source": [
        "By looking at the graph of this function, you can see that it describes a parabola in which the ball rose in height before falling back to the ground. On the graph, it's fairly easy to see when the ball was rising and when it was falling.\n",
        "\n",
        "Of course, we can also use  derivative to determine the slope of the function at any point. We can apply some of the rules we've discussed previously to determine the derivative function:\n",
        "\n",
        "- We can add together the derivatives of the individual terms (***-10x<sup>2</sup>***, ***100x***, and ***3***) to find the derivative of the entire function.\n",
        "- The *power* rule tells us that the derivative of ***-10x<sup>2</sup>*** is ***-10 &bull; 2x***, which is ***-20x***.\n",
        "- The *power* rule also tells us that the derivative of ***100x*** is ***100***.\n",
        "- The derivative of any constant, such as ***3*** is ***0***.\n",
        "\n",
        "So:\n",
        "\n",
        "\\begin{equation}k'(x) = -20x + 100 + 0 \\end{equation}\n",
        "\n",
        "Which of course simplifies to:\n",
        "\n",
        "\\begin{equation}k'(x) = -20x + 100 \\end{equation}\n",
        "\n",
        "Now we can use this derivative function to find the slope for any value of ***x***.\n",
        "\n",
        "Run the cell below to see a graph of the function and its derivative function:"
      ]
    },
    {
      "cell_type": "code",
      "metadata": {
        "scrolled": false,
        "id": "LeqN_UrzhTot",
        "colab_type": "code",
        "colab": {}
      },
      "source": [
        "%matplotlib inline\n",
        "\n",
        "# Create function k\n",
        "def k(x):\n",
        "    return -10*(x**2) + (100*x)  + 3\n",
        "\n",
        "def kd(x):\n",
        "    return -20*x + 100\n",
        "\n",
        "from matplotlib import pyplot as plt\n",
        "\n",
        "# Create an array of x values to plot\n",
        "x = list(range(0, 11))\n",
        "\n",
        "# Use the function to get the y values\n",
        "y = [k(i) for i in x]\n",
        "\n",
        "# Use the derivative function to get the derivative values\n",
        "yd = [kd(i) for i in x]\n",
        "\n",
        "# Set up the graph\n",
        "plt.xlabel('x (time in seconds)')\n",
        "plt.ylabel('k(x) (height in feet)')\n",
        "plt.xticks(range(0,15, 1))\n",
        "plt.yticks(range(-200, 500, 20))\n",
        "plt.grid()\n",
        "\n",
        "# Plot the function\n",
        "plt.plot(x,y, color='green')\n",
        "\n",
        "# Plot the derivative\n",
        "plt.plot(x,yd, color='purple')\n",
        "\n",
        "plt.show()"
      ],
      "execution_count": 0,
      "outputs": []
    },
    {
      "cell_type": "markdown",
      "metadata": {
        "id": "RDk5xmtahTox",
        "colab_type": "text"
      },
      "source": [
        "Look closely at the purple line representing the derivative function, and note that it is a constant  decreasing value - in other words, the slope of the function is reducing linearly as x increases. Even though the function value itself is increasing for the first half of the parabola (while the ball is rising), the slope is becoming less steep (the ball is not rising at such a high rate), until finally the ball reaches its apogee and the slope becomes negative (the ball begins falling).\n",
        "\n",
        "Note also that the point where the derivative line crosses 0 on the y-axis is also the point where the function value stops increasing and starts decreasing. When the slope has a positive value, the function is increasing; and when the slope has a negative value, the function is decreasing.\n",
        "\n",
        "The fact that the derivative line crosses 0 at the highest point of the function makes sense if you think about it logically. If you were to draw the tangent line representing the slope at each point, it would be rotating clockwise throughout the graph, initially pointing up and to the right as the ball rises, and turning until it is pointing down and right as the ball falls. At the highest point, the tangent line would be perfectly horizontal, representing a slope of 0.\n",
        "\n",
        "Run the following code to visualize this:"
      ]
    },
    {
      "cell_type": "code",
      "metadata": {
        "scrolled": false,
        "id": "4GdC0HnqhToy",
        "colab_type": "code",
        "colab": {}
      },
      "source": [
        "%matplotlib inline\n",
        "\n",
        "# Create function k\n",
        "def k(x):\n",
        "    return -10*(x**2) + (100*x)  + 3\n",
        "\n",
        "def kd(x):\n",
        "    return -20*x + 100\n",
        "\n",
        "from matplotlib import pyplot as plt\n",
        "\n",
        "# Create an array of x values to plot\n",
        "x = list(range(0, 11))\n",
        "\n",
        "# Use the function to get the y values\n",
        "y = [k(i) for i in x]\n",
        "\n",
        "# Use the derivative function to get the derivative values\n",
        "yd = [kd(i) for i in x]\n",
        "\n",
        "# Set up the graph\n",
        "plt.xlabel('x (time in seconds)')\n",
        "plt.ylabel('k(x) (height in feet)')\n",
        "plt.xticks(range(0,15, 1))\n",
        "plt.yticks(range(-200, 500, 20))\n",
        "plt.grid()\n",
        "\n",
        "# Plot the function\n",
        "plt.plot(x,y, color='green')\n",
        "\n",
        "# Plot the derivative\n",
        "plt.plot(x,yd, color='purple')\n",
        "\n",
        "# Plot tangent slopes for x = 2, 5, and 8\n",
        "x1 = 2\n",
        "x2 = 5\n",
        "x3 = 8\n",
        "plt.plot([x1-1,x1+1],[k(x1)-(kd(x1)),k(x1)+(kd(x1))], color='red')\n",
        "plt.plot([x2-1,x2+1],[k(x2)-(kd(x2)),k(x2)+(kd(x2))], color='red')\n",
        "plt.plot([x3-1,x3+1],[k(x3)-(kd(x3)),k(x3)+(kd(x3))], color='red')\n",
        "\n",
        "plt.show()"
      ],
      "execution_count": 0,
      "outputs": []
    },
    {
      "cell_type": "markdown",
      "metadata": {
        "id": "nynoxFYOhTo2",
        "colab_type": "text"
      },
      "source": [
        "Now consider the following function, which represents the number of flowers growing in a flower bed before and after the spraying of a fertilizer:\n",
        "\n",
        "\\begin{equation}w(x) = x^{2} + 2x + 7 \\end{equation}"
      ]
    },
    {
      "cell_type": "code",
      "metadata": {
        "scrolled": false,
        "id": "IjVkefuUhTo3",
        "colab_type": "code",
        "colab": {}
      },
      "source": [
        "%matplotlib inline\n",
        "\n",
        "# Create function w\n",
        "def w(x):\n",
        "    return (x**2) + (2*x) + 7\n",
        "\n",
        "def wd(x):\n",
        "    return 2*x + 2\n",
        "\n",
        "from matplotlib import pyplot as plt\n",
        "\n",
        "# Create an array of x values to plot\n",
        "x = list(range(-10, 11))\n",
        "\n",
        "# Use the function to get the y values\n",
        "y = [w(i) for i in x]\n",
        "\n",
        "# Use the derivative function to get the derivative values\n",
        "yd = [wd(i) for i in x]\n",
        "\n",
        "# Set up the graph\n",
        "plt.xlabel('x (time in days)')\n",
        "plt.ylabel('w(x) (flowers)')\n",
        "plt.xticks(range(-10,15, 1))\n",
        "plt.yticks(range(-200, 500, 20))\n",
        "plt.grid()\n",
        "\n",
        "# Plot the function\n",
        "plt.plot(x,y, color='green')\n",
        "\n",
        "# Plot the derivative\n",
        "plt.plot(x,yd, color='purple')\n",
        "\n",
        "plt.show()"
      ],
      "execution_count": 0,
      "outputs": []
    },
    {
      "cell_type": "markdown",
      "metadata": {
        "id": "Lbp-Q2gChTo6",
        "colab_type": "text"
      },
      "source": [
        "Note that the green line represents the function, showing the number of flowers for 10 days before and after the fertilizer treatment. Before treatment, the number of flowers was in decline, and after treatment the flower bed started to recover.\n",
        "\n",
        "The derivative function is shown in purple, and once again shows a linear change in slope. This time, the slope is increasing at a constant rate; and once again, the derivative function line crosses 0 at the lowest point in the function line (in other words, the slope changed from negative to positive when the flowers started to recover)."
      ]
    },
    {
      "cell_type": "markdown",
      "metadata": {
        "id": "CwBTTHBphTo7",
        "colab_type": "text"
      },
      "source": [
        "### Critical Points\n",
        "From what we've seen so far, it seems that there is a relationship between a function reaching an extreme value (a maximum or a minimum), and a derivative value of 0. This makes intuitive sense; the derivative represents the slope of the line, so when a function changes from a negative slope to a positive slope, or vice-versa, the derivative must pass through 0.\n",
        "\n",
        "However, you need to be careful not to assume that just because the derivative is 0 at a given point, that this point represents the minimum or maximum of the function. For example, consider the following function:\n",
        "\n",
        "\\begin{equation}v(x) = x^{3} - 2x + 100 \\end{equation}\n",
        "\n",
        "Run the following Python code to visualize this function and its corresponding derivative function:"
      ]
    },
    {
      "cell_type": "code",
      "metadata": {
        "scrolled": false,
        "id": "CpazLxARhTo7",
        "colab_type": "code",
        "colab": {}
      },
      "source": [
        "%matplotlib inline\n",
        "\n",
        "# Create function v\n",
        "def v(x):\n",
        "    return (x**3) - (2*x) + 100\n",
        "\n",
        "def vd(x):\n",
        "    return 3*(x**2) - 2\n",
        "\n",
        "from matplotlib import pyplot as plt\n",
        "\n",
        "# Create an array of x values to plot\n",
        "x = list(range(-10, 11))\n",
        "\n",
        "# Use the function to get the y values\n",
        "y = [v(i) for i in x]\n",
        "\n",
        "# Use the derivative function to get the derivative values\n",
        "yd = [vd(i) for i in x]\n",
        "\n",
        "# Set up the graph\n",
        "plt.xlabel('x')\n",
        "plt.ylabel('v(x)')\n",
        "plt.xticks(range(-10,15, 1))\n",
        "plt.yticks(range(-1000, 2000, 100))\n",
        "plt.grid()\n",
        "\n",
        "# Plot the function\n",
        "plt.plot(x,y, color='green')\n",
        "\n",
        "# Plot the derivative\n",
        "plt.plot(x,yd, color='purple')\n",
        "\n",
        "plt.show()"
      ],
      "execution_count": 0,
      "outputs": []
    },
    {
      "cell_type": "markdown",
      "metadata": {
        "id": "LrdEBcFThTo-",
        "colab_type": "text"
      },
      "source": [
        "Note that in this case, the purple derivative function line passes through 0 as the green function line transitions from a *concave downwards* slope (a slope that is decreasing) to a *concave upwards* slope (a slope that is increasing). The slope flattens out to 0, forming a \"saddle\" before the it starts increasing.\n",
        "\n",
        "What we can learn from this is that interesting things seem to happen to the function when the derivative is 0. We call points where the derivative crosses 0 *critical points*, because they indicate that the function is changing direction. When a function changes direction from positive to negative, it forms a peak (or a *local maximum*), when the function changes direction from negative to positive it forms a trough (or *local minimum*), and when it maintains the same overall direction but changes the concavity of the slope it creates an *inflexion point*."
      ]
    },
    {
      "cell_type": "markdown",
      "metadata": {
        "id": "Fg22wrEthTpA",
        "colab_type": "text"
      },
      "source": [
        "### Finding Minima and Maxima\n",
        "A common use of calculus is to find minimum and maximum points in a function. For example, we might want to find out how many seconds it took for the kicked football to reach its maximum height, or how long it took for our fertilizer to be effective in reversing the decline of flower growth.\n",
        "\n",
        "We've seen that when a function changes direction to create a maximum peak or a minimum trough, the derivative of the function is 0, so a step towards finding these extreme points might be to simply find all of the points in the function where the derivative is 0. For example, here's our function for the kicked football:\n",
        "\n",
        "\\begin{equation}k(x) = -10x^{2} + 100x + 3 \\end{equation}\n",
        "\n",
        "From this, we've calculated the function for the derivative as:\n",
        "\n",
        "\\begin{equation}k'(x) = -20x + 100 \\end{equation}\n",
        "\n",
        "We can then solve the derivative equation for an f'(x) value of 0:\n",
        "\n",
        "\\begin{equation}-20x + 100 = 0 \\end{equation}\n",
        "\n",
        "We can remove the constant by subtracting 100 to both sides:\n",
        "\n",
        "\\begin{equation}-20x = -100 \\end{equation}\n",
        "\n",
        "Multiplying both sides by -1 gets rid of the negative values (this isn't strictly necessary, but makes the equation a little less confusing)\n",
        "\n",
        "\\begin{equation}20x = 100 \\end{equation}\n",
        "\n",
        "So:\n",
        "\n",
        "\\begin{equation}x = 5 \\end{equation}\n",
        "\n",
        "So we know that the derivative will be 0 when *x* is 5, but is this a minimum, a maximum, or neither? It could just be an inflexion point, or the entire function could be a constant value with a slope of 0) Without looking at the graph, it's difficult to tell.\n",
        "\n",
        "## Second Order Derivatives\n",
        "The solution to our problem is to find the derivative of the derivative! Until now, we've found the derivative of a function, and indicated it as ***f'(x)***. Technically, this is known as the *prime* derivative; and it describes the slope of the function. Since the derivative function is itself a function, we can find its derivative, which we call the *second order* (or sometimes just *second*) derivative. This is indicated like this: ***f''(x)***.\n",
        "\n",
        "So, here's our function for the kicked football:\n",
        "\n",
        "\\begin{equation}k(x) = -10x^{2} + 100x + 3 \\end{equation}\n",
        "\n",
        "Here's the function for the prime derivative:\n",
        "\n",
        "\\begin{equation}k'(x) = -20x + 100 \\end{equation}\n",
        "\n",
        "And using a combination of the power rule and the constant rule, here's the function for the second derivative:\n",
        "\n",
        "\\begin{equation}k''(x) = -20 \\end{equation}\n",
        "\n",
        "Now, without even drawing the graph, we can see that the second derivative has a constant value; so we know that the slope of the prime derivative is linear; and because it's a negative value, we know that it is decreasing. So when the prime derivative crosses 0, it we know that the slope of the function is decreasing linearly; so the point at *x=0* must be a maximum point.\n",
        "\n",
        "Run the following code to plot the function, the prime derivative, and the second derivative for the kicked ball:"
      ]
    },
    {
      "cell_type": "code",
      "metadata": {
        "scrolled": false,
        "id": "xMjDst_4hTpA",
        "colab_type": "code",
        "colab": {}
      },
      "source": [
        "%matplotlib inline\n",
        "\n",
        "# Create function k\n",
        "def k(x):\n",
        "    return -10*(x**2) + (100*x)  + 3\n",
        "\n",
        "def kd(x):\n",
        "    return -20*x + 100\n",
        "\n",
        "def k2d(x):\n",
        "    return -20\n",
        "\n",
        "from matplotlib import pyplot as plt\n",
        "\n",
        "# Create an array of x values to plot\n",
        "x = list(range(0, 11))\n",
        "\n",
        "# Use the function to get the y values\n",
        "y = [k(i) for i in x]\n",
        "\n",
        "# Use the derivative function to get the k'(x) values\n",
        "yd = [kd(i) for i in x]\n",
        "\n",
        "# Use the 2-derivative function to get the k''(x)\n",
        "y2d = [k2d(i) for i in x]\n",
        "\n",
        "# Set up the graph\n",
        "plt.xlabel('x (time in seconds)')\n",
        "plt.ylabel('k(x) (height in feet)')\n",
        "plt.xticks(range(0,15, 1))\n",
        "plt.yticks(range(-200, 500, 20))\n",
        "plt.grid()\n",
        "\n",
        "# Plot the function\n",
        "plt.plot(x,y, color='green')\n",
        "\n",
        "# Plot  k'(x)\n",
        "plt.plot(x,yd, color='purple')\n",
        "\n",
        "# Plot k''(x)\n",
        "plt.plot(x,y2d, color='magenta')\n",
        "\n",
        "plt.show()"
      ],
      "execution_count": 0,
      "outputs": []
    },
    {
      "cell_type": "markdown",
      "metadata": {
        "id": "SY8TkQaOhTpE",
        "colab_type": "text"
      },
      "source": [
        "Let's take the same approach for the flower bed problem. Here's the function:\n",
        "\n",
        "\\begin{equation}w(x) = x^{2} + 2x + 7 \\end{equation}\n",
        "\n",
        "Using the power rule and constant rule, gives us the prime derivative function:\n",
        "\n",
        "\\begin{equation}w'(x) = 2x + 2 \\end{equation}\n",
        "\n",
        "Applying the power rule and constant rule to the prime derivative function gives us the second derivative function:\n",
        "\n",
        "\\begin{equation}w''(x) = 2 \\end{equation}\n",
        "\n",
        "Note that this time, the second derivative is a positive constant, so the prime derivative (which is the slope of the function) is increasing linearly. The point where the prime derivative crosses 0 must therefore be a minimum. Let's run the code below to check:"
      ]
    },
    {
      "cell_type": "code",
      "metadata": {
        "scrolled": false,
        "id": "9zSDWi0zhTpE",
        "colab_type": "code",
        "colab": {}
      },
      "source": [
        "%matplotlib inline\n",
        "\n",
        "# Create function w\n",
        "def w(x):\n",
        "    return (x**2) + (2*x) + 7\n",
        "\n",
        "def wd(x):\n",
        "    return 2*x + 2\n",
        "\n",
        "def w2d(x):\n",
        "    return 2\n",
        "\n",
        "from matplotlib import pyplot as plt\n",
        "\n",
        "# Create an array of x values to plot\n",
        "x = list(range(-10, 11))\n",
        "\n",
        "# Use the function to get the y values\n",
        "y = [w(i) for i in x]\n",
        "\n",
        "# Use the derivative function to get the w'(x) values\n",
        "yd = [wd(i) for i in x]\n",
        "\n",
        "# Use the 2-derivative function to get the w''(x) values\n",
        "y2d = [w2d(i) for i in x]\n",
        "\n",
        "# Set up the graph\n",
        "plt.xlabel('x (time in days)')\n",
        "plt.ylabel('w(x) (flowers)')\n",
        "plt.xticks(range(-10,15, 1))\n",
        "plt.yticks(range(-200, 500, 20))\n",
        "plt.grid()\n",
        "\n",
        "# Plot the function\n",
        "plt.plot(x,y, color='green')\n",
        "\n",
        "# Plot w'(x)\n",
        "plt.plot(x,yd, color='purple')\n",
        "\n",
        "# Plot w''(x)\n",
        "plt.plot(x,y2d, color='magenta')\n",
        "\n",
        "plt.show()"
      ],
      "execution_count": 0,
      "outputs": []
    },
    {
      "cell_type": "markdown",
      "metadata": {
        "id": "MvNsb1fdhTpH",
        "colab_type": "text"
      },
      "source": [
        "### Critical Points that are *Not* Maxima or Minima\n",
        "Of course, it's possible for a function to form a \"saddle\" where the prime derivative is zero at a point that is not a minimum or maximum. Here's an example of a function like this:\n",
        " \n",
        "\\begin{equation}v(x) = x^{3} - 6x^{2} + 12x + 2 \\end{equation}\n",
        "\n",
        "And here's its prime derivative:\n",
        " \n",
        "\\begin{equation}v'(x) = 3x^{2} - 12x + 12 \\end{equation}\n",
        " \n",
        "Let's find a critical point where v'(x) = 0\n",
        " \n",
        "\\begin{equation}3x^{2} - 12x + 12 = 0 \\end{equation}\n",
        "\n",
        "Factor the x-terms\n",
        " \n",
        "\\begin{equation}3x(x - 4) = 12 \\end{equation}\n",
        "\n",
        "Divide both sides by 3:\n",
        "\n",
        "\\begin{equation}x(x - 4) = 4 \\end{equation}\n",
        "\n",
        "Factor the x terms back again\n",
        "\n",
        "\\begin{equation}x^{2} - 4x = 4 \\end{equation}\n",
        "\n",
        "Complete the square, step 1\n",
        "\n",
        "\\begin{equation}x^{2} - 4x + 4 = 0 \\end{equation}\n",
        "\n",
        "Complete the square, step 2\n",
        "\n",
        "\\begin{equation}(x - 2)^{2} = 0 \\end{equation}\n",
        "\n",
        "Find the square root:\n",
        "\n",
        "\\begin{equation}x - 2 = \\pm\\sqrt{0}\\end{equation}\n",
        "\n",
        "\\begin{equation}x - 2 = +\\sqrt{0} = 0, -\\sqrt{0} = 0\\end{equation}\n",
        "\n",
        "v'(2) = 0 (only touches 0 once)\n",
        "\n",
        "Is it a maximum or minimum? Let's find the second derivative:\n",
        "\n",
        "\\begin{equation}v''(x) = 6x - 12\\end{equation}\n",
        "\n",
        "So\n",
        "\n",
        "\\begin{equation}v''(2) = 0\\end{equation}\n",
        "\n",
        "So it's neither negative or positive, so it's not a maximum or minimum."
      ]
    },
    {
      "cell_type": "code",
      "metadata": {
        "scrolled": false,
        "id": "BaJ9qLZ1hTpI",
        "colab_type": "code",
        "colab": {}
      },
      "source": [
        "%matplotlib inline\n",
        "\n",
        "# Create function v\n",
        "def v(x):\n",
        "    return (x**3) - (6*(x**2)) + (12*x) + 2\n",
        "\n",
        "def vd(x):\n",
        "    return (3*(x**2)) - (12*x) + 12\n",
        "\n",
        "def v2d(x):\n",
        "    return (3*(2*x)) - 12\n",
        "\n",
        "from matplotlib import pyplot as plt\n",
        "\n",
        "# Create an array of x values to plot\n",
        "x = list(range(-5, 11))\n",
        "\n",
        "# Use the function to get the y values\n",
        "y = [v(i) for i in x]\n",
        "\n",
        "# Use the derivative function to get the derivative values\n",
        "yd = [vd(i) for i in x]\n",
        "\n",
        "# Use the derivative function to get the derivative values\n",
        "y2d = [v2d(i) for i in x]\n",
        "\n",
        "# Set up the graph\n",
        "plt.xlabel('x')\n",
        "plt.ylabel('v(x)')\n",
        "plt.xticks(range(-10,15, 1))\n",
        "plt.yticks(range(-2000, 2000, 50))\n",
        "plt.grid()\n",
        "\n",
        "# Plot the function\n",
        "plt.plot(x,y, color='green')\n",
        "\n",
        "# Plot the derivative\n",
        "plt.plot(x,yd, color='purple')\n",
        "\n",
        "# Plot the derivative\n",
        "plt.plot(x,y2d, color='magenta')\n",
        "\n",
        "plt.show()\n",
        "\n",
        "print (\"v(2) = \" + str(v(2)))\n",
        "\n",
        "print (\"v'(2) = \" + str(vd(2)))\n",
        "\n",
        "print (\"v''(2) = \" + str(v2d(2)))\n"
      ],
      "execution_count": 0,
      "outputs": []
    },
    {
      "cell_type": "markdown",
      "metadata": {
        "id": "YD0mP5CmhTpL",
        "colab_type": "text"
      },
      "source": [
        "### Optimization\n",
        "The ability to use derivatives to find minima and maxima of a function makes it a useful tool for scenarios where you need to optimize a function for a specific variable.\n",
        "\n",
        "### Defining Functions to be Optimized\n",
        "For example, suppose you have decided to build an online video service that is based on a subscription model. You plan to charge a monthly subscription fee, and you want to make the most revenue possible. The problem is that customers are price-sensitive, so if you set the monthly fee too high, you'll deter some customers from signing up. Conversely, if you set the fee too low, you may get more customers, but at the cost of reduced revenue.\n",
        "\n",
        "What you need is some kind of function that will tell you how many subscriptions you might expect to get based on a given fee. So you've done some research, and found a formula to indicate that the expected subscription volume (in thousands) can be calculated as 5-times the monthly fee subtracted from 100; or expressed as a function:\n",
        "\n",
        "\\begin{equation}s(x) = -5x + 100\\end{equation}\n",
        "\n",
        "What you actually want to optimize is monthly revenue, which is simply the number of subscribers multiplied by the fee:\n",
        "\n",
        "\\begin{equation}r(x) = s(x) \\cdot x\\end{equation}\n",
        "\n",
        "We can combine ***s(x)*** into ***r(x)*** like this:\n",
        "\n",
        "\\begin{equation}r(x) = -5x^{2} + 100x\\end{equation}\n",
        "\n",
        "### Finding the Prime Derivative\n",
        "The function ***r(x)*** will return the expected monthly revenue (in thousands) for any proposed fee (*x*). What we need to do now is to find the fee that yields the maximum revenue. Fortunately, we can use a derivative to do that.\n",
        "\n",
        "First, we need to determine the prime derivative of ***r(x)***, and we can do that easily using the power rule:\n",
        "\n",
        "\\begin{equation}r'(x) = 2 \\cdot -5x + 100\\end{equation}\n",
        "\n",
        "Which is:\n",
        "\n",
        "\\begin{equation}r'(x) = -10x + 100\\end{equation}\n",
        "\n",
        "### Find Critical Points\n",
        "Now we need to find any critical points where the derivative is 0, as this could indicate a maximum:\n",
        "\n",
        "\\begin{equation}-10x + 100 = 0\\end{equation}\n",
        "\n",
        "Let's isolate the *x* term:\n",
        "\n",
        "\\begin{equation}-10x = -100\\end{equation}\n",
        "\n",
        "Both sides are negative, so we can mulitply both by -1 to make them positive without affecting the equation:\n",
        "\n",
        "\\begin{equation}10x = 100\\end{equation}\n",
        "\n",
        "Now we can divide both sides by 10 to isolate *x*:\n",
        "\n",
        "\\begin{equation}x = \\frac{100}{10}\\end{equation}\n",
        "\n",
        "So:\n",
        "\n",
        "\\begin{equation}x = 10\\end{equation}\n",
        "\n",
        "#### Check for a Maximum\n",
        "We now know that with an *x* value of of **10**, the derivative is 0; or put another way, when the fee is 10, the slope indicating the change in subscription volume is flat. This could potentially be a point where the change in subscription volume has peaked (in other words, a maximum); but it could also be a minimum or just an inflexion point where the rate of change transitions from negative to positive.\n",
        "\n",
        "To be sure, we can check the second order derivative. We can calculate this by applying the power rule to the prime derivative:\n",
        "\n",
        "\\begin{equation}r''(x) = -10\\end{equation}\n",
        "\n",
        "Note that the second derivative is a constant with a negative value. It will be the same for any point, including our critical point at *x=10*:\n",
        "\n",
        "\\begin{equation}r''(10) = -10\\end{equation}\n",
        "\n",
        "A negative value for the second derivative tells us that the derivative slope is moving in a negative direction at the point where it is 0, so the function value must be at a maximum.\n",
        "\n",
        "In other words, the optimal monthly fee for our online video service is 10 - this will generate the maximum monthly revenue.\n",
        "\n",
        "Run the code below to show the function ***r(x)*** as a graph, and verify that the maximum point is at x = 10."
      ]
    },
    {
      "cell_type": "code",
      "metadata": {
        "scrolled": false,
        "id": "j7K2HJldhTpM",
        "colab_type": "code",
        "colab": {}
      },
      "source": [
        "%matplotlib inline\n",
        "\n",
        "# Create function s\n",
        "def s(x):\n",
        "    return (-5*x) + 100\n",
        "\n",
        "# Create function r\n",
        "def r(x):\n",
        "    return s(x) * x\n",
        "\n",
        "from matplotlib import pyplot as plt\n",
        "\n",
        "# Create an array of x values to plot\n",
        "x = list(range(0, 21))\n",
        "\n",
        "# Use the function to get the y values\n",
        "y = [r(i) for i in x]\n",
        "\n",
        "# Set up the graph\n",
        "plt.xlabel('x (monthly fee)')\n",
        "plt.ylabel('r(x) (revenue in $,000)')\n",
        "plt.xticks(range(0,22, 1))\n",
        "plt.yticks(range(0, 600, 50))\n",
        "plt.grid()\n",
        "\n",
        "# Plot the function\n",
        "plt.plot(x,y, color='green')\n",
        "\n",
        "plt.show()"
      ],
      "execution_count": 0,
      "outputs": []
    },
    {
      "cell_type": "markdown",
      "metadata": {
        "id": "V2IKfk8miQsa",
        "colab_type": "text"
      },
      "source": [
        "## 8. Vectors"
      ]
    },
    {
      "cell_type": "markdown",
      "metadata": {
        "id": "dpTKy3UUiL3E",
        "colab_type": "text"
      },
      "source": [
        "Vectors, and vector spaces, are fundamental to *linear algebra*, and they're used in many machine learning models. Vectors describe spatial lines and planes, enabling you to perform calculations that explore relationships in multi-dimensional space.\n",
        "\n",
        "### What is a Vector\n",
        "At its simplest, a vector is a numeric element that has both *magnitude* and *direction*. The magnitude represents a distance (for example, \"2 miles\") and the direction indicates which way the vector is headed (for example, \"East\"). Vectors are defined by an n-dimensional coordinate that describe a point in space that can be connected by a line from an arbitrary origin.\n",
        "\n",
        "That all seems a bit complicated, so let's start with a simple, two-dimensional example. In this case, we'll have a vector that is defined by a point in a two-dimensional plane: A two dimensional coordinate consists of an *x* and a *y* value, and in this case we'll use **2** for *x* and **1** for *y*.\n",
        "\n",
        "Our vector can be written as **v**=(2,1), but more formally we would use the following notation, in which the dimensional coordinate values for the vector are shown as a matrix:\n",
        "\\begin{equation}\\vec{v} = \\begin{bmatrix}2 \\\\ 1 \\end{bmatrix}\\end{equation}\n",
        "\n",
        "So what exactly does that mean? Well, the coordinate is two-dimensional, and describes the movements required to get to the end point (of *head*) of the vector - in this case, we need to move 2 units in the *x* dimension, and 1 unit in the *y* dimension. Note that we don't specify a starting point for the vector - we're simply describing a destination coordinate that encapsulate the magnitide and direction of the vector. Think about it as the directions you need to follow to get to *there* from *here*, without specifying where *here* actually is!\n",
        "\n",
        "It can help to visualize the vector, and with a two-dimensional vector, that's pretty straightforward. We just define a two-dimensional plane, choose a starting point, and plot the coordinate described by the vector relative to the starting point.\n",
        "\n",
        "Run the code in the following cell to visualize the vector **v** (which remember is described by the coordinate (2,1))."
      ]
    },
    {
      "cell_type": "code",
      "metadata": {
        "id": "5L6IjM_3iL3G",
        "colab_type": "code",
        "colab": {}
      },
      "source": [
        "%matplotlib inline\n",
        "\n",
        "import numpy as np\n",
        "import matplotlib.pyplot as plt\n",
        "\n",
        "# We'll use a numpy array for our vector\n",
        "v = np.array([2,1])\n",
        "\n",
        "# and we'll use a quiver plot to visualize it.\n",
        "origin = [0], [0]\n",
        "plt.axis('equal')\n",
        "plt.grid()\n",
        "plt.ticklabel_format(style='sci', axis='both', scilimits=(0,0))\n",
        "plt.quiver(*origin, *v, scale=10, color='r')\n",
        "plt.show()"
      ],
      "execution_count": 0,
      "outputs": []
    },
    {
      "cell_type": "markdown",
      "metadata": {
        "id": "wYXOUcjuiL3L",
        "colab_type": "text"
      },
      "source": [
        "Note that we can use a numpy array to define the vector in Python; so to create our (2,1) vector, we simply create a numpy array with the elements [2,1]. We've then used a quiver plot to visualize the vector, using the point 0,0 as the starting point (or *origin*). Our vector of (2,1) is shown as an arrow that starts at 0,0 and moves 2 units along the *x* axis (to the right) and 1 unit along the *y* axis (up)."
      ]
    },
    {
      "cell_type": "markdown",
      "metadata": {
        "id": "MPDAhPoviL3L",
        "colab_type": "text"
      },
      "source": [
        "### Calculating Vector Magnitude and Direction\n",
        "We tend to work with vectors by expressing their components as *cartesian coordinates*; that is, *x* and *y* (and other dimension) values that define the number of units travelled along each dimension. So the coordinates of our (2,1) vector indicate that we must travel 2 units along the *x* axis, and *1* unit along the *y* axis.\n",
        "\n",
        "However, you can also work with verctors in terms of their *polar coordinates*; that is coordinates that describe the magnitude and direction of the vector. The magnitude is the overall distance of the vector from tail to head, and the direction is the angle at which the vector is oriented.\n",
        "\n",
        "### Calculating Magnitude\n",
        "Calculating the magnitude of the vector from its cartesian coordinates requires measuring the distance between the arbitrary starting point and the vector head point. For a two-dimensional vector, we're actually just calculating the length of the hypotenuse in a right-angled triangle - so we could simply invoke Pythagorean theorum and calculate the square root of the sum of the squares of it's components, like this:\n",
        "\n",
        "\\begin{equation}\\|\\vec{v}\\| = \\sqrt{v_{1}\\;^{2} + v_{2}\\;^{2}}\\end{equation}\n",
        "\n",
        "The notation for a vector's magnitude is to surround the vector name with vertical bars - you can use single bars (for example, |**v**|) or double bars (||**v**||). Double-bars are often used to avoid confusion with absolute values. Note that the components of the vector are indicated by subscript indices (v<sub>1</sub>, v<sub>2</sub>,...v<sub>*n*</sub>),\n",
        "\n",
        "In this case, the vector **v** has two components with values **2** and **1**, so our magnitude calculation is:\n",
        "\n",
        "\\begin{equation}\\|\\vec{v}\\| = \\sqrt{2^{2} + 1^{2}}\\end{equation}\n",
        "\n",
        "Which is:\n",
        "\n",
        "\\begin{equation}\\|\\vec{v}\\| = \\sqrt{4 + 1}\\end{equation}\n",
        "\n",
        "So:\n",
        "\n",
        "\\begin{equation}\\|\\vec{v}\\| = \\sqrt{5} \\approx 2.24\\end{equation}\n",
        "\n",
        "You can run the following Python code to get a more precise result (note that the elements of a numpy array are zero-based)"
      ]
    },
    {
      "cell_type": "code",
      "metadata": {
        "id": "Zl6YfWZniL3M",
        "colab_type": "code",
        "colab": {}
      },
      "source": [
        "import math\n",
        "\n",
        "vMag = math.sqrt(v[0]**2 + v[1]**2)\n",
        "print (vMag)"
      ],
      "execution_count": 0,
      "outputs": []
    },
    {
      "cell_type": "markdown",
      "metadata": {
        "id": "38lG2K9BiL3P",
        "colab_type": "text"
      },
      "source": [
        "This calculation works for vectors of any dimensionality - you just take the square root of the sum of the squared components:\n",
        "\n",
        "\\begin{equation}\\|\\vec{v}\\| = \\sqrt{v_{1}\\;^{2} + v_{2}\\;^{2} ... + v_{n}\\;^{2}}\\end{equation}\n",
        "\n",
        "In Python, *numpy* provides a linear algebra library named **linalg** that makes it easier to work with vectors - you can use the **norm** function in the following code to calculate the magnitude of a vector:"
      ]
    },
    {
      "cell_type": "code",
      "metadata": {
        "id": "B8stFqP6iL3Q",
        "colab_type": "code",
        "colab": {}
      },
      "source": [
        "import numpy as np\n",
        "\n",
        "vMag = np.linalg.norm(v)\n",
        "print (vMag)"
      ],
      "execution_count": 0,
      "outputs": []
    },
    {
      "cell_type": "markdown",
      "metadata": {
        "id": "hJ7fmHPGiL3T",
        "colab_type": "text"
      },
      "source": [
        "### Calculating Direction\n",
        "To calculate the direction, or *amplitude*, of a vector from its cartesian coordinates, you must employ a little trigonometry. We can get the angle of the vector by calculating the *inverse tangent*; sometimes known as the *arctan* (the *tangent*  calculates an angle as a ratio - the inverse tangent, or **tan<sup>-1</sup>**, expresses this in degrees).\n",
        "\n",
        "In any right-angled triangle, the tangent is calculated as the *opposite* over the *adjacent*. In a two dimensional vector, this is the *y* value over the *x* value, so for our **v** vector (2,1):\n",
        "\n",
        "\\begin{equation}tan(\\theta) = \\frac{1}{2}\\end{equation}\n",
        "\n",
        "This produces the result ***0.5***, from which we can use a calculator to calculate the inverse tangent to get the angle in degrees:\n",
        "\n",
        "\\begin{equation}\\theta = tan^{-1} (0.5) \\approx 26.57^{o}\\end{equation}\n",
        "\n",
        "Note that the direction angle is indicated as ***&theta;***.\n",
        "\n",
        "Run the following Python code to confirm this:"
      ]
    },
    {
      "cell_type": "code",
      "metadata": {
        "id": "Vmp-qJGHiL3U",
        "colab_type": "code",
        "colab": {}
      },
      "source": [
        "import math\n",
        "import numpy as np\n",
        "\n",
        "v = np.array([2,1])\n",
        "vTan = v[1] / v[0]\n",
        "print ('tan = ' + str(vTan))\n",
        "vAtan = math.atan(vTan)\n",
        "# atan returns the angle in radians, so convert to degrees\n",
        "print('inverse-tan = ' + str(math.degrees(vAtan)))"
      ],
      "execution_count": 0,
      "outputs": []
    },
    {
      "cell_type": "markdown",
      "metadata": {
        "id": "o7rVmJ0ViL3X",
        "colab_type": "text"
      },
      "source": [
        "There is an added complication however, because if the value for *x* or *y* (or both) is negative, the orientation of the vector is not standard, and a calculator can give you the wrong tan<sup>-1</sup> value. To ensure you get the correct direction for your vector, use the following rules:\n",
        "- Both *x* and *y* are positive: Use the tan<sup>-1</sup> value.\n",
        "- *x* is negative, *y* is positive: Add 180 to the tan<sup>-1</sup> value.\n",
        "- Both *x* and *y* are negative: Add 180 to the tan<sup>-1</sup> value.\n",
        "- *x* is positive, *y* is negative: Add 360 to the tan<sup>-1</sup> value.\n",
        "\n",
        "To understand why we need to do this, think of it this way. A vector can be pointing in any direction through a 360 degree arc.  Let's break that circle into four quadrants with the x and y axis through the center. Angles can be measured from the x axis in both the positive (counter-clockwise) and negative (clockwise) directions. We'll number the quadrants in the positive (counter-clockwise) direction (which is how we measure the *positive* angle) like this:\n",
        "\n",
        "    \n",
        "\n",
        "    2 | 1\n",
        "    - o -\n",
        "    3 | 4\n",
        "\n",
        "\n",
        "OK, let's look at 4 example vectors\n",
        "\n",
        " 1. Vector [2,4] has positive values for both x and y. The line for this vector travels through the point 0,0 from quadrant 3 to quadrant 1. Tan<sup>-1</sup> of 4/2 is around 63.4 degrees, which is the positive angle from the x axis to the vector line - so this is the direction of the vector.\n",
        " 2. Vector [-2,4] has a negative x and positive y. The line for this vector travels through point 0,0 from quadrant 4 to quadrant 2. Tan<sup>-1</sup> of 4/-2 is around -64.4 degrees, which is the *negative* angle from x to the vector line; but in the wrong direction (as if the vector was travelling from quadrant 2 towards quadrant 4). So we need the opposite direction, which we get by adding 180.\n",
        " 3. Vector [-2,-4] has negative x and y. The line for the vector travels through 0,0 from quadrant 1 to quadrant 3. Tan<sup>-1</sup> of -4/-2 is around 63.4 degrees, which is the angle between the x axis and the line, but again in the opposite direction, from quadrant 3 to quadrant 1; we need to go a further 180 degrees to reflect the correct direction.\n",
        " 4. Vector [2,-4] has positive x and negative y. It travels through 0,0 from quadrant 2 to quadrant 4. Tan<sup>-1</sup> of -4/2 is around -64.4 degrees, which is the *negative* angle from the x axis to the vector line. Technically it's correct, the line is travelleing down and to the right at an angle of -63.4 degrees; but we want to express the *positive* (counter-clockwise) angle, so we add 360.\n",
        "\n",
        "\n",
        "In the previous Python code, we used the *math.**atan*** function to calculate the inverse tangent from a numeric tangent. The *numpy* library includes a similar ***arctan*** function. When working with numpy arrays, you can also use the *numpy.**arctan2*** function to return the inverse tangent of an array-based vector in *radians*, and you can use the *numpy.**degrees*** function to convert this to degrees. The ***arctan2*** function automatically makes the necessary adjustment for negative *x* and *y* values."
      ]
    },
    {
      "cell_type": "code",
      "metadata": {
        "id": "IP91n5NniL3Y",
        "colab_type": "code",
        "colab": {}
      },
      "source": [
        "import numpy as np\n",
        "\n",
        "v = np.array([2,1])\n",
        "print ('v: ' + str(np.degrees(np.arctan2(v[1], v[0]))))\n",
        "\n",
        "s = np.array([-3,2])\n",
        "print ('s: ' + str(np.degrees(np.arctan2(s[1], s[0]))))"
      ],
      "execution_count": 0,
      "outputs": []
    },
    {
      "cell_type": "markdown",
      "metadata": {
        "id": "WWg4CUdfiL3b",
        "colab_type": "text"
      },
      "source": [
        "### Vector Addition\n",
        "So far, we've worked with one vector at a time. What happens when you need to add two vectors.\n",
        "\n",
        "Let's take a look at an example, we already have a vector named **v**, as defined here:\n",
        "\\begin{equation}\\vec{v} = \\begin{bmatrix}2 \\\\ 1 \\end{bmatrix}\\end{equation}\n",
        "Now let's create a second vector, and called **s** like this:\n",
        "\\begin{equation}\\vec{s} = \\begin{bmatrix}-3 \\\\ 2 \\end{bmatrix}\\end{equation}\n",
        "\n",
        "Run the cell below to create **s** and plot it together with **v**:"
      ]
    },
    {
      "cell_type": "code",
      "metadata": {
        "id": "J-F2GODUiL3d",
        "colab_type": "code",
        "colab": {}
      },
      "source": [
        "import math\n",
        "import numpy as np\n",
        "import matplotlib.pyplot as plt\n",
        "%matplotlib inline\n",
        "\n",
        "v = np.array([2,1])\n",
        "s = np.array([-3,2])\n",
        "print (s)\n",
        "\n",
        "# Plot v and s\n",
        "vecs = np.array([v,s])\n",
        "origin = [0], [0]\n",
        "plt.axis('equal')\n",
        "plt.grid()\n",
        "plt.ticklabel_format(style='sci', axis='both', scilimits=(0,0))\n",
        "plt.quiver(*origin, vecs[:,0], vecs[:,1], color=['r', 'b'], scale=10)\n",
        "plt.show()"
      ],
      "execution_count": 0,
      "outputs": []
    },
    {
      "cell_type": "markdown",
      "metadata": {
        "id": "FwPda5z3iL3g",
        "colab_type": "text"
      },
      "source": [
        "You can see in the plot that the two vectors have different directions and magnitudes. So what happens when we add them together?\n",
        "\n",
        "Here's the formula:\n",
        "\\begin{equation}\\vec{z} = \\vec{v}+\\vec{s}\\end{equation}\n",
        "\n",
        "In terms of our vector matrices, this looks like this:\n",
        "\\begin{equation}\\vec{z} = \\begin{bmatrix}2 \\\\ 1 \\end{bmatrix} + \\begin{bmatrix}-3 \\\\ 2 \\end{bmatrix}\\end{equation}\n",
        "\n",
        "Which gives the following result:\n",
        "\\begin{equation}\\vec{z} = \\begin{bmatrix}2 \\\\ 1 \\end{bmatrix} + \\begin{bmatrix}-3 \\\\ 2 \\end{bmatrix} = \\begin{bmatrix}-1 \\\\ 3 \\end{bmatrix}\\end{equation}\n",
        "\n",
        "Let's verify that Python gives the same result:"
      ]
    },
    {
      "cell_type": "code",
      "metadata": {
        "id": "eGo-v34kiL3h",
        "colab_type": "code",
        "colab": {}
      },
      "source": [
        "z = v + s\n",
        "print(z)"
      ],
      "execution_count": 0,
      "outputs": []
    },
    {
      "cell_type": "markdown",
      "metadata": {
        "id": "o9djguoZiL3k",
        "colab_type": "text"
      },
      "source": [
        "So what does that look like on our plot?"
      ]
    },
    {
      "cell_type": "code",
      "metadata": {
        "id": "qCqkYvR1iL3k",
        "colab_type": "code",
        "colab": {}
      },
      "source": [
        "vecs = np.array([v,s,z])\n",
        "origin = [0], [0]\n",
        "plt.axis('equal')\n",
        "plt.grid()\n",
        "plt.ticklabel_format(style='sci', axis='both', scilimits=(0,0))\n",
        "plt.quiver(*origin, vecs[:,0], vecs[:,1], color=['r', 'b', 'g'], scale=10)\n",
        "plt.show()"
      ],
      "execution_count": 0,
      "outputs": []
    },
    {
      "cell_type": "markdown",
      "metadata": {
        "id": "XkojzM16iL3n",
        "colab_type": "text"
      },
      "source": [
        "So what's going on here?\n",
        "Well, we added the dimensions of **s** to the dimensions of **v** to describe a new vector **z**. Let's break that down:\n",
        "- The dimensions of **v** are (2,1), so from our starting point we move 2 units in the *x* dimension (across to the right) and 1 unit in the *y* dimension (up). In the plot, if you start at the (0,0) position, this is shown as the red arrow.\n",
        "- Then we're adding **s**, which has dimension values (-3, 2), so we move -3 units in the *x* dimension (across to the left, because it's a negative number) and then 2 units in the *y* dimension (up). On the plot, if you start at the head of the red arrow and make these moves, you'll end up at the head of the green arrow, which represents **z**.\n",
        "\n",
        "The same is true if you perform the addition operation the other way around and add **v** to **s**, the steps to create **s** are described by the blue arrow, and if you use that as the starting point for **v**, you'll end up at the head of the green arrow, which represents **z**.\n",
        "\n",
        "Note on the plot that if you simply moved the tail of the blue arrow so that it started at the head of red arrow, its head would end up in the same place as the head of the green arrow; and the same would be true if you moved tail of the red arrow to the head of the blue arrow."
      ]
    },
    {
      "cell_type": "markdown",
      "metadata": {
        "id": "kNf2TvIVjuDp",
        "colab_type": "text"
      },
      "source": [
        "### Vector Multiplication\n"
      ]
    },
    {
      "cell_type": "markdown",
      "metadata": {
        "id": "34S7sEpyiscd",
        "colab_type": "text"
      },
      "source": [
        "Vector multiplication can be performed in three ways:\n",
        "\n",
        "- Scalar Multiplication\n",
        "- Dot Product Multiplication\n",
        "- Cross Product Multiplication\n",
        "\n",
        "### Scalar Multiplication\n",
        "Let's start with *scalar* multiplication - in other words, multiplying a vector by a single numeric value.\n",
        "\n",
        "Suppose I want to multiply my vector by 2, which I could write like this:\n",
        "\n",
        "\\begin{equation} \\vec{w} = 2\\vec{v}\\end{equation}\n",
        "\n",
        "Note that the result of this calculation is a new vector named **w**. So how would we calculate this?\n",
        "Recall that **v** is defined like this:\n",
        "\n",
        "\\begin{equation}\\vec{v} = \\begin{bmatrix}2 \\\\ 1 \\end{bmatrix}\\end{equation}\n",
        "\n",
        "To calculate 2v, we simply need to apply the operation to each dimension value in the vector matrix, like this:\n",
        "\n",
        "\\begin{equation}\\vec{w} = \\begin{bmatrix}2 \\cdot 2 \\\\  2 \\cdot 1 \\end{bmatrix}\\end{equation}\n",
        "\n",
        "Which gives us the following result:\n",
        "\n",
        "\\begin{equation}\\vec{w} = \\begin{bmatrix}2 \\cdot 2 \\\\  2 \\cdot 1 \\end{bmatrix} = \\begin{bmatrix}4 \\\\ 2 \\end{bmatrix}\\end{equation}\n",
        "\n",
        "In Python, you can apply these sort of matrix operations directly to numpy arrays, so we can simply calculate **w** like this:"
      ]
    },
    {
      "cell_type": "code",
      "metadata": {
        "id": "qGZToYJdiscf",
        "colab_type": "code",
        "colab": {}
      },
      "source": [
        "%matplotlib inline\n",
        "\n",
        "import numpy as np\n",
        "import matplotlib.pyplot as plt\n",
        "import math\n",
        "\n",
        "v = np.array([2,1])\n",
        "\n",
        "w = 2 * v\n",
        "print(w)\n",
        "\n",
        "# Plot w\n",
        "origin = [0], [0]\n",
        "plt.grid()\n",
        "plt.ticklabel_format(style='sci', axis='both', scilimits=(0,0))\n",
        "plt.quiver(*origin, *w, scale=10)\n",
        "plt.show()"
      ],
      "execution_count": 0,
      "outputs": []
    },
    {
      "cell_type": "markdown",
      "metadata": {
        "id": "tEsbEO7Iiscl",
        "colab_type": "text"
      },
      "source": [
        "The same approach is taken for scalar division.\n",
        "\n",
        "Try it for yourself - use the cell below to calculate a new vector named **b** based on the following definition:\n",
        "\n",
        "\\begin{equation}\\vec{b} = \\frac{\\vec{v}}{2}\\end{equation}"
      ]
    },
    {
      "cell_type": "code",
      "metadata": {
        "id": "fXi55DIWiscm",
        "colab_type": "code",
        "colab": {}
      },
      "source": [
        "b = v / 2\n",
        "print(b)\n",
        "\n",
        "# Plot b\n",
        "origin = [0], [0]\n",
        "plt.axis('equal')\n",
        "plt.grid()\n",
        "plt.ticklabel_format(style='sci', axis='both', scilimits=(0,0))\n",
        "plt.quiver(*origin, *b, scale=10)\n",
        "plt.show()"
      ],
      "execution_count": 0,
      "outputs": []
    },
    {
      "cell_type": "markdown",
      "metadata": {
        "id": "faqF8oZ3iscr",
        "colab_type": "text"
      },
      "source": [
        "### Dot Product Multiplication\n",
        "So we've seen how to multiply a vector by a scalar. How about multiplying two vectors together? There are actually two ways to do this depending on whether you want the result to be a *scalar product* (in other words, a number) or a *vector product* (a vector).\n",
        "\n",
        "To get a scalar product, we calculate the *dot product*. This takes a similar approach to multiplying a vector by a scalar, except that it multiplies each component pair of the vectors and sums the results. To indicate that we are performing a dot product operation, we use the &bull; operator:\n",
        "\n",
        "\\begin{equation} \\vec{v} \\cdot \\vec{s} = (v_{1} \\cdot s_{1}) + (v_{2} \\cdot s_{2}) ... + \\; (v_{n} \\cdot s_{n})\\end{equation}\n",
        "\n",
        "So for our vectors **v** (2,1) and **s** (-3,2), our calculation looks like this:\n",
        "\n",
        "\\begin{equation} \\vec{v} \\cdot \\vec{s} = (2 \\cdot -3) + (1 \\cdot 2) = -6 + 2 = -4\\end{equation}\n",
        "\n",
        "So the dot product, or scalar product, of **v** &bull; **s** is **-4**.\n",
        "\n",
        "In Python, you can use the *numpy.**dot*** function to calculate the dot product of two vector arrays:"
      ]
    },
    {
      "cell_type": "code",
      "metadata": {
        "id": "uHbTi3aAiscs",
        "colab_type": "code",
        "colab": {}
      },
      "source": [
        "import numpy as np\n",
        "\n",
        "v = np.array([2,1])\n",
        "s = np.array([-3,2])\n",
        "d = np.dot(v,s)\n",
        "print (d)"
      ],
      "execution_count": 0,
      "outputs": []
    },
    {
      "cell_type": "markdown",
      "metadata": {
        "id": "cujhjjMkiscv",
        "colab_type": "text"
      },
      "source": [
        "In Python 3.5 and later, you can also use the **@** operator to calculate the dot product:"
      ]
    },
    {
      "cell_type": "code",
      "metadata": {
        "id": "BPLsDCcRiscw",
        "colab_type": "code",
        "colab": {}
      },
      "source": [
        "import numpy as np\n",
        "\n",
        "v = np.array([2,1])\n",
        "s = np.array([-3,2])\n",
        "d = v @ s\n",
        "print (d)"
      ],
      "execution_count": 0,
      "outputs": []
    },
    {
      "cell_type": "markdown",
      "metadata": {
        "id": "p-Trde1oisc1",
        "colab_type": "text"
      },
      "source": [
        "### The Cosine Rule\n",
        "An useful property of vector dot product multiplication is that we can use it to calculate the cosine of the angle between two vectors. We could write the dot products as:\n",
        "\n",
        "$$ \\vec{v} \\cdot \\vec{s} = \\|\\vec{v} \\|\\|\\vec{s}\\| \\cos (\\theta) $$ \n",
        "\n",
        "Which we can rearrange as:\n",
        "\n",
        "$$ \\cos(\\theta) = \\frac{\\vec{v} \\cdot \\vec{s}}{\\|\\vec{v} \\|\\|\\vec{s}\\|} $$\n",
        "\n",
        "So for our vectors **v** (2,1) and **s** (-3,2), our calculation looks like this:\n",
        "\n",
        "$$ \\cos(\\theta) = \\frac{(2 \\cdot-3) + (-3 \\cdot 2)}{\\sqrt{2^{2} + 1^{2}} \\times \\sqrt{-3^{2} + 2^{2}}} $$\n",
        "\n",
        "So:\n",
        "\n",
        "$$\\cos(\\theta) = \\frac{-4}{8.0622577483}$$\n",
        "\n",
        "Which calculates to:\n",
        "\n",
        "$$\\cos(\\theta) = -0.496138938357 $$\n",
        "\n",
        "So:\n",
        "\n",
        "$$\\theta \\approx 119.74 $$\n",
        "\n",
        "Here's that calculation in Python:"
      ]
    },
    {
      "cell_type": "code",
      "metadata": {
        "id": "IE6OqF7Tisc2",
        "colab_type": "code",
        "colab": {}
      },
      "source": [
        "import math\n",
        "import numpy as np\n",
        "\n",
        "# define our vectors\n",
        "v = np.array([2,1])\n",
        "s = np.array([-3,2])\n",
        "\n",
        "# get the magnitudes\n",
        "vMag = np.linalg.norm(v)\n",
        "sMag = np.linalg.norm(s)\n",
        "\n",
        "# calculate the cosine of theta\n",
        "cos = (v @ s) / (vMag * sMag)\n",
        "\n",
        "# so theta (in degrees) is:\n",
        "theta = math.degrees(math.acos(cos))\n",
        "\n",
        "print(theta)\n"
      ],
      "execution_count": 0,
      "outputs": []
    },
    {
      "cell_type": "markdown",
      "metadata": {
        "collapsed": true,
        "id": "eDswUUl4isc6",
        "colab_type": "text"
      },
      "source": [
        "### Cross Product Multiplication\n",
        "To get the *vector product* of multipying two vectors together, you must calculate the *cross product*. The result of this is a new vector that is at right angles to both the other vectors in 3D Euclidean space. This means that the cross-product only really makes sense when working with vectors that contain three components.\n",
        "\n",
        "For example, let's suppose we have the following vectors:\n",
        "\n",
        "\\begin{equation}\\vec{p} = \\begin{bmatrix}2 \\\\ 3 \\\\ 1 \\end{bmatrix}\\;\\; \\vec{q} = \\begin{bmatrix}1 \\\\ 2 \\\\ -2 \\end{bmatrix}\\end{equation}\n",
        "\n",
        "To calculate the cross product of these vectors, written as **p** x **q**, we need to create a new vector (let's call it **r**) with three components (r<sub>1</sub>, r<sub>2</sub>, and r<sub>3</sub>). The values for these components are calculated like this:\n",
        "\n",
        "\\begin{equation}r_{1} = p_{2}q_{3} - p_{3}q_{2}\\end{equation}\n",
        "\\begin{equation}r_{2} = p_{3}q_{1} - p_{1}q_{3}\\end{equation}\n",
        "\\begin{equation}r_{3} = p_{1}q_{2} - p_{2}q_{1}\\end{equation}\n",
        "\n",
        "So in our case:\n",
        "\n",
        "\\begin{equation}\\vec{r} = \\vec{p} \\times \\vec{q} = \\begin{bmatrix}(3 \\cdot -2) - (1 \\cdot 2) \\\\ (1 \\cdot 1) - (2 \\cdot -2) \\\\ (2 \\cdot 2) - (3 \\cdot 1) \\end{bmatrix} = \\begin{bmatrix}-6 - 2 \\\\ 1 - -4 \\\\ 4 - 3 \\end{bmatrix} = \\begin{bmatrix}-8 \\\\ 5 \\\\ 1 \\end{bmatrix}\\end{equation}\n",
        "\n",
        "In Python, you can use the *numpy.**cross*** function to calculate the cross product of two vector arrays:"
      ]
    },
    {
      "cell_type": "code",
      "metadata": {
        "id": "XzXMlJbRisc6",
        "colab_type": "code",
        "colab": {}
      },
      "source": [
        "import numpy as np\n",
        "\n",
        "p = np.array([2,3,1])\n",
        "q = np.array([1,2,-2])\n",
        "r = np.cross(p,q)\n",
        "print (r)"
      ],
      "execution_count": 0,
      "outputs": []
    },
    {
      "cell_type": "markdown",
      "metadata": {
        "id": "0adI9vWLjAld",
        "colab_type": "text"
      },
      "source": [
        "## 9. Matrices\n"
      ]
    },
    {
      "cell_type": "markdown",
      "metadata": {
        "id": "2tI2UxNli0AC",
        "colab_type": "text"
      },
      "source": [
        "In general terms, a matrix is an array of numbers that are arranged into rows and columns.\n",
        "\n",
        "### Matrices and Matrix Notation\n",
        "A matrix arranges numbers into rows and columns, like this:\n",
        "\n",
        "\\begin{equation}A = \\begin{bmatrix}\n",
        "  1 & 2 & 3 \\\\\n",
        "  4 & 5 & 6\n",
        " \\end{bmatrix}\n",
        "\\end{equation}\n",
        "\n",
        "Note that matrices are generally named as a capital letter. We refer to the *elements* of the matrix using the lower case equivalent with a subscript row and column indicator, like this:\n",
        "\n",
        "\\begin{equation}A = \\begin{bmatrix}\n",
        "  a_{1,1} & a_{1,2} & a_{1,3} \\\\\n",
        "  a_{2,1} & a_{2,2} & a_{2,3}\n",
        " \\end{bmatrix}\n",
        "\\end{equation}\n",
        "\n",
        "In Python, you can define a matrix as a 2-dimensional *numpy.**array***, like this:"
      ]
    },
    {
      "cell_type": "code",
      "metadata": {
        "id": "Lg-RTtryi0AD",
        "colab_type": "code",
        "colab": {}
      },
      "source": [
        "import numpy as np\n",
        "\n",
        "A = np.array([[1,2,3],\n",
        "              [4,5,6]])\n",
        "print (A)"
      ],
      "execution_count": 0,
      "outputs": []
    },
    {
      "cell_type": "markdown",
      "metadata": {
        "id": "VApHGjRyi0AI",
        "colab_type": "text"
      },
      "source": [
        "You can also use the *numpy.**matrix*** type, which is a specialist subclass of ***array***:"
      ]
    },
    {
      "cell_type": "code",
      "metadata": {
        "id": "6l4ONRMDi0AI",
        "colab_type": "code",
        "colab": {}
      },
      "source": [
        "import numpy as np\n",
        "\n",
        "M = np.matrix([[1,2,3],\n",
        "               [4,5,6]])\n",
        "print (M)"
      ],
      "execution_count": 0,
      "outputs": []
    },
    {
      "cell_type": "markdown",
      "metadata": {
        "id": "0mf4zHGVi0AM",
        "colab_type": "text"
      },
      "source": [
        "There are some differences in behavior between ***array*** and ***matrix*** types - particularly with regards to multiplication (which we'll explore later). You can use either, but most experienced Python programmers who need to work with both vectors and matrices tend to prefer the ***array*** type for consistency."
      ]
    },
    {
      "cell_type": "markdown",
      "metadata": {
        "id": "zx4uECZHi0AN",
        "colab_type": "text"
      },
      "source": [
        "### Matrix Operations\n",
        "Matrices support common arithmetic operations.\n",
        "\n",
        "### Adding Matrices\n",
        "To add two matrices of the same size together, just add the corresponding elements in each matrix:\n",
        "\n",
        "\\begin{equation}\\begin{bmatrix}1 & 2 & 3 \\\\4 & 5 & 6\\end{bmatrix}+ \\begin{bmatrix}6 & 5 & 4 \\\\3 & 2 & 1\\end{bmatrix} = \\begin{bmatrix}7 & 7 & 7 \\\\7 & 7 & 7\\end{bmatrix}\\end{equation}\n",
        "\n",
        "In this example, we're adding two matrices (let's call them ***A*** and ***B***). Each matrix has two rows of three columns (so we describe them as 2x3 matrices). Adding these will create a new matrix of the same dimensions with the values a<sub>1,1</sub> + b<sub>1,1</sub>, a<sub>1,2</sub> + b<sub>1,2</sub>, a<sub>1,3</sub> + b<sub>1,3</sub>,a<sub>2,1</sub> + b<sub>2,1</sub>, a<sub>2,2</sub> + b<sub>2,2</sub>, and a<sub>2,3</sub> + b<sub>2,3</sub>. In this instance, each pair of corresponding elements(1 and 6, 2, and 5, 3 and 4, etc.) adds up to 7.\n",
        "\n",
        "Let's try that with Python:"
      ]
    },
    {
      "cell_type": "code",
      "metadata": {
        "id": "wse2StZoi0AO",
        "colab_type": "code",
        "colab": {}
      },
      "source": [
        "import numpy as np\n",
        "\n",
        "A = np.array([[1,2,3],\n",
        "              [4,5,6]])\n",
        "B = np.array([[6,5,4],\n",
        "              [3,2,1]])\n",
        "print(A + B)"
      ],
      "execution_count": 0,
      "outputs": []
    },
    {
      "cell_type": "markdown",
      "metadata": {
        "id": "MQC-xE4Vi0AS",
        "colab_type": "text"
      },
      "source": [
        "### Subtracting Matrices\n",
        "Matrix subtraction works similarly to matrix addition:\n",
        "\n",
        "\\begin{equation}\\begin{bmatrix}1 & 2 & 3 \\\\4 & 5 & 6\\end{bmatrix}- \\begin{bmatrix}6 & 5 & 4 \\\\3 & 2 & 1\\end{bmatrix} = \\begin{bmatrix}-5 & -3 & -1 \\\\1 & 3 & 5\\end{bmatrix}\\end{equation}\n",
        "\n",
        "Here's the Python code to do this:"
      ]
    },
    {
      "cell_type": "code",
      "metadata": {
        "id": "9VUFhW-xi0AS",
        "colab_type": "code",
        "colab": {}
      },
      "source": [
        "import numpy as np\n",
        "\n",
        "A = np.array([[1,2,3],\n",
        "              [4,5,6]])\n",
        "B = np.array([[6,5,4],\n",
        "              [3,2,1]])\n",
        "print (A - B)"
      ],
      "execution_count": 0,
      "outputs": []
    },
    {
      "cell_type": "markdown",
      "metadata": {
        "id": "VfWpXI7ui0AW",
        "colab_type": "text"
      },
      "source": [
        "#### Conformability\n",
        "In the previous examples, we were able to add and subtract the matrices, because the *operands* (the matrices we are operating on) are ***conformable*** for the specific operation (in this case, addition or subtraction). To be conformable for addition and subtraction, the operands must have the same number of rows and columns. There are different conformability requirements for other operations, such as multiplication; which we'll explore later."
      ]
    },
    {
      "cell_type": "markdown",
      "metadata": {
        "id": "oiR33ubui0AX",
        "colab_type": "text"
      },
      "source": [
        "### Negative Matrices\n",
        "The nagative of a matrix, is just a matrix with the sign of each element reversed:\n",
        "\n",
        "\\begin{equation}C = \\begin{bmatrix}-5 & -3 & -1 \\\\1 & 3 & 5\\end{bmatrix}\\end{equation}\n",
        "\n",
        "\\begin{equation}-C = \\begin{bmatrix}5 & 3 & 1 \\\\-1 & -3 & -5\\end{bmatrix}\\end{equation}\n",
        "\n",
        "Let's see that with Python:"
      ]
    },
    {
      "cell_type": "code",
      "metadata": {
        "id": "Rwo7AYMCi0AX",
        "colab_type": "code",
        "colab": {}
      },
      "source": [
        "import numpy as np\n",
        "\n",
        "C = np.array([[-5,-3,-1],\n",
        "              [1,3,5]])\n",
        "print (C)\n",
        "print (-C)"
      ],
      "execution_count": 0,
      "outputs": []
    },
    {
      "cell_type": "markdown",
      "metadata": {
        "id": "YuM4hXr3i0Ab",
        "colab_type": "text"
      },
      "source": [
        "### Matrix Transposition\n",
        "You can *transpose* a matrix, that is switch the orientation of its rows and columns. You indicate this with a superscript **T**, like this:\n",
        "\n",
        "\\begin{equation}\\begin{bmatrix}1 & 2 & 3 \\\\4 & 5 & 6\\end{bmatrix}^{T} = \\begin{bmatrix}1 & 4\\\\2 & 5\\\\3 & 6 \\end{bmatrix}\\end{equation}\n",
        "\n",
        "In Python, both *numpy.**array*** and *numpy.**matrix*** have a **T** function:"
      ]
    },
    {
      "cell_type": "code",
      "metadata": {
        "id": "i9XpzYhZi0Ab",
        "colab_type": "code",
        "colab": {}
      },
      "source": [
        "import numpy as np\n",
        "\n",
        "A = np.array([[1,2,3],\n",
        "              [4,5,6]])\n",
        "print(A.T)"
      ],
      "execution_count": 0,
      "outputs": []
    },
    {
      "cell_type": "markdown",
      "metadata": {
        "id": "M3BQ0kfRkwFX",
        "colab_type": "text"
      },
      "source": [
        "## 10. Transformations, Eigenvectors, and Eigenvalues\n"
      ]
    },
    {
      "cell_type": "markdown",
      "metadata": {
        "collapsed": true,
        "id": "BzkNWh_0kr4v",
        "colab_type": "text"
      },
      "source": [
        "Matrices and vectors are used together to manipulate spatial dimensions. This has a lot of applications, including the mathematical generation of 3D computer graphics, geometric modeling, and the training and optimization of machine learning algorithms. We're not going to cover the subject exhaustively here; but we'll focus on a few key concepts that are useful to know when you plan to work with machine learning.\n",
        "\n",
        "### Linear Transformations\n",
        "You can manipulate a vector by multiplying it with a matrix. The matrix acts a function that operates on an input vector to produce a vector output. Specifically, matrix multiplications of vectors are *linear transformations* that transform the input vector into the output vector.\n",
        "\n",
        "For example, consider this matrix ***A*** and vector ***v***:\n",
        "\n",
        "$$ A = \\begin{bmatrix}2 & 3\\\\5 & 2\\end{bmatrix} \\;\\;\\;\\; \\vec{v} = \\begin{bmatrix}1\\\\2\\end{bmatrix}$$\n",
        "\n",
        "We can define a transformation ***T*** like this:\n",
        "\n",
        "$$ T(\\vec{v}) = A\\vec{v} $$\n",
        "\n",
        "To perform this transformation, we simply calculate the dot product by applying the *RC* rule; multiplying each row of the matrix by the single column of the vector:\n",
        "\n",
        "$$\\begin{bmatrix}2 & 3\\\\5 & 2\\end{bmatrix} \\cdot  \\begin{bmatrix}1\\\\2\\end{bmatrix} = \\begin{bmatrix}8\\\\9\\end{bmatrix}$$\n",
        "\n",
        "Here's the calculation in Python:"
      ]
    },
    {
      "cell_type": "code",
      "metadata": {
        "id": "gSE3o9Hgkr4w",
        "colab_type": "code",
        "colab": {}
      },
      "source": [
        "import numpy as np\n",
        "\n",
        "v = np.array([1,2])\n",
        "A = np.array([[2,3],\n",
        "              [5,2]])\n",
        "\n",
        "t = A@v\n",
        "print (t)"
      ],
      "execution_count": 0,
      "outputs": []
    },
    {
      "cell_type": "markdown",
      "metadata": {
        "id": "13IsZKHWkr43",
        "colab_type": "text"
      },
      "source": [
        "In this case, both the input vector and the output vector have 2 components - in other words, the transformation takes a 2-dimensional vector and produces a new 2-dimensional vector; which we can indicate like this:\n",
        "\n",
        "$$ T: \\rm I\\!R^{2} \\to \\rm I\\!R^{2} $$\n",
        "\n",
        "Note that the output vector may have a different number of dimensions from the input vector; so the matrix function might transform the vector from one space to another - or in notation, ${\\rm I\\!R}$<sup>n</sup> -> ${\\rm I\\!R}$<sup>m</sup>.\n",
        "\n",
        "For example, let's redefine matrix ***A***, while retaining our original definition of vector ***v***:\n",
        "\n",
        "$$ A = \\begin{bmatrix}2 & 3\\\\5 & 2\\\\1 & 1\\end{bmatrix} \\;\\;\\;\\; \\vec{v} = \\begin{bmatrix}1\\\\2\\end{bmatrix}$$\n",
        "\n",
        "Now if we once again define ***T*** like this:\n",
        "\n",
        "$$ T(\\vec{v}) = A\\vec{v} $$\n",
        "\n",
        "We apply the transformation like this:\n",
        "\n",
        "$$\\begin{bmatrix}2 & 3\\\\5 & 2\\\\1 & 1\\end{bmatrix} \\cdot  \\begin{bmatrix}1\\\\2\\end{bmatrix} = \\begin{bmatrix}8\\\\9\\\\3\\end{bmatrix}$$\n",
        "\n",
        "So now, our transformation transforms the vector from 2-dimensional space to 3-dimensional space:\n",
        "\n",
        "$$ T: \\rm I\\!R^{2} \\to \\rm I\\!R^{3} $$\n",
        "\n",
        "Here it is in Python:"
      ]
    },
    {
      "cell_type": "code",
      "metadata": {
        "id": "C0wpz-Rmkr43",
        "colab_type": "code",
        "colab": {}
      },
      "source": [
        "import numpy as np\n",
        "v = np.array([1,2])\n",
        "A = np.array([[2,3],\n",
        "              [5,2],\n",
        "              [1,1]])\n",
        "\n",
        "t = A@v\n",
        "print (t)"
      ],
      "execution_count": 0,
      "outputs": []
    },
    {
      "cell_type": "code",
      "metadata": {
        "id": "5OYEMLa7kr47",
        "colab_type": "code",
        "colab": {}
      },
      "source": [
        "import numpy as np\n",
        "v = np.array([1,2])\n",
        "A = np.array([[1,2],\n",
        "              [2,1]])\n",
        "\n",
        "t = A@v\n",
        "print (t)"
      ],
      "execution_count": 0,
      "outputs": []
    },
    {
      "cell_type": "markdown",
      "metadata": {
        "id": "4ApfP1xTkr4-",
        "colab_type": "text"
      },
      "source": [
        "### Transformations of Magnitude and Amplitude\n",
        "\n",
        "When you multiply a vector by a matrix, you transform it in at least one of the following two ways:\n",
        "* Scale the length (*magnitude*) of the matrix to make it longer or shorter\n",
        "* Change the direction (*amplitude*) of the matrix\n",
        "\n",
        "For example consider the following matrix and vector:\n",
        "\n",
        "$$ A = \\begin{bmatrix}2 & 0\\\\0 & 2\\end{bmatrix} \\;\\;\\;\\; \\vec{v} = \\begin{bmatrix}1\\\\0\\end{bmatrix}$$\n",
        "\n",
        "As before, we transform the vector ***v*** by multiplying it with the matrix ***A***:\n",
        "\n",
        "\\begin{equation}\\begin{bmatrix}2 & 0\\\\0 & 2\\end{bmatrix} \\cdot  \\begin{bmatrix}1\\\\0\\end{bmatrix} = \\begin{bmatrix}2\\\\0\\end{bmatrix}\\end{equation}\n",
        "\n",
        "In this case, the resulting vector has changed in length (*magnitude*), but has not changed its direction (*amplitude*).\n",
        "\n",
        "Let's visualize that in Python:"
      ]
    },
    {
      "cell_type": "code",
      "metadata": {
        "id": "geGcvCHdkr4-",
        "colab_type": "code",
        "colab": {}
      },
      "source": [
        "import numpy as np\n",
        "import matplotlib.pyplot as plt\n",
        "%matplotlib inline\n",
        "\n",
        "v = np.array([1,0])\n",
        "A = np.array([[2,0],\n",
        "              [0,2]])\n",
        "\n",
        "t = A@v\n",
        "print (t)\n",
        "\n",
        "# Plot v and t\n",
        "vecs = np.array([t,v])\n",
        "origin = [0], [0]\n",
        "plt.axis('equal')\n",
        "plt.grid()\n",
        "plt.ticklabel_format(style='sci', axis='both', scilimits=(0,0))\n",
        "plt.quiver(*origin, vecs[:,0], vecs[:,1], color=['blue', 'orange'], scale=10)\n",
        "plt.show()"
      ],
      "execution_count": 0,
      "outputs": []
    },
    {
      "cell_type": "markdown",
      "metadata": {
        "id": "Uwuee-dXkr5C",
        "colab_type": "text"
      },
      "source": [
        "The original vector ***v*** is shown in orange, and the transformed vector ***t*** is shown in blue - note that ***t*** has the same direction (*amplitude*) as ***v*** but a greater length (*magnitude*).\n",
        "\n",
        "Now let's use a different matrix to transform the vector ***v***:\n",
        "\\begin{equation}\\begin{bmatrix}0 & -1\\\\1 & 0\\end{bmatrix} \\cdot  \\begin{bmatrix}1\\\\0\\end{bmatrix} = \\begin{bmatrix}0\\\\1\\end{bmatrix}\\end{equation}\n",
        "\n",
        "This time, the resulting vector has been changed to a different amplitude, but has the same magnitude."
      ]
    },
    {
      "cell_type": "code",
      "metadata": {
        "id": "4egra2tXkr5D",
        "colab_type": "code",
        "colab": {}
      },
      "source": [
        "import numpy as np\n",
        "import matplotlib.pyplot as plt\n",
        "%matplotlib inline\n",
        "\n",
        "v = np.array([1,0])\n",
        "A = np.array([[0,-1],\n",
        "              [1,0]])\n",
        "\n",
        "t = A@v\n",
        "print (t)\n",
        "\n",
        "# Plot v and t\n",
        "vecs = np.array([v,t])\n",
        "origin = [0], [0]\n",
        "plt.axis('equal')\n",
        "plt.grid()\n",
        "plt.ticklabel_format(style='sci', axis='both', scilimits=(0,0))\n",
        "plt.quiver(*origin, vecs[:,0], vecs[:,1], color=['orange', 'blue'], scale=10)\n",
        "plt.show()"
      ],
      "execution_count": 0,
      "outputs": []
    },
    {
      "cell_type": "markdown",
      "metadata": {
        "id": "vDzTrr51kr5G",
        "colab_type": "text"
      },
      "source": [
        "Now let's see change the matrix one more time:\n",
        "\\begin{equation}\\begin{bmatrix}2 & 1\\\\1 & 2\\end{bmatrix} \\cdot  \\begin{bmatrix}1\\\\0\\end{bmatrix} = \\begin{bmatrix}2\\\\1\\end{bmatrix}\\end{equation}\n",
        "\n",
        "Now our resulting vector has been transformed to a new amplitude *and* magnitude - the transformation has affected both direction and scale."
      ]
    },
    {
      "cell_type": "code",
      "metadata": {
        "id": "VUvnTZb3kr5H",
        "colab_type": "code",
        "colab": {}
      },
      "source": [
        "import numpy as np\n",
        "import matplotlib.pyplot as plt\n",
        "%matplotlib inline\n",
        "\n",
        "v = np.array([1,0])\n",
        "A = np.array([[2,1],\n",
        "              [1,2]])\n",
        "\n",
        "t = A@v\n",
        "print (t)\n",
        "\n",
        "# Plot v and t\n",
        "vecs = np.array([v,t])\n",
        "origin = [0], [0]\n",
        "plt.axis('equal')\n",
        "plt.grid()\n",
        "plt.ticklabel_format(style='sci', axis='both', scilimits=(0,0))\n",
        "plt.quiver(*origin, vecs[:,0], vecs[:,1], color=['orange', 'blue'], scale=10)\n",
        "plt.show()"
      ],
      "execution_count": 0,
      "outputs": []
    },
    {
      "cell_type": "markdown",
      "metadata": {
        "id": "kb0YSZ5Wkr5L",
        "colab_type": "text"
      },
      "source": [
        "### Afine Transformations\n",
        "An Afine transformation multiplies a vector by a matrix and adds an offset vector, sometimes referred to as *bias*; like this:\n",
        "\n",
        "$$T(\\vec{v}) = A\\vec{v} + \\vec{b}$$\n",
        "\n",
        "For example:\n",
        "\n",
        "\\begin{equation}\\begin{bmatrix}5 & 2\\\\3 & 1\\end{bmatrix} \\cdot  \\begin{bmatrix}1\\\\1\\end{bmatrix} + \\begin{bmatrix}-2\\\\-6\\end{bmatrix} = \\begin{bmatrix}5\\\\-2\\end{bmatrix}\\end{equation}\n",
        "\n",
        "This kind of transformation is actually the basis of linear regression, which is a core foundation for machine learning. The matrix defines the *features*, the first vector is the *coefficients*, and the bias vector is the *intercept*.\n",
        "\n",
        "here's an example of an Afine transformation in Python:"
      ]
    },
    {
      "cell_type": "code",
      "metadata": {
        "id": "nOL7CvQOkr5L",
        "colab_type": "code",
        "colab": {}
      },
      "source": [
        "import numpy as np\n",
        "import matplotlib.pyplot as plt\n",
        "%matplotlib inline\n",
        "\n",
        "v = np.array([1,1])\n",
        "A = np.array([[5,2],\n",
        "              [3,1]])\n",
        "b = np.array([-2,-6])\n",
        "\n",
        "t = A@v + b\n",
        "print (t)\n",
        "\n",
        "# Plot v and t\n",
        "vecs = np.array([v,t])\n",
        "origin = [0], [0]\n",
        "plt.axis('equal')\n",
        "plt.grid()\n",
        "plt.ticklabel_format(style='sci', axis='both', scilimits=(0,0))\n",
        "plt.quiver(*origin, vecs[:,0], vecs[:,1], color=['orange', 'blue'], scale=15)\n",
        "plt.show()"
      ],
      "execution_count": 0,
      "outputs": []
    },
    {
      "cell_type": "markdown",
      "metadata": {
        "id": "FAyQ_rCDkr5P",
        "colab_type": "text"
      },
      "source": [
        "### Eigenvectors and Eigenvalues\n",
        "So we can see that when you transform a vector using a matrix, we change its direction, length, or both. When the transformation only affects scale (in other words, the output vector has a different magnitude but the same amplitude as the input vector), the matrix multiplication for the transformation is the equivalent operation as some scalar multiplication of the vector.\n",
        "\n",
        "For example, earlier we examined the following transformation that dot-mulitplies a vector by a matrix:\n",
        "\n",
        "$$\\begin{bmatrix}2 & 0\\\\0 & 2\\end{bmatrix} \\cdot  \\begin{bmatrix}1\\\\0\\end{bmatrix} = \\begin{bmatrix}2\\\\0\\end{bmatrix}$$\n",
        "\n",
        "You can achieve the same result by mulitplying the vector by the scalar value ***2***:\n",
        "\n",
        "$$2 \\times \\begin{bmatrix}1\\\\0\\end{bmatrix} = \\begin{bmatrix}2\\\\0\\end{bmatrix}$$\n",
        "\n",
        "The following python performs both of these calculation and shows the results, which are identical."
      ]
    },
    {
      "cell_type": "code",
      "metadata": {
        "id": "R1dKWI3rkr5P",
        "colab_type": "code",
        "colab": {}
      },
      "source": [
        "import numpy as np\n",
        "import matplotlib.pyplot as plt\n",
        "%matplotlib inline\n",
        "\n",
        "v = np.array([1,0])\n",
        "A = np.array([[2,0],\n",
        "              [0,2]])\n",
        "\n",
        "t1 = A@v\n",
        "print (t1)\n",
        "t2 = 2*v\n",
        "print (t2)\n",
        "\n",
        "fig = plt.figure()\n",
        "a=fig.add_subplot(1,1,1)\n",
        "# Plot v and t1\n",
        "vecs = np.array([t1,v])\n",
        "origin = [0], [0]\n",
        "plt.axis('equal')\n",
        "plt.grid()\n",
        "plt.ticklabel_format(style='sci', axis='both', scilimits=(0,0))\n",
        "plt.quiver(*origin, vecs[:,0], vecs[:,1], color=['blue', 'orange'], scale=10)\n",
        "plt.show()\n",
        "a=fig.add_subplot(1,2,1)\n",
        "# Plot v and t2\n",
        "vecs = np.array([t2,v])\n",
        "origin = [0], [0]\n",
        "plt.axis('equal')\n",
        "plt.grid()\n",
        "plt.ticklabel_format(style='sci', axis='both', scilimits=(0,0))\n",
        "plt.quiver(*origin, vecs[:,0], vecs[:,1], color=['blue', 'orange'], scale=10)\n",
        "plt.show()"
      ],
      "execution_count": 0,
      "outputs": []
    },
    {
      "cell_type": "markdown",
      "metadata": {
        "id": "1IDjgthPkr5S",
        "colab_type": "text"
      },
      "source": [
        "In cases like these, where a matrix transformation is the equivelent of a scalar-vector multiplication, the scalar-vector pairs that correspond to the matrix are known respectively as eigenvalues and eigenvectors. We generally indicate eigenvalues using the Greek letter lambda (&lambda;), and the formula that defines eigenvalues and eigenvectors with respect to a transformation is:\n",
        "\n",
        "$$ T(\\vec{v}) = \\lambda\\vec{v}$$\n",
        "\n",
        "Where the vector ***v*** is an eigenvector and the value ***&lambda;*** is an eigenvalue for transformation ***T***.\n",
        "\n",
        "When the transformation ***T*** is represented as a matrix multiplication, as in this case where the transformation is represented by matrix ***A***:\n",
        "\n",
        "$$ T(\\vec{v}) = A\\vec{v} = \\lambda\\vec{v}$$\n",
        "\n",
        "Then  ***v*** is an eigenvector and ***&lambda;*** is an eigenvalue of ***A***.\n",
        "\n",
        "A matrix can have multiple eigenvector-eigenvalue pairs, and you can calculate them manually. However, it's generally easier to use a tool or programming language. For example, in Python you can use the ***linalg.eig*** function, which returns an array of eigenvalues and a matrix of the corresponding eigenvectors for the specified matrix.\n",
        "\n",
        "Here's an example that returns the eigenvalue and eigenvector pairs for the following matrix:\n",
        "\n",
        "$$A=\\begin{bmatrix}2 & 0\\\\0 & 3\\end{bmatrix}$$"
      ]
    },
    {
      "cell_type": "code",
      "metadata": {
        "id": "Im-EyqJSkr5S",
        "colab_type": "code",
        "colab": {}
      },
      "source": [
        "import numpy as np\n",
        "A = np.array([[2,0],\n",
        "              [0,3]])\n",
        "eVals, eVecs = np.linalg.eig(A)\n",
        "print(eVals)\n",
        "print(eVecs)"
      ],
      "execution_count": 0,
      "outputs": []
    },
    {
      "cell_type": "markdown",
      "metadata": {
        "id": "5Op8rMDKkr5W",
        "colab_type": "text"
      },
      "source": [
        "So there are two eigenvalue-eigenvector pairs for this matrix, as shown here:\n",
        "\n",
        "$$ \\lambda_{1} = 2, \\vec{v_{1}} = \\begin{bmatrix}1 \\\\ 0\\end{bmatrix}  \\;\\;\\;\\;\\;\\; \\lambda_{2} = 3, \\vec{v_{2}} = \\begin{bmatrix}0 \\\\ 1\\end{bmatrix} $$\n",
        "\n",
        "Let's verify that multiplying each eigenvalue-eigenvector pair corresponds to the dot-product of the eigenvector and the matrix. Here's the first pair:\n",
        "\n",
        "$$ 2 \\times \\begin{bmatrix}1 \\\\ 0\\end{bmatrix} = \\begin{bmatrix}2 \\\\ 0\\end{bmatrix}  \\;\\;\\;and\\;\\;\\; \\begin{bmatrix}2 & 0\\\\0 & 3\\end{bmatrix} \\cdot \\begin{bmatrix}1 \\\\ 0\\end{bmatrix} = \\begin{bmatrix}2 \\\\ 0\\end{bmatrix} $$\n",
        "\n",
        "So far so good. Now let's check the second pair:\n",
        "\n",
        "$$ 3 \\times \\begin{bmatrix}0 \\\\ 1\\end{bmatrix} = \\begin{bmatrix}0 \\\\ 3\\end{bmatrix}  \\;\\;\\;and\\;\\;\\; \\begin{bmatrix}2 & 0\\\\0 & 3\\end{bmatrix} \\cdot \\begin{bmatrix}0 \\\\ 1\\end{bmatrix} = \\begin{bmatrix}0 \\\\ 3\\end{bmatrix} $$\n",
        "\n",
        "So our eigenvalue-eigenvector scalar multiplications do indeed correspond to our matrix-eigenvector dot-product transformations.\n",
        "\n",
        "Here's the equivalent code in Python, using the ***eVals*** and ***eVecs*** variables you generated in the previous code cell:"
      ]
    },
    {
      "cell_type": "code",
      "metadata": {
        "id": "gbktPbZQkr5X",
        "colab_type": "code",
        "colab": {}
      },
      "source": [
        "vec1 = eVecs[:,0]\n",
        "lam1 = eVals[0]\n",
        "\n",
        "print('Matrix A:')\n",
        "print(A)\n",
        "print('-------')\n",
        "\n",
        "print('lam1: ' + str(lam1))\n",
        "print ('v1: ' + str(vec1))\n",
        "print ('Av1: ' + str(A@vec1))\n",
        "print ('lam1 x v1: ' + str(lam1*vec1))\n",
        "\n",
        "print('-------')\n",
        "\n",
        "vec2 = eVecs[:,1]\n",
        "lam2 = eVals[1]\n",
        "\n",
        "print('lam2: ' + str(lam2))\n",
        "print ('v2: ' + str(vec2))\n",
        "print ('Av2: ' + str(A@vec2))\n",
        "print ('lam2 x v2: ' + str(lam2*vec2))"
      ],
      "execution_count": 0,
      "outputs": []
    },
    {
      "cell_type": "markdown",
      "metadata": {
        "id": "aZkcsezokr5a",
        "colab_type": "text"
      },
      "source": [
        "You can use the following code to visualize these transformations:"
      ]
    },
    {
      "cell_type": "code",
      "metadata": {
        "id": "83DQAFMikr5b",
        "colab_type": "code",
        "colab": {}
      },
      "source": [
        "t1 = lam1*vec1\n",
        "print (t1)\n",
        "t2 = lam2*vec2\n",
        "print (t2)\n",
        "\n",
        "fig = plt.figure()\n",
        "a=fig.add_subplot(1,1,1)\n",
        "# Plot v and t1\n",
        "vecs = np.array([t1,vec1])\n",
        "origin = [0], [0]\n",
        "plt.axis('equal')\n",
        "plt.grid()\n",
        "plt.ticklabel_format(style='sci', axis='both', scilimits=(0,0))\n",
        "plt.quiver(*origin, vecs[:,0], vecs[:,1], color=['blue', 'orange'], scale=10)\n",
        "plt.show()\n",
        "a=fig.add_subplot(1,2,1)\n",
        "# Plot v and t2\n",
        "vecs = np.array([t2,vec2])\n",
        "origin = [0], [0]\n",
        "plt.axis('equal')\n",
        "plt.grid()\n",
        "plt.ticklabel_format(style='sci', axis='both', scilimits=(0,0))\n",
        "plt.quiver(*origin, vecs[:,0], vecs[:,1], color=['blue', 'orange'], scale=10)\n",
        "plt.show()"
      ],
      "execution_count": 0,
      "outputs": []
    },
    {
      "cell_type": "markdown",
      "metadata": {
        "id": "2BGBbVI0kr5e",
        "colab_type": "text"
      },
      "source": [
        "Similarly, earlier we examined the following matrix transformation:\n",
        "\n",
        "$$\\begin{bmatrix}2 & 0\\\\0 & 2\\end{bmatrix} \\cdot  \\begin{bmatrix}1\\\\0\\end{bmatrix} = \\begin{bmatrix}2\\\\0\\end{bmatrix}$$\n",
        "\n",
        "And we saw that you can achieve the same result by mulitplying the vector by the scalar value ***2***:\n",
        "\n",
        "$$2 \\times \\begin{bmatrix}1\\\\0\\end{bmatrix} = \\begin{bmatrix}2\\\\0\\end{bmatrix}$$\n",
        "\n",
        "This works because the scalar value 2 and the vector (1,0) are an eigenvalue-eigenvector pair for this matrix.\n",
        "\n",
        "Let's use Python to determine the eigenvalue-eigenvector pairs for this matrix:"
      ]
    },
    {
      "cell_type": "code",
      "metadata": {
        "id": "cjBII_cAkr5e",
        "colab_type": "code",
        "colab": {}
      },
      "source": [
        "import numpy as np\n",
        "A = np.array([[2,0],\n",
        "              [0,2]])\n",
        "eVals, eVecs = np.linalg.eig(A)\n",
        "print(eVals)\n",
        "print(eVecs)"
      ],
      "execution_count": 0,
      "outputs": []
    },
    {
      "cell_type": "markdown",
      "metadata": {
        "id": "8-jA5K2qkr5j",
        "colab_type": "text"
      },
      "source": [
        "So once again, there are two eigenvalue-eigenvector pairs for this matrix, as shown here:\n",
        "\n",
        "$$ \\lambda_{1} = 2, \\vec{v_{1}} = \\begin{bmatrix}1 \\\\ 0\\end{bmatrix}  \\;\\;\\;\\;\\;\\; \\lambda_{2} = 2, \\vec{v_{2}} = \\begin{bmatrix}0 \\\\ 1\\end{bmatrix} $$\n",
        "\n",
        "Let's verify that multiplying each eigenvalue-eigenvector pair corresponds to the dot-product of the eigenvector and the matrix. Here's the first pair:\n",
        "\n",
        "$$ 2 \\times \\begin{bmatrix}1 \\\\ 0\\end{bmatrix} = \\begin{bmatrix}2 \\\\ 0\\end{bmatrix}  \\;\\;\\;and\\;\\;\\; \\begin{bmatrix}2 & 0\\\\0 & 2\\end{bmatrix} \\cdot \\begin{bmatrix}1 \\\\ 0\\end{bmatrix} = \\begin{bmatrix}2 \\\\ 0\\end{bmatrix} $$\n",
        "\n",
        "Well, we already knew that. Now let's check the second pair:\n",
        "\n",
        "$$ 2 \\times \\begin{bmatrix}0 \\\\ 1\\end{bmatrix} = \\begin{bmatrix}0 \\\\ 2\\end{bmatrix}  \\;\\;\\;and\\;\\;\\; \\begin{bmatrix}2 & 0\\\\0 & 2\\end{bmatrix} \\cdot \\begin{bmatrix}0 \\\\ 1\\end{bmatrix} = \\begin{bmatrix}0 \\\\ 2\\end{bmatrix} $$\n",
        "\n",
        "Now let's use Pythonto verify and plot these transformations:"
      ]
    },
    {
      "cell_type": "code",
      "metadata": {
        "id": "YsR6Yq4nkr5k",
        "colab_type": "code",
        "colab": {}
      },
      "source": [
        "vec1 = eVecs[:,0]\n",
        "lam1 = eVals[0]\n",
        "\n",
        "print('Matrix A:')\n",
        "print(A)\n",
        "print('-------')\n",
        "\n",
        "print('lam1: ' + str(lam1))\n",
        "print ('v1: ' + str(vec1))\n",
        "print ('Av1: ' + str(A@vec1))\n",
        "print ('lam1 x v1: ' + str(lam1*vec1))\n",
        "\n",
        "print('-------')\n",
        "\n",
        "vec2 = eVecs[:,1]\n",
        "lam2 = eVals[1]\n",
        "\n",
        "print('lam2: ' + str(lam2))\n",
        "print ('v2: ' + str(vec2))\n",
        "print ('Av2: ' + str(A@vec2))\n",
        "print ('lam2 x v2: ' + str(lam2*vec2))\n",
        "\n",
        "\n",
        "# Plot the resulting vectors\n",
        "t1 = lam1*vec1\n",
        "t2 = lam2*vec2\n",
        "\n",
        "fig = plt.figure()\n",
        "a=fig.add_subplot(1,1,1)\n",
        "# Plot v and t1\n",
        "vecs = np.array([t1,vec1])\n",
        "origin = [0], [0]\n",
        "plt.axis('equal')\n",
        "plt.grid()\n",
        "plt.ticklabel_format(style='sci', axis='both', scilimits=(0,0))\n",
        "plt.quiver(*origin, vecs[:,0], vecs[:,1], color=['blue', 'orange'], scale=10)\n",
        "plt.show()\n",
        "a=fig.add_subplot(1,2,1)\n",
        "# Plot v and t2\n",
        "vecs = np.array([t2,vec2])\n",
        "origin = [0], [0]\n",
        "plt.axis('equal')\n",
        "plt.grid()\n",
        "plt.ticklabel_format(style='sci', axis='both', scilimits=(0,0))\n",
        "plt.quiver(*origin, vecs[:,0], vecs[:,1], color=['blue', 'orange'], scale=10)\n",
        "plt.show()"
      ],
      "execution_count": 0,
      "outputs": []
    },
    {
      "cell_type": "markdown",
      "metadata": {
        "id": "hJ4mdCynkr5o",
        "colab_type": "text"
      },
      "source": [
        "Let's take a look at one more, slightly more complex example. Here's our matrix:\n",
        "\n",
        "$$\\begin{bmatrix}2 & 1\\\\1 & 2\\end{bmatrix}$$\n",
        "\n",
        "Let's get the eigenvalue and eigenvector pairs:"
      ]
    },
    {
      "cell_type": "code",
      "metadata": {
        "id": "-Sui2dx1kr5p",
        "colab_type": "code",
        "colab": {}
      },
      "source": [
        "import numpy as np\n",
        "\n",
        "A = np.array([[2,1],\n",
        "              [1,2]])\n",
        "\n",
        "eVals, eVecs = np.linalg.eig(A)\n",
        "print(eVals)\n",
        "print(eVecs)"
      ],
      "execution_count": 0,
      "outputs": []
    },
    {
      "cell_type": "markdown",
      "metadata": {
        "id": "FEH5tjM9kr5t",
        "colab_type": "text"
      },
      "source": [
        "This time the eigenvalue-eigenvector pairs are:\n",
        "\n",
        "$$ \\lambda_{1} = 3, \\vec{v_{1}} = \\begin{bmatrix}0.70710678 \\\\ 0.70710678\\end{bmatrix}  \\;\\;\\;\\;\\;\\; \\lambda_{2} = 1, \\vec{v_{2}} = \\begin{bmatrix}-0.70710678 \\\\ 0.70710678\\end{bmatrix} $$\n",
        "\n",
        "So let's check the first pair:\n",
        "\n",
        "$$ 3 \\times \\begin{bmatrix}0.70710678 \\\\ 0.70710678\\end{bmatrix} = \\begin{bmatrix}2.12132034 \\\\ 2.12132034\\end{bmatrix}  \\;\\;\\;and\\;\\;\\; \\begin{bmatrix}2 & 1\\\\0 & 2\\end{bmatrix} \\cdot \\begin{bmatrix}0.70710678 \\\\ 0.70710678\\end{bmatrix} = \\begin{bmatrix}2.12132034 \\\\ 2.12132034\\end{bmatrix} $$\n",
        "\n",
        "Now let's check the second pair:\n",
        "\n",
        "$$ 1 \\times \\begin{bmatrix}-0.70710678 \\\\ 0.70710678\\end{bmatrix} = \\begin{bmatrix}-0.70710678\\\\0.70710678\\end{bmatrix}  \\;\\;\\;and\\;\\;\\; \\begin{bmatrix}2 & 1\\\\1 & 2\\end{bmatrix} \\cdot \\begin{bmatrix}-0.70710678 \\\\ 0.70710678\\end{bmatrix} = \\begin{bmatrix}-0.70710678\\\\0.70710678\\end{bmatrix} $$\n",
        "\n",
        "With more complex examples like this, it's generally easier to do it with Python:"
      ]
    },
    {
      "cell_type": "code",
      "metadata": {
        "id": "ABb1NV4Dkr5t",
        "colab_type": "code",
        "colab": {}
      },
      "source": [
        "vec1 = eVecs[:,0]\n",
        "lam1 = eVals[0]\n",
        "\n",
        "print('Matrix A:')\n",
        "print(A)\n",
        "print('-------')\n",
        "\n",
        "print('lam1: ' + str(lam1))\n",
        "print ('v1: ' + str(vec1))\n",
        "print ('Av1: ' + str(A@vec1))\n",
        "print ('lam1 x v1: ' + str(lam1*vec1))\n",
        "\n",
        "print('-------')\n",
        "\n",
        "vec2 = eVecs[:,1]\n",
        "lam2 = eVals[1]\n",
        "\n",
        "print('lam2: ' + str(lam2))\n",
        "print ('v2: ' + str(vec2))\n",
        "print ('Av2: ' + str(A@vec2))\n",
        "print ('lam2 x v2: ' + str(lam2*vec2))\n",
        "\n",
        "\n",
        "# Plot the results\n",
        "t1 = lam1*vec1\n",
        "t2 = lam2*vec2\n",
        "\n",
        "fig = plt.figure()\n",
        "a=fig.add_subplot(1,1,1)\n",
        "# Plot v and t1\n",
        "vecs = np.array([t1,vec1])\n",
        "origin = [0], [0]\n",
        "plt.axis('equal')\n",
        "plt.grid()\n",
        "plt.ticklabel_format(style='sci', axis='both', scilimits=(0,0))\n",
        "plt.quiver(*origin, vecs[:,0], vecs[:,1], color=['blue', 'orange'], scale=10)\n",
        "plt.show()\n",
        "a=fig.add_subplot(1,2,1)\n",
        "# Plot v and t2\n",
        "vecs = np.array([t2,vec2])\n",
        "origin = [0], [0]\n",
        "plt.axis('equal')\n",
        "plt.grid()\n",
        "plt.ticklabel_format(style='sci', axis='both', scilimits=(0,0))\n",
        "plt.quiver(*origin, vecs[:,0], vecs[:,1], color=['blue', 'orange'], scale=10)\n",
        "plt.show()"
      ],
      "execution_count": 0,
      "outputs": []
    },
    {
      "cell_type": "markdown",
      "metadata": {
        "id": "VcmaWylEkr5x",
        "colab_type": "text"
      },
      "source": [
        "### Eigendecomposition\n",
        "So we've learned a little about eigenvalues and eigenvectors; but you may be wondering what use they are. Well, one use for them is to help decompose transformation matrices.\n",
        "\n",
        "Recall that previously we found that a matrix transformation of a vector changes its magnitude, amplitude, or both. Without getting too technical about it, we need to remember that vectors can exist in any spatial orientation, or *basis*; and the same transformation can be applied in different *bases*.\n",
        "\n",
        "We can decompose a matrix using the following formula:\n",
        "\n",
        "$$A = Q \\Lambda Q^{-1}$$\n",
        "\n",
        "Where ***A*** is a trasformation that can be applied to a vector in its current base, ***Q*** is a matrix of eigenvectors that defines a change of basis, and ***&Lambda;*** is a matrix with eigenvalues on the diagonal that defines the same linear transformation as ***A*** in the base defined by ***Q***.\n",
        "\n",
        "Let's look at these in some more detail. Consider this matrix:\n",
        "\n",
        "$$A=\\begin{bmatrix}3 & 2\\\\1 & 0\\end{bmatrix}$$\n",
        "\n",
        "***Q*** is a matrix in which each column is an eigenvector of ***A***; which as we've seen previously, we can calculate using Python:"
      ]
    },
    {
      "cell_type": "code",
      "metadata": {
        "id": "iEXOZ3VLkr5y",
        "colab_type": "code",
        "colab": {}
      },
      "source": [
        "import numpy as np\n",
        "\n",
        "A = np.array([[3,2],\n",
        "              [1,0]])\n",
        "\n",
        "l, Q = np.linalg.eig(A)\n",
        "print(Q)"
      ],
      "execution_count": 0,
      "outputs": []
    },
    {
      "cell_type": "markdown",
      "metadata": {
        "id": "ZrTsLZd_kr53",
        "colab_type": "text"
      },
      "source": [
        "So for matrix ***A***, ***Q*** is the following matrix:\n",
        "\n",
        "$$Q=\\begin{bmatrix}0.96276969 & -0.48963374\\\\0.27032301 & 0.87192821\\end{bmatrix}$$\n",
        "\n",
        "***&Lambda;*** is a matrix that contains the eigenvalues for ***A*** on the diagonal, with zeros in all other elements; so for a 2x2 matrix, &Lambda; will look like this:\n",
        "\n",
        "$$\\Lambda=\\begin{bmatrix}\\lambda_{1} & 0\\\\0 & \\lambda_{2}\\end{bmatrix}$$\n",
        "\n",
        "In our Python code, we've already used the ***linalg.eig*** function to return the array of eigenvalues for ***A*** into the variable ***l***, so now we just need to format that as a matrix:"
      ]
    },
    {
      "cell_type": "code",
      "metadata": {
        "id": "MDPnDYWRkr53",
        "colab_type": "code",
        "colab": {}
      },
      "source": [
        "L = np.diag(l)\n",
        "print (L)"
      ],
      "execution_count": 0,
      "outputs": []
    },
    {
      "cell_type": "markdown",
      "metadata": {
        "id": "QtBBqYIFkr56",
        "colab_type": "text"
      },
      "source": [
        "So ***&Lambda;*** is the following matrix:\n",
        "\n",
        "$$\\Lambda=\\begin{bmatrix}3.56155281 & 0\\\\0 & -0.56155281\\end{bmatrix}$$\n",
        "\n",
        "Now we just need to find ***Q<sup>-1</sup>***, which is the inverse of ***Q***:"
      ]
    },
    {
      "cell_type": "code",
      "metadata": {
        "id": "T47HKE4nkr57",
        "colab_type": "code",
        "colab": {}
      },
      "source": [
        "Qinv = np.linalg.inv(Q)\n",
        "print(Qinv)"
      ],
      "execution_count": 0,
      "outputs": []
    },
    {
      "cell_type": "markdown",
      "metadata": {
        "id": "_77yqS3Ykr59",
        "colab_type": "text"
      },
      "source": [
        "The inverse of ***Q*** then, is:\n",
        "\n",
        "$$Q^{-1}=\\begin{bmatrix}0.89720673 & 0.50382896\\\\-0.27816009 & 0.99068183\\end{bmatrix}$$\n",
        "\n",
        "So what does that mean? Well, it means that we can decompose the transformation of *any* vector multiplied by matrix ***A*** into the separate operations ***Q&Lambda;Q<sup>-1</sup>***:\n",
        "\n",
        "$$A\\vec{v} = Q \\Lambda Q^{-1}\\vec{v}$$\n",
        "\n",
        "To prove this, let's take vector ***v***:\n",
        "\n",
        "$$\\vec{v} = \\begin{bmatrix}1\\\\3\\end{bmatrix} $$\n",
        "\n",
        "Our matrix transformation using ***A*** is:\n",
        "\n",
        "$$\\begin{bmatrix}3 & 2\\\\1 & 0\\end{bmatrix} \\cdot \\begin{bmatrix}1\\\\3\\end{bmatrix} $$\n",
        "\n",
        "So let's show the results of that using Python:"
      ]
    },
    {
      "cell_type": "code",
      "metadata": {
        "id": "wZXNwBP3kr59",
        "colab_type": "code",
        "colab": {}
      },
      "source": [
        "v = np.array([1,3])\n",
        "t = A@v\n",
        "\n",
        "print(t)\n",
        "\n",
        "# Plot v and t\n",
        "vecs = np.array([v,t])\n",
        "origin = [0], [0]\n",
        "plt.axis('equal')\n",
        "plt.grid()\n",
        "plt.ticklabel_format(style='sci', axis='both', scilimits=(0,0))\n",
        "plt.quiver(*origin, vecs[:,0], vecs[:,1], color=['orange', 'b'], scale=20)\n",
        "plt.show()"
      ],
      "execution_count": 0,
      "outputs": []
    },
    {
      "cell_type": "markdown",
      "metadata": {
        "id": "x8Gg6uBfkr6A",
        "colab_type": "text"
      },
      "source": [
        "And now, let's do the same thing using the ***Q&Lambda;Q<sup>-1</sup>*** sequence of operations:"
      ]
    },
    {
      "cell_type": "code",
      "metadata": {
        "scrolled": true,
        "id": "BC7Z6JXkkr6A",
        "colab_type": "code",
        "colab": {}
      },
      "source": [
        "import math\n",
        "import numpy as np\n",
        "import matplotlib.pyplot as plt\n",
        "%matplotlib inline\n",
        "\n",
        "t = (Q@(L@(Qinv)))@v\n",
        "\n",
        "# Plot v and t\n",
        "vecs = np.array([v,t])\n",
        "origin = [0], [0]\n",
        "plt.axis('equal')\n",
        "plt.grid()\n",
        "plt.ticklabel_format(style='sci', axis='both', scilimits=(0,0))\n",
        "plt.quiver(*origin, vecs[:,0], vecs[:,1], color=['orange', 'b'], scale=20)\n",
        "plt.show()"
      ],
      "execution_count": 0,
      "outputs": []
    },
    {
      "cell_type": "markdown",
      "metadata": {
        "id": "NkTs2WNdkr6D",
        "colab_type": "text"
      },
      "source": [
        "So ***A*** and ***Q&Lambda;Q<sup>-1</sup>*** are equivalent.\n",
        "\n",
        "If we view the intermediary stages of the decomposed transformation, you can see the transformation using ***A*** in the original base for ***v*** (orange to blue) and the transformation using ***&Lambda;*** in the change of basis decribed by ***Q*** (red to magenta):"
      ]
    },
    {
      "cell_type": "code",
      "metadata": {
        "id": "u7kRXthTkr6D",
        "colab_type": "code",
        "colab": {}
      },
      "source": [
        "import numpy as np\n",
        "import matplotlib.pyplot as plt\n",
        "%matplotlib inline\n",
        "\n",
        "t1 = Qinv@v\n",
        "t2 = L@t1\n",
        "t3 = Q@t2\n",
        "\n",
        "# Plot the transformations\n",
        "vecs = np.array([v,t1, t2, t3])\n",
        "origin = [0], [0]\n",
        "plt.axis('equal')\n",
        "plt.grid()\n",
        "plt.ticklabel_format(style='sci', axis='both', scilimits=(0,0))\n",
        "plt.quiver(*origin, vecs[:,0], vecs[:,1], color=['orange', 'red', 'magenta', 'blue'], scale=20)\n",
        "plt.show()"
      ],
      "execution_count": 0,
      "outputs": []
    },
    {
      "cell_type": "markdown",
      "metadata": {
        "id": "_8F_reHIkr6I",
        "colab_type": "text"
      },
      "source": [
        "So from this visualization, it should be apparent that the transformation ***Av*** can be performed by changing the basis for ***v*** using ***Q*** (from orange to red in the above plot) applying the equivalent linear transformation in that base using ***&Lambda;*** (red to magenta), and switching back to the original base using ***Q<sup>-1</sup>*** (magenta to blue)."
      ]
    },
    {
      "cell_type": "markdown",
      "metadata": {
        "id": "_5zYIefUkr6I",
        "colab_type": "text"
      },
      "source": [
        "### Rank of a Matrix\n",
        "\n",
        "The **rank** of a square matrix is the number of non-zero eigenvalues of the matrix. A **full rank** matrix has the same number of non-zero eigenvalues as the dimension of the matrix. A **rank-deficient** matrix has fewer non-zero eigenvalues as dimensions. The inverse of a rank deficient matrix is singular and so does not exist (this is why in a previous notebook we noted that some matrices have no inverse).\n",
        "\n",
        "Consider the following matrix ***A***:\n",
        "\n",
        "$$A=\\begin{bmatrix}1 & 2\\\\4 & 3\\end{bmatrix}$$\n",
        "\n",
        "Let's find its eigenvalues (***&Lambda;***):"
      ]
    },
    {
      "cell_type": "code",
      "metadata": {
        "id": "lZPl0V2qkr6J",
        "colab_type": "code",
        "colab": {}
      },
      "source": [
        "import numpy as np\n",
        "A = np.array([[1,2],\n",
        "              [4,3]])\n",
        "l, Q = np.linalg.eig(A)\n",
        "L = np.diag(l)\n",
        "print(L)"
      ],
      "execution_count": 0,
      "outputs": []
    },
    {
      "cell_type": "markdown",
      "metadata": {
        "id": "mghmGqDAkr6M",
        "colab_type": "text"
      },
      "source": [
        "$$\\Lambda=\\begin{bmatrix}-1 & 0\\\\0 & 5\\end{bmatrix}$$\n",
        "\n",
        "This matrix has full rank. The dimensions of the matrix is 2. There are two non-zero eigenvalues. \n",
        "\n",
        "Now consider this matrix:\n",
        "\n",
        "$$B=\\begin{bmatrix}3 & -3 & 6\\\\2 & -2 & 4\\\\1 & -1 & 2\\end{bmatrix}$$\n",
        "\n",
        "Note that the second and third columns are just scalar multiples of the first column.\n",
        "\n",
        "Let's examine it's eigenvalues:"
      ]
    },
    {
      "cell_type": "code",
      "metadata": {
        "id": "j1ZwAGaxkr6N",
        "colab_type": "code",
        "colab": {}
      },
      "source": [
        "B = np.array([[3,-3,6],\n",
        "              [2,-2,4],\n",
        "              [1,-1,2]])\n",
        "lb, Qb = np.linalg.eig(B)\n",
        "Lb = np.diag(lb)\n",
        "print(Lb)"
      ],
      "execution_count": 0,
      "outputs": []
    },
    {
      "cell_type": "markdown",
      "metadata": {
        "id": "xiuH7YW9kr6P",
        "colab_type": "text"
      },
      "source": [
        "$$\\Lambda=\\begin{bmatrix}3 & 0& 0\\\\0 & -6\\times10^{-17} & 0\\\\0 & 0 & 3.6\\times10^{-16}\\end{bmatrix}$$\n",
        "\n",
        "Note that matrix has only 1 non-zero eigenvalue. The other two eigenvalues are so extremely small as to be effectively zero. This is an example of a rank-deficient matrix; and as such, it has no inverse."
      ]
    },
    {
      "cell_type": "markdown",
      "metadata": {
        "id": "RmNot_xokr6Q",
        "colab_type": "text"
      },
      "source": [
        "### Inverse of a Square Full Rank Matrix\n",
        "You can calculate the inverse of a square full rank matrix by using the following formula:\n",
        "\n",
        "$$A^{-1} = Q \\Lambda^{-1} Q^{-1}$$\n",
        "\n",
        "Let's apply this to matrix ***A***:\n",
        "\n",
        "$$A=\\begin{bmatrix}1 & 2\\\\4 & 3\\end{bmatrix}$$\n",
        "\n",
        "Let's find the matrices for ***Q***, ***&Lambda;<sup>-1</sup>***, and ***Q<sup>-1</sup>***:"
      ]
    },
    {
      "cell_type": "code",
      "metadata": {
        "id": "FcvCJ7Wxkr6T",
        "colab_type": "code",
        "colab": {}
      },
      "source": [
        "import numpy as np\n",
        "A = np.array([[1,2],\n",
        "              [4,3]])\n",
        "\n",
        "l, Q = np.linalg.eig(A)\n",
        "L = np.diag(l)\n",
        "print(Q)\n",
        "Linv = np.linalg.inv(L)\n",
        "Qinv = np.linalg.inv(Q)\n",
        "print(Linv)\n",
        "print(Qinv)"
      ],
      "execution_count": 0,
      "outputs": []
    },
    {
      "cell_type": "markdown",
      "metadata": {
        "id": "PkgBocm6kr6V",
        "colab_type": "text"
      },
      "source": [
        "So:\n",
        "\n",
        "$$A^{-1}=\\begin{bmatrix}-0.70710678 & -0.4472136\\\\0.70710678 & -0.89442719\\end{bmatrix}\\cdot\\begin{bmatrix}-1 & -0\\\\0 & 0.2\\end{bmatrix}\\cdot\\begin{bmatrix}-0.94280904 & 0.47140452\\\\-0.74535599 & -0.74535599\\end{bmatrix}$$\n",
        "\n",
        "Let's calculate that in Python:"
      ]
    },
    {
      "cell_type": "code",
      "metadata": {
        "id": "Fi4EXx3Xkr6W",
        "colab_type": "code",
        "colab": {}
      },
      "source": [
        "Ainv = (Q@(Linv@(Qinv)))\n",
        "print(Ainv)"
      ],
      "execution_count": 0,
      "outputs": []
    },
    {
      "cell_type": "markdown",
      "metadata": {
        "id": "sRjBEBaGkr6a",
        "colab_type": "text"
      },
      "source": [
        "That gives us the result:\n",
        "\n",
        "$$A^{-1}=\\begin{bmatrix}-0.6 & 0.4\\\\0.8 & -0.2\\end{bmatrix}$$\n",
        "\n",
        "We can apply the ***np.linalg.inv*** function directly to ***A*** to verify this:"
      ]
    },
    {
      "cell_type": "code",
      "metadata": {
        "id": "7FOEhdk6kr6b",
        "colab_type": "code",
        "colab": {}
      },
      "source": [
        "print(np.linalg.inv(A))"
      ],
      "execution_count": 0,
      "outputs": []
    },
    {
      "cell_type": "markdown",
      "metadata": {
        "id": "2FlW4PoTluk_",
        "colab_type": "text"
      },
      "source": [
        "## 11. Data and Data Visualization"
      ]
    },
    {
      "cell_type": "markdown",
      "metadata": {
        "id": "h9Hxdt6wllvX",
        "colab_type": "text"
      },
      "source": [
        "Machine learning, and therefore a large part of AI, is based on statistical analysis of data. In this notebook, you'll examine some fundamental concepts related to data and data visualization."
      ]
    },
    {
      "cell_type": "markdown",
      "metadata": {
        "id": "gykliVttllve",
        "colab_type": "text"
      },
      "source": [
        "### Introduction to Data\n",
        "Statistics are based on data, which consist of a collection of pieces of information about things you want to study. This information can take the form of descriptions, quantities, measurements, and other observations. Typically, we work with related data items in a *dataset*, which often consists of a collection of *observations* or *cases*. Most commonly, we thing about this dataset as a table that consists of a row for each observation, and a column for each individual data point related to that observation - we variously call these data points *attributes* or *features*, and they each describe a specific characteristic of the thing we're observing.\n",
        "\n",
        "Let's take a look at a real example. In 1886, Francis Galton conducted a study into the relationship between heights of parents and their (adult) children. Run the Python code below to view the data he collected (you can safely ignore a deprecation warning if it is displayed):"
      ]
    },
    {
      "cell_type": "code",
      "metadata": {
        "scrolled": true,
        "id": "7REhkQJjllvg",
        "colab_type": "code",
        "colab": {}
      },
      "source": [
        "import statsmodels.api as sm\n",
        "\n",
        "df = sm.datasets.get_rdataset('GaltonFamilies', package='HistData').data\n",
        "df"
      ],
      "execution_count": 0,
      "outputs": []
    },
    {
      "cell_type": "markdown",
      "metadata": {
        "id": "FKR3HLIUllvu",
        "colab_type": "text"
      },
      "source": [
        "### Types of Data\n",
        "Now, let's take a closer look at this data (you can click the left margin next to the dataset to toggle between full height and a scrollable pane). There are 933 observations, each one recording information pertaining to an individual child. The information recorded consists of the following features:\n",
        "- **family**: An identifier for the family to which the child belongs.\n",
        "- **father**: The height of the father.\n",
        "- ** mother**: The height of the mother.\n",
        "- **midparentHeight**: The mid-point between the father and mother's heights (calculated as *(father + 1.08 x mother) &div; 2*)\n",
        "- **children**: The total number of children in the family.\n",
        "- **childNum**: The number of the child to whom this observation pertains (Galton numbered the children in desending order of height, with male children listed before female children)\n",
        "- **gender**: The gender of the child to whom this observation pertains.\n",
        "- **childHeight**: The height of the child to whom this observation pertains.\n",
        "\n",
        "It's worth noting that there are several distinct types of data recorded here. To begin with, there are some features that represent *qualities*, or characteristics of the child - for example, gender. Other feaures represent a *quantity* or measurement, such as the child's height. So broadly speaking, we can divide data into *qualitative* and *quantitative* data.\n",
        "\n",
        "#### Qualitative Data\n",
        "Let's take a look at qualitative data first. This type of data is categorical - it is used to categorize or identify the entity being observed. Sometimes you'll see features of this type described as *factors*. \n",
        "##### Nominal Data\n",
        "In his observations of children's height, Galton assigned an identifier to each family and he recorded the gender of each child. Note that even though the **family** identifier is a number, it is not a measurement or quantity. Family 002 it not \"greater\" than family 001, just as a **gender** value of \"male\" does not indicate a larger or smaller value than \"female\". These are simply named values for some characteristic of the child, and as such they're known as *nominal* data.\n",
        "##### Ordinal Data\n",
        "So what about the **childNum** feature? It's not a measurement or quantity - it's just a way to identify individual children within a family. However, the number assigned to each child has some additional meaning - the numbers are ordered. You can find similar data that is text-based; for example, data about training courses might include a \"level\" attribute that indicates the level of the course as \"basic:, \"intermediate\", or \"advanced\". This type of data, where the value is not itself a quantity or measurement, but it indicates some sort of inherent order or heirarchy, is known as *ordinal* data.\n",
        "#### Quantitative Data\n",
        "Now let's turn our attention to the features that indicate some kind of quantity or measurement.\n",
        "##### Discrete Data\n",
        "Galton's observations include the number of **children** in each family. This is a *discrete* quantative data value - it's something we *count* rather than *measure*. You can't, for example, have 2.33 children!\n",
        "##### Continuous Data\n",
        "The data set also includes height values for **father**, **mother**, **midparentHeight**, and **childHeight**. These are measurements along a scale, and as such they're described as *continuous* quantative data values that we *measure* rather than *count*.\n",
        "\n",
        "### Sample vs Population\n",
        "Galton's dataset includes 933 observations. It's safe to assume that this does not account for every person in the world, or even just the UK, in 1886 when the data was collected. In other words, Galton's data represents a *sample* of a larger *population*. It's worth pausing to think about this for a few seconds, because there are some implications for any conclusions we might draw from Galton's observations.\n",
        "\n",
        "Think about how many times you see a claim such as \"one in four Americans enjoys watching football\". How do the people who make this claim know that this is a fact? Have they asked everyone in the the US about their football-watching habits? Well, that would be a bit impractical, so what usually happens is that a study is conducted on a subset of the population, and (assuming that this is a well-conducted study), that subset will be a representative sample of the population as a whole. If the survey was conducted at the stadium where the Superbowl is being played, then the results are likely to be skewed because of a bias in the study participants.\n",
        "\n",
        "Similarly, we might look at Galton's data and assume that the heights of the people included in the study bears some relation to the heights of the general population in 1886; but if Galton specifically selected abnormally tall people for his study, then this assumption would be unfounded.\n",
        "\n",
        "When we deal with statistics, we usually work with a sample of the data rather than a full population. As you'll see later, this affects the way we use notation to indicate statistical measures; and in some cases we calculate statistics from a sample differently than from a full population to account for bias in the sample."
      ]
    },
    {
      "cell_type": "markdown",
      "metadata": {
        "id": "X-h4CZIvllvx",
        "colab_type": "text"
      },
      "source": [
        "### Visualizing Data\n",
        "Data visualization is one of the key ways in which we can examine data and get insights from it. If a picture is worth a thousand words, then a good graph or chart is worth any number of tables of data.\n",
        "\n",
        "Let's examine some common kinds of data visualization:\n",
        "#### Bar Charts\n",
        "A *bar chart* is a good way to compare numeric quantities or counts across categories. For example, in the Galton dataset, you might want to compare the number of female and male children.\n",
        "\n",
        "Here's some Python code to create a bar chart showing the number of children of each gender."
      ]
    },
    {
      "cell_type": "code",
      "metadata": {
        "id": "V0M7JnQXllvz",
        "colab_type": "code",
        "colab": {}
      },
      "source": [
        "import statsmodels.api as sm\n",
        "\n",
        "df = sm.datasets.get_rdataset('GaltonFamilies', package='HistData').data\n",
        "\n",
        "# Create a data frame of gender counts\n",
        "genderCounts = df['gender'].value_counts()\n",
        "\n",
        "# Plot a bar chart\n",
        "%matplotlib inline\n",
        "from matplotlib import pyplot as plt\n",
        "\n",
        "genderCounts.plot(kind='bar', title='Gender Counts')\n",
        "plt.xlabel('Gender')\n",
        "plt.ylabel('Number of Children')\n",
        "plt.show()"
      ],
      "execution_count": 0,
      "outputs": []
    },
    {
      "cell_type": "markdown",
      "metadata": {
        "id": "Ow_8sPwWllwB",
        "colab_type": "text"
      },
      "source": [
        "From this chart, you can see that there are slightly more male children than female children; but the data is reasonably evenly split between the two genders.\n",
        "\n",
        "Bar charts are typically used to compare categorical (qualitative) data values; but in some cases you might treat a discrete quantitative data value as a category. For example, in the Galton dataset the number of children in each family could be used as a way to categorize families. We might want to see how many familes have one child, compared to how many have two children, etc.\n",
        "\n",
        "Here's some Python code to create a bar chart showing family counts based on the number of children in the family."
      ]
    },
    {
      "cell_type": "code",
      "metadata": {
        "id": "XlJnejavllwE",
        "colab_type": "code",
        "colab": {}
      },
      "source": [
        "import statsmodels.api as sm\n",
        "\n",
        "df = sm.datasets.get_rdataset('GaltonFamilies', package='HistData').data\n",
        "\n",
        "# Create a data frame of child counts\n",
        "# there's a row for each child, so we need to filter to one row per family to avoid over-counting\n",
        "families = df[['family', 'children']].drop_duplicates()\n",
        "# Now count number of rows for each 'children' value, and sort by the index (children)\n",
        "childCounts = families['children'].value_counts().sort_index()\n",
        "\n",
        "\n",
        "# Plot a bar chart\n",
        "%matplotlib inline\n",
        "from matplotlib import pyplot as plt\n",
        "\n",
        "childCounts.plot(kind='bar', title='Family Size')\n",
        "plt.xlabel('Number of Children')\n",
        "plt.ylabel('Families')\n",
        "plt.show()\n"
      ],
      "execution_count": 0,
      "outputs": []
    },
    {
      "cell_type": "markdown",
      "metadata": {
        "id": "eQFn50zillwO",
        "colab_type": "text"
      },
      "source": [
        "Note that the code sorts the data so that the categories on the *x* axis are in order - attention to this sort of detail can make your charts easier to read. In this case, we can see that the most common number of children per family is 1, followed by 5 and 6. Comparatively fewer families have more than 8 children."
      ]
    },
    {
      "cell_type": "markdown",
      "metadata": {
        "id": "QNPWwvLvllwP",
        "colab_type": "text"
      },
      "source": [
        "#### Histograms\n",
        "Bar charts work well for comparing categorical or discrete numeric values. When you need to compare continuous quantitative values, you can use a similar style of chart called a *histogram*. Histograms differ from bar charts in that they group the continuous values into ranges or *bins* - so the chart doesn't show a bar for each individual value, but rather a bar for each range of binned values. Because these bins represent continuous data rather than discrete data, the bars aren't separated by a gap. Typically, a histogram is used to show the relative frequency of values in the dataset.\n",
        "\n",
        "Here's some Python code to create a histogram of the **father** values in the Galton dataset, which record the father's height:"
      ]
    },
    {
      "cell_type": "code",
      "metadata": {
        "id": "gHSEuEFIllwS",
        "colab_type": "code",
        "colab": {}
      },
      "source": [
        "import statsmodels.api as sm\n",
        "\n",
        "df = sm.datasets.get_rdataset('GaltonFamilies', package='HistData').data\n",
        "\n",
        "# Plot a histogram of midparentHeight\n",
        "%matplotlib inline\n",
        "from matplotlib import pyplot as plt\n",
        "\n",
        "df['father'].plot.hist(title='Father Heights')\n",
        "plt.xlabel('Height')\n",
        "plt.ylabel('Frequency')\n",
        "plt.show()"
      ],
      "execution_count": 0,
      "outputs": []
    },
    {
      "cell_type": "markdown",
      "metadata": {
        "id": "vISIljz1llwb",
        "colab_type": "text"
      },
      "source": [
        "The histogram shows that the most frequently occuring heights tend to be in the mid-range. There are fewer extremely short or exteremely tall fathers.\n",
        "\n",
        "In the histogram above, the number of bins (and their corresponding ranges, or *bin widths*) was determined automatically by Python. In some cases you may want to explicitly control the number of bins, as this can help you see detail in the distribution of data values that otherwise you might miss. The following code creates a histogram for the same father's height values, but explicitly distributes them over 20 bins (19 are specified, and Python adds one):"
      ]
    },
    {
      "cell_type": "code",
      "metadata": {
        "id": "0QIJ8ZhEllwd",
        "colab_type": "code",
        "colab": {}
      },
      "source": [
        "import statsmodels.api as sm\n",
        "\n",
        "df = sm.datasets.get_rdataset('GaltonFamilies', package='HistData').data\n",
        "\n",
        "# Plot a histogram of midparentHeight\n",
        "%matplotlib inline\n",
        "from matplotlib import pyplot as plt\n",
        "\n",
        "df['father'].plot.hist(title='Father Heights', bins=19)\n",
        "plt.xlabel('Height')\n",
        "plt.ylabel('Frequency')\n",
        "plt.show()"
      ],
      "execution_count": 0,
      "outputs": []
    },
    {
      "cell_type": "markdown",
      "metadata": {
        "id": "MfhN71rIllwn",
        "colab_type": "text"
      },
      "source": [
        "We can still see that the most common heights are in the middle, but there's a notable drop in the number of fathers with a height between 67.5 and 70."
      ]
    },
    {
      "cell_type": "markdown",
      "metadata": {
        "id": "i6OtFzLZllwp",
        "colab_type": "text"
      },
      "source": [
        "#### Pie Charts\n",
        "Pie charts are another way to compare relative quantities of categories. They're not commonly used by data scientists, but they can be useful in many business contexts with manageable numbers of categories because they not only make it easy to compare relative quantities by categories; they also show those quantities as a proportion of the whole set of data.\n",
        "\n",
        "Here's some Python to show the gender counts as a pie chart:"
      ]
    },
    {
      "cell_type": "code",
      "metadata": {
        "id": "b108ilEwllwt",
        "colab_type": "code",
        "colab": {}
      },
      "source": [
        "import statsmodels.api as sm\n",
        "\n",
        "df = sm.datasets.get_rdataset('GaltonFamilies', package='HistData').data\n",
        "\n",
        "# Create a data frame of gender counts\n",
        "genderCounts = df['gender'].value_counts()\n",
        "\n",
        "# Plot a pie chart\n",
        "%matplotlib inline\n",
        "from matplotlib import pyplot as plt\n",
        "genderCounts.plot(kind='pie', title='Gender Counts', figsize=(6,6))\n",
        "plt.legend()\n",
        "plt.show()"
      ],
      "execution_count": 0,
      "outputs": []
    },
    {
      "cell_type": "markdown",
      "metadata": {
        "id": "IJ8UmzWgllxK",
        "colab_type": "text"
      },
      "source": [
        "Note that the chart includes a *legend* to make it clear what category each colored area in the pie chart represents. From this chart, you can see that males make up slightly more than half of the overall number of children; with females accounting for the rest."
      ]
    },
    {
      "cell_type": "markdown",
      "metadata": {
        "id": "JM8KlCf6llxM",
        "colab_type": "text"
      },
      "source": [
        "#### Scatter Plots\n",
        "Often you'll want to compare quantative values. This can be especially useful in data science scenarios where you are exploring data prior to building a machine learning model, as it can help identify apparent relationships between numeric features. Scatter plots can also help identify potential outliers - values that are significantly outside of the normal range of values.\n",
        "\n",
        "The following Python code creates a scatter plot that plots the intersection points for  **midparentHeight** on the *x* axis, and **childHeight** on the *y* axis:"
      ]
    },
    {
      "cell_type": "code",
      "metadata": {
        "id": "UXCZH--5llxN",
        "colab_type": "code",
        "colab": {}
      },
      "source": [
        "import statsmodels.api as sm\n",
        "\n",
        "df = sm.datasets.get_rdataset('GaltonFamilies', package='HistData').data\n",
        "\n",
        "# Create a data frame of heights (father vs child)\n",
        "parentHeights = df[['midparentHeight', 'childHeight']]\n",
        "\n",
        "# Plot a scatter plot chart\n",
        "%matplotlib inline\n",
        "from matplotlib import pyplot as plt\n",
        "parentHeights.plot(kind='scatter', title='Parent vs Child Heights', x='midparentHeight', y='childHeight')\n",
        "plt.xlabel('Avg Parent Height')\n",
        "plt.ylabel('Child Height')\n",
        "plt.show()"
      ],
      "execution_count": 0,
      "outputs": []
    },
    {
      "cell_type": "markdown",
      "metadata": {
        "id": "gvfiIuWYllxa",
        "colab_type": "text"
      },
      "source": [
        "In a scatter plot, each dot marks the intersection point of the two values being plotted. In this chart, most of the heights are clustered around the center; which indicates that most parents and children tend to have a height that is somewhere in the middle of the range of heights observed. At the bottom left, there's a small cluster of dots that show some parents from the shorter end of the range who have children that are also shorter than their peers. At the top right, there are a few extremely tall parents who have extremely tall children. It's also interesting to note that the top left and bottom right of the chart are empty - there aren't any cases of extremely short parents with extremely tall children or vice-versa."
      ]
    },
    {
      "cell_type": "markdown",
      "metadata": {
        "id": "2ayd_zIyllxb",
        "colab_type": "text"
      },
      "source": [
        "#### Line Charts\n",
        "*Line charts* are a great way to see changes in values along a series - usually (but not always) based on a time period. The Galton dataset doesn't include any data of this type, so we'll use a different dataset that includes observations of sea surface temperature between 1950 and 2010 for this example:"
      ]
    },
    {
      "cell_type": "code",
      "metadata": {
        "scrolled": false,
        "id": "rMNjcIoxllxe",
        "colab_type": "code",
        "colab": {}
      },
      "source": [
        "import statsmodels.api as sm\n",
        "\n",
        "df = sm.datasets.elnino.load_pandas().data\n",
        "\n",
        "df['AVGSEATEMP'] = df.mean(1)\n",
        "\n",
        "# Plot a line chart\n",
        "%matplotlib inline\n",
        "from matplotlib import pyplot as plt\n",
        "df.plot(title='Average Sea Temperature', x='YEAR', y='AVGSEATEMP')\n",
        "plt.xlabel('Year')\n",
        "plt.ylabel('Average Sea Temp')\n",
        "plt.show()"
      ],
      "execution_count": 0,
      "outputs": []
    },
    {
      "cell_type": "markdown",
      "metadata": {
        "id": "e0M7-qc-llxn",
        "colab_type": "text"
      },
      "source": [
        "The line chart shows the temperature trend from left to right for the period of observations. From this chart, you can see that the average temperature fluctuates from year to year, but the general trend shows an increase."
      ]
    },
    {
      "cell_type": "markdown",
      "metadata": {
        "id": "hNpJf_L2oJhN",
        "colab_type": "text"
      },
      "source": [
        "## 12. Statistics Fundamentals"
      ]
    },
    {
      "cell_type": "markdown",
      "metadata": {
        "id": "LRpiQwsLoJhO",
        "colab_type": "text"
      },
      "source": [
        "Statistics is primarily about analyzing data samples, and that starts with udnerstanding the distribution of data in a sample.\n",
        "\n",
        "A great deal of statistical analysis is based on the way that data values are distributed within the dataset. In this section, we'll explore some statistics that you can use to tell you about the values in a dataset.\n",
        "\n",
        "### Measures of Central Tendency\n",
        "The term *measures of central tendency* sounds a bit grand, but really it's just a fancy way of saying that we're interested in knowing where the middle value in our data is. For example, suppose decide to conduct a study into the comparative salaries of people who graduated from the same school. You might record the results like this:\n",
        "\n",
        "| Name     | Salary      |\n",
        "|----------|-------------|\n",
        "| Dan      | 50,000      |\n",
        "| Joann    | 54,000      |\n",
        "| Pedro    | 50,000      |\n",
        "| Rosie    | 189,000     |\n",
        "| Ethan    | 55,000      |\n",
        "| Vicky    | 40,000      |\n",
        "| Frederic | 59,000      |\n",
        "\n",
        "Now, some of the former-students may earn a lot, and others may earn less; but what's the salary in the middle of the range of all salaries?\n",
        "\n",
        "#### Mean\n",
        "A common way to define the central value is to use the *mean*, often called the *average*. This is calculated as the sum of the values in the dataset, divided by the number of observations in the dataset. When the dataset consists of the full population, the mean is represented by the Greek symbol ***&mu;*** (*mu*), and the formula is written like this:\n",
        "\n",
        "\\begin{equation}\\mu = \\frac{\\displaystyle\\sum_{i=1}^{N}X_{i}}{N}\\end{equation}\n",
        "\n",
        "More commonly, when working with a sample, the mean is represented by ***x&#772;*** (*x-bar*), and the formula is written like this (note the lower case letters used to indicate values from a sample):\n",
        "\n",
        "\\begin{equation}\\bar{x} = \\frac{\\displaystyle\\sum_{i=1}^{n}x_{i}}{n}\\end{equation}\n",
        "\n",
        "In the case of our list of heights, this can be calculated as:\n",
        "\n",
        "\\begin{equation}\\bar{x} = \\frac{50000+54000+50000+189000+55000+40000+59000}{7}\\end{equation}\n",
        "\n",
        "Which is **71,000**.\n",
        "\n",
        ">In technical terminology, ***x&#772;*** is a *statistic* (an estimate based on a sample of data) and ***&mu;*** is a *parameter* (a true value based on the entire population). A lot of the time, the parameters for the full population will be impossible (or at the very least, impractical) to measure; so we use statistics obtained from a representative sample to approximate them. In this case, we can use the sample mean of salary for our selection of surveyed students to try to estimate the actual average salary of all students who graduate from our school.\n",
        "\n",
        "In Python, when working with data in a *pandas.dataframe*, you can use the ***mean*** function, like this:"
      ]
    },
    {
      "cell_type": "code",
      "metadata": {
        "id": "zBu503hCoJhP",
        "colab_type": "code",
        "colab": {}
      },
      "source": [
        "import pandas as pd\n",
        "\n",
        "\n",
        "df = pd.DataFrame({'Name': ['Dan', 'Joann', 'Pedro', 'Rosie', 'Ethan', 'Vicky', 'Frederic'],\n",
        "                   'Salary':[50000,54000,50000,189000,55000,40000,59000]})\n",
        "\n",
        "print (df['Salary'].mean())"
      ],
      "execution_count": 0,
      "outputs": []
    },
    {
      "cell_type": "markdown",
      "metadata": {
        "id": "Ofhz5MxfoJhX",
        "colab_type": "text"
      },
      "source": [
        "So, is **71,000** really the central value? Or put another way, would it be reasonable for a graduate of this school to expect to earn $71,000? After all, that's the average salary of a graduate from this school.\n",
        "\n",
        "If you look closely at the salaries, you can see that out of the seven former students, six earn less than the mean salary. The data is *skewed* by the fact that Rosie has clearly managed to find a much higher-paid job than her classmates.\n",
        "\n",
        "#### Median\n",
        "OK, let's see if we can find another definition for the central value that more closely reflects the expected earning potential of students attending our school. Another measure of central tendancy we can use is the *median*. To calculate the median, we need to sort the values into ascending order and then find the middle-most value. When there are an odd number of observations, you can find the position of the median value using this formula (where *n* is the number of observations):\n",
        "\n",
        "\\begin{equation}\\frac{n+1}{2}\\end{equation}\n",
        "\n",
        "Remember that this formula returns the *position* of the median value in the sorted list; not the value itself.\n",
        "\n",
        "If the number of observations is even, then things are a little (but not much) more complicated. In this case you calculate the median as the average of the two middle-most values, which are found like this:\n",
        "\n",
        "\\begin{equation}\\frac{n}{2} \\;\\;\\;\\;and \\;\\;\\;\\; \\frac{n}{2} + 1\\end{equation}\n",
        "\n",
        "So, for our graduate salaries; first lets sort the dataset:\n",
        "\n",
        "| Salary      |\n",
        "|-------------|\n",
        "| 40,000      |\n",
        "| 50,000      |\n",
        "| 50,000      |\n",
        "| 54,000      |\n",
        "| 55,000      |\n",
        "| 59,000      |\n",
        "| 189,000     |\n",
        "\n",
        "There's an odd number of observation (7), so the median value is at position (7 + 1) &div; 2; in other words, position 4:\n",
        "\n",
        "| Salary      |\n",
        "|-------------|\n",
        "| 40,000      |\n",
        "| 50,000      |\n",
        "| 50,000      |\n",
        "|***>54,000*** |\n",
        "| 55,000      |\n",
        "| 59,000      |\n",
        "| 189,000     |\n",
        "\n",
        "So the median salary is **54,000**.\n",
        "\n",
        "The *pandas.dataframe* class in Python has a ***median*** function to find the median:"
      ]
    },
    {
      "cell_type": "code",
      "metadata": {
        "id": "2i2xIY1qoJhY",
        "colab_type": "code",
        "colab": {}
      },
      "source": [
        "import pandas as pd\n",
        "\n",
        "\n",
        "df = pd.DataFrame({'Name': ['Dan', 'Joann', 'Pedro', 'Rosie', 'Ethan', 'Vicky', 'Frederic'],\n",
        "                   'Salary':[50000,54000,50000,189000,55000,40000,59000]})\n",
        "\n",
        "print (df['Salary'].median())"
      ],
      "execution_count": 0,
      "outputs": []
    },
    {
      "cell_type": "markdown",
      "metadata": {
        "id": "Q0ONFr8CoJhc",
        "colab_type": "text"
      },
      "source": [
        "#### Mode\n",
        "Another related statistic is the *mode*, which indicates the most frequently occurring value. If you think about it, this is potentially a good indicator of how much a student might expect to earn when they graduate from the school; out of all the salaries that are being earned by former students, the mode is earned by more than any other.\n",
        "\n",
        "Looking at our list of salaries, there are two instances of former students earning **50,000**, but only one instance each for all other salaries:\n",
        "\n",
        "| Salary      |\n",
        "|-------------|\n",
        "| 40,000      |\n",
        "|***>50,000***|\n",
        "|***>50,000***|\n",
        "| 54,000      |\n",
        "| 55,000      |\n",
        "| 59,000      |\n",
        "| 189,000     |\n",
        "\n",
        "The mode is therefore **50,000**.\n",
        "\n",
        "As you might expect, the *pandas.dataframe* class has a ***mode*** function to return the mode:"
      ]
    },
    {
      "cell_type": "code",
      "metadata": {
        "id": "eBb9gPymoJhc",
        "colab_type": "code",
        "colab": {}
      },
      "source": [
        "import pandas as pd\n",
        "\n",
        "\n",
        "df = pd.DataFrame({'Name': ['Dan', 'Joann', 'Pedro', 'Rosie', 'Ethan', 'Vicky', 'Frederic'],\n",
        "                   'Salary':[50000,54000,50000,189000,55000,40000,59000]})\n",
        "\n",
        "print (df['Salary'].mode())"
      ],
      "execution_count": 0,
      "outputs": []
    },
    {
      "cell_type": "markdown",
      "metadata": {
        "id": "hykeZUBqoJhg",
        "colab_type": "text"
      },
      "source": [
        "##### Multimodal Data\n",
        "It's not uncommon for a set of data to have more than one value as the mode. For example, suppose Ethan receives a raise that takes his salary to **59,000**:\n",
        "\n",
        "| Salary      |\n",
        "|-------------|\n",
        "| 40,000      |\n",
        "|***>50,000***|\n",
        "|***>50,000***|\n",
        "| 54,000      |\n",
        "|***>59,000***|\n",
        "|***>59,000***|\n",
        "| 189,000     |\n",
        "\n",
        "Now there are two values with the highest frequency. This dataset is *bimodal*. More generally, when there is more than one mode value, the data is considered *multimodal*.\n",
        "\n",
        "The *pandas.dataframe.**mode*** function returns all of the modes:"
      ]
    },
    {
      "cell_type": "code",
      "metadata": {
        "id": "NQJf6WY3oJhg",
        "colab_type": "code",
        "colab": {}
      },
      "source": [
        "import pandas as pd\n",
        "\n",
        "\n",
        "df = pd.DataFrame({'Name': ['Dan', 'Joann', 'Pedro', 'Rosie', 'Ethan', 'Vicky', 'Frederic'],\n",
        "                   'Salary':[50000,54000,50000,189000,59000,40000,59000]})\n",
        "\n",
        "print (df['Salary'].mode())"
      ],
      "execution_count": 0,
      "outputs": []
    },
    {
      "cell_type": "markdown",
      "metadata": {
        "id": "CEwfRCv3oJhj",
        "colab_type": "text"
      },
      "source": [
        "### Distribution and Density\n",
        "Now we know something about finding the center, we can start to explore how the data is distributed around it. What we're interested in here is understanding the general \"shape\" of the data distribution so that we can begin to get a feel for what a 'typical' value might be expected to be.\n",
        "\n",
        "We can start by finding the extremes - the minimum and maximum. In the case of our salary data, the lowest paid graduate from our school is Vicky, with a salary of **40,000**; and the highest-paid graduate is Rosie, with **189,000**.\n",
        "\n",
        "The *pandas.dataframe* class has ***min*** and ***max*** functions to return these values.\n",
        "\n",
        "Run the following code to compare the minimum and maximum salaries to the central measures we calculated previously:"
      ]
    },
    {
      "cell_type": "code",
      "metadata": {
        "id": "uNwcuGcjoJhk",
        "colab_type": "code",
        "colab": {}
      },
      "source": [
        "import pandas as pd\n",
        "\n",
        "df = pd.DataFrame({'Name': ['Dan', 'Joann', 'Pedro', 'Rosie', 'Ethan', 'Vicky', 'Frederic'],\n",
        "                   'Salary':[50000,54000,50000,189000,55000,40000,59000]})\n",
        "\n",
        "print ('Min: ' + str(df['Salary'].min()))\n",
        "print ('Mode: ' + str(df['Salary'].mode()[0]))\n",
        "print ('Median: ' + str(df['Salary'].median()))\n",
        "print ('Mean: ' + str(df['Salary'].mean()))\n",
        "print ('Max: ' + str(df['Salary'].max()))"
      ],
      "execution_count": 0,
      "outputs": []
    },
    {
      "cell_type": "markdown",
      "metadata": {
        "id": "XSnEFNQ7oJhn",
        "colab_type": "text"
      },
      "source": [
        "We can examine these values, and get a sense for how the data is distributed - for example, we can see that the *mean* is closer to the max than the *median*, and that both are closer to the *min* than to the *max*.\n",
        "\n",
        "However, it's generally easier to get a sense of the distribution by visualizing the data. Let's start by creating a histogram of the salaries, highlighting the *mean* and *median* salaries (the *min*, *max* are fairly self-evident, and the *mode* is wherever the highest bar is):"
      ]
    },
    {
      "cell_type": "code",
      "metadata": {
        "id": "jVbxH2swoJho",
        "colab_type": "code",
        "colab": {}
      },
      "source": [
        "%matplotlib inline\n",
        "import pandas as pd\n",
        "import matplotlib.pyplot as plt\n",
        "\n",
        "df = pd.DataFrame({'Name': ['Dan', 'Joann', 'Pedro', 'Rosie', 'Ethan', 'Vicky', 'Frederic'],\n",
        "                   'Salary':[50000,54000,50000,189000,55000,40000,59000]})\n",
        "\n",
        "salary = df['Salary']\n",
        "salary.plot.hist(title='Salary Distribution', color='lightblue', bins=25)  \n",
        "plt.axvline(salary.mean(), color='magenta', linestyle='dashed', linewidth=2)\n",
        "plt.axvline(salary.median(), color='green', linestyle='dashed', linewidth=2)\n",
        "plt.show()"
      ],
      "execution_count": 0,
      "outputs": []
    },
    {
      "cell_type": "markdown",
      "metadata": {
        "id": "Rc5rsSWyoJht",
        "colab_type": "text"
      },
      "source": [
        "The <span style=\"color:magenta\">***mean***</span> and <span style=\"color:green\">***median***</span> are shown as dashed lines. Note the following:\n",
        "- *Salary* is a continuous data value - graduates could potentially earn any value along the scale, even down to a fraction of cent.\n",
        "- The number of bins in the histogram determines the size of each salary band for which we're counting frequencies. Fewer bins means merging more individual salaries together to be counted as a group.\n",
        "- The majority of the data is on the left side of the histogram, reflecting the fact that most graduates earn between 40,000 and 55,000\n",
        "- The mean is a higher value than the median and mode.\n",
        "- There are gaps in the histogram for salary bands that nobody earns.\n",
        "\n",
        "The histogram shows the relative frequency of each salary band, based on the number of bins. It also gives us a sense of the *density* of the data for each point on the salary scale. With enough data points, and small enough bins, we could view this density as a line that shows the shape of the data distribution.\n",
        "\n",
        "Run the following cell to show the density of the salary data as a line on top of the histogram:"
      ]
    },
    {
      "cell_type": "code",
      "metadata": {
        "id": "ugygEIRmoJhu",
        "colab_type": "code",
        "colab": {}
      },
      "source": [
        "%matplotlib inline\n",
        "import pandas as pd\n",
        "import matplotlib.pyplot as plt\n",
        "import numpy as np\n",
        "import scipy.stats as stats\n",
        "\n",
        "df = pd.DataFrame({'Name': ['Dan', 'Joann', 'Pedro', 'Rosie', 'Ethan', 'Vicky', 'Frederic'],\n",
        "                   'Salary':[50000,54000,50000,189000,55000,40000,59000]})\n",
        "\n",
        "salary = df['Salary']\n",
        "density = stats.gaussian_kde(salary)\n",
        "n, x, _ = plt.hist(salary, histtype='step', normed=True, bins=25)  \n",
        "plt.plot(x, density(x)*5)\n",
        "plt.axvline(salary.mean(), color='magenta', linestyle='dashed', linewidth=2)\n",
        "plt.axvline(salary.median(), color='green', linestyle='dashed', linewidth=2)\n",
        "plt.show()\n"
      ],
      "execution_count": 0,
      "outputs": []
    },
    {
      "cell_type": "markdown",
      "metadata": {
        "id": "gOC8CKM-oJhx",
        "colab_type": "text"
      },
      "source": [
        "Note that the density line takes the form of an asymmetric curve that has a \"peak\" on the left and a long tail on the right. We describe this sort of data distribution as being *skewed*; that is, the data is not distributed symmetrically but \"bunched together\" on one side. In this case, the data is bunched together on the left, creating a long tail on the right; and is described as being *right-skewed* because some infrequently occurring high values are pulling the *mean* to the right.\n",
        "\n",
        "Let's take a look at another set of data. We know how much money our graduates make, but how many hours per week do they need to work to earn their salaries? Here's the data:\n",
        "\n",
        "| Name     | Hours |\n",
        "|----------|-------|\n",
        "| Dan      | 41    |\n",
        "| Joann    | 40    |\n",
        "| Pedro    | 36    |\n",
        "| Rosie    | 30    |\n",
        "| Ethan    | 35    |\n",
        "| Vicky    | 39    |\n",
        "| Frederic | 40    |\n",
        "\n",
        "Run the following code to show the distribution of the hours worked:"
      ]
    },
    {
      "cell_type": "code",
      "metadata": {
        "id": "4_F20J6coJhx",
        "colab_type": "code",
        "colab": {}
      },
      "source": [
        "%matplotlib inline\n",
        "import pandas as pd\n",
        "import matplotlib.pyplot as plt\n",
        "import numpy as np\n",
        "import scipy.stats as stats\n",
        "\n",
        "df = pd.DataFrame({'Name': ['Dan', 'Joann', 'Pedro', 'Rosie', 'Ethan', 'Vicky', 'Frederic'],\n",
        "                   'Hours':[41,40,36,30,35,39,40]})\n",
        "\n",
        "hours = df['Hours']\n",
        "density = stats.gaussian_kde(hours)\n",
        "n, x, _ = plt.hist(hours, histtype='step', normed=True, bins=25)  \n",
        "plt.plot(x, density(x)*7)\n",
        "plt.axvline(hours.mean(), color='magenta', linestyle='dashed', linewidth=2)\n",
        "plt.axvline(hours.median(), color='green', linestyle='dashed', linewidth=2)\n",
        "plt.show()"
      ],
      "execution_count": 0,
      "outputs": []
    },
    {
      "cell_type": "markdown",
      "metadata": {
        "id": "YLodBdI6oJh0",
        "colab_type": "text"
      },
      "source": [
        "Once again, the distribution is skewed, but this time it's **left-skewed**. Note that the curve is asymmetric with the <span style=\"color:magenta\">***mean***</span> to the left of the <span style=\"color:green\">***median***</span> and the *mode*; and the average weekly working hours skewed to the lower end.\n",
        "\n",
        "Once again, Rosie seems to be getting the better of the deal. She earns more than her former classmates for working fewer hours. Maybe a look at the test scores the students achieved on their final grade at school might help explain her success:\n",
        "\n",
        "| Name     | Grade |\n",
        "|----------|-------|\n",
        "| Dan      | 50    |\n",
        "| Joann    | 50    |\n",
        "| Pedro    | 46    |\n",
        "| Rosie    | 95    |\n",
        "| Ethan    | 50    |\n",
        "| Vicky    | 5     |\n",
        "| Frederic | 57    |\n",
        "\n",
        "Let's take a look at the distribution of these grades:"
      ]
    },
    {
      "cell_type": "code",
      "metadata": {
        "id": "qM4s6KDaoJh0",
        "colab_type": "code",
        "colab": {}
      },
      "source": [
        "%matplotlib inline\n",
        "import pandas as pd\n",
        "import matplotlib.pyplot as plt\n",
        "import numpy as np\n",
        "import scipy.stats as stats\n",
        "\n",
        "df = pd.DataFrame({'Name': ['Dan', 'Joann', 'Pedro', 'Rosie', 'Ethan', 'Vicky', 'Frederic'],\n",
        "                   'Grade':[50,50,46,95,50,5,57]})\n",
        "\n",
        "grade = df['Grade']\n",
        "density = stats.gaussian_kde(grade)\n",
        "n, x, _ = plt.hist(grade, histtype='step', normed=True, bins=25)  \n",
        "plt.plot(x, density(x)*7.5)\n",
        "plt.axvline(grade.mean(), color='magenta', linestyle='dashed', linewidth=2)\n",
        "plt.axvline(grade.median(), color='green', linestyle='dashed', linewidth=2)\n",
        "plt.show()"
      ],
      "execution_count": 0,
      "outputs": []
    },
    {
      "cell_type": "markdown",
      "metadata": {
        "id": "RVQj5MzqoJh3",
        "colab_type": "text"
      },
      "source": [
        "This time, the distribution is symmetric, forming a \"bell-shaped\" curve. The <span style=\"color:magenta\">***mean***</span>, <span style=\"color:green\">***median***</span>, and mode are at the same location, and the data tails off evenly on both sides from a central peak.\n",
        "\n",
        "Statisticians call this a *normal* distribution (or sometimes a *Gaussian* distribution), and it occurs quite commonly in many scenarios due to something called the *Central Limit Theorem*, which reflects the way continuous probability works - more about that later."
      ]
    },
    {
      "cell_type": "markdown",
      "metadata": {
        "id": "iIJArBCqoJh4",
        "colab_type": "text"
      },
      "source": [
        "#### Skewness and Kurtosis\n",
        "You can measure *skewness* (in which direction the data is skewed and to what degree) and kurtosis (how \"peaked\" the data is) to get an idea of the shape of the data distribution. In Python, you can use the ***skew*** and ***kurt*** functions to find this:"
      ]
    },
    {
      "cell_type": "code",
      "metadata": {
        "id": "P0QsdSOIoJh5",
        "colab_type": "code",
        "colab": {}
      },
      "source": [
        "%matplotlib inline\n",
        "import pandas as pd\n",
        "import numpy as np\n",
        "from matplotlib import pyplot as plt\n",
        "import scipy.stats as stats\n",
        "\n",
        "df = pd.DataFrame({'Name': ['Dan', 'Joann', 'Pedro', 'Rosie', 'Ethan', 'Vicky', 'Frederic'],\n",
        "                   'Salary':[50000,54000,50000,189000,55000,40000,59000],\n",
        "                   'Hours':[41,40,36,30,35,39,40],\n",
        "                   'Grade':[50,50,46,95,50,5,57]})\n",
        "\n",
        "numcols = ['Salary', 'Hours', 'Grade']\n",
        "for col in numcols:\n",
        "    print(df[col].name + ' skewness: ' + str(df[col].skew()))\n",
        "    print(df[col].name + ' kurtosis: ' + str(df[col].kurt()))\n",
        "    density = stats.gaussian_kde(df[col])\n",
        "    n, x, _ = plt.hist(df[col], histtype='step', normed=True, bins=25)  \n",
        "    plt.plot(x, density(x)*6)\n",
        "    plt.show()\n",
        "    print('\\n')"
      ],
      "execution_count": 0,
      "outputs": []
    },
    {
      "cell_type": "markdown",
      "metadata": {
        "id": "YnpcxNdVoJh9",
        "colab_type": "text"
      },
      "source": [
        "Now let's look at the distribution of a real dataset - let's see how the heights of the father's measured in Galton's study of parent and child heights are distributed:"
      ]
    },
    {
      "cell_type": "code",
      "metadata": {
        "id": "vTUS0jvEoJh-",
        "colab_type": "code",
        "colab": {}
      },
      "source": [
        "%matplotlib inline\n",
        "import pandas as pd\n",
        "import matplotlib.pyplot as plt\n",
        "import numpy as np\n",
        "import scipy.stats as stats\n",
        "\n",
        "import statsmodels.api as sm\n",
        "\n",
        "df = sm.datasets.get_rdataset('GaltonFamilies', package='HistData').data\n",
        "\n",
        "\n",
        "fathers = df['father']\n",
        "density = stats.gaussian_kde(fathers)\n",
        "n, x, _ = plt.hist(fathers, histtype='step', normed=True, bins=50)  \n",
        "plt.plot(x, density(x)*2.5)\n",
        "plt.axvline(fathers.mean(), color='magenta', linestyle='dashed', linewidth=2)\n",
        "plt.axvline(fathers.median(), color='green', linestyle='dashed', linewidth=2)\n",
        "plt.show()\n"
      ],
      "execution_count": 0,
      "outputs": []
    },
    {
      "cell_type": "markdown",
      "metadata": {
        "id": "DmA24P6PoJiB",
        "colab_type": "text"
      },
      "source": [
        "As you can see, the father's height measurements are approximately normally distributed - in other words, they form a more or less *normal* distribution that is symmetric around the mean."
      ]
    },
    {
      "cell_type": "markdown",
      "metadata": {
        "id": "B4EpI7OFoJiC",
        "colab_type": "text"
      },
      "source": [
        "### Measures of Variance\n",
        "We can see from the distribution plots of our data that the values in our dataset can vary quite widely. We can use various measures to quantify this variance.\n",
        "\n",
        "#### Range\n",
        "A simple way to quantify the variance in a dataset is to identify the difference between the lowest and highest values. This is called the *range*, and is calculated by subtracting the minimim value from the maximum value.\n",
        "\n",
        "The following Python code creates a single Pandas dataframe for our school graduate data, and calculates the *range* for each of the numeric features:"
      ]
    },
    {
      "cell_type": "code",
      "metadata": {
        "id": "Xy19k0_XoJiC",
        "colab_type": "code",
        "colab": {}
      },
      "source": [
        "import pandas as pd\n",
        "\n",
        "df = pd.DataFrame({'Name': ['Dan', 'Joann', 'Pedro', 'Rosie', 'Ethan', 'Vicky', 'Frederic'],\n",
        "                   'Salary':[50000,54000,50000,189000,55000,40000,59000],\n",
        "                   'Hours':[41,40,36,30,35,39,40],\n",
        "                   'Grade':[50,50,46,95,50,5,57]})\n",
        "\n",
        "numcols = ['Salary', 'Hours', 'Grade']\n",
        "for col in numcols:\n",
        "    print(df[col].name + ' range: ' + str(df[col].max() - df[col].min()))"
      ],
      "execution_count": 0,
      "outputs": []
    },
    {
      "cell_type": "markdown",
      "metadata": {
        "id": "8QXWG5vboJiG",
        "colab_type": "text"
      },
      "source": [
        "#### Percentiles and Quartiles\n",
        "The range is easy to calculate, but it's not a particularly useful statistic. For example, a range of 149,000 between the lowest and highest salary does not tell us which value within that range a graduate is most likely to earn -  it doesn't tell us nothing about how the salaries are distributed around the mean within that range.  The range tells us very little about the comparative position of an individual value within the distribution - for example, Frederic scored 57 in his final grade at school; which is a pretty good score (it's more than all but one of his classmates); but this isn't immediately apparent from a score of 57 and range of 90.\n",
        "\n",
        "##### Percentiles\n",
        "A percentile tells us where a given value is ranked in the overall distribution. For example, 25% of the data in a distribution has a value lower than the 25th percentile; 75% of the data has a value lower than the 75th percentile, and so on. Note that half of the data has a value lower than the 50th percentile - so the 50th percentile is also the median!\n",
        "\n",
        "Let's examine Frederic's grade using this approach. We know he scored 57, but how does he rank compared to his fellow students?\n",
        "\n",
        "Well, there are seven students in total, and five of them scored less than Frederic; so we can calculate the percentile for Frederic's grade like this:\n",
        "\n",
        "\\begin{equation}\\frac{5}{7} \\times 100 \\approx 71.4\\end{equation} \n",
        "\n",
        "So Frederic's score puts him at the 71.4th percentile in his class.\n",
        "\n",
        "In Python, you can use the ***percentileofscore*** function in the *scipy.stats* package to calculate the percentile for a given value in a set of values:"
      ]
    },
    {
      "cell_type": "code",
      "metadata": {
        "id": "5Y0EDnZyoJiG",
        "colab_type": "code",
        "colab": {}
      },
      "source": [
        "import pandas as pd\n",
        "from scipy import stats\n",
        "\n",
        "df = pd.DataFrame({'Name': ['Dan', 'Joann', 'Pedro', 'Rosie', 'Ethan', 'Vicky', 'Frederic'],\n",
        "                   'Salary':[50000,54000,50000,189000,55000,40000,59000],\n",
        "                   'Hours':[41,40,36,30,35,39,40],\n",
        "                   'Grade':[50,50,46,95,50,5,57]})\n",
        "\n",
        "print(stats.percentileofscore(df['Grade'], 57, 'strict'))"
      ],
      "execution_count": 0,
      "outputs": []
    },
    {
      "cell_type": "markdown",
      "metadata": {
        "id": "aUsVoGOyoJif",
        "colab_type": "text"
      },
      "source": [
        "We've used the strict definition of percentile; but sometimes it's calculated as being the percentage of values that are less than *or equal to* the value you're comparing. In this case, the calculation for Frederic's percentile would include his own score:\n",
        "\n",
        "\\begin{equation}\\frac{6}{7} \\times 100 \\approx 85.7\\end{equation} \n",
        "\n",
        "You can calculate this way in Python by using the ***weak*** mode of the ***percentileofscore*** function:"
      ]
    },
    {
      "cell_type": "code",
      "metadata": {
        "id": "c8Ok2eO0oJig",
        "colab_type": "code",
        "colab": {}
      },
      "source": [
        "import pandas as pd\n",
        "from scipy import stats\n",
        "\n",
        "df = pd.DataFrame({'Name': ['Dan', 'Joann', 'Pedro', 'Rosie', 'Ethan', 'Vicky', 'Frederic'],\n",
        "                   'Salary':[50000,54000,50000,189000,55000,40000,59000],\n",
        "                   'Hours':[41,40,36,30,35,39,40],\n",
        "                   'Grade':[50,50,46,95,50,5,57]})\n",
        "\n",
        "print(stats.percentileofscore(df['Grade'], 57, 'weak'))"
      ],
      "execution_count": 0,
      "outputs": []
    },
    {
      "cell_type": "markdown",
      "metadata": {
        "id": "QWq3FRb7oJi3",
        "colab_type": "text"
      },
      "source": [
        "We've considered the percentile of Frederic's grade, and used it to rank him compared to his fellow students. So what about Dan, Joann, and Ethan? How do they compare to the rest of the class? They scored the same grade (50), so in a sense they share a percentile.\n",
        "\n",
        "To deal with this *grouped* scenario, we can average the percentage rankings for the matching scores. We treat half of the scores matching the one we're ranking as if they are below it, and half as if they are above it. In this case, there were three matching scores of 50, and for each of these we calculate the percentile as if 1 was below and 1 was above. So the calculation for a percentile for Joann based on scores being less than or equal to 50 is:\n",
        "\n",
        "\\begin{equation}(\\frac{4}{7}) \\times 100 \\approx 57.14\\end{equation} \n",
        "\n",
        "The value of **4** consists of the two scores that are below Joann's score of 50, Joann's own score, and half of the scores that are the same as Joann's (of which there are two, so we count one).\n",
        "\n",
        "In Python, the ***percentileofscore*** function has a ***rank*** function that calculates grouped percentiles like this:"
      ]
    },
    {
      "cell_type": "code",
      "metadata": {
        "id": "PjuBkjoroJi4",
        "colab_type": "code",
        "colab": {}
      },
      "source": [
        "import pandas as pd\n",
        "from scipy import stats\n",
        "\n",
        "df = pd.DataFrame({'Name': ['Dan', 'Joann', 'Pedro', 'Rosie', 'Ethan', 'Vicky', 'Frederic'],\n",
        "                   'Salary':[50000,54000,50000,189000,55000,40000,59000],\n",
        "                   'Hours':[41,40,36,30,35,39,40],\n",
        "                   'Grade':[50,50,46,95,50,5,57]})\n",
        "\n",
        "print(stats.percentileofscore(df['Grade'], 50, 'rank'))"
      ],
      "execution_count": 0,
      "outputs": []
    },
    {
      "cell_type": "markdown",
      "metadata": {
        "id": "zEBXB780oJi-",
        "colab_type": "text"
      },
      "source": [
        "##### Quartiles\n",
        "Rather than using individual percentiles to compare data, we can consider the overall spread of the data by dividing those percentiles into four *quartiles*. The first quartile contains the values from the minimum to the 25th percentile, the second from the 25th percentile to the 50th percentile (which is the median), the third from the 50th percentile to the 75th percentile, and the fourth from the 75th percentile to the maximum.\n",
        "\n",
        "In Python, you can use the ***quantile*** function of the *pandas.dataframe* class to find the threshold values at the 25th, 50th, and 75th percentiles (*quantile* is a generic term for a ranked position, such as a percentile or quartile).\n",
        "\n",
        "Run the following code to find the quartile thresholds for the weekly hours worked by our former students:"
      ]
    },
    {
      "cell_type": "code",
      "metadata": {
        "id": "-JZ4GaSPoJi_",
        "colab_type": "code",
        "colab": {}
      },
      "source": [
        "# Quartiles\n",
        "import pandas as pd\n",
        "\n",
        "df = pd.DataFrame({'Name': ['Dan', 'Joann', 'Pedro', 'Rosie', 'Ethan', 'Vicky', 'Frederic'],\n",
        "                   'Salary':[50000,54000,50000,189000,55000,40000,59000],\n",
        "                   'Hours':[41,40,36,17,35,39,40],\n",
        "                   'Grade':[50,50,46,95,50,5,57]})\n",
        "print(df['Hours'].quantile([0.25, 0.5, 0.75]))"
      ],
      "execution_count": 0,
      "outputs": []
    },
    {
      "cell_type": "markdown",
      "metadata": {
        "id": "yWrXOrC1oJjG",
        "colab_type": "text"
      },
      "source": [
        "Its usually easier to understand how data is distributed across the quartiles by visualizing it. You can use a histogram, but many data scientists use a kind of visualization called a *box plot* (or a *box and whiskers* plot).\n",
        "\n",
        "Let's create a box plot for the weekly hours:"
      ]
    },
    {
      "cell_type": "code",
      "metadata": {
        "id": "3KcMZx62oJjH",
        "colab_type": "code",
        "colab": {}
      },
      "source": [
        "%matplotlib inline\n",
        "import pandas as pd\n",
        "from matplotlib import pyplot as plt\n",
        "\n",
        "df = pd.DataFrame({'Name': ['Dan', 'Joann', 'Pedro', 'Rosie', 'Ethan', 'Vicky', 'Frederic'],\n",
        "                   'Salary':[50000,54000,50000,189000,55000,40000,59000],\n",
        "                   'Hours':[41,40,36,30,35,39,40],\n",
        "                   'Grade':[50,50,46,95,50,5,57]})\n",
        "\n",
        "# Plot a box-whisker chart\n",
        "df['Hours'].plot(kind='box', title='Weekly Hours Distribution', figsize=(10,8))\n",
        "plt.show()"
      ],
      "execution_count": 0,
      "outputs": []
    },
    {
      "cell_type": "markdown",
      "metadata": {
        "id": "UQ5SXJGboJjb",
        "colab_type": "text"
      },
      "source": [
        "The box plot consists of:\n",
        "- A rectangular *box* that shows where the data between the 25th and 75th percentile (the second and third quartile) lie. This part of the distribution is often referred to as the *interquartile range* - it contains the middle 50 data values.\n",
        "- *Whiskers* that extend from the box to the bottom of the first quartile and the top of the fourth quartile to show the full range of the data.\n",
        "- A line in the box that shows that location of the median (the 50th percentile, which is also the threshold between the second and third quartile)\n",
        "\n",
        "In this case, you can see that the interquartile range is between 35 and 40, with the median nearer the top of that range. The range of the first quartile is from around 30 to 35, and the fourth quartile is from 40 to 41."
      ]
    },
    {
      "cell_type": "markdown",
      "metadata": {
        "id": "NdDDZwpYoJjc",
        "colab_type": "text"
      },
      "source": [
        "#### Outliers\n",
        "Let's take a look at another box plot - this time showing the distribution of the salaries earned by our former classmates:"
      ]
    },
    {
      "cell_type": "code",
      "metadata": {
        "id": "rnQsp-IWoJjd",
        "colab_type": "code",
        "colab": {}
      },
      "source": [
        "%matplotlib inline\n",
        "import pandas as pd\n",
        "from matplotlib import pyplot as plt\n",
        "\n",
        "df = pd.DataFrame({'Name': ['Dan', 'Joann', 'Pedro', 'Rosie', 'Ethan', 'Vicky', 'Frederic'],\n",
        "                   'Salary':[50000,54000,50000,189000,55000,40000,59000],\n",
        "                   'Hours':[41,40,36,30,35,39,40],\n",
        "                   'Grade':[50,50,46,95,50,5,57]})\n",
        "\n",
        "# Plot a box-whisker chart\n",
        "df['Salary'].plot(kind='box', title='Salary Distribution', figsize=(10,8))\n",
        "plt.show()"
      ],
      "execution_count": 0,
      "outputs": []
    },
    {
      "cell_type": "markdown",
      "metadata": {
        "id": "pA21KPv3oJjg",
        "colab_type": "text"
      },
      "source": [
        "So what's going on here?\n",
        "\n",
        "Well, as we've already noticed, Rosie earns significantly more than her former classmates. So much more in fact, that her salary has been identifed as an *outlier*. An outlier is a value that is so far from the center of the distribution compared to other values that it skews the distribution by affecting the mean. There are all sorts of reasons that you might have outliers in your data, including data entry errors, failures in sensors or data-generating equipment, or genuinely anomalous values.\n",
        "\n",
        "So what should we do about it?\n",
        "\n",
        "This really depends on the data, and what you're trying to use it for. In this case, let's assume we're trying to figure out what's a reasonable expectation of salary for a graduate of our school to earn. Ignoring for the moment that we have an extremly small dataset on which to base our judgement, it looks as if Rosie's salary could be either an error (maybe she mis-typed it in the form used to collect data) or a genuine anomaly (maybe she became a professional athelete or some other extremely highly paid job). Either way, it doesn't seem to represent a salary that a typical graduate might earn.\n",
        "\n",
        "Let's see what the distribution of the data looks like without the outlier:"
      ]
    },
    {
      "cell_type": "code",
      "metadata": {
        "id": "HF85sNu1oJjh",
        "colab_type": "code",
        "colab": {}
      },
      "source": [
        "%matplotlib inline\n",
        "import pandas as pd\n",
        "from matplotlib import pyplot as plt\n",
        "\n",
        "df = pd.DataFrame({'Name': ['Dan', 'Joann', 'Pedro', 'Rosie', 'Ethan', 'Vicky', 'Frederic'],\n",
        "                   'Salary':[50000,54000,50000,189000,55000,40000,59000],\n",
        "                   'Hours':[41,40,36,17,35,39,40],\n",
        "                   'Grade':[50,50,46,95,50,5,57]})\n",
        "\n",
        "# Plot a box-whisker chart\n",
        "df['Salary'].plot(kind='box', title='Salary Distribution', figsize=(10,8), showfliers=False)\n",
        "plt.show()"
      ],
      "execution_count": 0,
      "outputs": []
    },
    {
      "cell_type": "markdown",
      "metadata": {
        "id": "A8AyE_dOoJjk",
        "colab_type": "text"
      },
      "source": [
        "Now it looks like there's a more even distribution of salaries. It's still not quite symmetrical, but there's much less overall variance. There's potentially some cause here to disregard Rosie's salary data when we compare the salaries, as it is tending to skew the analysis.\n",
        "\n",
        "So is that OK? Can we really just ignore a data value we don't like?\n",
        "\n",
        "Again, it depends on what you're analyzing. Let's take a look at the distribution of final grades:"
      ]
    },
    {
      "cell_type": "code",
      "metadata": {
        "id": "PY2i7gwuoJjl",
        "colab_type": "code",
        "colab": {}
      },
      "source": [
        "%matplotlib inline\n",
        "import pandas as pd\n",
        "from matplotlib import pyplot as plt\n",
        "\n",
        "df = pd.DataFrame({'Name': ['Dan', 'Joann', 'Pedro', 'Rosie', 'Ethan', 'Vicky', 'Frederic'],\n",
        "                   'Salary':[50000,54000,50000,189000,55000,40000,59000],\n",
        "                   'Hours':[41,40,36,17,35,39,40],\n",
        "                   'Grade':[50,50,46,95,50,5,57]})\n",
        "\n",
        "# Plot a box-whisker chart\n",
        "df['Grade'].plot(kind='box', title='Grade Distribution', figsize=(10,8))\n",
        "plt.show()"
      ],
      "execution_count": 0,
      "outputs": []
    },
    {
      "cell_type": "markdown",
      "metadata": {
        "id": "475F-Kb3oJjs",
        "colab_type": "text"
      },
      "source": [
        "Once again there are outliers, this time at both ends of the distribution. However, think about what this data represents. If we assume that the grade for the final test is based on a score out of 100, it seems reasonable to expect that some students will score very low (maybe even 0) and some will score very well (maybe even 100); but most will get a score somewhere in the middle.  The reason that the low and high scores here look like outliers might just be because we have so few data points. Let's see what happens if we include a few more students in our data:"
      ]
    },
    {
      "cell_type": "code",
      "metadata": {
        "id": "AxP3t466oJjs",
        "colab_type": "code",
        "colab": {}
      },
      "source": [
        "%matplotlib inline\n",
        "import pandas as pd\n",
        "from matplotlib import pyplot as plt\n",
        "\n",
        "df = pd.DataFrame({'Name': ['Dan', 'Joann', 'Pedro', 'Rosie', 'Ethan', 'Vicky', 'Frederic', 'Jimmie', 'Rhonda', 'Giovanni', 'Francesca', 'Rajab', 'Naiyana', 'Kian', 'Jenny'],\n",
        "                   'Grade':[50,50,46,95,50,5,57,42,26,72,78,60,40,17,85]})\n",
        "\n",
        "# Plot a box-whisker chart\n",
        "df['Grade'].plot(kind='box', title='Grade Distribution', figsize=(10,8))\n",
        "plt.show()"
      ],
      "execution_count": 0,
      "outputs": []
    },
    {
      "cell_type": "markdown",
      "metadata": {
        "id": "zwiW0w7roJjx",
        "colab_type": "text"
      },
      "source": [
        "With more data, there are some more high and low scores; so we no longer consider the isolated cases to be outliers.\n",
        "\n",
        "The key point to take away here is that you need to really understand the data and what you're trying to do with it, and you need to ensure that you have a reasonable sample size, before determining what to do with outlier values."
      ]
    },
    {
      "cell_type": "markdown",
      "metadata": {
        "id": "z9l0A9HuoJjz",
        "colab_type": "text"
      },
      "source": [
        "#### Variance and Standard Deviation\n",
        "We've seen how to understand the *spread* of our data distribution using the range, percentiles, and quartiles; and we've seen the effect of outliers on the distribution. Now it's time to look at how to measure the amount of variance in the data.\n",
        "\n",
        "##### Variance\n",
        "Variance is measured as the average of the squared difference from the mean. For a full population, it's indicated by a squared Greek letter *sigma* (***&sigma;<sup>2</sup>***) and calculated like this:\n",
        "\n",
        "\\begin{equation}\\sigma^{2} = \\frac{\\displaystyle\\sum_{i=1}^{N} (X_{i} -\\mu)^{2}}{N}\\end{equation}\n",
        "\n",
        "For a sample, it's indicated as ***s<sup>2</sup>*** calculated like this:\n",
        "\n",
        "\\begin{equation}s^{2} = \\frac{\\displaystyle\\sum_{i=1}^{n} (x_{i} -\\bar{x})^{2}}{n-1}\\end{equation}\n",
        "\n",
        "In both cases, we sum the difference between the individual data values and the mean and square the result. Then, for a full population we just divide by the number of data items to get the average. When using a sample, we divide by the total number of items **minus 1** to correct for sample bias.\n",
        "\n",
        "Let's work this out for our student grades (assuming our data is a sample from the larger student population).\n",
        "\n",
        "First, we need to calculate the mean grade:\n",
        "\n",
        "\\begin{equation}\\bar{x} = \\frac{50+50+46+95+50+5+57}{7}\\approx 50.43\\end{equation}\n",
        "\n",
        "Then we can plug that into our formula for the variance:\n",
        "\n",
        "\\begin{equation}s^{2} = \\frac{(50-50.43)^{2}+(50-50.43)^{2}+(46-50.43)^{2}+(95-50.43)^{2}+(50-50.43)^{2}+(5-50.43)^{2}+(57-50.43)^{2}}{7-1}\\end{equation}\n",
        "\n",
        "So:\n",
        "\n",
        "\\begin{equation}s^{2} = \\frac{0.185+0.185+19.625+1986.485+0.185+2063.885+43.165}{6}\\end{equation}\n",
        "\n",
        "Which simplifies to:\n",
        "\n",
        "\\begin{equation}s^{2} = \\frac{4113.715}{6}\\end{equation}\n",
        "\n",
        "Giving the result:\n",
        "\n",
        "\\begin{equation}s^{2} \\approx 685.619\\end{equation}\n",
        "\n",
        "The higher the variance, the more spread your data is around the mean.\n",
        "\n",
        "In Python, you can use the ***var*** function of the *pandas.dataframe* class to calculate the variance of a column in a dataframe:"
      ]
    },
    {
      "cell_type": "code",
      "metadata": {
        "id": "xtCtUqSCoJj0",
        "colab_type": "code",
        "colab": {}
      },
      "source": [
        "import pandas as pd\n",
        "\n",
        "df = pd.DataFrame({'Name': ['Dan', 'Joann', 'Pedro', 'Rosie', 'Ethan', 'Vicky', 'Frederic'],\n",
        "                   'Salary':[50000,54000,50000,189000,55000,40000,59000],\n",
        "                   'Hours':[41,40,36,17,35,39,40],\n",
        "                   'Grade':[50,50,46,95,50,5,57]})\n",
        "\n",
        "print(df['Grade'].var())"
      ],
      "execution_count": 0,
      "outputs": []
    },
    {
      "cell_type": "markdown",
      "metadata": {
        "id": "_OXLt8-SoJj4",
        "colab_type": "text"
      },
      "source": [
        "##### Standard Deviation\n",
        "To calculate the variance, we squared the difference of each value from the mean. If we hadn't done this, the numerator of our fraction would always end up being zero (because the mean is at the center of our values). However, this means that the variance is not in the same unit of measurement as our data - in our case, since we're calculating the variance for grade points, it's in grade points squared; which is not very helpful.\n",
        "\n",
        "To get the measure of variance back into the same unit of measurement, we need to find its square root:\n",
        "\n",
        "\\begin{equation}s = \\sqrt{685.619} \\approx 26.184\\end{equation}\n",
        "\n",
        "So what does this value represent?\n",
        "\n",
        "It's the *standard deviation* for our grades data. More formally, it's calculated like this for a full population:\n",
        "\n",
        "\\begin{equation}\\sigma = \\sqrt{\\frac{\\displaystyle\\sum_{i=1}^{N} (X_{i} -\\mu)^{2}}{N}}\\end{equation}\n",
        "\n",
        "Or like this for a sample:\n",
        "\n",
        "\\begin{equation}s = \\sqrt{\\frac{\\displaystyle\\sum_{i=1}^{n} (x_{i} -\\bar{x})^{2}}{n-1}}\\end{equation}\n",
        "\n",
        "Note that in both cases, it's just the square root of the corresponding variance forumla!\n",
        "\n",
        "In Python, you can calculate it using the ***std*** function:"
      ]
    },
    {
      "cell_type": "code",
      "metadata": {
        "id": "LiuRwFLhoJj5",
        "colab_type": "code",
        "colab": {}
      },
      "source": [
        "import pandas as pd\n",
        "\n",
        "df = pd.DataFrame({'Name': ['Dan', 'Joann', 'Pedro', 'Rosie', 'Ethan', 'Vicky', 'Frederic'],\n",
        "                   'Salary':[50000,54000,50000,189000,55000,40000,59000],\n",
        "                   'Hours':[41,40,36,17,35,39,40],\n",
        "                   'Grade':[50,50,46,95,50,5,57]})\n",
        "\n",
        "print(df['Grade'].std())"
      ],
      "execution_count": 0,
      "outputs": []
    },
    {
      "cell_type": "markdown",
      "metadata": {
        "id": "P81V8kMQoJj8",
        "colab_type": "text"
      },
      "source": [
        "#### Standard Deviation in a Normal Distribution\n",
        "\n",
        "In statistics and data science, we spend a lot of time considering *normal* distributions; because they occur so frequently. The standard deviation has an important relationship to play in a normal distribution.\n",
        "\n",
        "Run the following cell to show a histogram of a *standard normal* distribution (which is a distribution with a mean of 0 and a standard deviation of 1):"
      ]
    },
    {
      "cell_type": "code",
      "metadata": {
        "id": "Sp8fJGkQoJj8",
        "colab_type": "code",
        "colab": {}
      },
      "source": [
        "%matplotlib inline\n",
        "import pandas as pd\n",
        "import matplotlib.pyplot as plt\n",
        "import numpy as np\n",
        "import scipy.stats as stats\n",
        "\n",
        "# Create a random standard normal distribution\n",
        "df = pd.DataFrame(np.random.randn(100000, 1), columns=['Grade'])\n",
        "\n",
        "# Plot the distribution as a histogram with a density curve\n",
        "grade = df['Grade']\n",
        "density = stats.gaussian_kde(grade)\n",
        "n, x, _ = plt.hist(grade, color='lightgrey', normed=True, bins=100)  \n",
        "plt.plot(x, density(x))\n",
        "\n",
        "# Get the mean and standard deviation\n",
        "s = df['Grade'].std()\n",
        "m = df['Grade'].mean()\n",
        "\n",
        "# Annotate 1 stdev\n",
        "x1 = [m-s, m+s]\n",
        "y1 = [0.25, 0.25]\n",
        "plt.plot(x1,y1, color='magenta')\n",
        "plt.annotate('1s (68.26%)', (x1[1],y1[1]))\n",
        "\n",
        "# Annotate 2 stdevs\n",
        "x2 = [m-(s*2), m+(s*2)]\n",
        "y2 = [0.05, 0.05]\n",
        "plt.plot(x2,y2, color='green')\n",
        "plt.annotate('2s (95.45%)', (x2[1],y2[1]))\n",
        "\n",
        "# Annotate 3 stdevs\n",
        "x3 = [m-(s*3), m+(s*3)]\n",
        "y3 = [0.005, 0.005]\n",
        "plt.plot(x3,y3, color='orange')\n",
        "plt.annotate('3s (99.73%)', (x3[1],y3[1]))\n",
        "\n",
        "# Show the location of the mean\n",
        "plt.axvline(grade.mean(), color='grey', linestyle='dashed', linewidth=1)\n",
        "\n",
        "plt.show()"
      ],
      "execution_count": 0,
      "outputs": []
    },
    {
      "cell_type": "markdown",
      "metadata": {
        "id": "CanfzJofoJj_",
        "colab_type": "text"
      },
      "source": [
        "The horizontal colored lines show the percentage of data within 1, 2, and 3 standard deviations of the mean (plus or minus).\n",
        "\n",
        "In any normal distribution:\n",
        "- Approximately 68.26% of values fall within one standard deviation from the mean.\n",
        "- Approximately 95.45% of values fall within two standard deviations from the mean.\n",
        "- Approximately 99.73% of values fall within three standard deviations from the mean."
      ]
    },
    {
      "cell_type": "markdown",
      "metadata": {
        "id": "LlkoLDHvoJkC",
        "colab_type": "text"
      },
      "source": [
        "#### Z Score\n",
        "So in a normal (or close to normal) distribution, standard deviation provides a way to evaluate how far from a mean a given range of values falls, allowing us to compare where a particular value lies within the distribution. For example, suppose Rosie tells you she was the highest scoring student among her friends - that doesn't really help us assess how well she scored. She may have scored only a fraction of a point above the second-highest scoring student. Even if we know she was in the top quartile; if we don't know how the rest of the grades are distributed it's still not clear how well she performed compared to her friends.\n",
        "\n",
        "However, if she tells you how many standard deviations higher than the mean her score was, this will help you compare her score to that of her classmates.\n",
        "\n",
        "So how do we know how many standard deviations above or below the mean a particular value is? We call this a *Z Score*, and it's calculated like this for a full population:\n",
        "\n",
        "\\begin{equation}Z = \\frac{x - \\mu}{\\sigma}\\end{equation}\n",
        "\n",
        "or like this for a sample:\n",
        "\n",
        "\\begin{equation}Z = \\frac{x - \\bar{x}}{s}\\end{equation}\n",
        "\n",
        "So, let's examine Rosie's grade of 95. Now that we know the *mean* grade is 50.43 and the *standard deviation* is 26.184, we can calculate the Z Score for this grade like this:\n",
        "\n",
        "\\begin{equation}Z = \\frac{95 - 50.43}{26.184} = 1.702\\end{equation}.\n",
        "\n",
        "So Rosie's grade is 1.702 standard deviations above the mean."
      ]
    },
    {
      "cell_type": "markdown",
      "metadata": {
        "id": "NcKyiD1woJkD",
        "colab_type": "text"
      },
      "source": [
        "### Summarizing Data Distribution in Python\n",
        "We've seen how to obtain individual statistics in Python, but you can also use the ***describe*** function to retrieve summary statistics for all numeric columns in a dataframe. These summary statistics include many of the statistics we've examined so far (though it's worth noting that the *median* is not included):"
      ]
    },
    {
      "cell_type": "code",
      "metadata": {
        "id": "-zIUSyCboJkE",
        "colab_type": "code",
        "colab": {}
      },
      "source": [
        "import pandas as pd\n",
        "\n",
        "df = pd.DataFrame({'Name': ['Dan', 'Joann', 'Pedro', 'Rosie', 'Ethan', 'Vicky', 'Frederic'],\n",
        "                   'Salary':[50000,54000,50000,189000,55000,40000,59000],\n",
        "                   'Hours':[41,40,36,17,35,39,40],\n",
        "                   'Grade':[50,50,46,95,50,5,57]})\n",
        "print(df.describe())"
      ],
      "execution_count": 0,
      "outputs": []
    },
    {
      "cell_type": "markdown",
      "metadata": {
        "id": "bwA5S05Jpsrn",
        "colab_type": "text"
      },
      "source": [
        "## 13.  Comparing Data"
      ]
    },
    {
      "cell_type": "markdown",
      "metadata": {
        "id": "C6mWpIWfpljf",
        "colab_type": "text"
      },
      "source": [
        "\n",
        "You'll often want to compare data in your dataset, to see if you can discern trends or relationships.\n",
        "\n",
        "### Univariate Data\n",
        "*Univariate* data is data that consist of only one variable or feature. While it may initially seem as though there's not much we can do to analyze univariate data, we've already seen that we can explore its distribution in terms of measures of central tendency and measures of variance. We've also seen how we can visualize this distribution using histograms and box plots.\n",
        "\n",
        "Here's a reminder of how you can visualize the distribution of univariate data, using our student grade data with a few additional observations in the sample:"
      ]
    },
    {
      "cell_type": "code",
      "metadata": {
        "id": "9qd2CUkjpljh",
        "colab_type": "code",
        "colab": {}
      },
      "source": [
        "%matplotlib inline\n",
        "import pandas as pd\n",
        "from matplotlib import pyplot as plt\n",
        "\n",
        "df = pd.DataFrame({'Name': ['Dan', 'Joann', 'Pedro', 'Rosie', 'Ethan', 'Vicky', 'Frederic', 'Jimmie', 'Rhonda', 'Giovanni', 'Francesca', 'Rajab', 'Naiyana', 'Kian', 'Jenny'],\n",
        "                   'Grade':[50,50,46,95,50,5,57,42,26,72,78,60,40,17,85]})\n",
        "\n",
        "plt.figure()\n",
        "df['Grade'].plot( kind='box', title='Grade Distribution')\n",
        "plt.figure()\n",
        "df['Grade'].hist(bins=9)\n",
        "plt.show()\n",
        "print(df.describe())\n",
        "print('median: ' + str(df['Grade'].median()))"
      ],
      "execution_count": 0,
      "outputs": []
    },
    {
      "cell_type": "markdown",
      "metadata": {
        "id": "Dq3gzKG6pljq",
        "colab_type": "text"
      },
      "source": [
        "### Bivariate and Multivariate Data\n",
        "It can often be useful to compare *bivariate* data; in other words, compare two variables, or even more (in which case we call it *multivariate* data).\n",
        "\n",
        "For example, our student data includes three numeric variables for each student: their salary, the number of hours they work per week, and their final school grade. Run the following code to see an enlarged sample of this data as a table:"
      ]
    },
    {
      "cell_type": "code",
      "metadata": {
        "id": "Gw7F8QU7pljq",
        "colab_type": "code",
        "colab": {}
      },
      "source": [
        "import pandas as pd\n",
        "\n",
        "df = pd.DataFrame({'Name': ['Dan', 'Joann', 'Pedro', 'Rosie', 'Ethan', 'Vicky', 'Frederic', 'Jimmie', 'Rhonda', 'Giovanni', 'Francesca', 'Rajab', 'Naiyana', 'Kian', 'Jenny'],\n",
        "                   'Salary':[50000,54000,50000,189000,55000,40000,59000,42000,47000,78000,119000,95000,49000,29000,130000],\n",
        "                   'Hours':[41,40,36,17,35,39,40,45,41,35,30,33,38,47,24],\n",
        "                   'Grade':[50,50,46,95,50,5,57,42,26,72,78,60,40,17,85]})\n",
        "\n",
        "df[['Name', 'Salary', 'Hours', 'Grade']]"
      ],
      "execution_count": 0,
      "outputs": []
    },
    {
      "cell_type": "markdown",
      "metadata": {
        "id": "gCV3gYAbpljy",
        "colab_type": "text"
      },
      "source": [
        "Let's suppose you want to compare the distributions of these variables. You might simply create a boxplot for each variable, like this:"
      ]
    },
    {
      "cell_type": "code",
      "metadata": {
        "id": "zMpKREXIpljy",
        "colab_type": "code",
        "colab": {}
      },
      "source": [
        "%matplotlib inline\n",
        "import pandas as pd\n",
        "from matplotlib import pyplot as plt\n",
        "\n",
        "df = pd.DataFrame({'Name': ['Dan', 'Joann', 'Pedro', 'Rosie', 'Ethan', 'Vicky', 'Frederic', 'Jimmie', 'Rhonda', 'Giovanni', 'Francesca', 'Rajab', 'Naiyana', 'Kian', 'Jenny'],\n",
        "                   'Salary':[50000,54000,50000,189000,55000,40000,59000,42000,47000,78000,119000,95000,49000,29000,130000],\n",
        "                   'Hours':[41,40,36,17,35,39,40,45,41,35,30,33,38,47,24],\n",
        "                   'Grade':[50,50,46,95,50,5,57,42,26,72,78,60,40,17,85]})\n",
        "\n",
        "\n",
        "df.plot(kind='box', title='Distribution', figsize = (10,8))\n",
        "plt.show()"
      ],
      "execution_count": 0,
      "outputs": []
    },
    {
      "cell_type": "markdown",
      "metadata": {
        "id": "CS4XXdqZplj5",
        "colab_type": "text"
      },
      "source": [
        "Hmm, that's not particularly useful is it?\n",
        "\n",
        "The problem is that the data are all measured in different scales. Salaries are typically in tens of thousands, while hours and grades are in single or double digits.\n",
        "\n",
        "### Normalizing Data\n",
        "When you need to compare data in different units of measurement, you can *normalize* or *scale* the data so that the values are measured in the same proportional scale. For example, in Python you can use a MinMax scaler to normalize multiple numeric variables to a proportional value between 0 and 1 based on their minimum and maximum values. Run the following cell to do this:"
      ]
    },
    {
      "cell_type": "code",
      "metadata": {
        "id": "-UJxg7O-plj6",
        "colab_type": "code",
        "colab": {}
      },
      "source": [
        "%matplotlib inline\n",
        "import pandas as pd\n",
        "from matplotlib import pyplot as plt\n",
        "from sklearn.preprocessing import MinMaxScaler\n",
        "\n",
        "df = pd.DataFrame({'Name': ['Dan', 'Joann', 'Pedro', 'Rosie', 'Ethan', 'Vicky', 'Frederic', 'Jimmie', 'Rhonda', 'Giovanni', 'Francesca', 'Rajab', 'Naiyana', 'Kian', 'Jenny'],\n",
        "                   'Salary':[50000,54000,50000,189000,55000,40000,59000,42000,47000,78000,119000,95000,49000,29000,130000],\n",
        "                   'Hours':[41,40,36,17,35,39,40,45,41,35,30,33,38,47,24],\n",
        "                   'Grade':[50,50,46,95,50,5,57,42,26,72,78,60,40,17,85]})\n",
        "\n",
        "# Normalize the data\n",
        "scaler = MinMaxScaler()\n",
        "df[['Salary', 'Hours', 'Grade']] = scaler.fit_transform(df[['Salary', 'Hours', 'Grade']])\n",
        "\n",
        "# Plot the normalized data\n",
        "df.plot(kind='box', title='Distribution', figsize = (10,8))\n",
        "plt.show()"
      ],
      "execution_count": 0,
      "outputs": []
    },
    {
      "cell_type": "markdown",
      "metadata": {
        "id": "RRZApv9zplj9",
        "colab_type": "text"
      },
      "source": [
        "Now the numbers on the y axis aren't particularly meaningful, but they're on a similar scale."
      ]
    },
    {
      "cell_type": "markdown",
      "metadata": {
        "id": "y8NZfEOmplj-",
        "colab_type": "text"
      },
      "source": [
        "### Comparing Bivariate Data with a Scatter Plot\n",
        "When you need to compare two numeric values, a scatter plot can be a great way to see if there is any apparent relationship between them so that changes in the value of one variable affect the value of the other.\n",
        "\n",
        "Let's look at a scatter plot of *Salary* and *Grade*:"
      ]
    },
    {
      "cell_type": "code",
      "metadata": {
        "id": "1a-h-_J5plj_",
        "colab_type": "code",
        "colab": {}
      },
      "source": [
        "%matplotlib inline\n",
        "import pandas as pd\n",
        "from matplotlib import pyplot as plt\n",
        "\n",
        "df = pd.DataFrame({'Name': ['Dan', 'Joann', 'Pedro', 'Rosie', 'Ethan', 'Vicky', 'Frederic', 'Jimmie', 'Rhonda', 'Giovanni', 'Francesca', 'Rajab', 'Naiyana', 'Kian', 'Jenny'],\n",
        "                   'Salary':[50000,54000,50000,189000,55000,40000,59000,42000,47000,78000,119000,95000,49000,29000,130000],\n",
        "                   'Hours':[41,40,36,17,35,39,40,45,41,35,30,33,38,47,24],\n",
        "                   'Grade':[50,50,46,95,50,5,57,42,26,72,78,60,40,17,85]})\n",
        "\n",
        "# Create a scatter plot of Salary vs Grade\n",
        "df.plot(kind='scatter', title='Grade vs Hours', x='Grade', y='Salary')\n",
        "plt.show()\n"
      ],
      "execution_count": 0,
      "outputs": []
    },
    {
      "cell_type": "markdown",
      "metadata": {
        "id": "Hbk9YBO0plkE",
        "colab_type": "text"
      },
      "source": [
        "Look closely at the scatter plot. Can you see a diagonal trend in the plotted points, rising up to the right? It looks as though the higher the student's grade is, the higher their salary is.\n",
        "\n",
        "You can see the trend more clearly by adding a *line of best fit* (sometimes called a *trendline*) to the plot:"
      ]
    },
    {
      "cell_type": "code",
      "metadata": {
        "id": "u_4x40yoplkF",
        "colab_type": "code",
        "colab": {}
      },
      "source": [
        "%matplotlib inline\n",
        "import pandas as pd\n",
        "import numpy as np\n",
        "from matplotlib import pyplot as plt\n",
        "\n",
        "df = pd.DataFrame({'Name': ['Dan', 'Joann', 'Pedro', 'Rosie', 'Ethan', 'Vicky', 'Frederic', 'Jimmie', 'Rhonda', 'Giovanni', 'Francesca', 'Rajab', 'Naiyana', 'Kian', 'Jenny'],\n",
        "                   'Salary':[50000,54000,50000,189000,55000,40000,59000,42000,47000,78000,119000,95000,49000,29000,130000],\n",
        "                   'Hours':[41,40,36,17,35,39,40,45,41,35,30,33,38,47,24],\n",
        "                   'Grade':[50,50,46,95,50,5,57,42,26,72,78,60,40,17,85]})\n",
        "\n",
        "# Create a scatter plot of Salary vs Grade\n",
        "df.plot(kind='scatter', title='Grade vs Salary', x='Grade', y='Salary')\n",
        "\n",
        "# Add a line of best fit\n",
        "plt.plot(np.unique(df['Grade']), np.poly1d(np.polyfit(df['Grade'], df['Salary'], 1))(np.unique(df['Grade'])))\n",
        "\n",
        "plt.show()"
      ],
      "execution_count": 0,
      "outputs": []
    },
    {
      "cell_type": "markdown",
      "metadata": {
        "id": "J4EmbGNtplkK",
        "colab_type": "text"
      },
      "source": [
        "The line of best fit makes it clearer that there is some apparent *colinearity* between these variables (the relationship is *colinear* if one variable's value increases or decreases in line with the other).\n",
        "\n",
        "### Correlation\n",
        "The apparently colinear relationship you saw in the scatter plot can be verified by calculating a statistic that quantifies the relationship between the two variables. The statistic usually used to do this is *correlation*, though there is also a statistic named *covariance* that is sometimes used. Correlation is generally preferred because the value it produces is more easily interpreted.\n",
        "\n",
        "A correlation value is always a number between ***-1*** and ***1***.\n",
        "- A positive value indicates a positive correlation (as the value of variable *x* increases, so does the value of variable *y*).\n",
        "- A negative value indicates a negative correlation (as the value of variable *x* increases, the value of variable *y* decreases).\n",
        "- The closer to zero the correlation value is, the weaker the correlation between *x* and *y*.\n",
        "- A correlation of exactly zero means there is no apparent relationship between the variables.\n",
        "\n",
        "The formula to calculate correlation is:\n",
        "\n",
        "\\begin{equation}r_{x,y} = \\frac{\\displaystyle\\sum_{i=1}^{n} (x_{i} -\\bar{x})(y_{i} -\\bar{y})}{\\sqrt{\\displaystyle\\sum_{i=1}^{n} (x_{i} -\\bar{x})^{2}(y_{i} -\\bar{y})^{2}}}\\end{equation}\n",
        "\n",
        "**r<sub>x, y</sub>** is the notation for the *correlation between x and y*.\n",
        "\n",
        "The formula is pretty complex, but fortunately Python makes it very easy to calculate the correlation by using the ***corr*** function:"
      ]
    },
    {
      "cell_type": "code",
      "metadata": {
        "scrolled": true,
        "id": "v5PkjWYYplkL",
        "colab_type": "code",
        "colab": {}
      },
      "source": [
        "import pandas as pd\n",
        "\n",
        "df = pd.DataFrame({'Name': ['Dan', 'Joann', 'Pedro', 'Rosie', 'Ethan', 'Vicky', 'Frederic'],\n",
        "                   'Salary':[50000,54000,50000,189000,55000,40000,59000],\n",
        "                   'Hours':[41,40,36,17,35,39,40],\n",
        "                   'Grade':[50,50,46,95,50,5,57]})\n",
        "\n",
        "# Calculate the correlation between *Salary* and *Grade*\n",
        "print(df['Grade'].corr(df['Salary']))"
      ],
      "execution_count": 0,
      "outputs": []
    },
    {
      "cell_type": "markdown",
      "metadata": {
        "id": "jxwTG3StplkP",
        "colab_type": "text"
      },
      "source": [
        "In this case, the correlation is just over 0.8; making it a reasonably high positive correlation that indicates salary increases in line with grade.\n",
        "\n",
        "Let's see if we can find a correlation between *Grade* and *Hours*:"
      ]
    },
    {
      "cell_type": "code",
      "metadata": {
        "id": "W8RGwnWaplkQ",
        "colab_type": "code",
        "colab": {}
      },
      "source": [
        "%matplotlib inline\n",
        "import pandas as pd\n",
        "import numpy as np\n",
        "from matplotlib import pyplot as plt\n",
        "\n",
        "df = pd.DataFrame({'Name': ['Dan', 'Joann', 'Pedro', 'Rosie', 'Ethan', 'Vicky', 'Frederic', 'Jimmie', 'Rhonda', 'Giovanni', 'Francesca', 'Rajab', 'Naiyana', 'Kian', 'Jenny'],\n",
        "                   'Salary':[50000,54000,50000,189000,55000,40000,59000,42000,47000,78000,119000,95000,49000,29000,130000],\n",
        "                   'Hours':[41,40,36,17,35,39,40,45,41,35,30,33,38,47,24],\n",
        "                   'Grade':[50,50,46,95,50,5,57,42,26,72,78,60,40,17,85]})\n",
        "\n",
        "r = df['Grade'].corr(df['Hours'])\n",
        "print('Correlation: ' + str(r))\n",
        "\n",
        "# Create a scatter plot of Salary vs Grade\n",
        "df.plot(kind='scatter', title='Grade vs Hours', x='Grade', y='Hours')\n",
        "\n",
        "# Add a line of best fit-\n",
        "plt.plot(np.unique(df['Grade']), np.poly1d(np.polyfit(df['Grade'], df['Hours'], 1))(np.unique(df['Grade'])))\n",
        "plt.show()\n"
      ],
      "execution_count": 0,
      "outputs": []
    },
    {
      "cell_type": "markdown",
      "metadata": {
        "id": "aBy5XM1XplkT",
        "colab_type": "text"
      },
      "source": [
        "In this case, the correlation value is just under -0.8; meaning a fairly strong negative correlation in which the number of hours worked decreases as the grade increases. The line of best fit on the scatter plot corroborates this statistic.\n",
        "\n",
        "It's important to remember that *correlation* **is not** *causation*. In other words, even though there's an apparent relationship, you can't say for sure that one variable is the cause of the other. In this example, we can say that students who achieved higher grades tend to work shorter hours; but we ***can't*** say that those who work shorter hours do so *because* they achieved a high grade!"
      ]
    },
    {
      "cell_type": "markdown",
      "metadata": {
        "id": "vkf49bERplkU",
        "colab_type": "text"
      },
      "source": [
        "### Least Squares Regression\n",
        "In the previous examples, we drew a line on a scatter plot to show the *best fit* of the data. In many cases, your initial attempts to identify any colinearity might involve adding this kind of line by hand (or just mentally visualizing it); but as you may suspect from the use of the *numpy.**polyfit*** function in the code above, there are ways to calculate the coordinates for this line mathematically. One of the most commonly used techniques is *least squares regression*, and that's what we'll look at now.\n",
        "\n",
        "Cast your mind back to when you were learning how to solve linear equations, and recall that the *slope-intercept* form of a linear equation lookes like this:\n",
        "\n",
        "\\begin{equation}y = mx + b\\end{equation}\n",
        "\n",
        "In this equation, *y* and *x* are the coordinate variables, *m* is the slope of the line, and *b* is the y-intercept of the line.\n",
        "\n",
        "In the case of our scatter plot for our former-student's working hours, we already have our values for *x* (*Grade*) and *y* (*Hours*), so we just need to calculate the intercept and slope of the straight line that lies closest to those points. Then we can form a linear equation that calculates the a new *y* value on that line for each of our *x* (*Grade*) values - to avoid confusion, we'll call this new *y* value *f(x)* (because it's the output from a linear equation function based on *x*). The difference between the original *y* (*Hours*) value and the *f(x)* value is the *error* between our regression line of best fit and the actual *Hours* worked by the former student. Our goal is to calculate the slope and intercept for a line with the lowest overall error.\n",
        "\n",
        "Specifically, we define the overall error by taking the error for each point, squaring it, and adding all the squared errors together. The line of best fit is the line that gives us the lowest value for the sum of the squared errors - hence the name *least squares regression*.\n",
        "\n",
        "So how do we accomplish this? First we need to calculate the slope (*m*), which we do using this formula (in which *n* is the number of observations in our data sample):\n",
        "\n",
        "\\begin{equation}m = \\frac{n(\\sum{xy}) - (\\sum{x})(\\sum{y})}{n(\\sum{x^{2}})-(\\sum{x})^{2}}\\end{equation}\n",
        "\n",
        "After we've calculated the slope (*m*), we can use is to calculate the intercept (*b*) like this:\n",
        "\n",
        "\\begin{equation}b = \\frac{\\sum{y} - m(\\sum{x})}{n}\\end{equation}\n",
        "\n",
        "Let's look at a simple example that compares the number of hours of nightly study each student undertook with the final grade the student achieved:\n",
        "\n",
        "| Name     | Study | Grade |\n",
        "|----------|-------|-------|\n",
        "| Dan      | 1     | 50    |\n",
        "| Joann    | 0.75  | 50    |\n",
        "| Pedro    | 0.6   | 46    |\n",
        "| Rosie    | 2     | 95    |\n",
        "| Ethan    | 1     | 50    |\n",
        "| Vicky    | 0.2   | 5     |\n",
        "| Frederic | 1.2   | 57    |\n",
        "\n",
        "First, let's take each *x* (Study) and *y* (Grade) pair and calculate *x<sup>2</sup>* and *xy*, because we're going to need these to work out the slope:\n",
        "\n",
        "| Name     | Study | Grade | x<sup>2</sup> | xy   |\n",
        "|----------|-------|-------|------|------|\n",
        "| Dan      | 1     | 50    | 1    | 50   |\n",
        "| Joann    | 0.75  | 50    | 0.55 | 37.5 |\n",
        "| Pedro    | 0.6   | 46    | 0.36 | 27.6 |\n",
        "| Rosie    | 2     | 95    | 4    | 190  |\n",
        "| Ethan    | 1     | 50    | 1    | 50   |\n",
        "| Vicky    | 0.2   | 5     | 0.04 | 1    |\n",
        "| Frederic | 1.2   | 57    | 1.44 | 68.4 |\n",
        "\n",
        "Now we'll sum *x*, *y*, *x<sup>2</sup>*, and *xy*:\n",
        "\n",
        "| Name     | Study | Grade | x<sup>2</sup> | xy   |\n",
        "|----------|-------|-------|------|------|\n",
        "| Dan      | 1     | 50    | 1    | 50   |\n",
        "| Joann    | 0.75  | 50    | 0.55 | 37.5 |\n",
        "| Pedro    | 0.6   | 46    | 0.36 | 27.6 |\n",
        "| Rosie    | 2     | 95    | 4    | 190  |\n",
        "| Ethan    | 1     | 50    | 1    | 50   |\n",
        "| Vicky    | 0.2   | 5     | 0.04 | 1    |\n",
        "| Frederic | 1.2   | 57    | 1.44 | 68.4 |\n",
        "| **&Sigma;**      | **6.75**  | **353**   | **8.4025**| **424.5**  |\n",
        "\n",
        "OK, now we're ready to calculate the slope for our *7* observations:\n",
        "\n",
        "\\begin{equation}m = \\frac{(7\\times 424.5) - (6.75\\times353)}{(7\\times8.4025)-6.75^{2}}\\end{equation}\n",
        "\n",
        "Which is:\n",
        "\n",
        "\\begin{equation}m = \\frac{2971.5 - 2382.75}{58.8175-45.5625}\\end{equation}\n",
        "\n",
        "So:\n",
        "\n",
        "\\begin{equation}m = \\frac{588.75}{13.255} \\approx 44.4172\\end{equation}\n",
        "\n",
        "Now we can calculate *b*:\n",
        "\n",
        "\\begin{equation}b = \\frac{353 - (44.4172\\times6.75)}{7}\\end{equation}\n",
        "\n",
        "Which simplifies to:\n",
        "\n",
        "\\begin{equation}b = \\frac{53.18389}{7} = 7.597699\\end{equation}\n",
        "\n",
        "Now we have our linear function:\n",
        "\n",
        "\\begin{equation}f(x) = 44.4172x + 7.597699\\end{equation}\n",
        "\n",
        "We can use this for each *x* (Study) value to calculate the *y* values for the regression line (*f(x)*), and we can subtract the original *y* (Grade) from these to calculate the error for each point:\n",
        "\n",
        "| Name     | Study | Grade | *f(x)* | Error |\n",
        "|----------|-------|-------|------|------ |\n",
        "| Dan      | 1     | 50    |52.0149 |2.0149 |\n",
        "| Joann    | 0.75  | 50    |40.9106 |-9.0894|\n",
        "| Pedro    | 0.6   | 46    |34.2480 |-11.752|\n",
        "| Rosie    | 2     | 95    |96.4321 |1.4321 |\n",
        "| Ethan    | 1     | 50    |52.0149 |2.0149 |\n",
        "| Vicky    | 0.2   | 5     |16.4811 |11.4811|\n",
        "| Frederic | 1.2   | 57    |60.8983 |3.8983 |\n",
        "\n",
        "As you can see, the *f(x)* values are mostly quite close to the actual *Grade* values, and the errors (which when we're comparing estimated values from a function with actual known values we we often call *residuals*) are generally pretty small.\n",
        "\n",
        "Let's plot the least squares regression line with the actual values:"
      ]
    },
    {
      "cell_type": "code",
      "metadata": {
        "id": "IEpntqu6plkU",
        "colab_type": "code",
        "colab": {}
      },
      "source": [
        "%matplotlib inline\n",
        "import pandas as pd\n",
        "import numpy as np\n",
        "from matplotlib import pyplot as plt\n",
        "\n",
        "df = pd.DataFrame({'Name': ['Dan', 'Joann', 'Pedro', 'Rosie', 'Ethan', 'Vicky', 'Frederic'],\n",
        "                   'Study':[1,0.75,0.6,2,1,0.2,1.2],\n",
        "                   'Grade':[50,50,46,95,50,5,57],\n",
        "                   'fx':[52.0159,40.9106,34.2480,96.4321,52.0149,16.4811,60.8983]})\n",
        "\n",
        "# Create a scatter plot of Study vs Grade\n",
        "df.plot(kind='scatter', title='Study Time vs Grade Regression', x='Study', y='Grade', color='red')\n",
        "\n",
        "# Plot the regression line\n",
        "plt.plot(df['Study'],df['fx'])\n",
        "\n",
        "plt.show()"
      ],
      "execution_count": 0,
      "outputs": []
    },
    {
      "cell_type": "markdown",
      "metadata": {
        "id": "HDUoyctJplkg",
        "colab_type": "text"
      },
      "source": [
        "In this case, the line fits the middle values fairly well, but is less accurate for the outlier at the low end. This is often the case, which is why statisticians and data scientists often *treat* outliers by removing them or applying a threshold value; though in this example there are too few data points to conclude that the data points are really outliers.\n",
        "\n",
        "Let's look at a slightly larger dataset and apply the same approach to compare *Grade* and *Salary*:"
      ]
    },
    {
      "cell_type": "code",
      "metadata": {
        "id": "RwL9A_pUplkg",
        "colab_type": "code",
        "colab": {}
      },
      "source": [
        "%matplotlib inline\n",
        "import pandas as pd\n",
        "import numpy as np\n",
        "from matplotlib import pyplot as plt\n",
        "\n",
        "df = pd.DataFrame({'Name': ['Dan', 'Joann', 'Pedro', 'Rosie', 'Ethan', 'Vicky', 'Frederic', 'Jimmie', 'Rhonda', 'Giovanni', 'Francesca', 'Rajab', 'Naiyana', 'Kian', 'Jenny'],\n",
        "                   'Salary':[50000,54000,50000,189000,55000,40000,59000,42000,47000,78000,119000,95000,49000,29000,130000],\n",
        "                   'Hours':[41,40,36,17,35,39,40,45,41,35,30,33,38,47,24],\n",
        "                   'Grade':[50,50,46,95,50,5,57,42,26,72,78,60,40,17,85]})\n",
        "\n",
        "# Calculate least squares regression line\n",
        "df['x2'] = df['Grade']**2\n",
        "df['xy'] = df['Grade'] * df['Salary']\n",
        "x = df['Grade'].sum()\n",
        "y = df['Salary'].sum()\n",
        "x2 = df['x2'].sum()\n",
        "xy = df['xy'].sum()\n",
        "n = df['Grade'].count()\n",
        "m = ((n*xy) - (x*y))/((n*x2)-(x**2))\n",
        "b = (y - (m*x))/n\n",
        "df['fx'] = (m*df['Grade']) + b\n",
        "df['error'] = df['fx'] - df['Salary']\n",
        "\n",
        "print('slope: ' + str(m))\n",
        "print('y-intercept: ' + str(b))\n",
        "\n",
        "# Create a scatter plot of Grade vs Salary\n",
        "df.plot(kind='scatter', title='Grade vs Salary Regression', x='Grade', y='Salary', color='red')\n",
        "\n",
        "# Plot the regression line\n",
        "plt.plot(df['Grade'],df['fx'])\n",
        "\n",
        "plt.show()\n",
        "\n",
        "# Show the original x,y values, the f(x) value, and the error\n",
        "df[['Grade', 'Salary', 'fx', 'error']]"
      ],
      "execution_count": 0,
      "outputs": []
    },
    {
      "cell_type": "markdown",
      "metadata": {
        "id": "v_Hxv9tZplkk",
        "colab_type": "text"
      },
      "source": [
        "In this case, we used Python expressions to calculate the *slope* and *y-intercept* using the same approach and formula as before. In practice, Python provides great support for statistical operations like this; and you can use the ***linregress*** function in the *scipy.stats* package to retrieve the *slope* and *y-intercept* (as well as the *correlation*, *p-value*, and *standard error*) for a matched array of *x* and *y* values (we'll discuss *p-values* later!).\n",
        "\n",
        "Here's the Python code to calculate the regression line variables using the ***linregress*** function:"
      ]
    },
    {
      "cell_type": "code",
      "metadata": {
        "id": "wWQTUhVHplkl",
        "colab_type": "code",
        "colab": {}
      },
      "source": [
        "%matplotlib inline\n",
        "import pandas as pd\n",
        "import numpy as np\n",
        "from matplotlib import pyplot as plt\n",
        "from scipy import stats\n",
        "\n",
        "df = pd.DataFrame({'Name': ['Dan', 'Joann', 'Pedro', 'Rosie', 'Ethan', 'Vicky', 'Frederic', 'Jimmie', 'Rhonda', 'Giovanni', 'Francesca', 'Rajab', 'Naiyana', 'Kian', 'Jenny'],\n",
        "                   'Salary':[50000,54000,50000,189000,55000,40000,59000,42000,47000,78000,119000,95000,49000,29000,130000],\n",
        "                   'Hours':[41,40,36,17,35,39,40,45,41,35,30,33,38,47,24],\n",
        "                   'Grade':[50,50,46,95,50,5,57,42,26,72,78,60,40,17,85]})\n",
        "\n",
        "# Get the regression line slope and intercept\n",
        "m, b, r, p, se = stats.linregress(df['Grade'], df['Salary'])\n",
        "\n",
        "df['fx'] = (m*df['Grade']) + b\n",
        "df['error'] = df['fx'] - df['Salary']\n",
        "\n",
        "print('slope: ' + str(m))\n",
        "print('y-intercept: ' + str(b))\n",
        "\n",
        "# Create a scatter plot of Grade vs Salary\n",
        "df.plot(kind='scatter', title='Grade vs Salary Regression', x='Grade', y='Salary', color='red')\n",
        "\n",
        "# Plot the regression line\n",
        "plt.plot(df['Grade'],df['fx'])\n",
        "\n",
        "plt.show()\n",
        "\n",
        "# Show the original x,y values, the f(x) value, and the error\n",
        "df[['Grade', 'Salary', 'fx', 'error']]\n"
      ],
      "execution_count": 0,
      "outputs": []
    },
    {
      "cell_type": "markdown",
      "metadata": {
        "id": "7x8d_dTXplko",
        "colab_type": "text"
      },
      "source": [
        "Note that the *slope* and *y-intercept* values are the same as when we worked them out using the formula.\n",
        "\n",
        "Similarly to the simple study hours example, the regression line doesn't fit the outliers very well. In this case, the extremes include a student who scored only 5, and a student who scored 95. Let's see what happens if we remove these students from our sample:"
      ]
    },
    {
      "cell_type": "code",
      "metadata": {
        "id": "4cnuJk4Wplkp",
        "colab_type": "code",
        "colab": {}
      },
      "source": [
        "%matplotlib inline\n",
        "import pandas as pd\n",
        "import numpy as np\n",
        "from matplotlib import pyplot as plt\n",
        "from scipy import stats\n",
        "\n",
        "df = pd.DataFrame({'Name': ['Dan', 'Joann', 'Pedro', 'Rosie', 'Ethan', 'Vicky', 'Frederic', 'Jimmie', 'Rhonda', 'Giovanni', 'Francesca', 'Rajab', 'Naiyana', 'Kian', 'Jenny'],\n",
        "                   'Salary':[50000,54000,50000,189000,55000,40000,59000,42000,47000,78000,119000,95000,49000,29000,130000],\n",
        "                   'Hours':[41,40,36,17,35,39,40,45,41,35,30,33,38,47,24],\n",
        "                   'Grade':[50,50,46,95,50,5,57,42,26,72,78,60,40,17,85]})\n",
        "\n",
        "df = df[(df['Grade'] > 5) & (df['Grade'] < 95)]\n",
        "\n",
        "# Get the regression line slope and intercept\n",
        "m, b, r, p, se = stats.linregress(df['Grade'], df['Salary'])\n",
        "\n",
        "df['fx'] = (m*df['Grade']) + b\n",
        "df['error'] = df['fx'] - df['Salary']\n",
        "\n",
        "print('slope: ' + str(m))\n",
        "print('y-intercept: ' + str(b))\n",
        "\n",
        "# Create a scatter plot of Grade vs Salary\n",
        "df.plot(kind='scatter', title='Grade vs Salary Regression', x='Grade', y='Salary', color='red')\n",
        "\n",
        "# Plot the regression line\n",
        "plt.plot(df['Grade'],df['fx'])\n",
        "\n",
        "plt.show()\n",
        "\n",
        "# Show the original x,y values, the f(x) value, and the error\n",
        "df[['Grade', 'Salary', 'fx', 'error']]\n"
      ],
      "execution_count": 0,
      "outputs": []
    },
    {
      "cell_type": "markdown",
      "metadata": {
        "id": "xqjQ3WWrplks",
        "colab_type": "text"
      },
      "source": [
        "With the outliers removed, the line is a slightly better overall fit to the data.\n",
        "\n",
        "One of the neat things about regression is that it gives us a formula and some constant values that we can use to estimate a *y* value for any *x* value. We just need to apply the linear function using the *slope* and *y-intercept* values we've calculated from our sample data. For example, suppose a student named Fabio graduates from our school with a final grade of **62**. We can use our linear function with the *slope* and *y-intercept* values we calculated with Python to estimate what salary he can expect to earn:\n",
        "\n",
        "\\begin{equation}f(x) = (1424.50\\times62) - 7822.24 \\approx 80,497 \\end{equation}\n"
      ]
    },
    {
      "cell_type": "markdown",
      "metadata": {
        "id": "bXV4zarJqaC7",
        "colab_type": "text"
      },
      "source": [
        "## 14.  Probability"
      ]
    },
    {
      "cell_type": "markdown",
      "metadata": {
        "id": "j-eBaE6PqIo3",
        "colab_type": "text"
      },
      "source": [
        "Many of the problems we try to solve using statistics are to do with *probability*. For example, what's the probable salary for a graduate who scored a given score in their final exam at school? Or, what's the likely height of a child given the height of his or her parents?\n",
        "\n",
        "It therefore makes sense to learn some basic principles of probability as we study statistics.\n",
        "\n",
        "### Probability Basics\n",
        "Let's start with some basic definitions and principles.\n",
        "- An ***experiment*** or ***trial*** is an action with an uncertain outcome, such as tossing a coin.\n",
        "- A ***sample space*** is the set of all possible outcomes of an experiment. In a coin toss, there's a set of two possible oucomes (*heads* and *tails*).\n",
        "- A ***sample point*** is a single possible outcome - for example, *heads*)\n",
        "- An ***event*** is a specific outome of single instance of an experiment - for example, tossing a coin and getting *tails*.\n",
        "- ***Probability*** is a value between 0 and 1 that indicates the likelihood of a particular event, with 0 meaning that the event is impossible, and 1 meaning that the event is inevitable. In general terms, it's calculated like this:\n",
        "\n",
        "\\begin{equation}\\text{probability of an event} = \\frac{\\text{Number of sample points that produce the event}}{\\text{Total number of sample points in the sample space}} \\end{equation}\n",
        "\n",
        "For example, the probability of getting *heads* when tossing as coin is <sup>1</sup>/<sub>2</sub> - there is only one side of the coin that is designated *heads*. and there are two possible outcomes in the sample space (*heads* and *tails*). So the probability of getting *heads* in a single coin toss is 0.5 (or 50% when expressed as a percentage).\n",
        "\n",
        "Let's look at another example. Suppose you throw two dice, hoping to get 7.\n",
        "\n",
        "The dice throw itself is an *experiment* - you don't know the outome until the dice have landed and settled.\n",
        "\n",
        "The *sample space* of all possible outcomes is every combination of two dice - 36 *sample points*:\n",
        "<table style='font-size:36px;'>\n",
        "<tr><td>&#9856;+&#9856;</td><td>&#9856;+&#9857;</td><td>&#9856;+&#9858;</td><td>&#9856;+&#9859;</td><td>&#9856;+&#9860;</td><td>&#9856;+&#9861;</td></tr>\n",
        "<tr><td>&#9857;+&#9856;</td><td>&#9857;+&#9857;</td><td>&#9857;+&#9858;</td><td>&#9857;+&#9859;</td><td>&#9857;+&#9860;</td><td>&#9857;+&#9861;</td></tr>\n",
        "<tr><td>&#9858;+&#9856;</td><td>&#9858;+&#9857;</td><td>&#9858;+&#9858;</td><td>&#9858;+&#9859;</td><td>&#9858;+&#9860;</td><td>&#9858;+&#9861;</td></tr>\n",
        "<tr><td>&#9859;+&#9856;</td><td>&#9859;+&#9857;</td><td>&#9859;+&#9858;</td><td>&#9859;+&#9859;</td><td>&#9859;+&#9860;</td><td>&#9859;+&#9861;</td></tr>\n",
        "<tr><td>&#9860;+&#9856;</td><td>&#9860;+&#9857;</td><td>&#9860;+&#9858;</td><td>&#9860;+&#9859;</td><td>&#9860;+&#9860;</td><td>&#9860;+&#9861;</td></tr>\n",
        "<tr><td>&#9861;+&#9856;</td><td>&#9861;+&#9857;</td><td>&#9861;+&#9858;</td><td>&#9861;+&#9859;</td><td>&#9861;+&#9860;</td><td>&#9861;+&#9861;</td></tr>\n",
        "</table>\n",
        "\n",
        "The *event* you want to happen is throwing a 7. There are 6 *sample points* that could produce this event:\n",
        "\n",
        "<table style='font-size:36px;'>\n",
        "<tr><td style='color:lightgrey;'>&#9856;+&#9856;</td><td style='color:lightgrey;'>&#9856;+&#9857;</td><td style='color:lightgrey;'>&#9856;+&#9858;</td><td style='color:lightgrey;'>&#9856;+&#9859;</td><td style='color:lightgrey;'>&#9856;+&#9860;</td><td>&#9856;+&#9861;</td></tr>\n",
        "<tr><td style='color:lightgrey;'>&#9857;+&#9856;</td><td style='color:lightgrey;'>&#9857;+&#9857;</td><td style='color:lightgrey;'>&#9857;+&#9858;</td><td style='color:lightgrey;'>&#9857;+&#9859;</td><td>&#9857;+&#9860;</td><td style='color:lightgrey;'>&#9857;+&#9861;</td></tr>\n",
        "<tr><td style='color:lightgrey;'>&#9858;+&#9856;</td><td style='color:lightgrey;'>&#9858;+&#9857;</td><td style='color:lightgrey;'>&#9858;+&#9858;</td><td>&#9858;+&#9859;</td><td style='color:lightgrey;'>&#9858;+&#9860;</td><td style='color:lightgrey;'>&#9858;+&#9861;</td></tr>\n",
        "<tr><td style='color:lightgrey;'>&#9859;+&#9856;</td><td style='color:lightgrey;'>&#9859;+&#9857;</td><td>&#9859;+&#9858;</td><td style='color:lightgrey;'>&#9859;+&#9859;</td><td style='color:lightgrey;'>&#9859;+&#9860;</td><td style='color:lightgrey;'>&#9859;+&#9861;</td></tr>\n",
        "<tr><td style='color:lightgrey;'>&#9860;+&#9856;</td><td>&#9860;+&#9857;</td><td style='color:lightgrey;'>&#9860;+&#9858;</td><td style='color:lightgrey;'>&#9860;+&#9859;</td><td style='color:lightgrey;'>&#9860;+&#9860;</td><td style='color:lightgrey;'>&#9860;+&#9861;</td></tr>\n",
        "<tr><td>&#9861;+&#9856;</td><td style='color:lightgrey;'>&#9861;+&#9857;</td><td style='color:lightgrey;'>&#9861;+&#9858;</td><td style='color:lightgrey;'>&#9861;+&#9859;</td><td style='color:lightgrey;'>&#9861;+&#9860;</td><td style='color:lightgrey;'>&#9861;+&#9861;</td></tr>\n",
        "</table>\n",
        "\n",
        "The *probability* of throwing a 7 is therefore <sup>6</sup>/<sub>36</sub> which can be simplified to <sup>1</sup>/<sub>6</sub> or approximately 0.167 (16.7%).\n",
        "\n",
        "### Probability Notation\n",
        "When we express probability, we use an upper-case **P** to indicate *probability* and an upper-case letter to represent the event. So to express the probability of throwing a 7 as an event valled ***A***, we could write:\n",
        "\n",
        "\\begin{equation}P(A) = 0.167 \\end{equation}\n",
        "\n",
        "### The Complement of an Event\n",
        "The *complement* of an event is the set of *sample points* that do ***not*** result in the event.\n",
        "\n",
        "For example, suppose you have a standard deck of playing cards, and you draw one card, hoping for a *spade*. In this case, the drawing of a card is the *experiment*, and the *event* is drawing a spade. There are 13 cards of each suit in the deck. So the *sample space* contains 52 *sample points*:\n",
        "\n",
        "<table>\n",
        "<tr><td>13 x <span style='font-size:32px;color:red;'>&hearts;</span></td><td>13 x <span style='font-size:32px;color:black;'>&spades;</span></td><td>13 x <span style='font-size:32px;color:black;'>&clubs;</span></td><td>13 x <span style='font-size:32px;color:red;'>&diams;</span></td></tr>\n",
        "</table>\n",
        "\n",
        "There are 13 *sample points* that would satisfy the requirements of the event:\n",
        "\n",
        "<table>\n",
        "<tr><td style='color:lightgrey;'>13 x <span style='font-size:32px;'>&hearts;</span></td><td>13 x <span style='font-size:32px;'>&spades;</span></td><td style='color:lightgrey;'>13 x <span style='font-size:32px;'>&clubs;</span></td><td style='color:lightgrey;'>13 x <span style='font-size:32px'>&diams;</span></td></tr>\n",
        "</table>\n",
        "\n",
        "So the *probability* of the event (drawing a spade) is <sup>13</sup>/<sub>52</sub> which is <sup>1</sup>/<sub>4</sub> or 0.25 (25%).\n",
        "\n",
        "The *complement* of the event is all of the possible outcomes that *don't* result in drawing a spade:\n",
        "\n",
        "<table>\n",
        "<tr><td>13 x <span style='font-size:32px;color:red;'>&hearts;</span></td><td style='color:lightgrey;'>13 x <span style='font-size:32px;'>&spades;</span></td><td>13 x <span style='font-size:32px;color:black;'>&clubs;</span></td><td>13 x <span style='font-size:32px;color:red;'>&diams;</span></td></tr>\n",
        "</table>\n",
        "\n",
        "There are 39 sample points in the complement (3 x 13), so the probability of the complement is <sup>39</sup>/<sub>52</sub> which is <sup>3</sup>/<sub>4</sub> or 0.75 (75%).\n",
        "\n",
        "Note that the probability of an event and the probability of its complement ***always add up to 1***.\n",
        "\n",
        "This fact can be useful in some cases. For example, suppose you throw two dice and want to know the probability of throwing more than 4. You *could* count all of the outcomes that would produce this result, but there are a lot of them. It might be easier to identify the ones that *do not* produce this result (in other words, the complement):\n",
        "\n",
        "<table style='font-size:36px;'>\n",
        "<tr><td>&#9856;+&#9856;</td><td>&#9856;+&#9857;</td><td>&#9856;+&#9858;</td><td style='color:lightgrey;'>&#9856;+&#9859;</td><td style='color:lightgrey;'>&#9856;+&#9860;</td><td style='color:lightgrey;'>&#9856;+&#9861;</td></tr>\n",
        "<tr><td>&#9857;+&#9856;</td><td>&#9857;+&#9857;</td><td style='color:lightgrey;'>&#9857;+&#9858;</td><td style='color:lightgrey;'>&#9857;+&#9859;</td><td style='color:lightgrey;'>&#9857;+&#9860;</td><td style='color:lightgrey;'>&#9857;+&#9861;</td></tr>\n",
        "<tr><td>&#9858;+&#9856;</td><td style='color:lightgrey;'>&#9858;+&#9857;</td><td style='color:lightgrey;'>&#9858;+&#9858;</td><td style='color:lightgrey;'>&#9858;+&#9859;</td><td style='color:lightgrey;'>&#9858;+&#9860;</td><td style='color:lightgrey;'>&#9858;+&#9861;</td></tr>\n",
        "<tr><td style='color:lightgrey;'>&#9859;+&#9856;</td><td style='color:lightgrey;'>&#9859;+&#9857;</td><td style='color:lightgrey;'>&#9859;+&#9858;</td><td style='color:lightgrey;'>&#9859;+&#9859;</td><td style='color:lightgrey;'>&#9859;+&#9860;</td><td style='color:lightgrey;'>&#9859;+&#9861;</td></tr>\n",
        "<tr><td style='color:lightgrey;'>&#9860;+&#9856;</td><td style='color:lightgrey;'>&#9860;+&#9857;</td><td style='color:lightgrey;'>&#9860;+&#9858;</td><td style='color:lightgrey;'>&#9860;+&#9859;</td><td style='color:lightgrey;'>&#9860;+&#9860;</td><td style='color:lightgrey;'>&#9860;+&#9861;</td></tr>\n",
        "<tr><td style='color:lightgrey;'>&#9861;+&#9856;</td><td style='color:lightgrey;'>&#9861;+&#9857;</td><td style='color:lightgrey;'>&#9861;+&#9858;</td><td style='color:lightgrey;'>&#9861;+&#9859;</td><td style='color:lightgrey;'>&#9861;+&#9860;</td><td style='color:lightgrey;'>&#9861;+&#9861;</td></tr>\n",
        "</table>\n",
        "\n",
        "Out of a total of 36 sample points in the sample space, there are 6 sample points where you throw a 4 or less (1+1, 1+2, 1+3, 2+1, 2+2, and 3+1); so the probability of the complement is <sup>6</sup>/<sub>36</sub> which is <sup>1</sup>/<sub>6</sub> or approximately 0.167 (16.7%).\n",
        "\n",
        "Now, here's the clever bit. Since the probability of the complement and the event itself must add up to 1, the probability of the event must be **<sup>5</sup>/<sub>6</sub>** or **0.833** (**83.3%**).\n",
        "\n",
        "We indicate the complement of an event by adding a **'** to the letter assigned to it, so:\n",
        "\n",
        "\\begin{equation}P(A) = 1 - P(A') \\end{equation}\n",
        "\n",
        "### Bias\n",
        "Often, the sample points in the sample space do not have the same probability, so there is a *bias* that makes one outcome more likely than another. For example, suppose your local weather forecaster indicates the predominant weather for each day of the week like this:\n",
        "\n",
        "<table>\n",
        "<tr><td style='text-align:center'>Mon</td><td style='text-align:center'>Tue</td><td style='text-align:center'>Wed</td><td style='text-align:center'>Thu</td><td style='text-align:center'>Fri</td><td style='text-align:center'>Sat</td><td style='text-align:center'>Sun</td></tr>\n",
        "<tr style='font-size:32px'><td>&#9729;</td><td>&#9730;</td><td>&#9728;</td><td>&#9728;</td><td>&#9728;</td><td>&#9729;</td><td>&#9728;</td></tr>\n",
        "</table>\n",
        "\n",
        "This forceast is pretty typical for your area at this time of the year. In fact, historically the weather is sunny on 60% of days, cloudy on 30% of days, and rainy on only 10% of days. On any given day, the sample space for the weather contains 3 sample points (*sunny*, *cloudy*, and *rainy*); but the probabities for these sample points are not the same.\n",
        "\n",
        "If we assign the letter **A** to a sunny day event, **B** to a cloudy day event, and **C** to a rainy day event then we can write these probabilities like this:\n",
        "\n",
        "\\begin{equation}P(A)=0.6\\;\\;\\;\\; P(B)=0.3\\;\\;\\;\\; P(C)=0.1 \\end{equation}\n",
        "\n",
        "The complement of **A** (a sunny day) is any day where it is not sunny - it is either cloudy or rainy. We can work out the probability for this in two ways: we can subtract the probablity of **A** from 1:\n",
        "\n",
        "\\begin{equation}P(A') = 1 - P(A) = 1 - 0.6 = 0.4 \\end{equation}\n",
        "\n",
        "Or we can add together the probabilities for all events that do *not* result in a sunny day:\n",
        "\n",
        "\\begin{equation}P(A') = P(B) + P(C) = 0.3 + 0.1 = 0.4 \\end{equation}\n",
        "\n",
        "Either way, there's a 40% chance of it not being sunny!\n"
      ]
    },
    {
      "cell_type": "markdown",
      "metadata": {
        "id": "pIkUcG9IqIo4",
        "colab_type": "text"
      },
      "source": [
        "### Conditional Probability and Dependence\n",
        "Events can be:\n",
        "- *Independent* (events that are not affected by other events)\n",
        "- *Dependent* (events that are conditional on other events)\n",
        "- *Mutually Exclusive* (events that can't occur together)\n",
        "\n",
        "### Independent Events\n",
        "Imagine you toss a coin. The sample space contains two possible outomes: heads (<span style='font-size:42px;color:gold;'><sub>&#10050;</sub></span>) or tails (<span style='font-size:42px;color:gold;'><sub>&#9854;</sub></span>).\n",
        "\n",
        "The probability of getting *heads* is <sup>1</sup>/<sub>2</sub>, and the probability of getting *tails* is also <sup>1</sup>/<sub>2</sub>. Let's toss a coin...\n",
        "\n",
        "<span style='font-size:48px;color:gold;'>&#10050;</span>\n",
        "\n",
        "OK, so we got *heads*. Now, let's toss the coin again:\n",
        "\n",
        "<span style='font-size:48px;color:gold;'>&#10050;</span>\n",
        "\n",
        "It looks like we got *heads* again. If we were to toss the coin a third time, what's the probability that we'd get *heads*?\n",
        "\n",
        "Although you might be tempted to think that a *tail* is overdue, the fact is that each coin toss is an independent event. The outcome of the first coin toss does not affect the second coin toss (or the third, or any number of other coin tosses). For each independent coin toss, the probability of getting *heads* (or *tails*) remains <sup>1</sup>/<sub>2</sub>, or 50%.\n",
        "\n",
        "Run the following Python code to simulate 10,000 coin tosses by assigning a random value of 0 or 1 to *heads* and *tails*. Each time the coin is tossed, the probability of getting *heads* or *tails* is 50%, so you should expect approximately half of the results to be *heads* and half to be *tails* (it won't be exactly half, due to a little random variation; but it should be close):"
      ]
    },
    {
      "cell_type": "code",
      "metadata": {
        "id": "JjGaYxitqIo5",
        "colab_type": "code",
        "colab": {}
      },
      "source": [
        "%matplotlib inline\n",
        "import random\n",
        "\n",
        "# Create a list with 2 element (for heads and tails)\n",
        "heads_tails = [0,0]\n",
        "\n",
        "# loop through 10000 trials\n",
        "trials = 10000\n",
        "trial = 0\n",
        "while trial < trials:\n",
        "    trial = trial + 1\n",
        "    # Get a random 0 or 1\n",
        "    toss = random.randint(0,1)\n",
        "    # Increment the list element corresponding to the toss result\n",
        "    heads_tails[toss] = heads_tails[toss] + 1\n",
        "\n",
        "print (heads_tails)\n",
        "\n",
        "# Show a pie chart of the results\n",
        "from matplotlib import pyplot as plt\n",
        "plt.figure(figsize=(5,5))\n",
        "plt.pie(heads_tails, labels=['heads', 'tails'])\n",
        "plt.legend()\n",
        "plt.show()"
      ],
      "execution_count": 0,
      "outputs": []
    },
    {
      "cell_type": "markdown",
      "metadata": {
        "id": "2iXOKIFHqIpI",
        "colab_type": "text"
      },
      "source": [
        "### Combining Independent Events\n",
        "Now, let's ask a slightly different question. What is the probability of getting three *heads* in a row? Since the probability of a heads on each independent toss is <sup>1</sup>/<sub>2</sub>, you might be tempted to think that the same probability applies to getting three *heads* in a row; but actually, we need to treat getting three *heads* as it's own event, which is the combination of three independent events. To combine independent events like this, we need to multiply the probability of each event. So:\n",
        "\n",
        "<span style='font-size:48px;color:gold;'><sub>&#10050;</sub></span> = <sup>1</sup>/<sub>2</sub>\n",
        "\n",
        "<span style='font-size:48px;color:gold;'><sub>&#10050;&#10050;</sub></span> = <sup>1</sup>/<sub>2</sub> x <sup>1</sup>/<sub>2</sub>\n",
        "\n",
        "<span style='font-size:48px;color:gold;'><sub>&#10050;&#10050;&#10050;</sub></span> = <sup>1</sup>/<sub>2</sub> x <sup>1</sup>/<sub>2</sub> x <sup>1</sup>/<sub>2</sub>\n",
        "\n",
        "So the probability of tossing three *heads* in a row is 0.5 x 0.5 x 0.5, which is 0.125 (or 12.5%).\n",
        "\n",
        "Run the code below to simulate 10,000 trials of flipping a coin three times:"
      ]
    },
    {
      "cell_type": "code",
      "metadata": {
        "id": "wTBgUzKPqIpI",
        "colab_type": "code",
        "colab": {}
      },
      "source": [
        "import random\n",
        "\n",
        "# Count the number of 3xHeads results\n",
        "h3 = 0\n",
        "\n",
        "# Create a list of all results\n",
        "results = []\n",
        "\n",
        "# loop through 10000 trials\n",
        "trials = 10000\n",
        "trial = 0\n",
        "while trial < trials:\n",
        "    trial = trial + 1\n",
        "    # Flip three coins\n",
        "    result = ['H' if random.randint(0,1) == 1 else 'T',\n",
        "              'H' if random.randint(0,1) == 1 else 'T',\n",
        "              'H' if random.randint(0,1) == 1 else 'T']\n",
        "    results.append(result)\n",
        "    # If it's three heads, add it to the count\n",
        "    h3 = h3 + int(result == ['H','H','H'])\n",
        "    \n",
        "# What proportion of trials produced 3x heads\n",
        "print (\"%.2f%%\" % ((h3/trials)*100))\n",
        "\n",
        "# Show all the results\n",
        "print (results)\n"
      ],
      "execution_count": 0,
      "outputs": []
    },
    {
      "cell_type": "markdown",
      "metadata": {
        "id": "_RI3h6GiqIpN",
        "colab_type": "text"
      },
      "source": [
        "The output shows the percentage of times a trial resulted in three heads (which should be somewhere close to 12.5%). You can count the number of *['H', 'H', 'H']* entries in the full list of results to verify this if you like!\n",
        "\n",
        "\n",
        "#### Probability Trees\n",
        "You can represent a series of events and their probabilities as a probability tree:\n",
        "\n",
        "                         ____H(0.5)  : 0.5 x 0.5 x 0.5 = 0.125\n",
        "                        /\n",
        "                   ____H(0.5)\n",
        "                  /     \\____T(0.5)  : 0.5 x 0.5 x 0.5 = 0.125\n",
        "                 /        \n",
        "              __H(0.5)   ____H(0.5)  : 0.5 x 0.5 x 0.5 = 0.125\n",
        "             /   \\      / \n",
        "            /     \\____T(0.5)\n",
        "           /            \\____T(0.5)  : 0.5 x 0.5 x 0.5 = 0.125\n",
        "          /              \n",
        "    _____/              _____H(0.5)  : 0.5 x 0.5 x 0.5 = 0.125\n",
        "         \\             / \n",
        "          \\        ___H(0.5)\n",
        "           \\      /    \\_____T(0.5)  : 0.5 x 0.5 x 0.5 = 0.125\n",
        "            \\    /       \n",
        "             \\__T(0.5)  _____H(0.5)  : 0.5 x 0.5 x 0.5 = 0.125\n",
        "                 \\     /\n",
        "                  \\___T(0.5)\n",
        "                       \\_____T(0.5)  : 0.5 x 0.5 x 0.5 = 0.125\n",
        "                                                         _____\n",
        "                                                          1.0\n",
        "                        \n",
        "Starting at the left, you can follow the branches in the tree that represent each event (in this case a coin toss result of *heads* or *tails* at each branch). Multiplying the probability of each branch of your path through the tree gives you the combined probability for an event composed of all of the events in the path. In this case, you can see from the tree that you are equally likely to get any sequence of three *heads* or *tails* results (so three *heads* is just as likely as three *tails*, which is just as likely as *head-tail-head*, *tail-head-tail*, or any other combination!)\n",
        "\n",
        "Note that the total probability for all paths through the tree adds up to 1.\n",
        "\n",
        "#### Combined Event Probability Notation\n",
        "When calculating the probability of combined events, we assign a letter such as **A** or **B** to each event, and we use the *intersection* (**&cap;**) symbol to indicate that we want the combined probability of multiple events. So we could assign the letters **A**, **B**, and **C** to each independent coin toss in our sequence of three tosses, and express the combined probability like this:\n",
        "\n",
        "\\begin{equation}P(A \\cap B \\cap C) = P(A) \\times P(B) \\times P(C) \\end{equation}\n",
        "\n",
        "#### Combining Events with Different Probabilities\n",
        "Imagine you have created a new game that mixes the excitment of coin-tossing with the thrill of die-rolling! The objective of the game is to roll a die and get *6*, and toss a coin and get *heads*:\n",
        "\n",
        "<div style='text-align:center'><span style='font-size:48px;'>&#9861;</span><span style='font-size:42px;'> +</span><span style='font-size:48px;color:gold;'>&#10050;</span></div>\n",
        "\n",
        "On each turn of the game, a player rolls the die and tosses the coin.\n",
        "\n",
        "How can we calculate the probability of winning?\n",
        "\n",
        "There are two independent events required to win: a die-roll of *6* (which we'll call event **A**), and a coin-toss of *heads* (which we'll call event **B**)\n",
        "\n",
        "Our formula for combined independent events is:\n",
        "\n",
        "\\begin{equation}P(A \\cap B) = P(A) \\times P(B) \\end{equation}\n",
        "\n",
        "The probablilty of rolling a *6* on a fair die is <sup>1</sup>/<sub>6</sub> or 0.167;  and the probability of tossing a coin and getting *heads* is <sup>1</sup>/<sub>2</sub> or 0.5:\n",
        "\n",
        "\\begin{equation}P(A \\cap B) = 0.167 \\times 0.5 = 0.083 \\end{equation}\n",
        "\n",
        "So on each turn, there's an 8.3% chance to win the game.\n",
        "\n",
        "#### Intersections and Unions\n",
        "\n",
        "Previously you saw that we use the *intersection* (**&cap;**) symbol to represent \"and\" when combining event probabilities. This notation comes from a branch of mathematics called *set theory*, in which we work with sets of values. let's examine this in a little more detail.\n",
        "\n",
        "Here's our deck of playing cards, with the full sample space for drawing any card:\n",
        "\n",
        "<table style='font-size:18px;'>\n",
        "<tr><td style='color:red;'>A &hearts;</td><td style='color:black;'>A &spades;</td><td style='color:black;'>A &clubs;<td style='color:red;'>A &diams;</td></tr>\n",
        "<tr><td style='color:red;'>K &hearts;</td><td style='color:black;'>K &spades;</td><td style='color:black;'>K &clubs;<td style='color:red;'>K &diams;</td></tr>\n",
        "<tr><td style='color:red;'>Q &hearts;</td><td style='color:black;'>Q &spades;</td><td style='color:black;'>Q &clubs;<td style='color:red;'>Q &diams;</td></tr>\n",
        "<tr><td style='color:red;'>J &hearts;</td><td style='color:black;'>J &spades;</td><td style='color:black;'>J &clubs;<td style='color:red;'>J &diams;</td></tr>\n",
        "<tr><td style='color:red;'>10 &hearts;</td><td style='color:black;'>10 &spades;</td><td style='color:black;'>10 &clubs;<td style='color:red;'>10 &diams;</td></tr>\n",
        "<tr><td style='color:red;'>9 &hearts;</td><td style='color:black;'>9 &spades;</td><td style='color:black;'>9 &clubs;<td style='color:red;'>9 &diams;</td></tr>\n",
        "<tr><td style='color:red;'>8 &hearts;</td><td style='color:black;'>8 &spades;</td><td style='color:black;'>8 &clubs;<td style='color:red;'>8 &diams;</td></tr>\n",
        "<tr><td style='color:red;'>7 &hearts;</td><td style='color:black;'>7 &spades;</td><td style='color:black;'>7 &clubs;<td style='color:red;'>7 &diams;</td></tr>\n",
        "<tr><td style='color:red;'>6 &hearts;</td><td style='color:black;'>6 &spades;</td><td style='color:black;'>6 &clubs;<td style='color:red;'>6 &diams;</td></tr>\n",
        "<tr><td style='color:red;'>5 &hearts;</td><td style='color:black;'>5 &spades;</td><td style='color:black;'>5 &clubs;<td style='color:red;'>5 &diams;</td></tr>\n",
        "<tr><td style='color:red;'>4 &hearts;</td><td style='color:black;'>4 &spades;</td><td style='color:black;'>4 &clubs;<td style='color:red;'>4 &diams;</td></tr>\n",
        "<tr><td style='color:red;'>3 &hearts;</td><td style='color:black;'>3 &spades;</td><td style='color:black;'>3 &clubs;<td style='color:red;'>3 &diams;</td></tr>\n",
        "<tr><td style='color:red;'>2 &hearts;</td><td style='color:black;'>2 &spades;</td><td style='color:black;'>2 &clubs;<td style='color:red;'>2 &diams;</td></tr>\n",
        "</table>\n",
        "\n",
        "Now, let's look at two potential events:\n",
        "- Drawing an ace (**A**)\n",
        "- Drawing a red card (**B**)\n",
        "\n",
        "The set of sample points for event **A** (drawing an ace) is:\n",
        "\n",
        "<table style='font-size:18px;'>\n",
        "<tr><td style='color:red;'>A &hearts;</td><td style='color:black;'>A &spades;</td><td style='color:black;'>A &clubs;<td style='color:red;'>A &diams;</td></tr>\n",
        "<tr style='color:lightgrey;'><td>K &hearts;</td><td style='color:lightgrey;'>K &spades;</td><td style='color:lightgrey;'>K &clubs;<td>K &diams;</td></tr>\n",
        "<tr style='color:lightgrey;'><td>Q &hearts;</td><td>Q &spades;</td><td>Q &clubs;<td>Q &diams;</td></tr>\n",
        "<tr style='color:lightgrey;'><td>J &hearts;</td><td>J &spades;</td><td>J &clubs;<td>J &diams;</td></tr>\n",
        "<tr style='color:lightgrey;'><td>10 &hearts;</td><td>10 &spades;</td><td>10 &clubs;<td>10 &diams;</td></tr>\n",
        "<tr style='color:lightgrey;'><td>9 &hearts;</td><td>9 &spades;</td><td>9 &clubs;<td>9 &diams;</td></tr>\n",
        "<tr style='color:lightgrey;'><td>8 &hearts;</td><td>8 &spades;</td><td>8 &clubs;<td>8 &diams;</td></tr>\n",
        "<tr style='color:lightgrey;'><td>7 &hearts;</td><td>7 &spades;</td><td>7 &clubs;<td>7 &diams;</td></tr>\n",
        "<tr style='color:lightgrey;'><td>6 &hearts;</td><td>6 &spades;</td><td>6 &clubs;<td>6 &diams;</td></tr>\n",
        "<tr style='color:lightgrey;'><td>5 &hearts;</td><td>5 &spades;</td><td>5 &clubs;<td>5 &diams;</td></tr>\n",
        "<tr style='color:lightgrey;'><td>4 &hearts;</td><td>4 &spades;</td><td>4 &clubs;<td>4 &diams;</td></tr>\n",
        "<tr style='color:lightgrey;'><td>3 &hearts;</td><td>3 &spades;</td><td>3 &clubs;<td>3 &diams;</td></tr>\n",
        "<tr style='color:lightgrey;'><td>2 &hearts;</td><td>2 &spades;</td><td>2 &clubs;<td>2 &diams;</td></tr>\n",
        "</table>\n",
        "\n",
        "So the probability of drawing an ace is:\n",
        "\n",
        "\\begin{equation}P(A) = \\frac{4}{52} = \\frac{1}{13} = 0.077\\end{equation} \n",
        "\n",
        "Now let's look at the set of sample points for event **B** (drawing a red card)\n",
        "\n",
        "<table style='font-size:18px;'>\n",
        "<tr><td style='color:red;'>A &hearts;</td><td style='color:lightgrey;'>A &spades;</td><td style='color:lightgrey;'>A &clubs;<td style='color:red;'>A &diams;</td></tr>\n",
        "<tr><td style='color:red;'>K &hearts;</td><td style='color:lightgrey;'>K &spades;</td><td style='color:lightgrey;'>K &clubs;<td style='color:red;'>K &diams;</td></tr>\n",
        "<tr><td style='color:red;'>Q &hearts;</td><td style='color:lightgrey;'>Q &spades;</td><td style='color:lightgrey;'>Q &clubs;<td style='color:red;'>Q &diams;</td></tr>\n",
        "<tr><td style='color:red;'>J &hearts;</td><td style='color:lightgrey;'>J &spades;</td><td style='color:lightgrey;'>J &clubs;<td style='color:red;'>J &diams;</td></tr>\n",
        "<tr><td style='color:red;'>10 &hearts;</td><td style='color:lightgrey;'>10 &spades;</td><td style='color:lightgrey;'>10 &clubs;<td style='color:red;'>10 &diams;</td></tr>\n",
        "<tr><td style='color:red;'>9 &hearts;</td><td style='color:lightgrey;'>9 &spades;</td><td style='color:lightgrey;'>9 &clubs;<td style='color:red;'>9 &diams;</td></tr>\n",
        "<tr><td style='color:red;'>8 &hearts;</td><td style='color:lightgrey;'>8 &spades;</td><td style='color:lightgrey;'>8 &clubs;<td style='color:red;'>8 &diams;</td></tr>\n",
        "<tr><td style='color:red;'>7 &hearts;</td><td style='color:lightgrey;'>7 &spades;</td><td style='color:lightgrey;'>7 &clubs;<td style='color:red;'>7 &diams;</td></tr>\n",
        "<tr><td style='color:red;'>6 &hearts;</td><td style='color:lightgrey;'>6 &spades;</td><td style='color:lightgrey;'>6 &clubs;<td style='color:red;'>6 &diams;</td></tr>\n",
        "<tr><td style='color:red;'>5 &hearts;</td><td style='color:lightgrey;'>5 &spades;</td><td style='color:lightgrey;'>5 &clubs;<td style='color:red;'>5 &diams;</td></tr>\n",
        "<tr><td style='color:red;'>4 &hearts;</td><td style='color:lightgrey;'>4 &spades;</td><td style='color:lightgrey;'>4 &clubs;<td style='color:red;'>4 &diams;</td></tr>\n",
        "<tr><td style='color:red;'>3 &hearts;</td><td style='color:lightgrey;'>3 &spades;</td><td style='color:lightgrey;'>3 &clubs;<td style='color:red;'>3 &diams;</td></tr>\n",
        "<tr><td style='color:red;'>2 &hearts;</td><td style='color:lightgrey;'>2 &spades;</td><td style='color:lightgrey;'>2 &clubs;<td style='color:red;'>2 &diams;</td></tr>\n",
        "</table>\n",
        "\n",
        "The probability of drawing a red card is therefore:\n",
        "\n",
        "\\begin{equation}P(A) = \\frac{26}{52} = \\frac{1}{2} = 0.5\\end{equation} \n",
        "\n",
        "##### Intersections\n",
        "\n",
        "We can think of the sample spaces for these events as two sets, and we can show them as a Venn diagram:\n",
        "\n",
        "<br/>\n",
        "\n",
        "<div style='text-align:center'>Event A<span style='font-size:120px'>&#9901;</span>Event B</div>\n",
        "\n",
        "Each circle in the Venn diagram represents a set of sample points. The set on the left contains the sample points for event **A** (drawing an ace) and the set on the right contains the sample points for event **B** (drawing a red card). Note that the circles overlap, creating an intersection that contains only the sample points that apply to event **A** *and* event **B**.\n",
        "\n",
        "This intersected sample space looks like this:\n",
        "\n",
        "<table style='font-size:18px;'>\n",
        "<tr><td style='color:red;'>A &hearts;</td><td style='color:lightgrey;'>A &spades;</td><td style='color:lightgrey;'>A &clubs;<td style='color:red;'>A &diams;</td></tr>\n",
        "<tr style='color:lightgrey;'><td>K &hearts;</td><td style='color:lightgrey;'>K &spades;</td><td style='color:lightgrey;'>K &clubs;<td>K &diams;</td></tr>\n",
        "<tr style='color:lightgrey;'><td>Q &hearts;</td><td>Q &spades;</td><td>Q &clubs;<td>Q &diams;</td></tr>\n",
        "<tr style='color:lightgrey;'><td>J &hearts;</td><td>J &spades;</td><td>J &clubs;<td>J &diams;</td></tr>\n",
        "<tr style='color:lightgrey;'><td>10 &hearts;</td><td>10 &spades;</td><td>10 &clubs;<td>10 &diams;</td></tr>\n",
        "<tr style='color:lightgrey;'><td>9 &hearts;</td><td>9 &spades;</td><td>9 &clubs;<td>9 &diams;</td></tr>\n",
        "<tr style='color:lightgrey;'><td>8 &hearts;</td><td>8 &spades;</td><td>8 &clubs;<td>8 &diams;</td></tr>\n",
        "<tr style='color:lightgrey;'><td>7 &hearts;</td><td>7 &spades;</td><td>7 &clubs;<td>7 &diams;</td></tr>\n",
        "<tr style='color:lightgrey;'><td>6 &hearts;</td><td>6 &spades;</td><td>6 &clubs;<td>6 &diams;</td></tr>\n",
        "<tr style='color:lightgrey;'><td>5 &hearts;</td><td>5 &spades;</td><td>5 &clubs;<td>5 &diams;</td></tr>\n",
        "<tr style='color:lightgrey;'><td>4 &hearts;</td><td>4 &spades;</td><td>4 &clubs;<td>4 &diams;</td></tr>\n",
        "<tr style='color:lightgrey;'><td>3 &hearts;</td><td>3 &spades;</td><td>3 &clubs;<td>3 &diams;</td></tr>\n",
        "<tr style='color:lightgrey;'><td>2 &hearts;</td><td>2 &spades;</td><td>2 &clubs;<td>2 &diams;</td></tr>\n",
        "</table>\n",
        "\n",
        "As you've seen previously, we write this as **A &cap; B**, and we can calculate its probability like this:\n",
        "\n",
        "\\begin{equation}P(A \\cap B) = P(A) \\times P(B) = 0.077 \\times 0.5 = 0.0385 \\end{equation}\n",
        "\n",
        "So when you draw a single card from a full deck, there is a 3.85% chance it will be a red ace.\n",
        "\n",
        "##### Unions\n",
        "The intersection describes the sample space for  event **A** *and* event **B**; but what if we wanted to look at the probability of drawing an ace *or* a red card. In other words, any sample point that is in either of the Venn digram circles.\n",
        "\n",
        "This set of sample points looks like this:\n",
        "\n",
        "<table style='font-size:18px;'>\n",
        "<tr><td style='color:red;'>A &hearts;</td><td style='color:black;'>A &spades;</td><td style='color:black;'>A &clubs;<td style='color:red;'>A &diams;</td></tr>\n",
        "<tr><td style='color:red;'>K &hearts;</td><td style='color:lightgrey;'>K &spades;</td><td style='color:lightgrey;'>K &clubs;<td style='color:red;'>K &diams;</td></tr>\n",
        "<tr><td style='color:red;'>Q &hearts;</td><td style='color:lightgrey;'>Q &spades;</td><td style='color:lightgrey;'>Q &clubs;<td style='color:red;'>Q &diams;</td></tr>\n",
        "<tr><td style='color:red;'>J &hearts;</td><td style='color:lightgrey;'>J &spades;</td><td style='color:lightgrey;'>J &clubs;<td style='color:red;'>J &diams;</td></tr>\n",
        "<tr><td style='color:red;'>10 &hearts;</td><td style='color:lightgrey;'>10 &spades;</td><td style='color:lightgrey;'>10 &clubs;<td style='color:red;'>10 &diams;</td></tr>\n",
        "<tr><td style='color:red;'>9 &hearts;</td><td style='color:lightgrey;'>9 &spades;</td><td style='color:lightgrey;'>9 &clubs;<td style='color:red;'>9 &diams;</td></tr>\n",
        "<tr><td style='color:red;'>8 &hearts;</td><td style='color:lightgrey;'>8 &spades;</td><td style='color:lightgrey;'>8 &clubs;<td style='color:red;'>8 &diams;</td></tr>\n",
        "<tr><td style='color:red;'>7 &hearts;</td><td style='color:lightgrey;'>7 &spades;</td><td style='color:lightgrey;'>7 &clubs;<td style='color:red;'>7 &diams;</td></tr>\n",
        "<tr><td style='color:red;'>6 &hearts;</td><td style='color:lightgrey;'>6 &spades;</td><td style='color:lightgrey;'>6 &clubs;<td style='color:red;'>6 &diams;</td></tr>\n",
        "<tr><td style='color:red;'>5 &hearts;</td><td style='color:lightgrey;'>5 &spades;</td><td style='color:lightgrey;'>5 &clubs;<td style='color:red;'>5 &diams;</td></tr>\n",
        "<tr><td style='color:red;'>4 &hearts;</td><td style='color:lightgrey;'>4 &spades;</td><td style='color:lightgrey;'>4 &clubs;<td style='color:red;'>4 &diams;</td></tr>\n",
        "<tr><td style='color:red;'>3 &hearts;</td><td style='color:lightgrey;'>3 &spades;</td><td style='color:lightgrey;'>3 &clubs;<td style='color:red;'>3 &diams;</td></tr>\n",
        "<tr><td style='color:red;'>2 &hearts;</td><td style='color:lightgrey;'>2 &spades;</td><td style='color:lightgrey;'>2 &clubs;<td style='color:red;'>2 &diams;</td></tr>\n",
        "</table>\n",
        "\n",
        "We call this the *union* of the sets, and we write it as **A &cup; B**.\n",
        "\n",
        "To calculate the probability of a card being either an ace (of any color) or a red card (of any value), we can work out the probability of A, add it to the probability of B, and subtract the probability of A &cap; B (to avoid double-counting the red aces):\n",
        "\n",
        "\\begin{equation}P(A \\cup B) = P(A) + P(B) - P(A \\cap B)\\end{equation}\n",
        "\n",
        "So:\n",
        "\n",
        "\\begin{equation}P(A \\cup B) = 0.077 + 0.5 - 0.0385 = 0.5385\\end{equation}\n",
        "\n",
        "So when you draw a card from a full deck, there is a 53.85% probability that it will be either an ace or a red card."
      ]
    },
    {
      "cell_type": "markdown",
      "metadata": {
        "id": "fI92j-SRqIpO",
        "colab_type": "text"
      },
      "source": [
        "### Dependent Events\n",
        "Let's return to our deck of 52 cards from which we're going to draw one card. The sample space can be summarized like this:\n",
        "\n",
        "<table>\n",
        "<tr><td>13 x <span style='font-size:32px;color:red;'>&hearts;</span></td><td>13 x <span style='font-size:32px;color:black;'>&spades;</span></td><td>13 x <span style='font-size:32px;color:black;'>&clubs;</span></td><td>13 x <span style='font-size:32px;color:red;'>&diams;</span></td></tr>\n",
        "</table>\n",
        "\n",
        "There are two black suits (*spades* and *clubs*) and two red suits (*hearts* and *diamonds*); with 13 cards in each suit. So the probability of drawing a black card (event **A**) and the probability of drawing a red card (event **B**) can be calculated like this:\n",
        "\n",
        "\\begin{equation}P(A) = \\frac{13 + 13}{52} = \\frac{26}{52} = 0.5 \\;\\;\\;\\; P(B) = \\frac{13 + 13}{52} = \\frac{26}{52} = 0.5\\end{equation}\n",
        "\n",
        "Now let's draw a card from the deck:\n",
        "\n",
        "<div style ='text-align:center;'><span style='font-size:32px;color:red;'>&hearts;</span></div>\n",
        "\n",
        "We drew a heart, which is red. So, assuming we don't replace the card back into the deck, this changes the sample space as follows:\n",
        "\n",
        "<table>\n",
        "<tr><td>12 x <span style='font-size:32px;color:red;'>&hearts;</span></td><td>13 x <span style='font-size:32px;color:black;'>&spades;</span></td><td>13 x <span style='font-size:32px;color:black;'>&clubs;</span></td><td>13 x <span style='font-size:32px;color:red;'>&diams;</span></td></tr>\n",
        "</table>\n",
        "\n",
        "The probabilities for **A** and **B** are now:\n",
        "\n",
        "\\begin{equation}P(A) = \\frac{13 + 13}{51} = \\frac{26}{51} = 0.51 \\;\\;\\;\\; P(B) = \\frac{12 + 13}{51} = \\frac{25}{51} = 0.49\\end{equation}\n",
        "\n",
        "Now let's draw a second card:\n",
        "\n",
        "<div style ='text-align:center;'><span style='font-size:32px;color:red;'>&diams;</span></div>\n",
        "\n",
        "We drew a diamond, so again this changes the sample space for the next draw:\n",
        "\n",
        "<table>\n",
        "<tr><td>12 x <span style='font-size:32px;color:red;'>&hearts;</span></td><td>13 x <span style='font-size:32px;color:black;'>&spades;</span></td><td>13 x <span style='font-size:32px;color:black;'>&clubs;</span></td><td>12 x <span style='font-size:32px;color:red;'>&diams;</span></td></tr>\n",
        "</table>\n",
        "\n",
        "The probabilities for **A** and **B** are now:\n",
        "\n",
        "\\begin{equation}P(A) = \\frac{13 + 13}{50} = \\frac{26}{50} = 0.52 \\;\\;\\;\\; P(B) = \\frac{12 + 12}{50} = \\frac{24}{50} = 0.48\\end{equation}\n",
        "\n",
        "So it's clear that one event can affect another; in this case, the probability of drawing a card of a particular color on the second draw depends on the color of card drawn on the previous draw. We call these *dependent* events.\n",
        "\n",
        "Probability trees are particularly useful when looking at dependent events. Here's a probability tree for drawing red or black cards as the first three draws from a deck of cards:\n",
        "\n",
        "                         _______R(0.48) \n",
        "                        /\n",
        "                   ____R(0.49)\n",
        "                  /     \\_______B(0.52) \n",
        "                 /        \n",
        "              __R(0.50)  _______R(0.50) \n",
        "             /   \\      / \n",
        "            /     \\____B(0.51)\n",
        "           /            \\_______B(0.50) \n",
        "          /              \n",
        "    _____/              ________R(0.50) \n",
        "         \\             / \n",
        "          \\        ___R(0.51)\n",
        "           \\      /    \\________B(0.50) \n",
        "            \\    /       \n",
        "             \\__B(0.50) ________R(0.52) \n",
        "                 \\     /\n",
        "                  \\___B(0.49)\n",
        "                       \\________B(0.48) \n",
        "\n",
        "\n",
        "\n",
        "#### Calculating Probabilities for Dependent Events\n",
        "Imagine a game in which you have to predict the color of the next card to be drawn. Suppose the first card drawn is a *spade*, which is black. What is the probability of the next card being red?\n",
        "\n",
        "The notation for this is:\n",
        "\n",
        "\\begin{equation}P(B|A)\\end{equation}\n",
        "\n",
        "You can interpret this as *the probability of B, given A*. In other words, given that event **A** (drawing a black card) has already happened, what is the probability of **B** (drawing a red card). This is commonly referred to as the *conditional probability* of B given A; and it's formula is:\n",
        "\n",
        "\\begin{equation}P(B|A) = \\frac{P(A \\cap B)}{P(A)}\\end{equation}\n",
        "\n",
        "So to return to our example, the probability of the second card being red given that the first card was black is:\n",
        "\n",
        "\\begin{equation}P(B|A) = \\frac{\\frac{26}{52} \\times \\frac{26}{51}}{\\frac{26}{52}}\\end{equation}\n",
        "\n",
        "Which simplifies to:\n",
        "\n",
        "\\begin{equation}P(B|A) = \\frac{0.5 \\times 0.51}{0.5}\\end{equation}\n",
        "\n",
        "So:\n",
        "\n",
        "\\begin{equation}P(B|A) = \\frac{0.255}{0.5} = 0.51\\end{equation}\n",
        "\n",
        "Which is what we calculated previously - so the formula works!\n",
        "\n",
        "Because this is an algebraic expression, we can rearrange it like this:\n",
        "\n",
        "\\begin{equation}P(A \\cap B) = P(A) \\times P(B|A)\\end{equation}\n",
        "\n",
        "We can use this form of the formula to calculate the probability that the first two cards drawn from a full deck of cards will both be jacks. In this case, event **A** is drawing a jack for the first card, and event **B** is drawing a jack for the second card.\n",
        "\n",
        "The probability that the first drawn card will be a jack is:\n",
        "\n",
        "\\begin{equation}P(A) = \\frac{4}{52} = \\frac{1}{13}\\end{equation}\n",
        "\n",
        "We draw the first card:\n",
        "\n",
        "<br/>\n",
        "<div style ='text-align:center;'><span style='font-size:32px;color:black;'>J &clubs;</span></div>\n",
        "\n",
        "Success! it's the jack of clubs. Our chances of the first two cards being jacks are looking good so far\n",
        "\n",
        "Now. we know that there are now only 3 jacks left, in a deck of 51 remaining cards; so the probability of drawing a jack as a second card, given that we drew a jack as the first card is:\n",
        "\n",
        "\\begin{equation}P(B|A) = \\frac{3}{51}\\end{equation}\n",
        "\n",
        "So we can work out the probability of drawing two jacks from a deck like this:\n",
        "\n",
        "\\begin{equation}P(A \\cap B) = \\frac{1}{13} \\times \\frac{3}{51} = \\frac{3}{663} = \\frac{1}{221}\\end{equation}\n",
        "\n",
        "So there's a 1 in 221 (0.45%)  probability that the first two cards drawn from a full deck will be jacks.\n",
        "\n",
        "\n",
        "### Mutually Exclusive Events\n",
        "We've talked about dependent and independent events, but there's a third category to be considered: mutually exclusive events.\n",
        "\n",
        "For example, when flipping a coin, what is the probability that in a single coin flip the result will be *heads* ***and*** *tails*? The answer is of course, 0; a single coin flip can only result in *heads* ***or*** *tails*; not both!\n",
        "\n",
        "For mutually exclusive event, the probability of an intersection is:\n",
        "\n",
        "\\begin{equation}P(A \\cap B) = 0\\end{equation}\n",
        "\n",
        "The probability for a union is:\n",
        "\n",
        "\\begin{equation}P(A \\cup B) = P(A) + P(B)\\end{equation}\n",
        "\n",
        "Note that we don't need to subtract the intersection (*and*) probability to calculate the union (*or*) probability like we did previously, because there's no risk of double-counting the sample points that lie in both events - there are none. (The intersection probability for mutually exclusive events is always 0, so you can subtract it if you like - you'll still get the same result!)\n",
        "\n",
        "Let's look at another two mutually exclusive events based on rolling a die:\n",
        "- Rolling a 6 (event **A**)\n",
        "- Rolling an odd number (event **B**)\n",
        "\n",
        "The probabilities for these events are:\n",
        "\n",
        "\\begin{equation}P(A) = \\frac{1}{6} \\;\\;\\;\\; P(B) = \\frac{3}{6}\\end{equation}\n",
        "\n",
        "What's the probability of rolling a 6 *and* an odd number in a single roll? These are mutually exclusive, so:\n",
        "\n",
        "\\begin{equation}P(A \\cap B) = 0\\end{equation}\n",
        "\n",
        "What's the probability of rolling a 6 *or* an odd number:\n",
        "\n",
        "\\begin{equation}P(A \\cup B) = \\frac{1}{6} + \\frac{3}{6} = \\frac{4}{6}\\end{equation}"
      ]
    },
    {
      "cell_type": "markdown",
      "metadata": {
        "id": "ngJPDEihqIpP",
        "colab_type": "text"
      },
      "source": [
        "### Binomial Variables and Distributions\n",
        "Now that we know something about probability, let's apply that to statistics. Statistics is about inferring measures for a full population based on samples, allowing for random variation; so we're going to have to consider the idea of a *random variable*.\n",
        "\n",
        "A random variable us a number that can vary in value. For example, the temperature on a given day, or the number of students taking a class.\n",
        "\n",
        "### Binomial Variables\n",
        "One particular type of random variable that we use in statistics is a *binomial* variable. A binomial variable is used to count how frequently an event occurs in a fixed number of repeated independent experiments. The event in question must have the same probability of occurring in each experiment, and indicates the success or failure of the experiment; with a probability ***p*** of success, which has a complement of ***1 - p*** as the probability of failure (we often call this kind of experiment a *Bernoulli Trial* after Swiss mathematician Jacob Bernoulli).\n",
        "\n",
        "For example, suppose we flip a coin three times, counting *heads* as success. We can define a binomial variable to represent the number of successful coin flips (that is, the number of times we got *heads*).\n",
        "\n",
        "Let's examine this in more detail.\n",
        "\n",
        "We'll call our variable ***X***, and as stated previously it represents the number of times we flip *heads* in a series of three coin flips. Let's start by examining all the possible values for ***X***.\n",
        "\n",
        "We're flipping the coin three times, with a probability of <sup>1</sup>/<sub>2</sub> of success on each flip. The possibile results include none of the flips resulting in *heads*, all of the flips resulting in *heads*, or any combination in between. There are two possible outcomes from each flip, and there are three flips, so the total number of possible result sets is 2<sup>3</sup>, which is 8. Here they are:\n",
        "\n",
        "<div style='font-size:48px;color:gold;'>&#9854;&#9854;&#9854;</div>\n",
        "<br/>\n",
        "<div style='font-size:48px;color:gold;'>&#9854;&#10050;&#9854;</div>\n",
        "<br/>\n",
        "<div style='font-size:48px;color:gold;'>&#9854;&#9854;&#10050;</div>\n",
        "<br/>\n",
        "<div style='font-size:48px;color:gold;'>&#9854;&#10050;&#10050;</div>\n",
        "<br/>\n",
        "<div style='font-size:48px;color:gold;'>&#10050;&#9854;&#9854;</div>\n",
        "<br/>\n",
        "<div style='font-size:48px;color:gold;'>&#10050;&#10050;&#9854;</div>\n",
        "<br/>\n",
        "<div style='font-size:48px;color:gold;'>&#10050;&#9854;&#10050;</div>\n",
        "<br/>\n",
        "<div style='font-size:48px;color:gold;'>&#10050;&#10050;&#10050;</div>\n",
        "<br/>\n",
        "\n",
        "In these results, our variable ***X***, representing the number of successful events (getting *heads*), can vary from 0 to 3. We can write that like this:\n",
        "\n",
        "\\begin{equation}X=\\{0,1,2,3\\}\\end{equation}\n",
        "\n",
        "When we want to indicate a specific outcome for a random variable, we use write the variable in lower case, for example ***x*** So what's the probability that ***x*** = 0 (meaning that out of our three flips we got no *heads*)?\n",
        "\n",
        "We can easily see, that there is 1 row in our set of possible outcomes that contains no *heads*, so:\n",
        "\n",
        "\\begin{equation}P(x=0) = \\frac{1}{8}\\end{equation}\n",
        "\n",
        "OK, let's see if we can find the probability for 1 success. There are three sample points containing a single *heads* result, so:\n",
        "\n",
        "\\begin{equation}P(x=1) = \\frac{3}{8}\\end{equation}\n",
        "\n",
        "Again, we can easily see that from our results; but it's worth thinking about this in a slightly different way that will make it easier to calculate this probability more generically when there are more sample points (for example, if we had based our binomial variable on 100 coin flips, there would be many more combinations!).\n",
        "\n",
        "What we're actually saying here is that for **3** experiments (in this case coin flips), we want to *choose* **1** successful results. This is written as <sub>3</sub>C<sub>1</sub>. More generically, this is known as *n choose k*, and it's written like this:\n",
        "\n",
        "\\begin{equation}_{n}C_{k}\\end{equation}\n",
        "\n",
        "or sometimes like this:\n",
        "\n",
        "\\begin{equation}\\begin{pmatrix} n \\\\ k\\end{pmatrix}\\end{equation}\n",
        "\n",
        "The formula to calculate this is:\n",
        "\n",
        "\\begin{equation}\\begin{pmatrix} n \\\\ k\\end{pmatrix} = \\frac{n!}{k!(n-k)!}\\end{equation}\n",
        "\n",
        "The exclamation points indicate *factorials* - the product of all positive integers less than or equal to the specified integer  (with 0! having a value of 1).\n",
        "\n",
        "In the case of our <sub>3</sub>C<sub>1</sub> calculation, this means:\n",
        "\n",
        "\\begin{equation}\\begin{pmatrix} 3 \\\\ 1\\end{pmatrix} = \\frac{3!}{1!(3 - 1)!} = \\frac{3!}{1!\\times2!} =\\frac{3 \\times 2 \\times 1}{1 \\times(2 \\times 1)} = \\frac{6}{2} = 3 \\end{equation}\n",
        "\n",
        "That seems like a lot of work to find the number of successful experiments, but now that you know this general formula, you can use it to calculate the number of sample points for any value of *k* from any set of *n* cases. Let's use it to find the possibility of two successful *heads* out of 3 coin flips:\n",
        "\n",
        "\\begin{equation}P(x=2) = \\frac{_{3}C_{2}}{8}\\end{equation}\n",
        "\n",
        "Let's work out the number of combinations for <sub>3</sub>C<sub>2</sub>\n",
        "\n",
        "\\begin{equation}_{3}C_{2} = \\frac{3!}{2!(3 - 2)!} = \\frac{6}{2 \\times 1} = \\frac{6}{2} = 3\\end{equation}\n",
        "\n",
        "So:\n",
        "\n",
        "\\begin{equation}P(x=2) = \\frac{3}{8}\\end{equation}\n",
        "\n",
        "Finally, what's the probability that all three flips were *heads*?\n",
        "\n",
        "\\begin{equation}P(x=3) = \\frac{_{3}C_{3}}{8}\\end{equation}\n",
        "\n",
        "\\begin{equation}_{3}C_{3} = \\frac{3!}{3!(3 - 3)!} = \\frac{6}{6} = 1\\end{equation}\n",
        "\n",
        "So:\n",
        "\n",
        "\\begin{equation}P(x=3) = \\frac{1}{8}\\end{equation}\n",
        "\n",
        "In Python, there are a number of modules you can use to find the *n choose k* combinations, including the *scipy.special.**comb*** function. \n",
        "\n",
        "In our coin flipping experiment, there is an equal probability of success and failure; so the probability calculations are relatively simple, and you may notice that there's a symmetry to the probability for each possible value of the binomial variable, as you can see by running the following Python code. You can increase the value of the **trials** variable to verify that no matter how many times we toss the coin, the probabilities of getting *heads* (or *tails* for that matter) form a symmetrical distribution, because there's an equal probability of success and failure in each trial."
      ]
    },
    {
      "cell_type": "code",
      "metadata": {
        "id": "pzR2UKnnqIpQ",
        "colab_type": "code",
        "colab": {}
      },
      "source": [
        "%matplotlib inline\n",
        "from scipy import special as sps\n",
        "from matplotlib import pyplot as plt\n",
        "import numpy as np\n",
        "\n",
        "trials = 3\n",
        "\n",
        "possibilities = 2**trials\n",
        "x = np.array(range(0, trials+1))\n",
        "\n",
        "p = np.array([sps.comb(trials, i, exact=True)/possibilities for i in x])\n",
        "\n",
        "# Set up the graph\n",
        "plt.xlabel('Successes')\n",
        "plt.ylabel('Probability')\n",
        "plt.bar(x, p)\n",
        "plt.show()"
      ],
      "execution_count": 0,
      "outputs": []
    },
    {
      "cell_type": "markdown",
      "metadata": {
        "id": "TGzyZGTSqIpT",
        "colab_type": "text"
      },
      "source": [
        "#### Allowing for Bias\n",
        "Previously, we calculated the probability for each possible value of a random variable by simply dividing the number of combinations for that value by the total number of possible outcomes. This works if the probability of the event being tested is equal for failure and success; but of course, not all experiments have an equal chance of success or failure. Some include a bias that makes success more or less likely - so we need to be a little more thorough in our calculations to allow for this.\n",
        "\n",
        "Suppose you're flying off to some exotic destination, and you know that there's a one in four chance that the airport security scanner will trigger a random search for each passenger that goes though. If you watch five passengers go through the scanner, how many will be stopped for a random search?\n",
        "\n",
        "It's tempting to think that there's a one in four chance, so a quarter of the passengers will be stopped; but remember that the searches are triggered randomly for thousands of passengers that pass through the airport each day. It's possible that none of the next five passengers will be searched; all five of them will be searched, or some other value in between will be searched. \n",
        "\n",
        "Even though the probabilities of being searched or not searched are not the same, this is still a binomial variable. There are a fixed number of independent experiments (five passengers passing through the security scanner), the outcome of each experiment is either success (a search is triggered) or failure (no search is triggered), and the probability of being searched does not change for each passenger.\n",
        "\n",
        "There are five experiments in which a passenger goes through the security scanner, let's call this **n**.\n",
        "\n",
        "For each passenger, the probability of being searched is <sup>1</sup>/<sub>4</sub> or 0.25. We'll call this **p**. \n",
        "\n",
        "The complement of **p** (in other words, the probability of *not* being searched) is **1-p**, in this case <sup>3</sup>/<sub>4</sub> or 0.75.\n",
        "\n",
        "So, what's the probability that out of our **n** experiments, three result in a search (let's call that **k**) and the remaining ones (there will be **n**-**k** of them, which is two) don't?\n",
        "\n",
        "- The probability of three passengers being searched is 0.25 x 0.25 x 0.25 which is the same as 0.25<sup>3</sup>. Using our generic variables, this is **p<sup>k</sup>**.\n",
        "- The probability that the rest don't get searched is 0.75 x 0.75, or 0.75<sup>2</sup>. In terms of our variables, this is **1-p<sup>(n-k)</sup>**.\n",
        "- The combined probability of three searchs and two non-searches is therefore 0.25<sup>3</sup> x 0.75<sup>2</sup> (approximately 0.088). Using our variables, this is:\n",
        "\n",
        "\\begin{equation}p^{k}(1-p)^{(n-k)}\\end{equation}\n",
        "\n",
        "This formula enables us to calculate the probability for a single combination of ***n*** passengers in which ***k*** experiments had a successful outcome. In this case, it enables us to calculate that the probability of three passengers out of five being searched is approximately 0.088. However, we need to consider that there are multiple ways this can happen. The first three passengers could get searched; or the last three; or the first, third, and fifth, or any other possible combination of 3 from 5.\n",
        "\n",
        "There are two possible outcomes for each experiment; so the total number of possible combinations of five passengers being searched or not searched is 2<sup>5</sup> or 32. So within those 32 sets of possible result combinations, how many have three searches? We can use the <sub>n</sub>C<sub>k</sub> formula to calculate this:\n",
        "\n",
        "\\begin{equation}_{5}C_{3} = \\frac{5!}{3!(5 - 3)!} = \\frac{120}{6\\times 4} = \\frac{120}{24} = 5\\end{equation}\n",
        "\n",
        "So 5 out of our 32 combinations had 3 searches and 2 non-searches.\n",
        "\n",
        "To find the probability of any combination of 3 searches out of 5 passengers, we need to multiply the number of possible combinations by the probability for a single combination - in this case <sup>5</sup>/<sub>32</sub> x 0.088, which is 0.01375, or 13.75%.\n",
        "\n",
        "So our complete formula to calculate the probabilty of ***k*** events from ***n*** experiments with probability ***p*** is:\n",
        "\n",
        "\\begin{equation}P(x=k)  = \\frac{n!}{k!(n-k)!} p^{k}(1-p)^{(n-k)}\\end{equation}\n",
        "\n",
        "This is known as the *General Binomial Probability Formula*, and we use it to calculate the *probability mass function* (or *PMF*) for a binomial variable. In other words, the we can use it to calculate the probability for each possible value for the variable and use that information to determine the relative frequency of the variable values as a distribution.\n",
        "\n",
        "In Python, the *scipy.stats.**binom.pmf*** function encapsulates the general binomial probability formula, and you can use it to calculate the probability of a random variable having a specific value (***k***) for a given number of experiments (***n***) where the event being tested has a given probability (***p***), as demonstrated in the following code:"
      ]
    },
    {
      "cell_type": "code",
      "metadata": {
        "id": "YforF6GnqIpU",
        "colab_type": "code",
        "colab": {}
      },
      "source": [
        "%matplotlib inline\n",
        "from scipy.stats import binom\n",
        "from matplotlib import pyplot as plt\n",
        "import numpy as np\n",
        "\n",
        "n = 5\n",
        "p = 0.25\n",
        "x = np.array(range(0, n+1))\n",
        "\n",
        "prob = np.array([binom.pmf(k, n, p) for k in x])\n",
        "\n",
        "# Set up the graph\n",
        "plt.xlabel('x')\n",
        "plt.ylabel('Probability')\n",
        "plt.bar(x, prob)\n",
        "plt.show()"
      ],
      "execution_count": 0,
      "outputs": []
    },
    {
      "cell_type": "markdown",
      "metadata": {
        "id": "nF-CGOlCqIpb",
        "colab_type": "text"
      },
      "source": [
        "You can see from the bar chart that with this small value for ***n***, the distribution is right-skewed.\n",
        "\n",
        "Recall that in our coin flipping experiment, when the probability of failure vs success was equal, the resulting distribution was symmetrical. With an unequal probability of success in each experiment, the bias has the effect of skewing the overall probability mass.\n",
        "\n",
        "However, try increasing the value of ***n*** in the code above to 10, 20, and 50; re-running the cell each time. With more observations, the *central limit theorem* starts to take effect and the distribution starts to look more symmetrical - with enough observations it starts to look like a *normal* distribution.\n",
        "\n",
        "There is an important distinction here - the *normal* distribution applies to *continuous* variables, while the *binomial* distribution applies to *discrete* variables. However, the similarities help in a number of statistical contexts where the number of observations (experiments) is large enough for the *central limit theorem* to make the distribution of binomial variable values behave like a *normal* distribution.\n",
        "\n",
        "### Working with the Binomial Distribution\n",
        "Now that you know how to work out a binomial distribution for a repeated experiment, it's time to take a look at some statistics that will help us quantify some aspects of probability.\n",
        "\n",
        "Let's increase our ***n*** value to 100 so that we're looking at the number of searches per 100 passengers. This gives us the binomial distribution graphed by the following code:"
      ]
    },
    {
      "cell_type": "code",
      "metadata": {
        "id": "kbmTi_ZCqIpe",
        "colab_type": "code",
        "colab": {}
      },
      "source": [
        "%matplotlib inline\n",
        "from scipy.stats import binom\n",
        "from matplotlib import pyplot as plt\n",
        "import numpy as np\n",
        "\n",
        "n = 100\n",
        "p = 0.25\n",
        "x = np.array(range(0, n+1))\n",
        "\n",
        "prob = np.array([binom.pmf(k, n, p) for k in x])\n",
        "\n",
        "# Set up the graph\n",
        "plt.xlabel('x')\n",
        "plt.ylabel('Probability')\n",
        "plt.bar(x, prob)\n",
        "plt.show()"
      ],
      "execution_count": 0,
      "outputs": []
    },
    {
      "cell_type": "markdown",
      "metadata": {
        "id": "b9p2aT-gqIpu",
        "colab_type": "text"
      },
      "source": [
        "#### Mean (Expected Value)\n",
        "We can calculate the mean of the distribution like this:\n",
        "\n",
        "\\begin{equation}\\mu  = np\\end{equation}\n",
        "\n",
        "So for our airport passengers, this is:\n",
        "\n",
        "\\begin{equation}\\mu  = 100 \\times 0.25 = 25\\end{equation}\n",
        "\n",
        "When we're talking about a probability distribution, the mean is usually referred to as the *expected value*. In this case, for any 100 passengers we can reasonably expect 25 of them to be searched.\n",
        "\n",
        "#### Variance and Standard Deviation\n",
        "Obviously, we can't search a quarter of a passenger - the expected value reflects the fact that there is variation, and indicates an average value for our binomial random variable. To get an indication of how much variability there actually is in this scenario, we can can calculate the variance and standard deviation.\n",
        "\n",
        "For variance of a binomial probability distribution, we can use this formula:\n",
        "\n",
        "\\begin{equation}\\sigma^{2}  = np(1-p)\\end{equation}\n",
        "\n",
        "So for our airport passengers:\n",
        "\n",
        "\\begin{equation}\\sigma^{2}  = 100 \\times 0.25 \\times 0.75 = 18.75\\end{equation}\n",
        "\n",
        "To convert this to standard deviation we just take the square root:\n",
        "\n",
        "\\begin{equation}\\sigma  = \\sqrt{np(1-p)}\\end{equation}\n",
        "\n",
        "So:\n",
        "\n",
        "\\begin{equation}\\sigma  = \\sqrt{18.75} \\approx 4.33 \\end{equation}\n",
        "\n",
        "So for every 100 passengers, we can expect 25 searches with a standard deviation of 4.33\n",
        "\n",
        "In Python, you can use the ***mean***, ***var***, and ***std*** functions from the *scipy.stats.**binom*** package to return binomial distribution statistics for given values of *n* and *p*:"
      ]
    },
    {
      "cell_type": "code",
      "metadata": {
        "id": "xNr6Ul4WqIpw",
        "colab_type": "code",
        "colab": {}
      },
      "source": [
        "from scipy.stats import binom\n",
        "\n",
        "n = 100\n",
        "p = 0.25\n",
        "\n",
        "print(binom.mean(n,p))\n",
        "print(binom.var(n,p))\n",
        "print(binom.std(n,p))"
      ],
      "execution_count": 0,
      "outputs": []
    },
    {
      "cell_type": "markdown",
      "metadata": {
        "id": "5KUdvd9BsxYc",
        "colab_type": "text"
      },
      "source": [
        "## 15. Working with Sampling Distributions\n"
      ]
    },
    {
      "cell_type": "markdown",
      "metadata": {
        "id": "Rs3Tvu6ssNpx",
        "colab_type": "text"
      },
      "source": [
        "Most statistical analysis involves working with distributions - usually of sample data.\n",
        "\n",
        "### Sampling and Sampling Distributions\n",
        "As we discussed earlier, when working with statistics, we usually base our calculations on a sample and not the full population of data. This means we need to allow for some variation between the sample statistics and the true parameters of the full population.\n",
        "\n",
        "In the previous example, we knew the probability that a security search would be triggered was 25%, so it's pretty easy to calculate that the expected value for a random variable indicating the number of searches per 100 passengers is 25. What if we hadn't known the probability of a search? How could we estimate the expected mean number of searches for a given number of passengers based purely on sample data collected by observing passengers go through security?\n",
        "\n",
        "### Creating a Proportion Distribution from a Sample\n",
        "We know that the each passenger will either be searched or not searched, and we can assign the values ***0*** (for not searched) and ***1*** (for searched) to these outcomes. We can conduct a Bernoulli trial in which we sample 16 passengers and calculate the fraction (or *proportion*) of passengers that were searched (which we'll call ***p***), and the remaining proportion of passengers (which are the ones who weren't searched, and can be calculated as ***1-p***).\n",
        "\n",
        "Let's say we record the following values for our 16-person sample:\n",
        "\n",
        "    0,1,0,0,1,0,0,0,0,0,0,0,1,0,0,0\n",
        "\n",
        "In this sample, there were 3 searches out of 16 passengers; which as a proportion is <sup>3</sup>/<sub>16</sub> or 0.1875. This is our proportion (or **p**); but because we know that this is based on a sample, we call it **p&#770;** (or p-hat). The remaining proportion of passengers is 1-p; in this case 1 - 0.1875, which is 0.8125.\n",
        "\n",
        "The data itself is *qualitative* (categorical) - we're indicating \"no search\" or \"search\"; but because we're using numeric values (0 and 1), we can treat these values as numeric and create a binomial distribution from them - it's the simplest form of a binomial distribution - a Bernoulli distribution with two values.\n",
        "\n",
        "Because we're treating the results as a numberic distribution, we can also calculate statistics like *mean* and *standard deviation*:\n",
        "\n",
        "To calculate these, you can use the following formulae:\n",
        "\n",
        "\\begin{equation}\\mu_{\\hat{p}} = \\hat{p}\\end{equation}\n",
        "\n",
        "\\begin{equation}\\sigma_{\\hat{p}} = \\sqrt{\\hat{p}(1-\\hat{p})}\\end{equation}\n",
        "\n",
        "The mean is just the value of **p&#770;**, so in the case of the passenger search sample it is 0.1875.\n",
        "\n",
        "The standard deviation is calculated as:\n",
        "\n",
        "\\begin{equation}\\sigma_{\\hat{p}} = \\sqrt{0.1875 \\times 0.8125} \\approx 0.39\\end{equation}\n",
        "\n",
        "We can use Python to plot the sample distribution and calculate the mean and standard deviation of our sample like this:"
      ]
    },
    {
      "cell_type": "code",
      "metadata": {
        "id": "YdK10gJAsNp0",
        "colab_type": "code",
        "colab": {}
      },
      "source": [
        "%matplotlib inline\n",
        "from matplotlib import pyplot as plt\n",
        "import numpy as np\n",
        "\n",
        "searches = np.array([0,1,0,0,1,0,0,0,0,0,0,0,1,0,0,0])\n",
        "\n",
        "# Set up the graph\n",
        "plt.xlabel('Search Results')\n",
        "plt.ylabel('Frequency')\n",
        "plt.hist(searches)\n",
        "plt.show()\n",
        "print('Mean: ' + str(np.mean(searches)))\n",
        "print('StDev: ' + str(np.std(searches)))"
      ],
      "execution_count": 0,
      "outputs": []
    },
    {
      "cell_type": "markdown",
      "metadata": {
        "id": "uHzIZy_LsNp_",
        "colab_type": "text"
      },
      "source": [
        "When talking about probability, the *mean* is also known as the *expected value*; so based on our single sample of 16 passengers, should we expect the proportion of searched passengers to be 0.1875 (18.75%)?\n",
        "\n",
        "Well, using a single sample like this can be misleading because the number of searches can vary with each sample. Another person observing 100 passengers may get a (very) different result from you. One way to address this problem is to take multiple samples and combine the resulting means to form a *sampling* distribution. This will help us ensure that the distribution and statistics of our sample data is closer to the true values; even if we can't measure the full population.\n",
        "\n",
        "### Creating a Sampling Distribution of a Sample Proportion\n",
        "So, let's collect mulitple 16-passenger samples - here are the resulting sample proportions for 12 samples:\n",
        "\n",
        "| Sample | Result |\n",
        "|--------|--------|\n",
        "| p&#770;<sub>1</sub>| 0.1875 |\n",
        "| p&#770;<sub>2</sub>| 0.2500 |\n",
        "| p&#770;<sub>3</sub>| 0.3125 |\n",
        "| p&#770;<sub>4</sub>| 0.1875 |\n",
        "| p&#770;<sub>5</sub>| 0.1250 |\n",
        "| p&#770;<sub>6</sub>| 0.3750 |\n",
        "| p&#770;<sub>7</sub>| 0.2500 |\n",
        "| p&#770;<sub>8</sub>| 0.1875 |\n",
        "| p&#770;<sub>9</sub>| 0.3125 |\n",
        "| p&#770;<sub>10</sub>| 0.2500 |\n",
        "| p&#770;<sub>11</sub>| 0.2500 |\n",
        "| p&#770;<sub>12</sub>| 0.3125 |\n",
        "\n",
        "We can plot these as a sampling distribution like this:"
      ]
    },
    {
      "cell_type": "code",
      "metadata": {
        "id": "uI8IivxRsNqA",
        "colab_type": "code",
        "colab": {}
      },
      "source": [
        "%matplotlib inline\n",
        "from matplotlib import pyplot as plt\n",
        "import numpy as np\n",
        "\n",
        "searches = np.array([0.1875,0.25,0.3125,0.1875,0.125,0.375,0.25,0.1875,0.3125,0.25,0.25,0.3125])\n",
        "\n",
        "# Set up the graph\n",
        "plt.xlabel('Search Results')\n",
        "plt.ylabel('Frequency')\n",
        "plt.hist(searches)\n",
        "plt.show()"
      ],
      "execution_count": 0,
      "outputs": []
    },
    {
      "cell_type": "markdown",
      "metadata": {
        "id": "4au4zMEJsNqc",
        "colab_type": "text"
      },
      "source": [
        "#### The Central Limit Theorem\n",
        "You saw previously with the binomial probability distribution, with a large enough sample size (the *n* value indicating the number of binomial experiments), the distribution of values for a random variable started to form an approximately *normal* curve. This is the effect of the *central limit theorem*, and it applies to any distribution of sample data if the size of the sample is large enough. For our airport passenger data, if we collect a large enough number of samples, each based on a large enough number of passenger observations, the sampling distribution will be approximately normal. The larger the sample size, the closer to a perfect *normal* distribution the data will be, and the less variance around the mean there will be.\n",
        "\n",
        "Run the cell below to see a simulated distribution created by 10,000 random 100-passenger samples:"
      ]
    },
    {
      "cell_type": "code",
      "metadata": {
        "id": "tHJwZ_UOsNqp",
        "colab_type": "code",
        "colab": {}
      },
      "source": [
        "%matplotlib inline\n",
        "import pandas as pd\n",
        "import matplotlib.pyplot as plt\n",
        "import numpy as np\n",
        "\n",
        "n, p, s = 100, 0.25, 10000\n",
        "df = pd.DataFrame(np.random.binomial(n,p,s)/n, columns=['p-hat'])\n",
        "\n",
        "# Plot the distribution as a histogram\n",
        "means = df['p-hat']\n",
        "means.plot.hist(title='Simulated Sampling Distribution')  \n",
        "plt.show()\n",
        "print ('Mean: ' + str(means.mean()))\n",
        "print ('Std: ' + str(means.std()))"
      ],
      "execution_count": 0,
      "outputs": []
    },
    {
      "cell_type": "markdown",
      "metadata": {
        "id": "RKB9FqLIsNq3",
        "colab_type": "text"
      },
      "source": [
        "### Mean and Standard Error of a Sampling Distribution of Proportion\n",
        "The sampling distribution is created from the means of multiple samples, and its mean is therefore the mean of all the sample means. For a distribution of proportion means, this is considered to be the same as **p** (the population mean). In the case of our passenger search samples, this is 0.25.\n",
        "\n",
        "Because the sampling distribution is based on means, and not totals, its standard deviation is referred to as its *standard error*, and its formula is:\n",
        "\n",
        "\\begin{equation}\\sigma_{\\hat{p}} = \\sqrt{\\frac{p(1-p)}{n}}\\end{equation}\n",
        "\n",
        "In this formula, *n* is the size of each sample; and we divide by this to correct for the error introduced by the average values used in the sampling distribution. In this case, our samples were based on observing 16-passengers, so:\n",
        "\n",
        "\\begin{equation}\\sigma_{\\hat{p}} = \\sqrt{\\frac{0.25 \\times 0.75}{16}} \\approx 0.11\\end{equation}\n",
        "\n",
        "In our simulation of 100-passenger samples, the mean remains 0.25. The standard error is:\n",
        "\n",
        "\\begin{equation}\\sigma_{\\hat{p}} = \\sqrt{\\frac{0.25 \\times 0.75}{100}} \\approx 0.043\\end{equation}\n",
        "\n",
        "Note that the effect of the central limit theorem is that as you increase the number and/or size of samples, the mean remains constant but the amount of variance around it is reduced.\n",
        "\n",
        "Being able to calculate the mean (or *expected value*) and standard error is useful, because we can apply these to what we know about an approximately normal distribution to estimate probabilities for particular values. For example, we know that in a normal distribution, around 95.4% of the values are within two standard deviations of the mean. If we apply that to our sampling distribution of ten thousand 100-passenger samples, we can determine that the proportion of searched passengers in 95.4% of the samples was between 0.164 (16.4%) and 0.336 (36.6%).\n",
        "\n",
        "How do we know this?\n",
        "\n",
        "We know that the mean is ***0.25*** and the standard error (which is the same thing as the standard deviation for our sampling distribution) is ***0.043***. We also know that because this is a *normal* distribution, ***95.4%*** of the data lies within two standard deviations (so 2 x 0.043) of the mean, so the value for 95.4% of our samples is 0.25 &plusmn; (*plus or minus*) 0.086.\n",
        "\n",
        "The *plus or minus* value is known as the *margin of error*, and the range of values within it is known as a *confidence interval* - we'll look at these in more detail later. For now, run the following cell to see a visualization of this interval:"
      ]
    },
    {
      "cell_type": "code",
      "metadata": {
        "id": "J8g1fqaXsNq4",
        "colab_type": "code",
        "colab": {}
      },
      "source": [
        "%matplotlib inline\n",
        "import pandas as pd\n",
        "import matplotlib.pyplot as plt\n",
        "import numpy as np\n",
        "\n",
        "n, p, s = 100, 0.25, 10000\n",
        "df = pd.DataFrame(np.random.binomial(n,p,s)/n, columns=['p-hat'])\n",
        "\n",
        "# Plot the distribution as a histogram\n",
        "means = df['p-hat']\n",
        "m = means.mean()\n",
        "sd = means.std()\n",
        "moe1 = m - (sd * 2)\n",
        "moe2 = m + (sd * 2)\n",
        "\n",
        "\n",
        "means.plot.hist(title='Simulated Sampling Distribution')  \n",
        "\n",
        "plt.axvline(m, color='red', linestyle='dashed', linewidth=2)\n",
        "plt.axvline(moe1, color='magenta', linestyle='dashed', linewidth=2)\n",
        "plt.axvline(moe2, color='magenta', linestyle='dashed', linewidth=2)\n",
        "plt.show()"
      ],
      "execution_count": 0,
      "outputs": []
    },
    {
      "cell_type": "markdown",
      "metadata": {
        "id": "eODo4leksNq9",
        "colab_type": "text"
      },
      "source": [
        "### Creating a Sampling Distribution of Sample Means\n",
        "In the previous example, we created a sampling distribution of proportions; which is a suitable way to handle discrete values, like the number of passengers searched or not searched. When you need to work with continuous data, you use slightly different formulae to work with the sampling distribution.\n",
        "\n",
        "For example, suppose we want to examine the weight of the hand luggage carried by each passenger. It's impractical to weigh every bag that is carried through security, but we could weigh one or more samples, for say, 5 passengers at a time, on twelve occassions. We might end up with some data like this:\n",
        "\n",
        "| Sample | Weights |\n",
        "|--------|---------|\n",
        "| 1      | [4.020992,2.143457,2.260409,2.339641,4.699211] |\n",
        "| 2      | [3.38532,4.438345,3.170228,3.499913,4.489557] |\n",
        "| 3      | [3.338228,1.825221,3.53633,3.507952,2.698669] |\n",
        "| 4      | [2.992756,3.292431,3.38148,3.479455,3.051273] |\n",
        "| 5      | [2.969977,3.869029,4.149342,2.785682,3.03557] |\n",
        "| 6      | [3.138055,2.535442,3.530052,3.029846,2.881217] |\n",
        "| 7      | [1.596558,1.486385,3.122378,3.684084,3.501813] |\n",
        "| 8      | [2.997384,3.818661,3.118434,3.455269,3.026508] |\n",
        "| 9      | [4.078268,2.283018,3.606384,4.555053,3.344701] |\n",
        "| 10     | [2.532509,3.064274,3.32908,2.981303,3.915995] |\n",
        "| 11     | [4.078268,2.283018,3.606384,4.555053,3.344701] |\n",
        "| 12     | [2.532509,3.064274,3.32908,2.981303,3.915995] |\n",
        "\n",
        "Just as we did before, we could take the mean of each of these samples and combine them to form a sampling distribution of the sample means (which we'll call **<span style=\"text-decoration: overline;\">X</span>**, and which will contain a mean for each sample, which we'll label x&#772;<sub>n</sub>):\n",
        "\n",
        "| Sample | Mean Weight |\n",
        "|--------|---------|\n",
        "| x&#772;<sub>1</sub> | 3.092742  |\n",
        "| x&#772;<sub>2</sub> | 3.7966726 |\n",
        "| x&#772;<sub>3</sub> | 2.98128   |\n",
        "| x&#772;<sub>4</sub> | 3.239479  |\n",
        "| x&#772;<sub>5</sub> | 3.36192   |\n",
        "| x&#772;<sub>6</sub> | 3.0229224 |\n",
        "| x&#772;<sub>7</sub> | 2.6782436 |\n",
        "| x&#772;<sub>8</sub> | 3.2832512 |\n",
        "| x&#772;<sub>9</sub> | 3.5734848 |\n",
        "| x&#772;<sub>10</sub> | 3.1646322 |\n",
        "| x&#772;<sub>11</sub> | 3.5734848 |\n",
        "| x&#772;<sub>12</sub> | 3.1646322 |\n",
        "\n",
        "We can plot the distribution for the sampling distribution like this:"
      ]
    },
    {
      "cell_type": "code",
      "metadata": {
        "id": "nGfYlfsdsNq-",
        "colab_type": "code",
        "colab": {}
      },
      "source": [
        "%matplotlib inline\n",
        "from matplotlib import pyplot as plt\n",
        "import numpy as np\n",
        "\n",
        "meanweights = np.array([3.092742,\n",
        "                        3.7966726,\n",
        "                        2.98128,\n",
        "                        3.239479,\n",
        "                        3.36192,\n",
        "                        3.0229224,\n",
        "                        2.6782436,\n",
        "                        3.2832512,\n",
        "                        3.5734848,\n",
        "                        3.1646322,\n",
        "                        3.5734848,\n",
        "                        3.1646322])\n",
        "\n",
        "# Set up the graph\n",
        "plt.xlabel('Mean Weights')\n",
        "plt.ylabel('Frequency')\n",
        "plt.hist(meanweights, bins=6)\n",
        "plt.show()\n",
        "\n",
        "print('Mean: ' + str(meanweights.mean()))\n",
        "print('Std: ' + str(meanweights.std()))"
      ],
      "execution_count": 0,
      "outputs": []
    },
    {
      "cell_type": "markdown",
      "metadata": {
        "id": "JkT4tWNYsNrD",
        "colab_type": "text"
      },
      "source": [
        "Just as before, as we increase the sample size, the central limit theorem ensures that our sampling distribution starts to approximate a normal distribution. Our current distribution is based on the means generated from twelve samples, each containing 5 weight observations. Run the following code to see a distribution created from a simulation of 10,000 samples each containing weights for 500 passengers:\n",
        "\n",
        ">This may take a few minutes to run. The code is not the most efficient way to generate a sample distribution, but it reflects the principle that our sampling distribution is made up of the means from multiple samples. In reality, you could simulate the sampling by just creating a single sample from the ***random.normal*** function with a larger ***n*** value."
      ]
    },
    {
      "cell_type": "code",
      "metadata": {
        "id": "rfWR3m17sNrH",
        "colab_type": "code",
        "colab": {}
      },
      "source": [
        "%matplotlib inline\n",
        "import pandas as pd\n",
        "import matplotlib.pyplot as plt\n",
        "import numpy as np\n",
        "\n",
        "mu, sigma, n = 3.2, 1.2, 500\n",
        "samples = list(range(0, 10000))\n",
        "\n",
        "# data will hold all of the sample data\n",
        "data = np.array([])\n",
        "\n",
        "# sampling will hold the means of the samples\n",
        "sampling = np.array([])\n",
        "\n",
        "# Perform 10,000 samples\n",
        "for s in samples:\n",
        "    # In each sample, get 500 data points from a normal distribution\n",
        "    sample = np.random.normal(mu, sigma, n)\n",
        "    data = np.append(data,sample)\n",
        "    sampling = np.append(sampling,sample.mean())\n",
        "\n",
        "# Create a dataframe with the sampling of means\n",
        "df = pd.DataFrame(sampling, columns=['mean'])\n",
        "\n",
        "# Plot the distribution as a histogram\n",
        "means = df['mean']\n",
        "means.plot.hist(title='Simulated Sampling Distribution', bins=100)  \n",
        "plt.show()\n",
        "\n",
        "# Print the Mean and StdDev for the full sample and for the sampling distribution\n",
        "print('Sample Mean: ' + str(data.mean()))\n",
        "print('Sample StdDev: ' + str(data.std()))\n",
        "print ('Sampling Mean: ' + str(means.mean()))\n",
        "print ('Sampling StdErr: ' + str(means.std()))"
      ],
      "execution_count": 0,
      "outputs": []
    },
    {
      "cell_type": "markdown",
      "metadata": {
        "id": "RTDp-ByOsNrT",
        "colab_type": "text"
      },
      "source": [
        "### Mean and Variance of the Sampling Distribution\n",
        "\n",
        "The following variables are printed beneath the histogram:\n",
        "\n",
        "- **Sample Mean**: This is the mean for the complete set of sample data - all 10,000 x 500 bag weights.\n",
        "- **Sample StdDev**: This is the standard deviation for the complete set of sample data - all 10,000 x 500 bag weights.\n",
        "- **Sampling Mean**: This is the mean for the sampling distribution - the means of the means!\n",
        "- **Sampling StdErr**: This is the standard deviation (or *standard error*) for the sampling distribution\n",
        "\n",
        "If we assume that **X** is a random variable representing every possible bag weight, then its mean (indicated as **&mu;<sub>x</sub>**) is the population mean (**&mu;**). The mean of the **<span style=\"text-decoration: overline;\">X</span>** sampling distribution (which is indicated as **&mu;<sub>x&#772;</sub>**) is considered to have the same value. Or, as an equation:\n",
        "\n",
        "\\begin{equation}\\mu_{x} = \\mu_{\\bar{x}}\\end{equation}\n",
        "\n",
        "In this case, the full population mean is unknown (unless we weigh every bag in the world!), but we do have the mean of the full set of sample observations we collected (**x&#772;**), and if we check the values generated by Python for the sample mean and the sampling mean, they're more or less the same: around 3.2.\n",
        "\n",
        "To find the standard deviation of the sample mean, which is technically the *standard error*, we can use this formula:\n",
        "\n",
        "\\begin{equation}\\sigma_{\\bar{x}}  = \\frac{\\sigma}{\\sqrt{n}}\\end{equation}\n",
        "\n",
        "In this formula, ***&sigma;*** is the population standard deviation and ***n*** is the size of each sample.\n",
        "\n",
        "Since our the population standard deviation is unknown, we can use the full sample standard deviation instead:\n",
        "\n",
        "\\begin{equation}SE_{\\bar{x}} \\approx \\frac{s}{\\sqrt{n}}\\end{equation}\n",
        "\n",
        "In this case, the standard deviation of our set of sample data is around 1.2, and we have used 500 variables in each sample to calculate our sample means, so:\n",
        "\n",
        "\\begin{equation}SE_{\\bar{x}} \\approx \\frac{1.2}{\\sqrt{500}} = \\frac{1.2}{22.36} \\approx 0.053\\end{equation}\n",
        "\n"
      ]
    },
    {
      "cell_type": "markdown",
      "metadata": {
        "id": "odA4mE_UsNrU",
        "colab_type": "text"
      },
      "source": [
        "### Confidence Intervals\n",
        "A confidence interval is a range of values around a sample statistic within which we are confident that the true parameter lies. For example, our bag weight sampling distribution is based on samples of the weights of bags carried by passengers through our airport security line. We know that the mean weight (the *expected value* for the weight of a bag) in our sampling distribution is 3.2, and we assume this is also the population mean for all bags; but how confident can we be that the true mean weight of all carry-on bags is close to the value?\n",
        "\n",
        "Let's start to put some precision onto these terms. We could state the question another way. What's the range of weights within which are confident that the mean weight of a carry-on bag will be 95% of the time? To calculate this, we need to determine the range of values within which the population mean weight is likely to be in 95% of samples. This is known as a *confidence interval*; and it's based on the Z-scores inherent in a normal distribution.\n",
        "\n",
        "Confidence intervals are expressed as a sample statistic &plusmn; (*plus or minus*) a margin of error. To calculate the margin of error, you need to determine the confidence level you want to find (for example, 95%), and determine the Z score that marks the threshold above or below which the values that are *not* within the chosen interval reside. For example, to calculate a 95% confidence interval, you need the critical Z scores that exclude 5% of the values under the curve; with 2.5% of them being lower than the values in the confidence interval range, and 2.5% being higher. In a normal distribution, 95% of the area under the curve is between a Z score of &plusmn; 1.96. The following table shows the critical Z values for some other popular confidence interval ranges:\n",
        "\n",
        "| Confidence  | Z Score |\n",
        "|-------------|---------|\n",
        "| 90%         | 1.645   |\n",
        "| 95%         | 1.96    |\n",
        "| 99%         | 2.576   |\n",
        "\n",
        "\n",
        "To calculate a confidence interval around a sample statistic, we simply calculate the *standard error* for that statistic as described previously, and multiply this by the approriate Z score for the confidence interval we want.\n",
        "\n",
        "To calculate the 95% confidence interval margin of error for our bag weights, we multiply our standard error of 0.053 by the Z score for a 95% confidence level, which is 1.96:\n",
        "\n",
        "\\begin{equation}MoE = 0.053 \\times 1.96 = 0.10388 \\end{equation}\n",
        "\n",
        "So we can say that we're confident that the population mean weight is in the range of the sample mean &plusmn; 0.10388 with 95% confidence. Thanks to the central limit theorem, if we used an even bigger sample size, the confidence interval would become smaller as the amount of variance in the distribution is reduced. If the number of samples were infinite, the standard error would be 0 and the confidence interval would become a certain value that reflects the true mean weight for all carry-on bags:\n",
        "\n",
        "\\begin{equation}\\lim_{n \\to \\infty} \\frac{\\sigma}{\\sqrt{n}} = 0\\end{equation}\n",
        "\n",
        "\n",
        "In Python, you can use the *scipy.stats.**norm.interval*** function to calculate a confidence interval for a normal distribution. Run the following code to recreate the sampling distribution for bag searches with the same parameters, and display the 95% confidence interval for the mean (again, this may take some time to run):"
      ]
    },
    {
      "cell_type": "code",
      "metadata": {
        "id": "6K_7NMAAsNrU",
        "colab_type": "code",
        "colab": {}
      },
      "source": [
        "%matplotlib inline\n",
        "import pandas as pd\n",
        "import matplotlib.pyplot as plt\n",
        "import numpy as np\n",
        "from scipy import stats\n",
        "\n",
        "mu, sigma, n = 3.2, 1.2, 500\n",
        "samples = list(range(0, 10000))\n",
        "\n",
        "# data will hold all of the sample data\n",
        "data = np.array([])\n",
        "\n",
        "# sampling will hold the means of the samples\n",
        "sampling = np.array([])\n",
        "\n",
        "# Perform 10,000 samples\n",
        "for s in samples:\n",
        "    # In each sample, get 500 data points from a normal distribution\n",
        "    sample = np.random.normal(mu, sigma, n)\n",
        "    data = np.append(data,sample)\n",
        "    sampling = np.append(sampling,sample.mean())\n",
        "\n",
        "# Create a dataframe with the sampling of means\n",
        "df = pd.DataFrame(sampling, columns=['mean'])\n",
        "\n",
        "# Get the Mean, StdDev, and 95% CI of the means\n",
        "means = df['mean']\n",
        "m = means.mean()\n",
        "sd = means.std()\n",
        "ci = stats.norm.interval(0.95, m, sd)\n",
        "\n",
        "# Plot the distribution, mean, and CI\n",
        "means.plot.hist(title='Simulated Sampling Distribution', bins=100) \n",
        "plt.axvline(m, color='red', linestyle='dashed', linewidth=2)\n",
        "plt.axvline(ci[0], color='magenta', linestyle='dashed', linewidth=2)\n",
        "plt.axvline(ci[1], color='magenta', linestyle='dashed', linewidth=2)\n",
        "plt.show()\n",
        "\n",
        "# Print the Mean, StdDev and 95% CI\n",
        "print ('Sampling Mean: ' + str(m))\n",
        "print ('Sampling StdErr: ' + str(sd))\n",
        "print ('95% Confidence Interval: ' + str(ci))"
      ],
      "execution_count": 0,
      "outputs": []
    }
  ]
}