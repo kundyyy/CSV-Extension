{
  "nbformat": 4,
  "nbformat_minor": 0,
  "metadata": {
    "colab": {
      "name": "AfterWork Data Science: Statistical Analysis with Python",
      "provenance": [],
      "collapsed_sections": [
        "St7aVL5WrG7G",
        "izNuVdzHo0gl",
        "4z52olfgpAH3",
        "DrF7LRyDqXJO",
        "rnjM0uQpqbUG",
        "j-vGg0iYpEG9",
        "Ss2lA50PqjGQ",
        "mLwo-Z0kqkwp",
        "K_aCKZtHpH5o",
        "w0kuhzWm9qi5",
        "HoKDLDLiqobN",
        "2eKzd9F5pLjr",
        "1Vwj9DRV94AP",
        "w5mGPeoRqqbB",
        "tGuOaMhopQFb",
        "L1CjUlVWBqWu",
        "58T894zCqsik",
        "RtVYROPBpWok",
        "Ni1GAcIUJ94O",
        "APbIYT_oMdiv",
        "r5DfKk2xpae_",
        "nleF-8-MQ7fS",
        "WqhMHO0MqwIu",
        "69WcT0zopguq",
        "M9P3WQT8qGNf",
        "3EcfMKHiTANt",
        "_u78z3bsqz1x",
        "3PW9ggeRqKmd",
        "NIXvLIo_gGdu",
        "DOM_LPx2q1WS",
        "YpotX7V_qNE8",
        "E13p0AjKq2kH"
      ],
      "toc_visible": true,
      "include_colab_link": true
    },
    "kernelspec": {
      "name": "python3",
      "display_name": "Python 3"
    }
  },
  "cells": [
    {
      "cell_type": "markdown",
      "metadata": {
        "id": "view-in-github",
        "colab_type": "text"
      },
      "source": [
        "<a href=\"https://colab.research.google.com/github/kundyyy/CSV-Extension/blob/5.x/AfterWork_Data_Science_Statistical_Analysis_with_Python.ipynb\" target=\"_parent\"><img src=\"https://colab.research.google.com/assets/colab-badge.svg\" alt=\"Open In Colab\"/></a>"
      ]
    },
    {
      "cell_type": "markdown",
      "metadata": {
        "id": "N21Edx36ox55",
        "colab_type": "text"
      },
      "source": [
        "# AfterWork Data Science: Statistical Analysis with Python"
      ]
    },
    {
      "cell_type": "markdown",
      "metadata": {
        "id": "St7aVL5WrG7G",
        "colab_type": "text"
      },
      "source": [
        "### Pre-requisites"
      ]
    },
    {
      "cell_type": "code",
      "metadata": {
        "id": "_rz4zI4erI9t",
        "colab_type": "code",
        "colab": {}
      },
      "source": [
        "# Importing the required libraries\n",
        "# ---\n",
        "import pandas as pd\n",
        "import numpy as np\n",
        "import seaborn as sns\n",
        "import matplotlib.pyplot as plt"
      ],
      "execution_count": 0,
      "outputs": []
    },
    {
      "cell_type": "markdown",
      "metadata": {
        "id": "izNuVdzHo0gl",
        "colab_type": "text"
      },
      "source": [
        "## 1. Univariate Analysis"
      ]
    },
    {
      "cell_type": "markdown",
      "metadata": {
        "id": "4z52olfgpAH3",
        "colab_type": "text"
      },
      "source": [
        "### Frequency Tables"
      ]
    },
    {
      "cell_type": "markdown",
      "metadata": {
        "id": "DrF7LRyDqXJO",
        "colab_type": "text"
      },
      "source": [
        "#### Example"
      ]
    },
    {
      "cell_type": "code",
      "metadata": {
        "id": "ULrUdPpoocb1",
        "colab_type": "code",
        "outputId": "8b56c643-c280-4736-8499-8c0b8503f980",
        "colab": {
          "base_uri": "https://localhost:8080/",
          "height": 204
        }
      },
      "source": [
        "# Example\n",
        "# ---\n",
        "# A frequency table is a chart that summarizes values and their frequency across\n",
        "# a given variables. It's a useful way to organize data if you have a list of \n",
        "# numbers that represent the frequency of a certain outcome in a sample. \n",
        "# As your are already aware by now, to create frequecy tables, we use the value_counts function.\n",
        "# The value_counts() function returns object containing counts of unique values.\n",
        "# Suppose we have been given the following credit dataset, we can create a frequency table\n",
        "# of one of the variables as shown below. \n",
        "# ---\n",
        "# Dataset url = http://tiny.cc/aspnpz\n",
        "# Dataset info:\n",
        "# In this dataset, each entry represents a person who takes a credit by a bank. \n",
        "# Each person is classified as good or bad credit risks according to the set of attributes. \n",
        "# ---\n",
        "# Glossary\n",
        "# ---\n",
        "# Age (numeric)\n",
        "# Sex (text: male, female)\n",
        "# Job (numeric: 0 - unskilled and non-resident, 1 - unskilled and resident, 2 - skilled, 3 - highly skilled)\n",
        "# Housing (text: own, rent, or free)\n",
        "# Saving accounts (text - little, moderate, quite rich, rich)\n",
        "# Checking account (numeric, in DM - Deutsch Mark)\n",
        "# Credit amount (numeric, in DM)\n",
        "# Duration (numeric, in month)\n",
        "# Purpose (text: car, furniture/equipment, radio/TV, domestic appliances, repairs, education, business, vacation/others)\n",
        "# ---\n",
        "# Dataset source: https://bit.ly/3d3eERn\n",
        "# ---\n",
        "# OUR CODE GOES BELOW\n",
        "#\n",
        "\n",
        "\n",
        "# Loading and previewing our dataframe\n",
        "# ---\n",
        "credit_df = pd.read_csv('http://tiny.cc/aspnpz')\n",
        "credit_df.head()"
      ],
      "execution_count": 0,
      "outputs": [
        {
          "output_type": "execute_result",
          "data": {
            "text/html": [
              "<div>\n",
              "<style scoped>\n",
              "    .dataframe tbody tr th:only-of-type {\n",
              "        vertical-align: middle;\n",
              "    }\n",
              "\n",
              "    .dataframe tbody tr th {\n",
              "        vertical-align: top;\n",
              "    }\n",
              "\n",
              "    .dataframe thead th {\n",
              "        text-align: right;\n",
              "    }\n",
              "</style>\n",
              "<table border=\"1\" class=\"dataframe\">\n",
              "  <thead>\n",
              "    <tr style=\"text-align: right;\">\n",
              "      <th></th>\n",
              "      <th>Unnamed: 0</th>\n",
              "      <th>Age</th>\n",
              "      <th>Sex</th>\n",
              "      <th>Job</th>\n",
              "      <th>Housing</th>\n",
              "      <th>Saving accounts</th>\n",
              "      <th>Checking account</th>\n",
              "      <th>Credit amount</th>\n",
              "      <th>Duration</th>\n",
              "      <th>Purpose</th>\n",
              "    </tr>\n",
              "  </thead>\n",
              "  <tbody>\n",
              "    <tr>\n",
              "      <th>0</th>\n",
              "      <td>0</td>\n",
              "      <td>67</td>\n",
              "      <td>male</td>\n",
              "      <td>2</td>\n",
              "      <td>own</td>\n",
              "      <td>NaN</td>\n",
              "      <td>little</td>\n",
              "      <td>1169</td>\n",
              "      <td>6</td>\n",
              "      <td>radio/TV</td>\n",
              "    </tr>\n",
              "    <tr>\n",
              "      <th>1</th>\n",
              "      <td>1</td>\n",
              "      <td>22</td>\n",
              "      <td>female</td>\n",
              "      <td>2</td>\n",
              "      <td>own</td>\n",
              "      <td>little</td>\n",
              "      <td>moderate</td>\n",
              "      <td>5951</td>\n",
              "      <td>48</td>\n",
              "      <td>radio/TV</td>\n",
              "    </tr>\n",
              "    <tr>\n",
              "      <th>2</th>\n",
              "      <td>2</td>\n",
              "      <td>49</td>\n",
              "      <td>male</td>\n",
              "      <td>1</td>\n",
              "      <td>own</td>\n",
              "      <td>little</td>\n",
              "      <td>NaN</td>\n",
              "      <td>2096</td>\n",
              "      <td>12</td>\n",
              "      <td>education</td>\n",
              "    </tr>\n",
              "    <tr>\n",
              "      <th>3</th>\n",
              "      <td>3</td>\n",
              "      <td>45</td>\n",
              "      <td>male</td>\n",
              "      <td>2</td>\n",
              "      <td>free</td>\n",
              "      <td>little</td>\n",
              "      <td>little</td>\n",
              "      <td>7882</td>\n",
              "      <td>42</td>\n",
              "      <td>furniture/equipment</td>\n",
              "    </tr>\n",
              "    <tr>\n",
              "      <th>4</th>\n",
              "      <td>4</td>\n",
              "      <td>53</td>\n",
              "      <td>male</td>\n",
              "      <td>2</td>\n",
              "      <td>free</td>\n",
              "      <td>little</td>\n",
              "      <td>little</td>\n",
              "      <td>4870</td>\n",
              "      <td>24</td>\n",
              "      <td>car</td>\n",
              "    </tr>\n",
              "  </tbody>\n",
              "</table>\n",
              "</div>"
            ],
            "text/plain": [
              "   Unnamed: 0  Age     Sex  ...  Credit amount Duration              Purpose\n",
              "0           0   67    male  ...           1169        6             radio/TV\n",
              "1           1   22  female  ...           5951       48             radio/TV\n",
              "2           2   49    male  ...           2096       12            education\n",
              "3           3   45    male  ...           7882       42  furniture/equipment\n",
              "4           4   53    male  ...           4870       24                  car\n",
              "\n",
              "[5 rows x 10 columns]"
            ]
          },
          "metadata": {
            "tags": []
          },
          "execution_count": 3
        }
      ]
    },
    {
      "cell_type": "code",
      "metadata": {
        "id": "JCb5G_z9uVWg",
        "colab_type": "code",
        "outputId": "36e4b6fd-fa69-4cde-f1ab-68dd8788c6e9",
        "colab": {
          "base_uri": "https://localhost:8080/",
          "height": 68
        }
      },
      "source": [
        "# Then creating our frequency table\n",
        "# ---\n",
        "# \n",
        "credit_df['Sex'].value_counts()"
      ],
      "execution_count": 0,
      "outputs": [
        {
          "output_type": "execute_result",
          "data": {
            "text/plain": [
              "male      690\n",
              "female    310\n",
              "Name: Sex, dtype: int64"
            ]
          },
          "metadata": {
            "tags": []
          },
          "execution_count": 10
        }
      ]
    },
    {
      "cell_type": "markdown",
      "metadata": {
        "id": "C55pPop1zrCP",
        "colab_type": "text"
      },
      "source": [
        "Record your observations below:\n",
        "1. \n",
        "2. "
      ]
    },
    {
      "cell_type": "markdown",
      "metadata": {
        "colab_type": "text",
        "id": "rnjM0uQpqbUG"
      },
      "source": [
        "#### <font color=\"green\">Challenge</font>"
      ]
    },
    {
      "cell_type": "code",
      "metadata": {
        "colab_type": "code",
        "id": "HzhhiC6_qbUI",
        "colab": {}
      },
      "source": [
        "# Challenge\n",
        "# ---\n",
        "# Question: Create a frequency table from the credit dataset \n",
        "# above on the values in the Savings account variable.\n",
        "# ---\n",
        "# "
      ],
      "execution_count": 0,
      "outputs": []
    },
    {
      "cell_type": "markdown",
      "metadata": {
        "colab_type": "text",
        "id": "j-vGg0iYpEG9"
      },
      "source": [
        "### Bar Charts"
      ]
    },
    {
      "cell_type": "markdown",
      "metadata": {
        "colab_type": "text",
        "id": "Ss2lA50PqjGQ"
      },
      "source": [
        "#### Example"
      ]
    },
    {
      "cell_type": "code",
      "metadata": {
        "colab_type": "code",
        "id": "5QnR4vhVqjGR",
        "outputId": "4d80d78f-727b-446f-ebf3-9cf24188d27a",
        "colab": {
          "base_uri": "https://localhost:8080/",
          "height": 304
        }
      },
      "source": [
        "# Example \n",
        "# ---\n",
        "# A bar chart presents categorical data with rectangular bars with heights \n",
        "# or lengths proportional to the values that they represent. \n",
        "# Lets create visualise our data in the savings accounts variable using a bar chart\n",
        "# ---\n",
        "# \n",
        "credit_df['Saving accounts'].value_counts().plot(kind='bar');  "
      ],
      "execution_count": 0,
      "outputs": [
        {
          "output_type": "display_data",
          "data": {
            "image/png": "[encoded data removed]",
            "text/plain": [
              "<Figure size 432x288 with 1 Axes>"
            ]
          },
          "metadata": {
            "tags": [],
            "needs_background": "light"
          }
        }
      ]
    },
    {
      "cell_type": "markdown",
      "metadata": {
        "id": "m90-iKV-zgan",
        "colab_type": "text"
      },
      "source": [
        "Record your observations below:\n",
        "1. \n",
        "2. \n"
      ]
    },
    {
      "cell_type": "markdown",
      "metadata": {
        "colab_type": "text",
        "id": "mLwo-Z0kqkwp"
      },
      "source": [
        "#### <font color=\"green\">Challenge</font>"
      ]
    },
    {
      "cell_type": "code",
      "metadata": {
        "colab_type": "code",
        "id": "fdJqDMoCqkwq",
        "colab": {}
      },
      "source": [
        "# Challenge \n",
        "# ---\n",
        "# Create a bar chart to understand the Purpose variable\n",
        "# given the credit dataset above. Record 3 key observations.\n",
        "# ---\n",
        "# "
      ],
      "execution_count": 0,
      "outputs": []
    },
    {
      "cell_type": "markdown",
      "metadata": {
        "colab_type": "text",
        "id": "K_aCKZtHpH5o"
      },
      "source": [
        "### Histograms"
      ]
    },
    {
      "cell_type": "markdown",
      "metadata": {
        "id": "w0kuhzWm9qi5",
        "colab_type": "text"
      },
      "source": [
        "#### Example"
      ]
    },
    {
      "cell_type": "code",
      "metadata": {
        "id": "TXdA-CwO5TeV",
        "colab_type": "code",
        "outputId": "d6b813c3-eb03-46c5-aa6b-b7fcc4c9a3fb",
        "colab": {
          "base_uri": "https://localhost:8080/",
          "height": 267
        }
      },
      "source": [
        "# Example\n",
        "# ---\n",
        "# A histogram is a visualisation that uses bars of different heights. \n",
        "# It is similar to a bar chart, but a histogram groups numbers into ranges.\n",
        "# It is an alternative way to display the distribution of a quantitative variable. \n",
        "# ---\n",
        "# Let's create a histogram to get the distribution of our duration variable:\n",
        "# ---\n",
        "# \n",
        "plt.hist(credit_df['Duration'], bins=10, histtype='bar', rwidth=0.9);"
      ],
      "execution_count": 0,
      "outputs": [
        {
          "output_type": "display_data",
          "data": {
            "image/png": "[encoded data removed]",
            "text/plain": [
              "<Figure size 432x288 with 1 Axes>"
            ]
          },
          "metadata": {
            "tags": [],
            "needs_background": "light"
          }
        }
      ]
    },
    {
      "cell_type": "markdown",
      "metadata": {
        "id": "S80U98qn6W13",
        "colab_type": "text"
      },
      "source": [
        "Record your observations below:\n",
        "1. The highest occurence of duration is around 22 months.\n",
        "2. The histogram illustrates positive skew. This means there's a long tail on the right side of our peak. Because of this skew, the mean duration is larger than the median duration.\n",
        "2. Most duration is from 18 - 24 months.\n"
      ]
    },
    {
      "cell_type": "markdown",
      "metadata": {
        "colab_type": "text",
        "id": "HoKDLDLiqobN"
      },
      "source": [
        "#### <font color=\"green\">Challenge</font>"
      ]
    },
    {
      "cell_type": "code",
      "metadata": {
        "colab_type": "code",
        "id": "zhghukeUqobP",
        "colab": {}
      },
      "source": [
        "# Challenge \n",
        "# ---\n",
        "# Create a histogram to understand the distribution of the age variable in the credit dataset.\n",
        "# Record 3 key observations.\n",
        "# ---\n",
        "# "
      ],
      "execution_count": 0,
      "outputs": []
    },
    {
      "cell_type": "markdown",
      "metadata": {
        "colab_type": "text",
        "id": "2eKzd9F5pLjr"
      },
      "source": [
        "### Pie Charts"
      ]
    },
    {
      "cell_type": "markdown",
      "metadata": {
        "id": "1Vwj9DRV94AP",
        "colab_type": "text"
      },
      "source": [
        "#### Example"
      ]
    },
    {
      "cell_type": "code",
      "metadata": {
        "id": "e0WobT-S95dr",
        "colab_type": "code",
        "outputId": "22e251bc-b2e2-428e-c8bc-3dcb2f726ef1",
        "colab": {
          "base_uri": "https://localhost:8080/",
          "height": 102
        }
      },
      "source": [
        "# Example \n",
        "# ---\n",
        "# A pie chart is a circular graph that shows the relative contribution \n",
        "# that different categories contribute to an overall total.\n",
        "# ---\n",
        "# Let's create a pie chart of the savings account variable.\n",
        "# ---\n",
        "# \n",
        "\n",
        "# We first create a summary table\n",
        "# ---\n",
        "# \n",
        "credit_savings = credit_df['Saving accounts'].value_counts()\n",
        "credit_savings"
      ],
      "execution_count": 0,
      "outputs": [
        {
          "output_type": "execute_result",
          "data": {
            "text/plain": [
              "little        603\n",
              "moderate      103\n",
              "quite rich     63\n",
              "rich           48\n",
              "Name: Saving accounts, dtype: int64"
            ]
          },
          "metadata": {
            "tags": []
          },
          "execution_count": 29
        }
      ]
    },
    {
      "cell_type": "code",
      "metadata": {
        "id": "gPTilNhY_Vmm",
        "colab_type": "code",
        "outputId": "e8c8eac6-fa2d-49c5-d8ce-1bb4f52f56aa",
        "colab": {
          "base_uri": "https://localhost:8080/",
          "height": 248
        }
      },
      "source": [
        "# Then later craft our pie chart\n",
        "# ---\n",
        "labels = credit_savings.index.tolist()\n",
        "plt.pie(credit_savings, labels=labels, shadow=True, startangle=140, autopct='%i%%');"
      ],
      "execution_count": 0,
      "outputs": [
        {
          "output_type": "display_data",
          "data": {
            "image/png": "[encoded data removed]",
            "text/plain": [
              "<Figure size 432x288 with 1 Axes>"
            ]
          },
          "metadata": {
            "tags": []
          }
        }
      ]
    },
    {
      "cell_type": "markdown",
      "metadata": {
        "id": "iu2eyzHiBQF3",
        "colab_type": "text"
      },
      "source": [
        "Record your observations below:\n",
        "1. \n",
        "2. \n"
      ]
    },
    {
      "cell_type": "markdown",
      "metadata": {
        "colab_type": "text",
        "id": "w5mGPeoRqqbB"
      },
      "source": [
        "#### <font color=\"green\">Challenge</font>"
      ]
    },
    {
      "cell_type": "code",
      "metadata": {
        "colab_type": "code",
        "id": "F53olD_fqqbC",
        "colab": {}
      },
      "source": [
        "# Challenge \n",
        "# ---\n",
        "# Create a pie chart to understand the contribution of \n",
        "# Checking account categories to the total.\n",
        "# ---\n",
        "# "
      ],
      "execution_count": 0,
      "outputs": []
    },
    {
      "cell_type": "markdown",
      "metadata": {
        "colab_type": "text",
        "id": "tGuOaMhopQFb"
      },
      "source": [
        "### Box Plots"
      ]
    },
    {
      "cell_type": "markdown",
      "metadata": {
        "id": "L1CjUlVWBqWu",
        "colab_type": "text"
      },
      "source": [
        "#### Example  "
      ]
    },
    {
      "cell_type": "code",
      "metadata": {
        "id": "tJMjDmRFB9nc",
        "colab_type": "code",
        "outputId": "14a726b5-ec47-4a2d-9a86-2a97ad54fa0f",
        "colab": {
          "base_uri": "https://localhost:8080/",
          "height": 279
        }
      },
      "source": [
        "# Question\n",
        "# ---\n",
        "# A box plot is used in explanatory data analysis to visually \n",
        "# show the distribution of numerical data and skewness through \n",
        "# displaying the data quartiles (or percentiles) and averages.\n",
        "# It can tell us whether our variable contains outliers. \n",
        "# ---\n",
        "# Question: Let's create a box plot to show the distribution \n",
        "# of the Duration variable. Record your observations.\n",
        "# ---\n",
        "# \n",
        "sns.boxplot(credit_df[\"Duration\"], showmeans=True);"
      ],
      "execution_count": 0,
      "outputs": [
        {
          "output_type": "display_data",
          "data": {
            "image/png": "[encoded data removed]",
            "text/plain": [
              "<Figure size 432x288 with 1 Axes>"
            ]
          },
          "metadata": {
            "tags": [],
            "needs_background": "light"
          }
        }
      ]
    },
    {
      "cell_type": "markdown",
      "metadata": {
        "id": "ruxktQncGIHh",
        "colab_type": "text"
      },
      "source": [
        "Record your observations below:\n",
        "1. The median duration is roughly 18.\n",
        "2. The minimum recorded duration is 4 and the maximum is 72.\n",
        "3. 75% of duration was above 24 and 25% of duration was below 12.\n",
        "\n",
        "\n",
        "\n",
        "\n"
      ]
    },
    {
      "cell_type": "code",
      "metadata": {
        "id": "PFTkY_lAIbFS",
        "colab_type": "code",
        "outputId": "d636a15c-d851-4305-9b1d-25436b00da1f",
        "colab": {
          "base_uri": "https://localhost:8080/",
          "height": 170
        }
      },
      "source": [
        "# To see exact numeric values of the quartiles in a box\n",
        "# We can print out the following:\n",
        "# ---\n",
        "# \n",
        "credit_df['Duration'].describe()"
      ],
      "execution_count": 0,
      "outputs": [
        {
          "output_type": "execute_result",
          "data": {
            "text/plain": [
              "count    1000.000000\n",
              "mean       20.903000\n",
              "std        12.058814\n",
              "min         4.000000\n",
              "25%        12.000000\n",
              "50%        18.000000\n",
              "75%        24.000000\n",
              "max        72.000000\n",
              "Name: Duration, dtype: float64"
            ]
          },
          "metadata": {
            "tags": []
          },
          "execution_count": 44
        }
      ]
    },
    {
      "cell_type": "markdown",
      "metadata": {
        "colab_type": "text",
        "id": "58T894zCqsik"
      },
      "source": [
        "#### <font color=\"green\">Challenge</font>"
      ]
    },
    {
      "cell_type": "code",
      "metadata": {
        "colab_type": "code",
        "id": "iSZQqKiYqsil",
        "colab": {}
      },
      "source": [
        "# Challenge \n",
        "# ---\n",
        "# Create a box plot of the Credit amount variable recording key observations.\n",
        "# ---\n",
        "# "
      ],
      "execution_count": 0,
      "outputs": []
    },
    {
      "cell_type": "markdown",
      "metadata": {
        "colab_type": "text",
        "id": "RtVYROPBpWok"
      },
      "source": [
        "### Measures of Central Tendency"
      ]
    },
    {
      "cell_type": "markdown",
      "metadata": {
        "id": "Ni1GAcIUJ94O",
        "colab_type": "text"
      },
      "source": [
        "#### Examples"
      ]
    },
    {
      "cell_type": "code",
      "metadata": {
        "id": "nvQxoJhfJ_Ev",
        "colab_type": "code",
        "outputId": "82e12c9b-860e-4869-a4be-bf3dd83af8f7",
        "colab": {
          "base_uri": "https://localhost:8080/",
          "height": 34
        }
      },
      "source": [
        "# Example 1: Mean\n",
        "# ---\n",
        "# Mean is the the average of the values in a variable.\n",
        "# ---\n",
        "# Let's find the mean of the Age variable \n",
        "# ---\n",
        "# \n",
        "mean_age = credit_df['Age'].mean()\n",
        "round(mean_age, 0)"
      ],
      "execution_count": 0,
      "outputs": [
        {
          "output_type": "execute_result",
          "data": {
            "text/plain": [
              "36.0"
            ]
          },
          "metadata": {
            "tags": []
          },
          "execution_count": 55
        }
      ]
    },
    {
      "cell_type": "code",
      "metadata": {
        "id": "MB108Ed3MOLZ",
        "colab_type": "code",
        "outputId": "50db0fb7-9b55-4546-c202-86b09d8fa92e",
        "colab": {
          "base_uri": "https://localhost:8080/",
          "height": 34
        }
      },
      "source": [
        "# Example 2: Median\n",
        "# ---\n",
        "# Median is the middle value given a variable.\n",
        "# ---\n",
        "# \n",
        "median_age = credit_df['Age'].median()\n",
        "median_age"
      ],
      "execution_count": 0,
      "outputs": [
        {
          "output_type": "execute_result",
          "data": {
            "text/plain": [
              "33.0"
            ]
          },
          "metadata": {
            "tags": []
          },
          "execution_count": 56
        }
      ]
    },
    {
      "cell_type": "code",
      "metadata": {
        "id": "cTZAL2qWMQrr",
        "colab_type": "code",
        "outputId": "f3c9b77e-a1a9-4908-d208-a788051e90ef",
        "colab": {
          "base_uri": "https://localhost:8080/",
          "height": 34
        }
      },
      "source": [
        "# Example 3: Mode \n",
        "# ---\n",
        "# The mode is the value that occurs the most frequently in your data set.\n",
        "# ---\n",
        "# Let's calculate the mode of the Age variable\n",
        "# ---\n",
        "# \n",
        "mode_age = credit_df['Age'].mode().iloc[0]\n",
        "mode_age"
      ],
      "execution_count": 0,
      "outputs": [
        {
          "output_type": "execute_result",
          "data": {
            "text/plain": [
              "27"
            ]
          },
          "metadata": {
            "tags": []
          },
          "execution_count": 49
        }
      ]
    },
    {
      "cell_type": "code",
      "metadata": {
        "id": "CMK5s0seOYKQ",
        "colab_type": "code",
        "outputId": "8219df7a-dd69-410c-e699-151b5507e583",
        "colab": {
          "base_uri": "https://localhost:8080/",
          "height": 1000
        }
      },
      "source": [
        "# Bonus: We can also query our credit_df dataframe \n",
        "# to see the records in which the credit_df is equal to 27\n",
        "# ---\n",
        "# \n",
        "credit_df.query('Age==27')"
      ],
      "execution_count": 0,
      "outputs": [
        {
          "output_type": "execute_result",
          "data": {
            "text/html": [
              "<div>\n",
              "<style scoped>\n",
              "    .dataframe tbody tr th:only-of-type {\n",
              "        vertical-align: middle;\n",
              "    }\n",
              "\n",
              "    .dataframe tbody tr th {\n",
              "        vertical-align: top;\n",
              "    }\n",
              "\n",
              "    .dataframe thead th {\n",
              "        text-align: right;\n",
              "    }\n",
              "</style>\n",
              "<table border=\"1\" class=\"dataframe\">\n",
              "  <thead>\n",
              "    <tr style=\"text-align: right;\">\n",
              "      <th></th>\n",
              "      <th>Unnamed: 0</th>\n",
              "      <th>Age</th>\n",
              "      <th>Sex</th>\n",
              "      <th>Job</th>\n",
              "      <th>Housing</th>\n",
              "      <th>Saving accounts</th>\n",
              "      <th>Checking account</th>\n",
              "      <th>Credit amount</th>\n",
              "      <th>Duration</th>\n",
              "      <th>Purpose</th>\n",
              "    </tr>\n",
              "  </thead>\n",
              "  <tbody>\n",
              "    <tr>\n",
              "      <th>31</th>\n",
              "      <td>31</td>\n",
              "      <td>27</td>\n",
              "      <td>male</td>\n",
              "      <td>2</td>\n",
              "      <td>own</td>\n",
              "      <td>little</td>\n",
              "      <td>little</td>\n",
              "      <td>4020</td>\n",
              "      <td>24</td>\n",
              "      <td>furniture/equipment</td>\n",
              "    </tr>\n",
              "    <tr>\n",
              "      <th>60</th>\n",
              "      <td>60</td>\n",
              "      <td>27</td>\n",
              "      <td>male</td>\n",
              "      <td>2</td>\n",
              "      <td>own</td>\n",
              "      <td>little</td>\n",
              "      <td>moderate</td>\n",
              "      <td>1391</td>\n",
              "      <td>9</td>\n",
              "      <td>business</td>\n",
              "    </tr>\n",
              "    <tr>\n",
              "      <th>86</th>\n",
              "      <td>86</td>\n",
              "      <td>27</td>\n",
              "      <td>female</td>\n",
              "      <td>2</td>\n",
              "      <td>own</td>\n",
              "      <td>little</td>\n",
              "      <td>moderate</td>\n",
              "      <td>1295</td>\n",
              "      <td>18</td>\n",
              "      <td>furniture/equipment</td>\n",
              "    </tr>\n",
              "    <tr>\n",
              "      <th>117</th>\n",
              "      <td>117</td>\n",
              "      <td>27</td>\n",
              "      <td>female</td>\n",
              "      <td>2</td>\n",
              "      <td>rent</td>\n",
              "      <td>NaN</td>\n",
              "      <td>little</td>\n",
              "      <td>2132</td>\n",
              "      <td>10</td>\n",
              "      <td>furniture/equipment</td>\n",
              "    </tr>\n",
              "    <tr>\n",
              "      <th>124</th>\n",
              "      <td>124</td>\n",
              "      <td>27</td>\n",
              "      <td>female</td>\n",
              "      <td>2</td>\n",
              "      <td>rent</td>\n",
              "      <td>NaN</td>\n",
              "      <td>moderate</td>\n",
              "      <td>1924</td>\n",
              "      <td>18</td>\n",
              "      <td>furniture/equipment</td>\n",
              "    </tr>\n",
              "    <tr>\n",
              "      <th>132</th>\n",
              "      <td>132</td>\n",
              "      <td>27</td>\n",
              "      <td>male</td>\n",
              "      <td>1</td>\n",
              "      <td>own</td>\n",
              "      <td>little</td>\n",
              "      <td>NaN</td>\n",
              "      <td>2708</td>\n",
              "      <td>15</td>\n",
              "      <td>furniture/equipment</td>\n",
              "    </tr>\n",
              "    <tr>\n",
              "      <th>136</th>\n",
              "      <td>136</td>\n",
              "      <td>27</td>\n",
              "      <td>male</td>\n",
              "      <td>2</td>\n",
              "      <td>own</td>\n",
              "      <td>rich</td>\n",
              "      <td>NaN</td>\n",
              "      <td>8613</td>\n",
              "      <td>27</td>\n",
              "      <td>car</td>\n",
              "    </tr>\n",
              "    <tr>\n",
              "      <th>140</th>\n",
              "      <td>140</td>\n",
              "      <td>27</td>\n",
              "      <td>male</td>\n",
              "      <td>0</td>\n",
              "      <td>own</td>\n",
              "      <td>rich</td>\n",
              "      <td>rich</td>\n",
              "      <td>709</td>\n",
              "      <td>6</td>\n",
              "      <td>car</td>\n",
              "    </tr>\n",
              "    <tr>\n",
              "      <th>142</th>\n",
              "      <td>142</td>\n",
              "      <td>27</td>\n",
              "      <td>male</td>\n",
              "      <td>3</td>\n",
              "      <td>own</td>\n",
              "      <td>little</td>\n",
              "      <td>little</td>\n",
              "      <td>3416</td>\n",
              "      <td>27</td>\n",
              "      <td>radio/TV</td>\n",
              "    </tr>\n",
              "    <tr>\n",
              "      <th>197</th>\n",
              "      <td>197</td>\n",
              "      <td>27</td>\n",
              "      <td>female</td>\n",
              "      <td>2</td>\n",
              "      <td>rent</td>\n",
              "      <td>moderate</td>\n",
              "      <td>moderate</td>\n",
              "      <td>951</td>\n",
              "      <td>12</td>\n",
              "      <td>furniture/equipment</td>\n",
              "    </tr>\n",
              "    <tr>\n",
              "      <th>201</th>\n",
              "      <td>201</td>\n",
              "      <td>27</td>\n",
              "      <td>male</td>\n",
              "      <td>1</td>\n",
              "      <td>own</td>\n",
              "      <td>little</td>\n",
              "      <td>little</td>\n",
              "      <td>1168</td>\n",
              "      <td>12</td>\n",
              "      <td>car</td>\n",
              "    </tr>\n",
              "    <tr>\n",
              "      <th>225</th>\n",
              "      <td>225</td>\n",
              "      <td>27</td>\n",
              "      <td>male</td>\n",
              "      <td>2</td>\n",
              "      <td>own</td>\n",
              "      <td>little</td>\n",
              "      <td>NaN</td>\n",
              "      <td>2613</td>\n",
              "      <td>36</td>\n",
              "      <td>repairs</td>\n",
              "    </tr>\n",
              "    <tr>\n",
              "      <th>226</th>\n",
              "      <td>226</td>\n",
              "      <td>27</td>\n",
              "      <td>male</td>\n",
              "      <td>2</td>\n",
              "      <td>own</td>\n",
              "      <td>rich</td>\n",
              "      <td>moderate</td>\n",
              "      <td>10961</td>\n",
              "      <td>48</td>\n",
              "      <td>radio/TV</td>\n",
              "    </tr>\n",
              "    <tr>\n",
              "      <th>243</th>\n",
              "      <td>243</td>\n",
              "      <td>27</td>\n",
              "      <td>female</td>\n",
              "      <td>2</td>\n",
              "      <td>own</td>\n",
              "      <td>little</td>\n",
              "      <td>NaN</td>\n",
              "      <td>1185</td>\n",
              "      <td>12</td>\n",
              "      <td>business</td>\n",
              "    </tr>\n",
              "    <tr>\n",
              "      <th>255</th>\n",
              "      <td>255</td>\n",
              "      <td>27</td>\n",
              "      <td>male</td>\n",
              "      <td>1</td>\n",
              "      <td>own</td>\n",
              "      <td>NaN</td>\n",
              "      <td>moderate</td>\n",
              "      <td>7418</td>\n",
              "      <td>60</td>\n",
              "      <td>radio/TV</td>\n",
              "    </tr>\n",
              "    <tr>\n",
              "      <th>260</th>\n",
              "      <td>260</td>\n",
              "      <td>27</td>\n",
              "      <td>male</td>\n",
              "      <td>2</td>\n",
              "      <td>own</td>\n",
              "      <td>little</td>\n",
              "      <td>little</td>\n",
              "      <td>1657</td>\n",
              "      <td>12</td>\n",
              "      <td>furniture/equipment</td>\n",
              "    </tr>\n",
              "    <tr>\n",
              "      <th>319</th>\n",
              "      <td>319</td>\n",
              "      <td>27</td>\n",
              "      <td>female</td>\n",
              "      <td>1</td>\n",
              "      <td>own</td>\n",
              "      <td>little</td>\n",
              "      <td>little</td>\n",
              "      <td>3643</td>\n",
              "      <td>15</td>\n",
              "      <td>furniture/equipment</td>\n",
              "    </tr>\n",
              "    <tr>\n",
              "      <th>366</th>\n",
              "      <td>366</td>\n",
              "      <td>27</td>\n",
              "      <td>male</td>\n",
              "      <td>2</td>\n",
              "      <td>own</td>\n",
              "      <td>little</td>\n",
              "      <td>NaN</td>\n",
              "      <td>3850</td>\n",
              "      <td>18</td>\n",
              "      <td>car</td>\n",
              "    </tr>\n",
              "    <tr>\n",
              "      <th>388</th>\n",
              "      <td>388</td>\n",
              "      <td>27</td>\n",
              "      <td>male</td>\n",
              "      <td>2</td>\n",
              "      <td>own</td>\n",
              "      <td>quite rich</td>\n",
              "      <td>moderate</td>\n",
              "      <td>2326</td>\n",
              "      <td>15</td>\n",
              "      <td>business</td>\n",
              "    </tr>\n",
              "    <tr>\n",
              "      <th>389</th>\n",
              "      <td>389</td>\n",
              "      <td>27</td>\n",
              "      <td>female</td>\n",
              "      <td>2</td>\n",
              "      <td>own</td>\n",
              "      <td>little</td>\n",
              "      <td>NaN</td>\n",
              "      <td>1449</td>\n",
              "      <td>9</td>\n",
              "      <td>business</td>\n",
              "    </tr>\n",
              "    <tr>\n",
              "      <th>402</th>\n",
              "      <td>402</td>\n",
              "      <td>27</td>\n",
              "      <td>male</td>\n",
              "      <td>2</td>\n",
              "      <td>own</td>\n",
              "      <td>little</td>\n",
              "      <td>NaN</td>\n",
              "      <td>8648</td>\n",
              "      <td>24</td>\n",
              "      <td>business</td>\n",
              "    </tr>\n",
              "    <tr>\n",
              "      <th>403</th>\n",
              "      <td>403</td>\n",
              "      <td>27</td>\n",
              "      <td>male</td>\n",
              "      <td>1</td>\n",
              "      <td>own</td>\n",
              "      <td>little</td>\n",
              "      <td>NaN</td>\n",
              "      <td>802</td>\n",
              "      <td>14</td>\n",
              "      <td>car</td>\n",
              "    </tr>\n",
              "    <tr>\n",
              "      <th>407</th>\n",
              "      <td>407</td>\n",
              "      <td>27</td>\n",
              "      <td>male</td>\n",
              "      <td>2</td>\n",
              "      <td>own</td>\n",
              "      <td>little</td>\n",
              "      <td>little</td>\n",
              "      <td>1053</td>\n",
              "      <td>15</td>\n",
              "      <td>radio/TV</td>\n",
              "    </tr>\n",
              "    <tr>\n",
              "      <th>458</th>\n",
              "      <td>458</td>\n",
              "      <td>27</td>\n",
              "      <td>female</td>\n",
              "      <td>2</td>\n",
              "      <td>own</td>\n",
              "      <td>little</td>\n",
              "      <td>little</td>\n",
              "      <td>343</td>\n",
              "      <td>6</td>\n",
              "      <td>domestic appliances</td>\n",
              "    </tr>\n",
              "    <tr>\n",
              "      <th>492</th>\n",
              "      <td>492</td>\n",
              "      <td>27</td>\n",
              "      <td>female</td>\n",
              "      <td>2</td>\n",
              "      <td>own</td>\n",
              "      <td>moderate</td>\n",
              "      <td>NaN</td>\n",
              "      <td>1237</td>\n",
              "      <td>6</td>\n",
              "      <td>radio/TV</td>\n",
              "    </tr>\n",
              "    <tr>\n",
              "      <th>500</th>\n",
              "      <td>500</td>\n",
              "      <td>27</td>\n",
              "      <td>female</td>\n",
              "      <td>2</td>\n",
              "      <td>own</td>\n",
              "      <td>little</td>\n",
              "      <td>little</td>\n",
              "      <td>3123</td>\n",
              "      <td>24</td>\n",
              "      <td>car</td>\n",
              "    </tr>\n",
              "    <tr>\n",
              "      <th>505</th>\n",
              "      <td>505</td>\n",
              "      <td>27</td>\n",
              "      <td>male</td>\n",
              "      <td>1</td>\n",
              "      <td>own</td>\n",
              "      <td>NaN</td>\n",
              "      <td>NaN</td>\n",
              "      <td>1309</td>\n",
              "      <td>10</td>\n",
              "      <td>car</td>\n",
              "    </tr>\n",
              "    <tr>\n",
              "      <th>553</th>\n",
              "      <td>553</td>\n",
              "      <td>27</td>\n",
              "      <td>male</td>\n",
              "      <td>2</td>\n",
              "      <td>own</td>\n",
              "      <td>moderate</td>\n",
              "      <td>moderate</td>\n",
              "      <td>1995</td>\n",
              "      <td>12</td>\n",
              "      <td>car</td>\n",
              "    </tr>\n",
              "    <tr>\n",
              "      <th>558</th>\n",
              "      <td>558</td>\n",
              "      <td>27</td>\n",
              "      <td>male</td>\n",
              "      <td>2</td>\n",
              "      <td>own</td>\n",
              "      <td>little</td>\n",
              "      <td>little</td>\n",
              "      <td>3552</td>\n",
              "      <td>24</td>\n",
              "      <td>furniture/equipment</td>\n",
              "    </tr>\n",
              "    <tr>\n",
              "      <th>574</th>\n",
              "      <td>574</td>\n",
              "      <td>27</td>\n",
              "      <td>male</td>\n",
              "      <td>1</td>\n",
              "      <td>own</td>\n",
              "      <td>little</td>\n",
              "      <td>moderate</td>\n",
              "      <td>1082</td>\n",
              "      <td>9</td>\n",
              "      <td>radio/TV</td>\n",
              "    </tr>\n",
              "    <tr>\n",
              "      <th>576</th>\n",
              "      <td>576</td>\n",
              "      <td>27</td>\n",
              "      <td>female</td>\n",
              "      <td>2</td>\n",
              "      <td>own</td>\n",
              "      <td>little</td>\n",
              "      <td>moderate</td>\n",
              "      <td>2930</td>\n",
              "      <td>12</td>\n",
              "      <td>radio/TV</td>\n",
              "    </tr>\n",
              "    <tr>\n",
              "      <th>578</th>\n",
              "      <td>578</td>\n",
              "      <td>27</td>\n",
              "      <td>male</td>\n",
              "      <td>2</td>\n",
              "      <td>own</td>\n",
              "      <td>little</td>\n",
              "      <td>moderate</td>\n",
              "      <td>2820</td>\n",
              "      <td>36</td>\n",
              "      <td>car</td>\n",
              "    </tr>\n",
              "    <tr>\n",
              "      <th>579</th>\n",
              "      <td>579</td>\n",
              "      <td>27</td>\n",
              "      <td>male</td>\n",
              "      <td>1</td>\n",
              "      <td>own</td>\n",
              "      <td>little</td>\n",
              "      <td>NaN</td>\n",
              "      <td>937</td>\n",
              "      <td>24</td>\n",
              "      <td>education</td>\n",
              "    </tr>\n",
              "    <tr>\n",
              "      <th>616</th>\n",
              "      <td>616</td>\n",
              "      <td>27</td>\n",
              "      <td>male</td>\n",
              "      <td>3</td>\n",
              "      <td>free</td>\n",
              "      <td>NaN</td>\n",
              "      <td>moderate</td>\n",
              "      <td>9157</td>\n",
              "      <td>60</td>\n",
              "      <td>radio/TV</td>\n",
              "    </tr>\n",
              "    <tr>\n",
              "      <th>620</th>\n",
              "      <td>620</td>\n",
              "      <td>27</td>\n",
              "      <td>male</td>\n",
              "      <td>2</td>\n",
              "      <td>own</td>\n",
              "      <td>little</td>\n",
              "      <td>moderate</td>\n",
              "      <td>3652</td>\n",
              "      <td>21</td>\n",
              "      <td>business</td>\n",
              "    </tr>\n",
              "    <tr>\n",
              "      <th>640</th>\n",
              "      <td>640</td>\n",
              "      <td>27</td>\n",
              "      <td>female</td>\n",
              "      <td>0</td>\n",
              "      <td>own</td>\n",
              "      <td>little</td>\n",
              "      <td>little</td>\n",
              "      <td>750</td>\n",
              "      <td>18</td>\n",
              "      <td>education</td>\n",
              "    </tr>\n",
              "    <tr>\n",
              "      <th>645</th>\n",
              "      <td>645</td>\n",
              "      <td>27</td>\n",
              "      <td>male</td>\n",
              "      <td>2</td>\n",
              "      <td>rent</td>\n",
              "      <td>NaN</td>\n",
              "      <td>NaN</td>\n",
              "      <td>7980</td>\n",
              "      <td>36</td>\n",
              "      <td>business</td>\n",
              "    </tr>\n",
              "    <tr>\n",
              "      <th>665</th>\n",
              "      <td>665</td>\n",
              "      <td>27</td>\n",
              "      <td>male</td>\n",
              "      <td>3</td>\n",
              "      <td>own</td>\n",
              "      <td>little</td>\n",
              "      <td>NaN</td>\n",
              "      <td>6314</td>\n",
              "      <td>24</td>\n",
              "      <td>vacation/others</td>\n",
              "    </tr>\n",
              "    <tr>\n",
              "      <th>667</th>\n",
              "      <td>667</td>\n",
              "      <td>27</td>\n",
              "      <td>female</td>\n",
              "      <td>2</td>\n",
              "      <td>own</td>\n",
              "      <td>little</td>\n",
              "      <td>NaN</td>\n",
              "      <td>3609</td>\n",
              "      <td>48</td>\n",
              "      <td>business</td>\n",
              "    </tr>\n",
              "    <tr>\n",
              "      <th>670</th>\n",
              "      <td>670</td>\n",
              "      <td>27</td>\n",
              "      <td>male</td>\n",
              "      <td>1</td>\n",
              "      <td>own</td>\n",
              "      <td>moderate</td>\n",
              "      <td>NaN</td>\n",
              "      <td>4139</td>\n",
              "      <td>24</td>\n",
              "      <td>business</td>\n",
              "    </tr>\n",
              "    <tr>\n",
              "      <th>686</th>\n",
              "      <td>686</td>\n",
              "      <td>27</td>\n",
              "      <td>male</td>\n",
              "      <td>2</td>\n",
              "      <td>own</td>\n",
              "      <td>NaN</td>\n",
              "      <td>rich</td>\n",
              "      <td>1347</td>\n",
              "      <td>10</td>\n",
              "      <td>radio/TV</td>\n",
              "    </tr>\n",
              "    <tr>\n",
              "      <th>714</th>\n",
              "      <td>714</td>\n",
              "      <td>27</td>\n",
              "      <td>male</td>\n",
              "      <td>3</td>\n",
              "      <td>own</td>\n",
              "      <td>little</td>\n",
              "      <td>moderate</td>\n",
              "      <td>14027</td>\n",
              "      <td>60</td>\n",
              "      <td>car</td>\n",
              "    </tr>\n",
              "    <tr>\n",
              "      <th>764</th>\n",
              "      <td>764</td>\n",
              "      <td>27</td>\n",
              "      <td>male</td>\n",
              "      <td>2</td>\n",
              "      <td>own</td>\n",
              "      <td>moderate</td>\n",
              "      <td>NaN</td>\n",
              "      <td>2463</td>\n",
              "      <td>24</td>\n",
              "      <td>car</td>\n",
              "    </tr>\n",
              "    <tr>\n",
              "      <th>789</th>\n",
              "      <td>789</td>\n",
              "      <td>27</td>\n",
              "      <td>male</td>\n",
              "      <td>2</td>\n",
              "      <td>own</td>\n",
              "      <td>little</td>\n",
              "      <td>little</td>\n",
              "      <td>5998</td>\n",
              "      <td>40</td>\n",
              "      <td>education</td>\n",
              "    </tr>\n",
              "    <tr>\n",
              "      <th>792</th>\n",
              "      <td>792</td>\n",
              "      <td>27</td>\n",
              "      <td>male</td>\n",
              "      <td>2</td>\n",
              "      <td>own</td>\n",
              "      <td>NaN</td>\n",
              "      <td>NaN</td>\n",
              "      <td>1221</td>\n",
              "      <td>6</td>\n",
              "      <td>furniture/equipment</td>\n",
              "    </tr>\n",
              "    <tr>\n",
              "      <th>820</th>\n",
              "      <td>820</td>\n",
              "      <td>27</td>\n",
              "      <td>male</td>\n",
              "      <td>2</td>\n",
              "      <td>own</td>\n",
              "      <td>little</td>\n",
              "      <td>NaN</td>\n",
              "      <td>1101</td>\n",
              "      <td>12</td>\n",
              "      <td>car</td>\n",
              "    </tr>\n",
              "    <tr>\n",
              "      <th>860</th>\n",
              "      <td>860</td>\n",
              "      <td>27</td>\n",
              "      <td>male</td>\n",
              "      <td>2</td>\n",
              "      <td>own</td>\n",
              "      <td>rich</td>\n",
              "      <td>NaN</td>\n",
              "      <td>5804</td>\n",
              "      <td>24</td>\n",
              "      <td>car</td>\n",
              "    </tr>\n",
              "    <tr>\n",
              "      <th>866</th>\n",
              "      <td>866</td>\n",
              "      <td>27</td>\n",
              "      <td>female</td>\n",
              "      <td>2</td>\n",
              "      <td>own</td>\n",
              "      <td>little</td>\n",
              "      <td>little</td>\n",
              "      <td>2389</td>\n",
              "      <td>18</td>\n",
              "      <td>radio/TV</td>\n",
              "    </tr>\n",
              "    <tr>\n",
              "      <th>878</th>\n",
              "      <td>878</td>\n",
              "      <td>27</td>\n",
              "      <td>male</td>\n",
              "      <td>3</td>\n",
              "      <td>free</td>\n",
              "      <td>little</td>\n",
              "      <td>little</td>\n",
              "      <td>1422</td>\n",
              "      <td>9</td>\n",
              "      <td>car</td>\n",
              "    </tr>\n",
              "    <tr>\n",
              "      <th>907</th>\n",
              "      <td>907</td>\n",
              "      <td>27</td>\n",
              "      <td>male</td>\n",
              "      <td>2</td>\n",
              "      <td>own</td>\n",
              "      <td>NaN</td>\n",
              "      <td>moderate</td>\n",
              "      <td>3711</td>\n",
              "      <td>36</td>\n",
              "      <td>education</td>\n",
              "    </tr>\n",
              "    <tr>\n",
              "      <th>999</th>\n",
              "      <td>999</td>\n",
              "      <td>27</td>\n",
              "      <td>male</td>\n",
              "      <td>2</td>\n",
              "      <td>own</td>\n",
              "      <td>moderate</td>\n",
              "      <td>moderate</td>\n",
              "      <td>4576</td>\n",
              "      <td>45</td>\n",
              "      <td>car</td>\n",
              "    </tr>\n",
              "  </tbody>\n",
              "</table>\n",
              "</div>"
            ],
            "text/plain": [
              "     Unnamed: 0  Age     Sex  ...  Credit amount Duration              Purpose\n",
              "31           31   27    male  ...           4020       24  furniture/equipment\n",
              "60           60   27    male  ...           1391        9             business\n",
              "86           86   27  female  ...           1295       18  furniture/equipment\n",
              "117         117   27  female  ...           2132       10  furniture/equipment\n",
              "124         124   27  female  ...           1924       18  furniture/equipment\n",
              "132         132   27    male  ...           2708       15  furniture/equipment\n",
              "136         136   27    male  ...           8613       27                  car\n",
              "140         140   27    male  ...            709        6                  car\n",
              "142         142   27    male  ...           3416       27             radio/TV\n",
              "197         197   27  female  ...            951       12  furniture/equipment\n",
              "201         201   27    male  ...           1168       12                  car\n",
              "225         225   27    male  ...           2613       36              repairs\n",
              "226         226   27    male  ...          10961       48             radio/TV\n",
              "243         243   27  female  ...           1185       12             business\n",
              "255         255   27    male  ...           7418       60             radio/TV\n",
              "260         260   27    male  ...           1657       12  furniture/equipment\n",
              "319         319   27  female  ...           3643       15  furniture/equipment\n",
              "366         366   27    male  ...           3850       18                  car\n",
              "388         388   27    male  ...           2326       15             business\n",
              "389         389   27  female  ...           1449        9             business\n",
              "402         402   27    male  ...           8648       24             business\n",
              "403         403   27    male  ...            802       14                  car\n",
              "407         407   27    male  ...           1053       15             radio/TV\n",
              "458         458   27  female  ...            343        6  domestic appliances\n",
              "492         492   27  female  ...           1237        6             radio/TV\n",
              "500         500   27  female  ...           3123       24                  car\n",
              "505         505   27    male  ...           1309       10                  car\n",
              "553         553   27    male  ...           1995       12                  car\n",
              "558         558   27    male  ...           3552       24  furniture/equipment\n",
              "574         574   27    male  ...           1082        9             radio/TV\n",
              "576         576   27  female  ...           2930       12             radio/TV\n",
              "578         578   27    male  ...           2820       36                  car\n",
              "579         579   27    male  ...            937       24            education\n",
              "616         616   27    male  ...           9157       60             radio/TV\n",
              "620         620   27    male  ...           3652       21             business\n",
              "640         640   27  female  ...            750       18            education\n",
              "645         645   27    male  ...           7980       36             business\n",
              "665         665   27    male  ...           6314       24      vacation/others\n",
              "667         667   27  female  ...           3609       48             business\n",
              "670         670   27    male  ...           4139       24             business\n",
              "686         686   27    male  ...           1347       10             radio/TV\n",
              "714         714   27    male  ...          14027       60                  car\n",
              "764         764   27    male  ...           2463       24                  car\n",
              "789         789   27    male  ...           5998       40            education\n",
              "792         792   27    male  ...           1221        6  furniture/equipment\n",
              "820         820   27    male  ...           1101       12                  car\n",
              "860         860   27    male  ...           5804       24                  car\n",
              "866         866   27  female  ...           2389       18             radio/TV\n",
              "878         878   27    male  ...           1422        9                  car\n",
              "907         907   27    male  ...           3711       36            education\n",
              "999         999   27    male  ...           4576       45                  car\n",
              "\n",
              "[51 rows x 10 columns]"
            ]
          },
          "metadata": {
            "tags": []
          },
          "execution_count": 52
        }
      ]
    },
    {
      "cell_type": "markdown",
      "metadata": {
        "id": "APbIYT_oMdiv",
        "colab_type": "text"
      },
      "source": [
        "#### <font color=\"green\">Challenges</font>"
      ]
    },
    {
      "cell_type": "code",
      "metadata": {
        "id": "7O9aj2-nMQk_",
        "colab_type": "code",
        "colab": {}
      },
      "source": [
        "# Challenge 1\n",
        "# ---\n",
        "# Question: Calculate the mean of Credit Amount\n",
        "# ---\n",
        "# "
      ],
      "execution_count": 0,
      "outputs": []
    },
    {
      "cell_type": "code",
      "metadata": {
        "id": "EU4gPKwhMQb9",
        "colab_type": "code",
        "colab": {}
      },
      "source": [
        "# Challenge 2\n",
        "# ---\n",
        "# Question: Calculate the median of Credit Amount\n",
        "# ---\n",
        "#"
      ],
      "execution_count": 0,
      "outputs": []
    },
    {
      "cell_type": "code",
      "metadata": {
        "id": "QbX8UMY6MQSk",
        "colab_type": "code",
        "colab": {}
      },
      "source": [
        "# Challenge 3\n",
        "# ---\n",
        "# Question: Calculate the mode of Credit Amount\n",
        "# ---\n",
        "#"
      ],
      "execution_count": 0,
      "outputs": []
    },
    {
      "cell_type": "markdown",
      "metadata": {
        "colab_type": "text",
        "id": "r5DfKk2xpae_"
      },
      "source": [
        "### Measures of Dispersion"
      ]
    },
    {
      "cell_type": "markdown",
      "metadata": {
        "id": "nleF-8-MQ7fS",
        "colab_type": "text"
      },
      "source": [
        "#### Example"
      ]
    },
    {
      "cell_type": "code",
      "metadata": {
        "id": "axinAox-RKnF",
        "colab_type": "code",
        "outputId": "5604139c-820e-41a1-b9f8-27371a80bbf1",
        "colab": {
          "base_uri": "https://localhost:8080/",
          "height": 34
        }
      },
      "source": [
        "# Example 1: Variance\n",
        "# ---\n",
        "# Variance is a measurement of the spread between numbers in a data set. \n",
        "# It measures how far each number in the set is from the mean \n",
        "# and therefore from every other number in the set.\n",
        "# ---\n",
        "# Finding the variance of the Credit amount variable:\n",
        "#\n",
        "credit_df[\"Credit amount\"].var()"
      ],
      "execution_count": 0,
      "outputs": [
        {
          "output_type": "execute_result",
          "data": {
            "text/plain": [
              "7967843.470906904"
            ]
          },
          "metadata": {
            "tags": []
          },
          "execution_count": 59
        }
      ]
    },
    {
      "cell_type": "code",
      "metadata": {
        "id": "6p49OekTQ82M",
        "colab_type": "code",
        "outputId": "0f5fea42-8922-4dff-8558-6a2939127c7a",
        "colab": {
          "base_uri": "https://localhost:8080/",
          "height": 34
        }
      },
      "source": [
        "# Example 2: Standard Deviation  \n",
        "# ---\n",
        "# Standard deviation measures the dispersion of a dataset relative \n",
        "# to its mean and is calculated as the square root of the variance. \n",
        "# It is calculated as the square root of variance by determining \n",
        "# the variation between each data point relative to the mean. \n",
        "# If the data points are further from the mean, there is a \n",
        "# higher deviation within the data set; thus, the more spread \n",
        "# out the data, the higher the standard deviation.\n",
        "# ---\n",
        "# Finding the standard deviation for Credit Amount\n",
        "# ---\n",
        "# \n",
        "credit_df[\"Credit amount\"].std()"
      ],
      "execution_count": 0,
      "outputs": [
        {
          "output_type": "execute_result",
          "data": {
            "text/plain": [
              "2822.73687596044"
            ]
          },
          "metadata": {
            "tags": []
          },
          "execution_count": 58
        }
      ]
    },
    {
      "cell_type": "code",
      "metadata": {
        "id": "Hn8nRanNRKdD",
        "colab_type": "code",
        "outputId": "42c8dcc0-f299-4711-d584-5463baf1f5bb",
        "colab": {
          "base_uri": "https://localhost:8080/",
          "height": 34
        }
      },
      "source": [
        "# Examples 3: Range\n",
        "# ---\n",
        "# Range is the difference between the minimum and maximum values in a variable\n",
        "# ---\n",
        "# Let's find out the range for Credit Amount\n",
        "# ---\n",
        "# \n",
        "# Finding the min and max values of the herbicide average prices\n",
        "credit_df_max = credit_df[\"Credit amount\"].max()\n",
        "credit_df_min = credit_df[\"Credit amount\"].min()\n",
        "\n",
        "# Calculating the range\n",
        "credit_df_max - credit_df_min"
      ],
      "execution_count": 0,
      "outputs": [
        {
          "output_type": "execute_result",
          "data": {
            "text/plain": [
              "18174"
            ]
          },
          "metadata": {
            "tags": []
          },
          "execution_count": 63
        }
      ]
    },
    {
      "cell_type": "code",
      "metadata": {
        "id": "82I1lWSqRWaj",
        "colab_type": "code",
        "outputId": "d3a2d6f4-8f10-4caa-fd98-d6f495bca7fe",
        "colab": {
          "base_uri": "https://localhost:8080/",
          "height": 85
        }
      },
      "source": [
        "# Example 4: Quantiles \n",
        "# ---\n",
        "# Quartiles are used to calculate the interquartile range, \n",
        "# which is a measure of variability around the median.\n",
        "# The measure the spread of values above and below \n",
        "# the mean by dividing the distribution into four groups.\n",
        "# Quartiles are also used to calculate the interquartile range, \n",
        "# which is a measure of variability around the median.\n",
        "# ---\n",
        "# \n",
        "# Finding the quantiles of the Credit amount variable\n",
        "# \n",
        "credit_df[\"Credit amount\"].quantile([0.25, 0.5, 0.75])"
      ],
      "execution_count": 0,
      "outputs": [
        {
          "output_type": "execute_result",
          "data": {
            "text/plain": [
              "0.25    1365.50\n",
              "0.50    2319.50\n",
              "0.75    3972.25\n",
              "Name: Credit amount, dtype: float64"
            ]
          },
          "metadata": {
            "tags": []
          },
          "execution_count": 64
        }
      ]
    },
    {
      "cell_type": "code",
      "metadata": {
        "id": "KZS-nyCfRWEG",
        "colab_type": "code",
        "outputId": "ae01f5bd-bf29-44cf-a3c8-fe8fa2382a26",
        "colab": {
          "base_uri": "https://localhost:8080/",
          "height": 34
        }
      },
      "source": [
        "# Examples 5: Skewness\n",
        "# ---\n",
        "# Skewness is a measure of symmetry, or more precisely, \n",
        "# the lack of symmetry. A distribution, or data set, is symmetric \n",
        "# if it looks the same to the left and right of the center point.\n",
        "# A negatively skewed distribution has a negative value while \n",
        "# a positive value means the distribution is positively skewed.\n",
        "# ---\n",
        "# Determining the skewness of the credit amount variable.\n",
        "# \n",
        "credit_df[\"Credit amount\"].skew()"
      ],
      "execution_count": 0,
      "outputs": [
        {
          "output_type": "execute_result",
          "data": {
            "text/plain": [
              "1.9496276798326209"
            ]
          },
          "metadata": {
            "tags": []
          },
          "execution_count": 65
        }
      ]
    },
    {
      "cell_type": "code",
      "metadata": {
        "id": "rqZoaQgrRcCZ",
        "colab_type": "code",
        "outputId": "00ebfd48-3153-499f-e369-5ec7b2dd2fec",
        "colab": {
          "base_uri": "https://localhost:8080/",
          "height": 34
        }
      },
      "source": [
        "# Examples 6: Kurtosis\n",
        "# ---\n",
        "# Kurtosis is a statistical measure used to describe the degree \n",
        "# to which scores cluster in the tails or the peak of a frequency distribution. \n",
        "# The peak is the tallest part of the distribution, \n",
        "# and the tails are the ends of the distribution.\n",
        "# Positive values of kurtosis indicate that a distribution is peaked and possess thick tails; leptokurtic distribution.\n",
        "# Negative values of kurtosis indicate that a distribution is flat and has thin tails; platykurtic distribution.\n",
        "# If the kurtosis is close to 0, then a normal distribution is often assumed; mesokurtic distribution.\n",
        "# ---\n",
        "# Determining the skeweness of the credit amout variable\n",
        "# \n",
        "credit_df[\"Credit amount\"].kurt()"
      ],
      "execution_count": 0,
      "outputs": [
        {
          "output_type": "execute_result",
          "data": {
            "text/plain": [
              "4.29259030804851"
            ]
          },
          "metadata": {
            "tags": []
          },
          "execution_count": 67
        }
      ]
    },
    {
      "cell_type": "code",
      "metadata": {
        "id": "KoeroX3SRb5W",
        "colab_type": "code",
        "outputId": "f74668e2-db13-440e-a1a2-208bc5336f9f",
        "colab": {
          "base_uri": "https://localhost:8080/",
          "height": 170
        }
      },
      "source": [
        "# Example 7: Summary statistics\n",
        "# ---\n",
        "# We can display the summary statistics of a varible by:\n",
        "# ---\n",
        "# \n",
        "credit_df['Credit amount'].describe()"
      ],
      "execution_count": 0,
      "outputs": [
        {
          "output_type": "execute_result",
          "data": {
            "text/plain": [
              "count     1000.000000\n",
              "mean      3271.258000\n",
              "std       2822.736876\n",
              "min        250.000000\n",
              "25%       1365.500000\n",
              "50%       2319.500000\n",
              "75%       3972.250000\n",
              "max      18424.000000\n",
              "Name: Credit amount, dtype: float64"
            ]
          },
          "metadata": {
            "tags": []
          },
          "execution_count": 68
        }
      ]
    },
    {
      "cell_type": "markdown",
      "metadata": {
        "colab_type": "text",
        "id": "WqhMHO0MqwIu"
      },
      "source": [
        "#### <font color=\"green\">Challenge</font>"
      ]
    },
    {
      "cell_type": "code",
      "metadata": {
        "colab_type": "code",
        "id": "f1aCQDaJqwIv",
        "colab": {}
      },
      "source": [
        "# Challenge 1 \n",
        "# ---\n",
        "# Find the variance of the duration variable recording your observations.\n",
        "# ---\n",
        "# "
      ],
      "execution_count": 0,
      "outputs": []
    },
    {
      "cell_type": "code",
      "metadata": {
        "id": "c-JO7q30RpPB",
        "colab_type": "code",
        "colab": {}
      },
      "source": [
        "# Challenge 2\n",
        "# ---\n",
        "# Finding the standard deviation for duration variable recording your observations.\n",
        "# ---\n",
        "#"
      ],
      "execution_count": 0,
      "outputs": []
    },
    {
      "cell_type": "code",
      "metadata": {
        "id": "zY7evXzPRuzY",
        "colab_type": "code",
        "colab": {}
      },
      "source": [
        "# Challenge 3\n",
        "# ---\n",
        "# Calculate the range of the duration variable and record your observations.\n",
        "# ---\n",
        "#"
      ],
      "execution_count": 0,
      "outputs": []
    },
    {
      "cell_type": "code",
      "metadata": {
        "id": "qPUAH5syRpIH",
        "colab_type": "code",
        "colab": {}
      },
      "source": [
        "# Challenge 4\n",
        "# ---\n",
        "# Finding the quantiles of the duration variable and record your observations.\n",
        "# ---\n",
        "#"
      ],
      "execution_count": 0,
      "outputs": []
    },
    {
      "cell_type": "code",
      "metadata": {
        "id": "tVoYqrDeRpCq",
        "colab_type": "code",
        "colab": {}
      },
      "source": [
        "# Challenge 5\n",
        "# ---\n",
        "# Determine the skewness of the duration variable. \n",
        "# Record your observation.\n",
        "# ---\n",
        "# "
      ],
      "execution_count": 0,
      "outputs": []
    },
    {
      "cell_type": "code",
      "metadata": {
        "id": "dWlAV9adRo5m",
        "colab_type": "code",
        "colab": {}
      },
      "source": [
        "# Challenge 6\n",
        "# ---\n",
        "# Question: Determine the kurtosis of the duration variable.\n",
        "# Record your observation.\n",
        "# ---\n",
        "#"
      ],
      "execution_count": 0,
      "outputs": []
    },
    {
      "cell_type": "code",
      "metadata": {
        "id": "1Qqa860oRoyt",
        "colab_type": "code",
        "colab": {}
      },
      "source": [
        "# Challenge 7\n",
        "# ---\n",
        "# Display the summary statistics of the duration variable\n",
        "# and record your observation.\n",
        "# ---\n",
        "3"
      ],
      "execution_count": 0,
      "outputs": []
    },
    {
      "cell_type": "markdown",
      "metadata": {
        "id": "69WcT0zopguq",
        "colab_type": "text"
      },
      "source": [
        "## 2. Bivariate Analysis"
      ]
    },
    {
      "cell_type": "markdown",
      "metadata": {
        "id": "M9P3WQT8qGNf",
        "colab_type": "text"
      },
      "source": [
        "### Scatter Plots"
      ]
    },
    {
      "cell_type": "markdown",
      "metadata": {
        "id": "3EcfMKHiTANt",
        "colab_type": "text"
      },
      "source": [
        "#### Example"
      ]
    },
    {
      "cell_type": "code",
      "metadata": {
        "id": "5BvCmhDcTCDM",
        "colab_type": "code",
        "outputId": "66b8836e-8919-42d3-ff28-8b74db0ae496",
        "colab": {
          "base_uri": "https://localhost:8080/",
          "height": 204
        }
      },
      "source": [
        "# Scatter Plot\n",
        "# ---\n",
        "# A scatter plot reveals relationships or association between two variables.\n",
        "# If the markers are close to making a straight line in the scatter plot, \n",
        "# the two variables have a high correlation. \n",
        "# If the markers are equally distributed in the scatter plot, \n",
        "# the correlation is low, or zero. \n",
        "# However, even though a correlation may seem to be present, \n",
        "# this might not always be the case. We use a correlation matrix to help with this.\n",
        "# ---\n",
        "# This type of plot helps us answer the following questions:\n",
        "# - Are variables X and Y related?\n",
        "# - Are variables X and Y linearly related?\n",
        "# - Are variables X and Y non-linearly related?\n",
        "# - Does the variation in Y change depending on X?\n",
        "# - Are there outliers?\n",
        "# ---\n",
        "# Let's create scatter plot to determine the relationship between the age \n",
        "# and Duration variables:\n",
        "# ---\n",
        "# This time we will use following startup dataset to determine whether\n",
        "# there is any correlation between R&D spend and profit fro startups.\n",
        "# ---\n",
        "#\n",
        "startup_df = pd.read_csv('https://bit.ly/Startupsdataset')\n",
        "startup_df.head()"
      ],
      "execution_count": 0,
      "outputs": [
        {
          "output_type": "execute_result",
          "data": {
            "text/html": [
              "<div>\n",
              "<style scoped>\n",
              "    .dataframe tbody tr th:only-of-type {\n",
              "        vertical-align: middle;\n",
              "    }\n",
              "\n",
              "    .dataframe tbody tr th {\n",
              "        vertical-align: top;\n",
              "    }\n",
              "\n",
              "    .dataframe thead th {\n",
              "        text-align: right;\n",
              "    }\n",
              "</style>\n",
              "<table border=\"1\" class=\"dataframe\">\n",
              "  <thead>\n",
              "    <tr style=\"text-align: right;\">\n",
              "      <th></th>\n",
              "      <th>R&amp;D Spend</th>\n",
              "      <th>Administration</th>\n",
              "      <th>Marketing Spend</th>\n",
              "      <th>State</th>\n",
              "      <th>Profit</th>\n",
              "    </tr>\n",
              "  </thead>\n",
              "  <tbody>\n",
              "    <tr>\n",
              "      <th>0</th>\n",
              "      <td>165349.20</td>\n",
              "      <td>136897.80</td>\n",
              "      <td>471784.10</td>\n",
              "      <td>New York</td>\n",
              "      <td>192261.83</td>\n",
              "    </tr>\n",
              "    <tr>\n",
              "      <th>1</th>\n",
              "      <td>162597.70</td>\n",
              "      <td>151377.59</td>\n",
              "      <td>443898.53</td>\n",
              "      <td>California</td>\n",
              "      <td>191792.06</td>\n",
              "    </tr>\n",
              "    <tr>\n",
              "      <th>2</th>\n",
              "      <td>153441.51</td>\n",
              "      <td>101145.55</td>\n",
              "      <td>407934.54</td>\n",
              "      <td>Florida</td>\n",
              "      <td>191050.39</td>\n",
              "    </tr>\n",
              "    <tr>\n",
              "      <th>3</th>\n",
              "      <td>144372.41</td>\n",
              "      <td>118671.85</td>\n",
              "      <td>383199.62</td>\n",
              "      <td>New York</td>\n",
              "      <td>182901.99</td>\n",
              "    </tr>\n",
              "    <tr>\n",
              "      <th>4</th>\n",
              "      <td>142107.34</td>\n",
              "      <td>91391.77</td>\n",
              "      <td>366168.42</td>\n",
              "      <td>Florida</td>\n",
              "      <td>166187.94</td>\n",
              "    </tr>\n",
              "  </tbody>\n",
              "</table>\n",
              "</div>"
            ],
            "text/plain": [
              "   R&D Spend  Administration  Marketing Spend       State     Profit\n",
              "0  165349.20       136897.80        471784.10    New York  192261.83\n",
              "1  162597.70       151377.59        443898.53  California  191792.06\n",
              "2  153441.51       101145.55        407934.54     Florida  191050.39\n",
              "3  144372.41       118671.85        383199.62    New York  182901.99\n",
              "4  142107.34        91391.77        366168.42     Florida  166187.94"
            ]
          },
          "metadata": {
            "tags": []
          },
          "execution_count": 71
        }
      ]
    },
    {
      "cell_type": "code",
      "metadata": {
        "id": "WbUTFZOEdH9h",
        "colab_type": "code",
        "outputId": "b38fab1f-4d91-4223-f512-54c7871073bb",
        "colab": {
          "base_uri": "https://localhost:8080/",
          "height": 295
        }
      },
      "source": [
        "# Plotting our Scatterplot\n",
        "# ---\n",
        "# \n",
        "startup_df.plot.scatter(x='R&D Spend', y='Profit') \n",
        "plt.title('R&D Spend vs Profit') \n",
        "plt.show()"
      ],
      "execution_count": 0,
      "outputs": [
        {
          "output_type": "display_data",
          "data": {
            "image/png": "[encoded data removed]",
            "text/plain": [
              "<Figure size 432x288 with 1 Axes>"
            ]
          },
          "metadata": {
            "tags": [],
            "needs_background": "light"
          }
        }
      ]
    },
    {
      "cell_type": "markdown",
      "metadata": {
        "id": "R9Rw1FcYWkG_",
        "colab_type": "text"
      },
      "source": [
        "Key observations:\n",
        "1. As one R&D spend increases, Profit also increases. This means that the two variables have a positive correlation. \n",
        "\n",
        "NB: This correlation does not mean causation. One would need to investigate further whether that is valid."
      ]
    },
    {
      "cell_type": "markdown",
      "metadata": {
        "colab_type": "text",
        "id": "_u78z3bsqz1x"
      },
      "source": [
        "#### <font color=\"green\">Challenge</font>"
      ]
    },
    {
      "cell_type": "code",
      "metadata": {
        "colab_type": "code",
        "id": "fLKbLUHyqz1z",
        "colab": {}
      },
      "source": [
        "# Challenge 1\n",
        "# ---\n",
        "# Using the startup dataset, determine whether there is a correlation between \n",
        "# marketing spend and profit and record your observations. \n",
        "# ---\n",
        "# "
      ],
      "execution_count": 0,
      "outputs": []
    },
    {
      "cell_type": "code",
      "metadata": {
        "id": "vXu0qeWMfMOZ",
        "colab_type": "code",
        "colab": {}
      },
      "source": [
        "# Challenge 2\n",
        "# ---\n",
        "# Again using the startup dataset, determine whether there is a correlation between \n",
        "# R&D and Administration costs and record your observations. \n",
        "# ---\n",
        "# "
      ],
      "execution_count": 0,
      "outputs": []
    },
    {
      "cell_type": "markdown",
      "metadata": {
        "id": "3PW9ggeRqKmd",
        "colab_type": "text"
      },
      "source": [
        "### Pearson Correlation Coefficient"
      ]
    },
    {
      "cell_type": "markdown",
      "metadata": {
        "id": "NIXvLIo_gGdu",
        "colab_type": "text"
      },
      "source": [
        "#### Example\n"
      ]
    },
    {
      "cell_type": "code",
      "metadata": {
        "id": "NgpsBfzIgI9s",
        "colab_type": "code",
        "outputId": "c9d080f3-b4fe-424a-db0c-9a11e953f9f5",
        "colab": {
          "base_uri": "https://localhost:8080/",
          "height": 34
        }
      },
      "source": [
        "# Example 1\n",
        "# ---\n",
        "# We can get the pearson correlation coefficient for R&D Spend and marketing spend:\n",
        "# ---\n",
        "pearson_coeff = startup_df[\"R&D Spend\"].corr(startup_df[\"Marketing Spend\"], method=\"pearson\") \n",
        "pearson_coeff"
      ],
      "execution_count": 0,
      "outputs": [
        {
          "output_type": "execute_result",
          "data": {
            "text/plain": [
              "0.7242481330538794"
            ]
          },
          "metadata": {
            "tags": []
          },
          "execution_count": 75
        }
      ]
    },
    {
      "cell_type": "markdown",
      "metadata": {
        "id": "R0Tns4hTh9oE",
        "colab_type": "text"
      },
      "source": [
        "Key observations\n",
        "1. A correlation coefficient of 0.72 means that the two variables have a strong positive correlation.\n",
        "\n",
        "A few things to note while working with correlation coefficients:\n",
        "- A correlation coefficient > 0.5 means that the two variables have a strong positive correlation.\n",
        "- A correlation coefficient < 0.5 means that the two variables have a weak positive correlation.\n",
        "- A correlation coefficient of 0 means that the two variables are not correlated at all.\n",
        "- A correlation coefficient between -0.5 and 0 means that the two variables have weak negative correlation.\n",
        "- A correlation coefficient between -1 and -0.5 means that the two variables have strong negative correlation.\n"
      ]
    },
    {
      "cell_type": "code",
      "metadata": {
        "id": "LYUYWehFkZ5r",
        "colab_type": "code",
        "outputId": "1f893a3e-ca87-4451-e110-1e2adeb14a96",
        "colab": {
          "base_uri": "https://localhost:8080/",
          "height": 173
        }
      },
      "source": [
        "# Example 2\n",
        "# ---\n",
        "# We can also create a correlation matrix to get all the pearson correlation \n",
        "# coefficients for the variables in a dataframe as shown below.\n",
        "# ---\n",
        "# \n",
        "startup_df.corr()"
      ],
      "execution_count": 0,
      "outputs": [
        {
          "output_type": "execute_result",
          "data": {
            "text/html": [
              "<div>\n",
              "<style scoped>\n",
              "    .dataframe tbody tr th:only-of-type {\n",
              "        vertical-align: middle;\n",
              "    }\n",
              "\n",
              "    .dataframe tbody tr th {\n",
              "        vertical-align: top;\n",
              "    }\n",
              "\n",
              "    .dataframe thead th {\n",
              "        text-align: right;\n",
              "    }\n",
              "</style>\n",
              "<table border=\"1\" class=\"dataframe\">\n",
              "  <thead>\n",
              "    <tr style=\"text-align: right;\">\n",
              "      <th></th>\n",
              "      <th>R&amp;D Spend</th>\n",
              "      <th>Administration</th>\n",
              "      <th>Marketing Spend</th>\n",
              "      <th>Profit</th>\n",
              "    </tr>\n",
              "  </thead>\n",
              "  <tbody>\n",
              "    <tr>\n",
              "      <th>R&amp;D Spend</th>\n",
              "      <td>1.000000</td>\n",
              "      <td>0.241955</td>\n",
              "      <td>0.724248</td>\n",
              "      <td>0.972900</td>\n",
              "    </tr>\n",
              "    <tr>\n",
              "      <th>Administration</th>\n",
              "      <td>0.241955</td>\n",
              "      <td>1.000000</td>\n",
              "      <td>-0.032154</td>\n",
              "      <td>0.200717</td>\n",
              "    </tr>\n",
              "    <tr>\n",
              "      <th>Marketing Spend</th>\n",
              "      <td>0.724248</td>\n",
              "      <td>-0.032154</td>\n",
              "      <td>1.000000</td>\n",
              "      <td>0.747766</td>\n",
              "    </tr>\n",
              "    <tr>\n",
              "      <th>Profit</th>\n",
              "      <td>0.972900</td>\n",
              "      <td>0.200717</td>\n",
              "      <td>0.747766</td>\n",
              "      <td>1.000000</td>\n",
              "    </tr>\n",
              "  </tbody>\n",
              "</table>\n",
              "</div>"
            ],
            "text/plain": [
              "                 R&D Spend  Administration  Marketing Spend    Profit\n",
              "R&D Spend         1.000000        0.241955         0.724248  0.972900\n",
              "Administration    0.241955        1.000000        -0.032154  0.200717\n",
              "Marketing Spend   0.724248       -0.032154         1.000000  0.747766\n",
              "Profit            0.972900        0.200717         0.747766  1.000000"
            ]
          },
          "metadata": {
            "tags": []
          },
          "execution_count": 76
        }
      ]
    },
    {
      "cell_type": "code",
      "metadata": {
        "id": "SEj7bce-lXQ6",
        "colab_type": "code",
        "outputId": "24567d77-d5bf-4641-fc40-9864c3cfd247",
        "colab": {
          "base_uri": "https://localhost:8080/",
          "height": 344
        }
      },
      "source": [
        "# Example 3 \n",
        "# ---\n",
        "# To better visualise our correlation matrix we can use a heatmap as shown\n",
        "# ---\n",
        "# \n",
        "sns.heatmap(startup_df.corr(), annot=True, vmin=-1, vmax=1);"
      ],
      "execution_count": 0,
      "outputs": [
        {
          "output_type": "display_data",
          "data": {
            "image/png": "[encoded data removed]",
            "text/plain": [
              "<Figure size 432x288 with 2 Axes>"
            ]
          },
          "metadata": {
            "tags": [],
            "needs_background": "light"
          }
        }
      ]
    },
    {
      "cell_type": "markdown",
      "metadata": {
        "colab_type": "text",
        "id": "DOM_LPx2q1WS"
      },
      "source": [
        "#### <font color=\"green\">Challenge</font>"
      ]
    },
    {
      "cell_type": "code",
      "metadata": {
        "colab_type": "code",
        "id": "HnCy91WNq1WT",
        "colab": {}
      },
      "source": [
        "# Challenge \n",
        "# ---\n",
        "# Calculate the pearson correlation coefficient to determine \n",
        "# the relationship between R&D Spend and Administration costs\n",
        "# given the startup dataset.\n",
        "# ---\n",
        "# "
      ],
      "execution_count": 0,
      "outputs": []
    },
    {
      "cell_type": "code",
      "metadata": {
        "id": "03ArAhSZpEbd",
        "colab_type": "code",
        "colab": {}
      },
      "source": [
        "# Challenge\n",
        "# ---\n",
        "# You have been provided the following dataset that contains \n",
        "# 7 species of fish data for market sale. \n",
        "# Create correlation matrix and a heat map determining the variables \n",
        "# which have a strong positive correlation.\n",
        "# ---\n",
        "# Dataset url = https://bit.ly/Fishdataset\n",
        "# ---\n",
        "# "
      ],
      "execution_count": 0,
      "outputs": []
    },
    {
      "cell_type": "markdown",
      "metadata": {
        "id": "YpotX7V_qNE8",
        "colab_type": "text"
      },
      "source": [
        "### Line Charts"
      ]
    },
    {
      "cell_type": "code",
      "metadata": {
        "id": "0uuaGI3asv7Z",
        "colab_type": "code",
        "outputId": "db2605c1-96dd-4755-87eb-2e45b04d63ac",
        "colab": {
          "base_uri": "https://localhost:8080/",
          "height": 204
        }
      },
      "source": [
        "# We can also examine relationship between two variables throug the use \n",
        "# of line charts as shown in this example. \n",
        "# ---\n",
        "# We will two variables in the following example. \n",
        "# The given dataset  provides production of chocolate by month, \n",
        "# as a percent production from the year 2016 January.\n",
        "# ---\n",
        "# Dataset = https://bit.ly/CandyProductionDs\n",
        "# Dataset info = The industrial production (IP) index measures the real output \n",
        "# of all relevant establishments located in the United States, \n",
        "# regardless of their ownership, but not those located in U.S. territories. \n",
        "# This dataset tracks industrial production every month from January 1972 to August 2017.\n",
        "# ---\n",
        "# \n",
        "\n",
        "# Reading our dataset \n",
        "# ---\n",
        "# \n",
        "candy_df = pd.read_csv('https://bit.ly/CandyProductionDs')\n",
        "\n",
        "# Getting our years 2016 onwards\n",
        "# ---\n",
        "#\n",
        "candy2016_plus_df = candy_df[candy_df['observation_date'] > '2015-12-01']\n",
        "candy2016_plus_df.head()"
      ],
      "execution_count": 0,
      "outputs": [
        {
          "output_type": "execute_result",
          "data": {
            "text/html": [
              "<div>\n",
              "<style scoped>\n",
              "    .dataframe tbody tr th:only-of-type {\n",
              "        vertical-align: middle;\n",
              "    }\n",
              "\n",
              "    .dataframe tbody tr th {\n",
              "        vertical-align: top;\n",
              "    }\n",
              "\n",
              "    .dataframe thead th {\n",
              "        text-align: right;\n",
              "    }\n",
              "</style>\n",
              "<table border=\"1\" class=\"dataframe\">\n",
              "  <thead>\n",
              "    <tr style=\"text-align: right;\">\n",
              "      <th></th>\n",
              "      <th>observation_date</th>\n",
              "      <th>IPG3113N</th>\n",
              "    </tr>\n",
              "  </thead>\n",
              "  <tbody>\n",
              "    <tr>\n",
              "      <th>528</th>\n",
              "      <td>2016-01-01</td>\n",
              "      <td>108.5041</td>\n",
              "    </tr>\n",
              "    <tr>\n",
              "      <th>529</th>\n",
              "      <td>2016-02-01</td>\n",
              "      <td>108.1308</td>\n",
              "    </tr>\n",
              "    <tr>\n",
              "      <th>530</th>\n",
              "      <td>2016-03-01</td>\n",
              "      <td>107.9417</td>\n",
              "    </tr>\n",
              "    <tr>\n",
              "      <th>531</th>\n",
              "      <td>2016-04-01</td>\n",
              "      <td>103.6179</td>\n",
              "    </tr>\n",
              "    <tr>\n",
              "      <th>532</th>\n",
              "      <td>2016-05-01</td>\n",
              "      <td>102.0816</td>\n",
              "    </tr>\n",
              "  </tbody>\n",
              "</table>\n",
              "</div>"
            ],
            "text/plain": [
              "    observation_date  IPG3113N\n",
              "528       2016-01-01  108.5041\n",
              "529       2016-02-01  108.1308\n",
              "530       2016-03-01  107.9417\n",
              "531       2016-04-01  103.6179\n",
              "532       2016-05-01  102.0816"
            ]
          },
          "metadata": {
            "tags": []
          },
          "execution_count": 129
        }
      ]
    },
    {
      "cell_type": "code",
      "metadata": {
        "id": "niYS9_E1tcYL",
        "colab_type": "code",
        "outputId": "b98ef413-211a-415f-a36f-4f0ea088083a",
        "colab": {
          "base_uri": "https://localhost:8080/",
          "height": 280
        }
      },
      "source": [
        "# We then plot our line graph as shown \n",
        "# ---\n",
        "# We can also answer the followig question:\n",
        "# - Which months have the highest candy production?\n",
        "# ---\n",
        "#   \n",
        "candy2016_plus_df.plot.line(x='observation_date', y='IPG3113N', );"
      ],
      "execution_count": 0,
      "outputs": [
        {
          "output_type": "display_data",
          "data": {
            "image/png": "[encoded data removed]",
            "text/plain": [
              "<Figure size 432x288 with 1 Axes>"
            ]
          },
          "metadata": {
            "tags": [],
            "needs_background": "light"
          }
        }
      ]
    },
    {
      "cell_type": "markdown",
      "metadata": {
        "colab_type": "text",
        "id": "E13p0AjKq2kH"
      },
      "source": [
        "#### <font color=\"green\">Challenge</font>"
      ]
    },
    {
      "cell_type": "code",
      "metadata": {
        "colab_type": "code",
        "id": "Y2h6pBI3q2kJ",
        "colab": {}
      },
      "source": [
        "# Challenge \n",
        "# ---\n",
        "# Given the following dataset of temperature data recorded \n",
        "# in the city of Sao Paulo, Brazil, clean the dataset then\n",
        "# perform data exploration of the average temperature levels \n",
        "# for the past 20 years.\n",
        "# ---\n",
        "# Dataset url = https://bit.ly/SaoPauloTemp\n",
        "# "
      ],
      "execution_count": 0,
      "outputs": []
    }
  ]
}