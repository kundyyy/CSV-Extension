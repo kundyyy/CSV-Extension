{
  "nbformat": 4,
  "nbformat_minor": 0,
  "metadata": {
    "colab": {
      "name": "Solutions Notebook: Python for Data Science - Comments, Variables and Printing",
      "provenance": [],
      "collapsed_sections": [
        "6mfDGqy38176",
        "BDggmS7ur3Wg",
        "Am56-sCnr6vi",
        "5enr7YOCsGiO",
        "wp_BS7DmxDcu",
        "aFlF1bDQxHQO",
        "UvQV3gn0tFoB",
        "KoqcSYwQxtRK",
        "b93FPbs0xuLv",
        "oPUu3IMexvkM"
      ],
      "toc_visible": true,
      "include_colab_link": true
    },
    "kernelspec": {
      "name": "python3",
      "display_name": "Python 3"
    }
  },
  "cells": [
    {
      "cell_type": "markdown",
      "metadata": {
        "id": "view-in-github",
        "colab_type": "text"
      },
      "source": [
        "<a href=\"https://colab.research.google.com/github/kundyyy/CSV-Extension/blob/5.x/Solutions_Notebook_Python_for_Data_Science_Comments%2C_Variables_and_Printing.ipynb\" target=\"_parent\"><img src=\"https://colab.research.google.com/assets/colab-badge.svg\" alt=\"Open In Colab\"/></a>"
      ]
    },
    {
      "cell_type": "markdown",
      "metadata": {
        "id": "O1ZGC3xPs0Ta",
        "colab_type": "text"
      },
      "source": [
        "<font color=\"blue\">To use this notebook on Colaboratory, you will need to make a copy of it. Go to File > Save a Copy in Drive. You can then use the new copy that will appear in the new tab.</font>\n"
      ]
    },
    {
      "cell_type": "markdown",
      "metadata": {
        "id": "jD-9Sma-ruMm",
        "colab_type": "text"
      },
      "source": [
        "# Solutions Notebook: Python for Data Science - Comments, Variables and Printing"
      ]
    },
    {
      "cell_type": "markdown",
      "metadata": {
        "id": "1KGAN1h-rhUT",
        "colab_type": "text"
      },
      "source": [
        "## 1. Comments"
      ]
    },
    {
      "cell_type": "markdown",
      "metadata": {
        "id": "6mfDGqy38176",
        "colab_type": "text"
      },
      "source": [
        "#### <font color=\"blue\">Examples</font>"
      ]
    },
    {
      "cell_type": "markdown",
      "metadata": {
        "id": "BDggmS7ur3Wg",
        "colab_type": "text"
      },
      "source": [
        "##### <font color=\"blue\">Example 1:</font> Single Line Comments"
      ]
    },
    {
      "cell_type": "code",
      "metadata": {
        "id": "Chy3pmP9r9Ch",
        "colab_type": "code",
        "colab": {}
      },
      "source": [
        "# This is a single line comment. We use the hash character to indicate the following single line content are comments.\n",
        "\n",
        "score = 56"
      ],
      "execution_count": 0,
      "outputs": []
    },
    {
      "cell_type": "markdown",
      "metadata": {
        "id": "Am56-sCnr6vi",
        "colab_type": "text"
      },
      "source": [
        "##### <font color=\"blue\">Example 2:</font> Multiple Line Comments - Method 1"
      ]
    },
    {
      "cell_type": "code",
      "metadata": {
        "id": "i4mALMPGr2Ad",
        "colab_type": "code",
        "colab": {}
      },
      "source": [
        "'''\n",
        "This is a multiline comment. \n",
        "We use the delimiter characters to indicate that \n",
        "the following multi line content are comments.\n",
        "'''\n",
        "\n",
        "score = 53"
      ],
      "execution_count": 0,
      "outputs": []
    },
    {
      "cell_type": "markdown",
      "metadata": {
        "id": "5enr7YOCsGiO",
        "colab_type": "text"
      },
      "source": [
        "##### <font color=\"blue\">Example 3:</font> Multiple Line Comments - Method 2"
      ]
    },
    {
      "cell_type": "code",
      "metadata": {
        "id": "jLWLFxn5sVnD",
        "colab_type": "code",
        "colab": {}
      },
      "source": [
        "# ---\n",
        "# This is a multiline comment. \n",
        "# We can also use multiple hash characters to comment on \n",
        "# a block of content just as shown in this example.\n",
        "# We will be using this method of commenting to \n",
        "# provide more information about the exercises and challenges within this course.\n",
        "# ---\n",
        "\n",
        "score = 53"
      ],
      "execution_count": 0,
      "outputs": []
    },
    {
      "cell_type": "markdown",
      "metadata": {
        "id": "czwZIoMP8yq2",
        "colab_type": "text"
      },
      "source": [
        "#### <font color=\"green\">Challenges</font> "
      ]
    },
    {
      "cell_type": "markdown",
      "metadata": {
        "id": "UVhxQgFF8KI_",
        "colab_type": "text"
      },
      "source": [
        "##### <font color=\"green\">Challenge 1:</font> Explain the following code using a single line comment."
      ]
    },
    {
      "cell_type": "code",
      "metadata": {
        "id": "EXZ0jzkw8N3Z",
        "colab_type": "code",
        "colab": {}
      },
      "source": [
        "# The following line assigns the value five to the variable tree.\n",
        "tree = 5"
      ],
      "execution_count": 0,
      "outputs": []
    },
    {
      "cell_type": "markdown",
      "metadata": {
        "id": "vRf4lpd38TE8",
        "colab_type": "text"
      },
      "source": [
        "##### <font color=\"green\">Challenge 2:</font> Explain the following code using multiple line comments (using delimiters)"
      ]
    },
    {
      "cell_type": "code",
      "metadata": {
        "id": "C4eWE7xS8U9m",
        "colab_type": "code",
        "colab": {}
      },
      "source": [
        "# The following line assigns the sum of 5 and 4 to the variable tree\n",
        "tree = 5 + 4"
      ],
      "execution_count": 0,
      "outputs": []
    },
    {
      "cell_type": "markdown",
      "metadata": {
        "id": "dbS8kM4M8Vga",
        "colab_type": "text"
      },
      "source": [
        "##### <font color=\"green\">Challenge 3: </font> Explain the following code using multiple line comments (Using Single line comments)"
      ]
    },
    {
      "cell_type": "code",
      "metadata": {
        "id": "Zefh_ZEV8Wzk",
        "colab_type": "code",
        "colab": {}
      },
      "source": [
        "# The following line assigs the sum \n",
        "# of 5 and 5 to the variable tree\n",
        "tree = 5 + 5"
      ],
      "execution_count": 0,
      "outputs": []
    },
    {
      "cell_type": "markdown",
      "metadata": {
        "id": "DJeVFrBtw_kA",
        "colab_type": "text"
      },
      "source": [
        "## 2. Variables"
      ]
    },
    {
      "cell_type": "markdown",
      "metadata": {
        "id": "wp_BS7DmxDcu",
        "colab_type": "text"
      },
      "source": [
        "#### <font color=\"blue\">Examples</font>"
      ]
    },
    {
      "cell_type": "markdown",
      "metadata": {
        "id": "aFlF1bDQxHQO",
        "colab_type": "text"
      },
      "source": [
        "##### <font color=\"blue\">Example 1</font>"
      ]
    },
    {
      "cell_type": "code",
      "metadata": {
        "id": "XPERUCVo5aTx",
        "colab_type": "code",
        "colab": {}
      },
      "source": [
        "# Example 1\n",
        "# ---\n",
        "# Question: Assign the value 10 to the variable a.\n",
        "# ---\n",
        "# OUR CODE GOES BELOW\n",
        "#\n",
        "\n",
        "a = 10"
      ],
      "execution_count": 0,
      "outputs": []
    },
    {
      "cell_type": "markdown",
      "metadata": {
        "id": "_Czt2xj3xKtQ",
        "colab_type": "text"
      },
      "source": [
        "##### <font color=\"blue\">Example 2</font> "
      ]
    },
    {
      "cell_type": "code",
      "metadata": {
        "id": "u6IDQwRc5bWn",
        "colab_type": "code",
        "colab": {}
      },
      "source": [
        "# Example 2\n",
        "# ---\n",
        "# Question: Assign the name Susan to the variable name.\n",
        "# ---\n",
        "# OUR CODE GOES BELOW\n",
        "#\n",
        "\n",
        "sister, brother = \"Susan\", \"Paul\""
      ],
      "execution_count": 0,
      "outputs": []
    },
    {
      "cell_type": "markdown",
      "metadata": {
        "id": "apQZLg4WxQaT",
        "colab_type": "text"
      },
      "source": [
        "##### <font color=\"blue\">Example 3</font> "
      ]
    },
    {
      "cell_type": "code",
      "metadata": {
        "id": "pO96_Ivb5cHT",
        "colab_type": "code",
        "colab": {}
      },
      "source": [
        "# Example 3\n",
        "# ---\n",
        "# Question: Assign the value [\"one\", 2, [\"three\"]] to the variable numbers\n",
        "# ---\n",
        "# OUR CODE GOES BELOW\n",
        "#\n",
        "\n",
        "numbers = [\"one\", 2, [\"three\"]] "
      ],
      "execution_count": 0,
      "outputs": []
    },
    {
      "cell_type": "markdown",
      "metadata": {
        "id": "5Kk6d63OxVQo",
        "colab_type": "text"
      },
      "source": [
        "#### <font color=\"green\">Challenges</font> "
      ]
    },
    {
      "cell_type": "markdown",
      "metadata": {
        "id": "figZW-P0xWHu",
        "colab_type": "text"
      },
      "source": [
        "##### <font color=\"green\">Challenge 1</font>"
      ]
    },
    {
      "cell_type": "code",
      "metadata": {
        "id": "9mCpedG0xcfs",
        "colab_type": "code",
        "colab": {}
      },
      "source": [
        "# Challenge 1\n",
        "# ---\n",
        "# Question: Assign the your last name to the variable last_name.\n",
        "# ---\n",
        "# YOUR CODE GOES BELOW\n",
        "#\n",
        "\n",
        "last_name = \"Mwangi\"\n",
        "\n",
        "# or \n",
        "\n",
        "last_name = 'Mwangi'"
      ],
      "execution_count": 0,
      "outputs": []
    },
    {
      "cell_type": "markdown",
      "metadata": {
        "id": "QhEXtwvIxZhP",
        "colab_type": "text"
      },
      "source": [
        "##### <font color=\"green\">Challenge 2</font>"
      ]
    },
    {
      "cell_type": "code",
      "metadata": {
        "id": "SRG0iMPQxdHT",
        "colab_type": "code",
        "colab": {}
      },
      "source": [
        "# Challenge 2\n",
        "# ---\n",
        "# Question: Assign your final highschool grade to the variable highschool_grade.\n",
        "# ---\n",
        "# YOUR CODE GOES BELOW\n",
        "#\n",
        "\n",
        "highschool_grade = \"A\"\n",
        "\n",
        "# or \n",
        "\n",
        "highschool_grade = 'A'"
      ],
      "execution_count": 0,
      "outputs": []
    },
    {
      "cell_type": "markdown",
      "metadata": {
        "id": "prYpRrXsxbRX",
        "colab_type": "text"
      },
      "source": [
        "##### <font color=\"green\">Challenge 3</font>"
      ]
    },
    {
      "cell_type": "code",
      "metadata": {
        "id": "PZVa_y3axdzn",
        "colab_type": "code",
        "colab": {}
      },
      "source": [
        "# Challenge 3\n",
        "# ---\n",
        "# Question: Assign the dictionary { \"brand\": \"Toyota\", \"model\": \"Wish\", \"year\": 2005 } \n",
        "# to the variable cars.\n",
        "# ---\n",
        "# YOUR CODE GOES BELOW\n",
        "#\n",
        "\n",
        "cars = { \"brand\": \"Toyota\", \"model\": \"Wish\", \"year\": 2005 }"
      ],
      "execution_count": 0,
      "outputs": []
    },
    {
      "cell_type": "markdown",
      "metadata": {
        "id": "AZaNOe10xhBd",
        "colab_type": "text"
      },
      "source": [
        "## 3. Printing"
      ]
    },
    {
      "cell_type": "markdown",
      "metadata": {
        "id": "UvQV3gn0tFoB",
        "colab_type": "text"
      },
      "source": [
        "#### <font color=\"blue\">Examples</font>"
      ]
    },
    {
      "cell_type": "markdown",
      "metadata": {
        "id": "KoqcSYwQxtRK",
        "colab_type": "text"
      },
      "source": [
        "##### <font color=\"blue\">Example 1</font> "
      ]
    },
    {
      "cell_type": "code",
      "metadata": {
        "id": "ai3ZxHpcxw-J",
        "colab_type": "code",
        "colab": {}
      },
      "source": [
        "# Example 1\n",
        "# ---\n",
        "# Question: Printing the text hello in our output console\n",
        "# ---\n",
        "# OUR CODE GOES BELOW\n",
        "#\n",
        "\n",
        "print(\"Hello!\")"
      ],
      "execution_count": 0,
      "outputs": []
    },
    {
      "cell_type": "markdown",
      "metadata": {
        "id": "b93FPbs0xuLv",
        "colab_type": "text"
      },
      "source": [
        "##### <font color=\"blue\">Example 2</font> "
      ]
    },
    {
      "cell_type": "code",
      "metadata": {
        "id": "HM9ouOKxxxh1",
        "colab_type": "code",
        "colab": {}
      },
      "source": [
        "# Example 2\n",
        "# ---\n",
        "# Question: Printing the text Hello Valentine and putting a seperator.\n",
        "# ---\n",
        "# OUR CODE GOES BELOW\n",
        "#\n",
        "\n",
        "print(\"Hello\", \"Valentine!\", sep=\" \")"
      ],
      "execution_count": 0,
      "outputs": []
    },
    {
      "cell_type": "markdown",
      "metadata": {
        "id": "oPUu3IMexvkM",
        "colab_type": "text"
      },
      "source": [
        "##### <font color=\"blue\">Example 3</font> "
      ]
    },
    {
      "cell_type": "code",
      "metadata": {
        "id": "4f4aOFsExyJa",
        "colab_type": "code",
        "colab": {}
      },
      "source": [
        "# Example 3 \n",
        "# ---\n",
        "# Question: Printing the following dictionary colors = {'red', 'green', 'blue'}\n",
        "# ---\n",
        "# OUR CODE GOES BELOW\n",
        "# \n",
        "\n",
        "colors = {'red', 'green', 'blue'}\n",
        "colors"
      ],
      "execution_count": 0,
      "outputs": []
    },
    {
      "cell_type": "markdown",
      "metadata": {
        "id": "TsVuSiuK9vLo",
        "colab_type": "text"
      },
      "source": [
        "#### <font color=\"green\">Challenges</font> "
      ]
    },
    {
      "cell_type": "markdown",
      "metadata": {
        "id": "AX1eFoHBxioZ",
        "colab_type": "text"
      },
      "source": [
        "##### <font color=\"green\">Challenge 1</font>"
      ]
    },
    {
      "cell_type": "code",
      "metadata": {
        "id": "h5d4FLXDxmd4",
        "colab_type": "code",
        "colab": {}
      },
      "source": [
        "# Challenge 1\n",
        "# ---\n",
        "# Question: Using the print function print out your last name\n",
        "# ---\n",
        "# YOUR CODE GOES BELOW\n",
        "# \n",
        "\n",
        "last_name = \"Mwangi\"\n",
        "print(last_name) \n",
        "\n",
        "# or \n",
        "\n",
        "print(\"Mwangi\")"
      ],
      "execution_count": 0,
      "outputs": []
    },
    {
      "cell_type": "markdown",
      "metadata": {
        "id": "xN0KYDlrxjzF",
        "colab_type": "text"
      },
      "source": [
        "##### <font color=\"green\">Challenge 2</font>"
      ]
    },
    {
      "cell_type": "code",
      "metadata": {
        "id": "j3A29Of8xnEG",
        "colab_type": "code",
        "colab": {}
      },
      "source": [
        "# Challenge 2\n",
        "# ---\n",
        "# Question: Print out the your full names below seperated by spaces\n",
        "# ---\n",
        "# YOUR CODE GOES BELOW\n",
        "# \n",
        "\n",
        "print(\"Valentine\", \"Mwangi\", sep=\" \")\n",
        "\n",
        "# or \n",
        "\n",
        "print(\"Valentine\" + \" Mwangi\")"
      ],
      "execution_count": 0,
      "outputs": []
    },
    {
      "cell_type": "markdown",
      "metadata": {
        "id": "LWRbnoj5xlT9",
        "colab_type": "text"
      },
      "source": [
        "##### <font color=\"green\">Challenge 3</font>"
      ]
    },
    {
      "cell_type": "code",
      "metadata": {
        "id": "6V99ewapxnjz",
        "colab_type": "code",
        "colab": {}
      },
      "source": [
        "# Challenge 3\n",
        "# ---\n",
        "# Question: Store the values 400 and \"Employees\" in the variables x and y \n",
        "# then print out these two variables.\n",
        "# ---\n",
        "# YOUR CODE GOES BELOW\n",
        "# \n",
        "\n",
        "x, y = 400, \"Employees\"\n",
        "\n",
        "print(x)\n",
        "print(y)"
      ],
      "execution_count": 0,
      "outputs": []
    }
  ]
}