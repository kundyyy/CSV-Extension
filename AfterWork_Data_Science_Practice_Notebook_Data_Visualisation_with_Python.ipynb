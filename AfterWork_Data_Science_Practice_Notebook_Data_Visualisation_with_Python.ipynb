{
  "nbformat": 4,
  "nbformat_minor": 0,
  "metadata": {
    "colab": {
      "name": "AfterWork Data Science Practice Notebook: Data Visualisation with Python",
      "provenance": [],
      "collapsed_sections": [
        "gcfPZHcHrbff",
        "vdagRztSiYqj",
        "TUqxFso-muxF",
        "H5VxrldhrQbu",
        "wgDarfsQiiDY",
        "1WwBw978m0UQ",
        "K-lKtB-PrTwe",
        "gvEzuuWwikYM",
        "A_uo6vT2m1YO",
        "rP9VGEsFrUdp",
        "VjE2aB8imh51",
        "OnyYj9DNm2Wb",
        "1cQqJ1XfrVX7",
        "pA1T-xjgmXI_",
        "pUk1IjWarMoF",
        "B97yD-23rV9i",
        "-8QI23cGmp1c",
        "rLLyouAjrNqm",
        "KIW-2ZpcrWmJ",
        "SoDgeeHfvDS_",
        "vR64YCKrvMcY",
        "xH2tJyLYvQ9j"
      ],
      "toc_visible": true,
      "include_colab_link": true
    },
    "kernelspec": {
      "name": "python3",
      "display_name": "Python 3"
    }
  },
  "cells": [
    {
      "cell_type": "markdown",
      "metadata": {
        "id": "view-in-github",
        "colab_type": "text"
      },
      "source": [
        "<a href=\"https://colab.research.google.com/github/kundyyy/CSV-Extension/blob/5.x/AfterWork_Data_Science_Practice_Notebook_Data_Visualisation_with_Python.ipynb\" target=\"_parent\"><img src=\"https://colab.research.google.com/assets/colab-badge.svg\" alt=\"Open In Colab\"/></a>"
      ]
    },
    {
      "cell_type": "markdown",
      "metadata": {
        "id": "iDcC0c9NiOHW",
        "colab_type": "text"
      },
      "source": [
        "<font color=\"blue\">To use this notebook on Colaboratory, you will need to make a copy of it. Go to File > Save a Copy in Drive. You can then use the new copy that will appear in the new tab.</font>\n"
      ]
    },
    {
      "cell_type": "markdown",
      "metadata": {
        "id": "wfzPGOPuiQgb",
        "colab_type": "text"
      },
      "source": [
        "# AfterWork Practice Notebook: Data Visualisation with Python"
      ]
    },
    {
      "cell_type": "markdown",
      "metadata": {
        "id": "gcfPZHcHrbff",
        "colab_type": "text"
      },
      "source": [
        "## Pre-requisites"
      ]
    },
    {
      "cell_type": "code",
      "metadata": {
        "id": "ssAFDolgrnaq",
        "colab_type": "code",
        "colab": {}
      },
      "source": [
        "# We will first import the required libraries\n",
        "# --- \n",
        "\n",
        "# Importing pandas for data manipulation \n",
        "import pandas as pd\n",
        "\n",
        "# Importing numpy for scientific computations\n",
        "import numpy as np\n",
        "\n",
        "# Importing matplotlib and seaborn for visualisation \n",
        "import matplotlib.pyplot as plt\n",
        "import seaborn as sns\n",
        "% matplotlib inline"
      ],
      "execution_count": 0,
      "outputs": []
    },
    {
      "cell_type": "markdown",
      "metadata": {
        "id": "vdagRztSiYqj",
        "colab_type": "text"
      },
      "source": [
        "## 1. Basic Visualisation Tools"
      ]
    },
    {
      "cell_type": "markdown",
      "metadata": {
        "id": "TUqxFso-muxF",
        "colab_type": "text"
      },
      "source": [
        "### <font color=\"blue\">Examples</font>"
      ]
    },
    {
      "cell_type": "code",
      "metadata": {
        "id": "zZ20knddh7R-",
        "colab_type": "code",
        "colab": {}
      },
      "source": [
        "# 1. Tables \n",
        "# ---\n",
        "# A table is an arrangement of data in rows and columns.\n",
        "# As we have done before, we can use pandas to create tables.\n",
        "# In this example, we will demonstrate how we can create tables.\n",
        "# ---\n",
        "# \n",
        "\n",
        "# Let's read the dataset we will use\n",
        "# ---\n",
        "#\n",
        "df = pd.read_csv(\"http://bit.ly/IrisDataset\") \n",
        "\n",
        "# We then select the records that we would like to use i.e. \n",
        "# in this case, the first five records with petal width \n",
        "# greater than 1.9 sorted in ascending order.\n",
        "# ---\n",
        "df = df[(df['petal_width'] > 1.9)].sort_values(by='sepal_length', ascending=1)\n",
        "df.head()"
      ],
      "execution_count": 0,
      "outputs": []
    },
    {
      "cell_type": "code",
      "metadata": {
        "id": "61Rp4W26O0FD",
        "colab_type": "code",
        "colab": {}
      },
      "source": [
        "# We can also highlight our records as shown below.\n",
        "# ---\n",
        "# We highlight the maximum and minimun values in our records.\n",
        "# We have an option of using colors by names or to be more \n",
        "# specific with the color we want, we can use hexcodes(https://htmlcolorcodes.com/) \n",
        "# \n",
        "df.style.highlight_max(color='lightgreen').highlight_min(color='#cd4f39')"
      ],
      "execution_count": 0,
      "outputs": []
    },
    {
      "cell_type": "code",
      "metadata": {
        "id": "KJJoOKoYPqfl",
        "colab_type": "code",
        "colab": {}
      },
      "source": [
        "# We can also perform more styling such as applying background gradient,\n",
        "# hiding the index column as shown etc.\n",
        "# ---\n",
        "# \n",
        "df.style.highlight_max(color='lightgreen').highlight_min(color='#cd4f39').background_gradient(cmap='Blues').hide_index()\n",
        " \n",
        "# We can use the Pandas API Documentation for referencing when \n",
        "# we to style our pandas table in whatever way we would like. \n",
        "# Pandas API: https://pandas.pydata.org/pandas-docs/stable/user_guide/style.html "
      ],
      "execution_count": 0,
      "outputs": []
    },
    {
      "cell_type": "code",
      "metadata": {
        "id": "kMnHMgg8rtkT",
        "colab_type": "code",
        "colab": {}
      },
      "source": [
        "# 2. Profiling\n",
        "# ---\n",
        "# Pandas profiling provides analysis like type, unique values, missing values, \n",
        "# quantile statistics, mean, mode, median, standard deviation, sum, skewness, \n",
        "# frequent values, histograms, correlation between variables, count, heatmap visualization, etc.\n",
        "# ---\n",
        "# This is usually the quickest way to perfoming exploratory data analysis.\n",
        "# ---\n",
        "# \n",
        "\n",
        "# For comparison purposes, we will first get the summary of our dataset \n",
        "# by running the describe() method which is also another commonly used \n",
        "# method for displaying the statistical summary of our dataset.\n",
        "# ---\n",
        "# \n",
        "df.describe()"
      ],
      "execution_count": 0,
      "outputs": []
    },
    {
      "cell_type": "code",
      "metadata": {
        "id": "jOjOW-fNS7Bx",
        "colab_type": "code",
        "colab": {}
      },
      "source": [
        "# Then later run pandas profiling on our dataframe, which \n",
        "# as compared to the describe method will give us more \n",
        "# details about our dataset.\n",
        "# ---\n",
        "# But before we do that, we need to import our profiling package as shown.\n",
        "# This package requires pandas version 1.25. \n",
        "# So we will first install that pandas version first and then import it.\n",
        "# ---\n",
        "# Note that once we make our installation, we will need to restart \n",
        "# our runtime in our environment by Selecting Runtime > restart runtime... \n",
        "# on our Notebook menu above. \n",
        "\n",
        "# Let's now installing the both pandas 1.25 and the pandas-profiling library.\n",
        "# Don't worry about the output messages.\n",
        "# ---\n",
        "# \n",
        "!pip install pandas==0.25 \n",
        "!pip install pandas-profiling"
      ],
      "execution_count": 0,
      "outputs": []
    },
    {
      "cell_type": "code",
      "metadata": {
        "id": "ofwjViRSTfNi",
        "colab_type": "code",
        "colab": {}
      },
      "source": [
        "# Once our installation is done, we can now import the ProfileReport \n",
        "# and run the following code, which returns a profiling report. \n",
        "# ---\n",
        "# As we will get to see, the pandas profiling report will provide us with exploratory analysis \n",
        "# details that we will need to have before performing any further analysis.  \n",
        "# ---\n",
        "# 1. Essentials: type, unique values, missing values\n",
        "# 2. Quantile statistics like minimum value, Q1, median, Q3, maximum, range, interquartile range\n",
        "# 3. Descriptive statistics like mean, mode, standard deviation, sum, median absolute deviation, \n",
        "#    coefficient of variation, kurtosis, skewness\n",
        "# 4. Most frequent values\n",
        "# 5. Histogram\n",
        "# 6. Correlations highlighting of highly correlated variables, Spearman and Pearson matrixes\n",
        "# ---\n",
        "# \n",
        "\n",
        "# Something to note is that, because we restarted our runtime, we will need to\n",
        "# import our required libraries once again. \n",
        "#\n",
        "import pandas as pd \n",
        "import numpy as np \n",
        "import matplotlib.pyplot as plt\n",
        "import seaborn as sns\n",
        "% matplotlib inline\n",
        "\n",
        "# Again, let's read the dataset that we use in our profiling report\n",
        "# --- \n",
        "df = pd.read_csv(\"http://bit.ly/IrisDataset\") \n",
        "\n",
        "# Then import the ProfileReport method from from the pandas profiling library.\n",
        "# --- \n",
        "from pandas_profiling import ProfileReport\n",
        "\n",
        "profile_report = ProfileReport(df) \n",
        "profile_report"
      ],
      "execution_count": 0,
      "outputs": []
    },
    {
      "cell_type": "markdown",
      "metadata": {
        "colab_type": "text",
        "id": "H5VxrldhrQbu"
      },
      "source": [
        "### <font color=\"green\">Challenges</font>"
      ]
    },
    {
      "cell_type": "code",
      "metadata": {
        "colab_type": "code",
        "id": "NN8bmEhlrQbw",
        "colab": {}
      },
      "source": [
        "# Challenge 1\n",
        "# --- \n",
        "# As a Senior Data Analyst for a chain of fashion stores in the Netherlands,\n",
        "# you have been tasked help the store how to understand better its sales strategy\n",
        "# during this time of the Coronavirus epidemic. Create a table highlighting \n",
        "# the top 10 stores with the highest no. of sales sorting the stores \n",
        "# by the number of temporary workers timers.\n",
        "# Below is a glossary of the dataset:\n",
        "# tsales: annual sales in Dutch guilders\n",
        "# sales: sales per square meter\n",
        "# margin: gross-profit-margin\n",
        "# nown: number of owners (managers)\n",
        "# nfull: number of full-timers\n",
        "# npart: number of part-timers\n",
        "# naux :number of helpers (temporary workers)\n",
        "# hoursw: total number of hours worked\n",
        "# -hourspw: number of hours worked per worker\n",
        "# inv1: investment in shop-premises\n",
        "# inv2: investment in automation\n",
        "# -ssize: sales floorspace of the store (in m$^2$)\n",
        "# start: year start of business\n",
        "# ---\n",
        "# Dataset url = https://bit.ly/2At3KGf\n",
        "# ---\n",
        "# OUR CODE GOES BELOW\n",
        "#"
      ],
      "execution_count": 0,
      "outputs": []
    },
    {
      "cell_type": "code",
      "metadata": {
        "id": "gnbtQShTlvm1",
        "colab_type": "code",
        "colab": {}
      },
      "source": [
        "# Challenge 2\n",
        "# ---\n",
        "# Still working for the chain of fashion stores, \n",
        "# display a basic statisical summary using the describe() method. \n",
        "# Later onwards create a profile report of the dataset. \n",
        "# Hint: You don't need to import your profile report libraries again.\n",
        "# ---\n",
        "# OUR CODE GOES BELOW\n",
        "#\n"
      ],
      "execution_count": 0,
      "outputs": []
    },
    {
      "cell_type": "markdown",
      "metadata": {
        "id": "wgDarfsQiiDY",
        "colab_type": "text"
      },
      "source": [
        "## 2. Basic Visualisation Tools II"
      ]
    },
    {
      "cell_type": "markdown",
      "metadata": {
        "id": "1WwBw978m0UQ",
        "colab_type": "text"
      },
      "source": [
        "### <font color=\"blue\">Examples</font>"
      ]
    },
    {
      "cell_type": "code",
      "metadata": {
        "id": "CLwKd2bXikqo",
        "colab_type": "code",
        "colab": {}
      },
      "source": [
        "# Example 1: Bar Chart\n",
        "# ---\n",
        "# A bar chart is a chart or graph that presents categorical data with rectangular bars \n",
        "# with heights or lengths proportional to the values that they represent.\n",
        "# Lets now see how we can create bar charts using matplotlib.\n",
        "# ---\n",
        "# Dataset url = https://bit.ly/TipsDataset\n",
        "# ---\n",
        "# \n",
        "\n",
        "# We first preview our dataset\n",
        "# ---\n",
        "# \n",
        "df = pd.read_csv('https://bit.ly/TipsDataset')\n",
        "df.head()"
      ],
      "execution_count": 0,
      "outputs": []
    },
    {
      "cell_type": "code",
      "metadata": {
        "id": "8BJJy3Wq212h",
        "colab_type": "code",
        "colab": {}
      },
      "source": [
        "# As seen, our dataset contains categorical variables; sex, day, time and size\n",
        "# ---\n",
        "# We can examine the smoker categorical variable by \n",
        "# ---\n",
        "# \n",
        "df['smoker'].value_counts()"
      ],
      "execution_count": 0,
      "outputs": []
    },
    {
      "cell_type": "code",
      "metadata": {
        "id": "eU72uc6B3r8N",
        "colab_type": "code",
        "colab": {}
      },
      "source": [
        "# We then plot our bar plot and display it\n",
        "# ---\n",
        "# Note the semi-colon at the end of our code.\n",
        "# We add it to suppress matplotlib output which is shown if the semicolon is not present.\n",
        "# Alternatively, we can just another line of code; plt.show()\n",
        "# ---\n",
        "#\n",
        "df['smoker'].value_counts().plot(kind='bar');\n",
        "\n",
        "# We get to see that we have records with less smokers\n",
        "# Don't worry about the size of our graph, \n",
        "# we will get to see how to resize it later on."
      ],
      "execution_count": 0,
      "outputs": []
    },
    {
      "cell_type": "code",
      "metadata": {
        "id": "R9Vg9FXO6T_5",
        "colab_type": "code",
        "colab": {}
      },
      "source": [
        "# We can go further to apply several styles to our plot as shown\n",
        "# ---\n",
        "# \n",
        " \n",
        "# Setting the font size of the text in our visualistion\n",
        "# ---\n",
        "#\n",
        "sns.set(font_scale=0.8)\n",
        "\n",
        "# We now plot our visualisation.\n",
        "# In this example we also include our filtering in our code while\n",
        "# using the plot() method as shown below.\n",
        "# We will come to see how we plot with seaborn below.\n",
        "# ---\n",
        "#\n",
        "df['smoker'].value_counts().plot(kind='bar', figsize=(3, 3), rot=0)\n",
        "\n",
        "\n",
        "# We then set the x axis label and also add spacing from the axis\n",
        "# ---\n",
        "#\n",
        "plt.xlabel(\"Smoker\", labelpad=14)\n",
        "\n",
        "# We then also set the y axis label and add spacing from the axis\n",
        "# ---\n",
        "#\n",
        "plt.ylabel(\"Count of People\", labelpad=14)\n",
        "\n",
        "# We also set the title of our plot and adjust the space \n",
        "# between the plot and the font size.\n",
        "# ---\n",
        "#\n",
        "plt.title(\"Count of People Who Received Tips by Smokers\", y = 1.05, fontsize = 10);\n",
        "\n",
        "# You can style the plot in whatever way you'd like. Unfortunately we won't go through\n",
        "# that due to time constraints. You can refer to the Matpotlib documentation if you\n",
        "# would like to perform any other styling: https://matplotlib.org/"
      ],
      "execution_count": 0,
      "outputs": []
    },
    {
      "cell_type": "code",
      "metadata": {
        "id": "h-tm_IQoAl-b",
        "colab_type": "code",
        "colab": {}
      },
      "source": [
        "# We can also further plot a horizontal bar plot as shown. \n",
        "# We use the value 'barh' for the kind parameter.\n",
        "# We also add come color to our bars by using the color parameter,\n",
        "# and edgecolor='blue'\n",
        "# ---\n",
        "# \n",
        "df['smoker'].value_counts().plot(kind='barh', figsize=(6, 3), color=['green', 'orange'])\n",
        "plt.xlabel(\"Count of Tips Received\", labelpad=14)\n",
        "plt.ylabel(\"Smoker\", labelpad=14)\n",
        "plt.title(\"Count of Tips by Smoker\", y=1.02)\n",
        "plt.show()"
      ],
      "execution_count": 0,
      "outputs": []
    },
    {
      "cell_type": "code",
      "metadata": {
        "id": "rEONG4eOr2tW",
        "colab_type": "code",
        "colab": {}
      },
      "source": [
        "# Example 2: Histograms\n",
        "# ---\n",
        "# An histogram is an accurate graphical representation of the distribution of numerical data.\n",
        "# A histogram normally contains numerical values are grouped into bins.\n",
        "# - We can create a histogram with seaborn using the distplot() method.\n",
        "# - We don't want to plot the kernel density estimate which will provide \n",
        "#   us with the shape of the distribution if true, so we set it as False.\n",
        "# - We can also specify our histogram range through the use of the \n",
        "#   hist_kws parameter as shown below.\n",
        "# We will use seaborn to plot our histogram this time.\n",
        "# ---\n",
        "# \n",
        "sns.distplot(df['total_bill'], kde = False, color='blue', hist_kws={\"range\": [0, 100]})\n",
        "plt.xlabel(\"Total Bill\", labelpad=14)\n",
        "plt.ylabel(\"Frequency\", labelpad=14)\n",
        "plt.title(\"Histogram of Total Bill (in Dollars)\", fontsize=14, y=1.01) \n",
        "plt.show()\n",
        "\n",
        "# From the histogram below we can observe that the highest occurence\n",
        "# of the amount spent is between 15 and 20."
      ],
      "execution_count": 0,
      "outputs": []
    },
    {
      "cell_type": "code",
      "metadata": {
        "id": "6HQFasGhLlwa",
        "colab_type": "code",
        "colab": {}
      },
      "source": [
        "# In the above histogram we showned the frequency values on the y-axis. \n",
        "# However, we can also create another version of a histogram that illustrates \n",
        "# relative frequiencies on the y-axis - The Relative Frequency Histogram. \n",
        "# This would be helpful for visualisaing the proportion of values in a certain range. \n",
        "# We do this by using the norm_hist parameter and setting it to true which shows \n",
        "# a density rather than a count on the y-axis.\n",
        "# Note: We have use hex code for our color: You can get any hex code for your color \n",
        "# of preference here: https://htmlcolorcodes.com/. \n",
        "# ---\n",
        "# \n",
        "sns.distplot(df['total_bill'], bins=27, kde=False, norm_hist=True, color='#339FFF', hist_kws={\"range\": [0, 91]})\n",
        "plt.xlabel(\"Total Bill\", labelpad=14)\n",
        "plt.ylabel(\"Relative Frequency\", labelpad=14)\n",
        "plt.title(\"Relative Frequency Histogram of Total Bill (in Dollars)\", fontsize=14, y=1.01) \n",
        "plt.show()\n",
        "\n",
        "# From the below histogram, we note that in the total bill between 0 and 20, there are 6 bars, \n",
        "# each bar covers an amout of 3.3 dollars. \n",
        "# We can say that approximately a proportion of 0.002 of persons spend 3.3 dollars."
      ],
      "execution_count": 0,
      "outputs": []
    },
    {
      "cell_type": "code",
      "metadata": {
        "id": "kuN1j2r5r9la",
        "colab_type": "code",
        "colab": {}
      },
      "source": [
        "# Box Plot\n",
        "# ---\n",
        "# Box plots help visualize the distribution of quantitative values in a variable.\n",
        "# They are commonly used to visualize outliers in our dataset.\n",
        "# ---\n",
        "# \n",
        "\n",
        "# Reading our dataset\n",
        "# ---\n",
        "# Each record represents health/exercise metrics for individuals\n",
        "# \n",
        "df_exercise = pd.read_csv('https://bit.ly/ExerciseDS')\n",
        "df_exercise.head()"
      ],
      "execution_count": 0,
      "outputs": []
    },
    {
      "cell_type": "code",
      "metadata": {
        "id": "K7sQtSBnwhiQ",
        "colab_type": "code",
        "colab": {}
      },
      "source": [
        "# Checking for the unique values in the kind feature\n",
        "# ---\n",
        "# \n",
        "df_exercise['kind'].unique()"
      ],
      "execution_count": 0,
      "outputs": []
    },
    {
      "cell_type": "code",
      "metadata": {
        "id": "zb2UK5UBv0bo",
        "colab_type": "code",
        "colab": {}
      },
      "source": [
        "# We will can now plot a box plot for pulse values where feature\n",
        "# kind = running\n",
        "\n",
        "plt.figure(figsize=(5,2))\n",
        "\n",
        "# Seaborn also allows us to use a theme/appearance for our visualisations\n",
        "# This is how we set a theme. Seaborn has 5 themes that we can use \n",
        "# i.e. darkgrid , whitegrid , dark , white , and ticks\n",
        "# ----\n",
        "sns.set_style('ticks')\n",
        "\n",
        "\n",
        "sns.boxplot(x=df_exercise[df_exercise['kind']=='running']['pulse']) \n",
        "plt.title(\"Box Plot of People's Running Heart Rate\", fontsize=10, y=1.01) \n",
        "plt.xlabel(\"Pulse (beats per minute)\", labelpad=14)\n",
        "plt.show()\n",
        "\n",
        "# From the plot, we can see that;\n",
        "# - The median heart rate is 110 beats per minute.\n",
        "# - The minimum recorded running heart rate is 87 beats per minute.\n",
        "# - The maximum recorded running heart reate is 150 beats per minute. \n",
        "# - 75% of people recorded a running heart rate above 98 beats per minute. \n",
        "# - 75% of people recorded a running heart rate above 98 beats per minute. \n",
        "# - 25% of people recorded a running heart rate above 126 beats per minute.\n",
        "# - We don't have any values outside our box, thus there aren't any outliers\n",
        "#   If we had outliers, they would be shown in our box plot."
      ],
      "execution_count": 0,
      "outputs": []
    },
    {
      "cell_type": "code",
      "metadata": {
        "id": "i7_WkojIzkax",
        "colab_type": "code",
        "colab": {}
      },
      "source": [
        "# The above numerical values of our box plot can be printed as shown\n",
        "# using the describe method()\n",
        "# ---\n",
        "# \n",
        "df_exercise[df_exercise['kind']=='running']['pulse'].describe()"
      ],
      "execution_count": 0,
      "outputs": []
    },
    {
      "cell_type": "code",
      "metadata": {
        "id": "M_6DGXSR0B2-",
        "colab_type": "code",
        "colab": {}
      },
      "source": [
        "# We can also perform a box plot comparison of pulse rate as shown\n",
        "# ---\n",
        "# \n",
        "plt.figure(figsize=(5, 3))\n",
        "sns.boxplot(x='kind', y='pulse', data = df_exercise, saturation=0.65) \n",
        "plt.title(\"Box Plot of People's Heart Rate by Kind of Activity\", fontsize=10, y=1.01) \n",
        "plt.ylabel(\"Pulse [beats per minute]\", labelpad=14)\n",
        "plt.xlabel(\"Activity\", labelpad=14)\n",
        "plt.show()\n",
        "\n",
        "# From the plot, we can see that the median heart rate increases \n",
        "# as the activity changes from rest, to walking to running.\n",
        "# The distribution for those running varies much more than the distributions \n",
        "# for those walking and resting. \n",
        "# The maximum heart rate recorded is 150 beats per minute \n",
        "# while the minimum heart rate recorded is 80."
      ],
      "execution_count": 0,
      "outputs": []
    },
    {
      "cell_type": "code",
      "metadata": {
        "id": "AALswFGQr_BP",
        "colab_type": "code",
        "colab": {}
      },
      "source": [
        "# Pie Chart \n",
        "# ---\n",
        "# We can also plot a pie chart to get a break down on the kinds of activities\n",
        "# ---\n",
        "# \n",
        "\n",
        "# Setting the size of our pie chart\n",
        "plt.figure(figsize=(5,5))\n",
        "\n",
        "# Creating a list of colors to use in the pie chart\n",
        "colors = [\"#E13F29\", \"#D69A80\", \"#D63B59\"]\n",
        " \n",
        "\n",
        "# Let's create a list with the following the no. of students\n",
        "# Alternatively we can always have a summarized table and we \n",
        "# would refer to the appropriate feature.\n",
        "# ---\n",
        "#  \n",
        "students = [120, 500, 700]\n",
        "\n",
        "# We will also create the labels. Again, in a dataset we would \n",
        "# refer to a label feature in summarized table.\n",
        "# ---\n",
        "# \n",
        "student_labels = ['Engineering','Business Management','Physics']\n",
        "\n",
        "# We use autopct to view the percent listed as a fraction\n",
        "# Also use explode to highlight one segment.\n",
        "# ---\n",
        "#\n",
        "plt.pie(students, labels = student_labels, autopct='%1.1f%%', startangle=90, colors=colors, explode=(0.15, 0,0))\n",
        "\n",
        "# Title of our pie chart \n",
        "plt.title('Pie Chart of Students')\n",
        "\n",
        "# We use this kind of layout \n",
        "plt.tight_layout()\n",
        "\n",
        "# Then showing it\n",
        "plt.show()"
      ],
      "execution_count": 0,
      "outputs": []
    },
    {
      "cell_type": "code",
      "metadata": {
        "id": "1lmexqNjsBgl",
        "colab_type": "code",
        "colab": {}
      },
      "source": [
        "# Line Graph\n",
        "# ---\n",
        "# Dataset url = https://bit.ly/CovidCountDS\n",
        "# ---\n",
        "# \n",
        "\n",
        "# Reading our dataset \n",
        "# ---\n",
        "#\n",
        "df_covid = pd.read_csv('https://bit.ly/CovidCountDS')\n",
        "df_covid.head()\n"
      ],
      "execution_count": 0,
      "outputs": []
    },
    {
      "cell_type": "code",
      "metadata": {
        "id": "bZDyQ_J6ZYUk",
        "colab_type": "code",
        "colab": {}
      },
      "source": [
        "# Creating the line graph\n",
        "# ---\n",
        "# \n",
        "df_covid.set_index(df_covid['month']).plot(kind = 'line', figsize = (8, 3), grid = True)\n",
        "plt.title(\"Historical Monthly Covid Count (Thousands) for Country A and B\", fontsize = 10, y = 1.01)\n",
        "plt.xlabel(\"Month\", fontsize = 10, labelpad = 15)\n",
        "plt.ylabel(\"No. of cases\", fontsize=10, labelpad = 15)\n",
        "plt.legend(fontsize=13);\n",
        "plt.show()  \n",
        "\n",
        "# From the graph we can see that country b experienced the most no. of cases\n",
        "# for every month throughout the year. "
      ],
      "execution_count": 0,
      "outputs": []
    },
    {
      "cell_type": "markdown",
      "metadata": {
        "colab_type": "text",
        "id": "K-lKtB-PrTwe"
      },
      "source": [
        "### <font color=\"green\">Challenges</font>"
      ]
    },
    {
      "cell_type": "code",
      "metadata": {
        "colab_type": "code",
        "id": "c4Q7LF0KrTwf",
        "colab": {}
      },
      "source": [
        "# Challenge 1\n",
        "# ---\n",
        "# Study the ebola cases in west africa in 2014 given the following dataset\n",
        "# through the use of a histogram.\n",
        "# ---\n",
        "# Dataset url = https://bit.ly/2T60DKG\n",
        "# ---\n",
        "# OUR CODE GOES BELOW\n",
        "# "
      ],
      "execution_count": 0,
      "outputs": []
    },
    {
      "cell_type": "code",
      "metadata": {
        "id": "QhF7qT4nPRv0",
        "colab_type": "code",
        "colab": {}
      },
      "source": [
        "# Challenge 2\n",
        "# ---\n",
        "# You own a supermarket mall and through membership cards, \n",
        "# you have some basic data about your customers like \n",
        "# Customer ID, age, gender, annual income and spending score. \n",
        "# What is the age distribution of your customers.\n",
        "# ---\n",
        "# Dataset url = https://bit.ly/2WtrItx\n",
        "# ---\n",
        "# OUR CODE GOES BELOW\n",
        "# "
      ],
      "execution_count": 0,
      "outputs": []
    },
    {
      "cell_type": "code",
      "metadata": {
        "id": "HM0ufknvPTC7",
        "colab_type": "code",
        "colab": {}
      },
      "source": [
        "# Challenge 3\n",
        "# ---\n",
        "# Still, as a data scientist working for a bank, you have been given the \n",
        "# task to identify genuine and counterfeit banknotes. \n",
        "# Use the following bank notes dataset to find the counterfeit outliers. \n",
        "# ---\n",
        "# Dataset url = https://bit.ly/2yT9oAU\n",
        "# ---\n",
        "#"
      ],
      "execution_count": 0,
      "outputs": []
    },
    {
      "cell_type": "code",
      "metadata": {
        "id": "jB1NYY-Ve_AO",
        "colab_type": "code",
        "colab": {}
      },
      "source": [
        "# Challenge 4\n",
        "# ---\n",
        "# Visualise the cases in West African cases using the given dataset. \n",
        "# Highlight the country with the most cases.\n",
        "# ---\n",
        "# Dataset url = https://bit.ly/2T60DKG\n",
        "# ---\n",
        "# OUR CODE GOES BELOW\n",
        "# "
      ],
      "execution_count": 0,
      "outputs": []
    },
    {
      "cell_type": "code",
      "metadata": {
        "id": "tDSAnw16nhMD",
        "colab_type": "code",
        "colab": {}
      },
      "source": [
        "# Challenge 5\n",
        "# ---\n",
        "# Using the given dataset, study the pattern on covid cases in your country of residence.\n",
        "# ---\n",
        "# Dataset url = https://bit.ly/35Xa04I\n",
        "# ---\n",
        "# OUR CODE GOES BELOW\n",
        "# "
      ],
      "execution_count": 0,
      "outputs": []
    },
    {
      "cell_type": "markdown",
      "metadata": {
        "id": "gvEzuuWwikYM",
        "colab_type": "text"
      },
      "source": [
        "## 3. Specific Visualisation Tools"
      ]
    },
    {
      "cell_type": "markdown",
      "metadata": {
        "id": "A_uo6vT2m1YO",
        "colab_type": "text"
      },
      "source": [
        "### <font color=\"blue\">Examples</font>"
      ]
    },
    {
      "cell_type": "code",
      "metadata": {
        "id": "j3oUTUu_mVyG",
        "colab_type": "code",
        "colab": {}
      },
      "source": [
        "# Violin Plots\n",
        "# ---\n",
        "# A violin plot helps us to visualize the distribution of numerical data of different variables. \n",
        "# It is similar to the box plot but provides more information about the density estimate on the y-axis.\n",
        "# They are often used to compare the distribution of a given variable across some categories.\n",
        "# A few things to note:\n",
        "# 1. The white dot in the violin plot is the median. \n",
        "# 2. The black bar in the center of the violin is the interquartile range \n",
        "#    with the bottom end marking the first quartile and top end marking the third quartile point. \n",
        "# 3. In some other cases, violin plots are also useful in comparing several variables.  \n",
        "# ---\n",
        "# \n",
        "\n",
        "# Reading our dataset \n",
        "# ---\n",
        "#\n",
        "df = pd.read_csv(\"http://bit.ly/IrisDataset\") \n",
        "df.head()"
      ],
      "execution_count": 0,
      "outputs": []
    },
    {
      "cell_type": "code",
      "metadata": {
        "id": "NfdAy_68vIio",
        "colab_type": "code",
        "colab": {}
      },
      "source": [
        "# We can make a box plot to study one variable as shown below\n",
        "# ---\n",
        "# \n",
        "plt.figure(figsize=(5,5))\n",
        "sns.violinplot(y=df[\"sepal_length\"])\n",
        "plt.show()\n",
        " \n",
        "# From the plot, we can see we have a higher density between 5 and 6.2"
      ],
      "execution_count": 0,
      "outputs": []
    },
    {
      "cell_type": "code",
      "metadata": {
        "id": "q48Y4M2Ku1Iu",
        "colab_type": "code",
        "colab": {}
      },
      "source": [
        "# We can compare the distribution the values of the groups in our a categorical variable \n",
        "# found within our dataset as shown.\n",
        "# \n",
        "plt.figure(figsize=(5,4))\n",
        "sns.violinplot(x=df[\"species\"], y=df[\"sepal_length\"] )\n",
        "plt.show()\n",
        "\n",
        "# This tells us that the density of the different species varies in respect to sepal length."
      ],
      "execution_count": 0,
      "outputs": []
    },
    {
      "cell_type": "code",
      "metadata": {
        "id": "KO12wML_sMfB",
        "colab_type": "code",
        "colab": {}
      },
      "source": [
        "# Heat Maps\n",
        "# ---\n",
        "# We use heatmaps to visualize table-like data with variations in coloring.\n",
        "# Heat maps are most commonly used in visualising correlation tables however,\n",
        "# they can also be used to visualize any other tabular numerical data.  \n",
        "# ---\n",
        "# \n",
        "\n",
        "# We will demonstrate the use of heat maps by visualising a correlation \n",
        "# table shown below. Something to note about correlation, \n",
        "# is that the variables correlate with each other from a scale of 1 to -1 \n",
        "# with 1 being positvely strongly correlated, -1 being negatively correlated \n",
        "# and 0 not correlated at all. Don't worry about correlation so much during this time, \n",
        "# we will cover it well in Module II.\n",
        "# ---\n",
        "# \n",
        "\n",
        "# First we get the correlation values using the corr() method\n",
        "# ---\n",
        "# \n",
        "df_corr = df.corr()\n",
        "df_corr\n",
        "# We can see that petal_length and sepal_length have a high correlation "
      ],
      "execution_count": 0,
      "outputs": []
    },
    {
      "cell_type": "code",
      "metadata": {
        "id": "-twVVBASBino",
        "colab_type": "code",
        "colab": {}
      },
      "source": [
        "# Let's visualise our correlation table\n",
        "# ---\n",
        "# \n",
        "\n",
        "# The following line will enlargen our visualisation.\n",
        "# We can adjust the values to see what happens.\n",
        "# ---\n",
        "# \n",
        "plt.figure(figsize=(5,4))\n",
        "\n",
        "# We then plot our heatmap\n",
        "# ---\n",
        "#\n",
        "sns.heatmap(df_corr)\n",
        "plt.show()\n",
        "\n",
        "# From the plot, values which have a high positive correlation \n",
        "# are shown to have a ligher shade than other variables."
      ],
      "execution_count": 0,
      "outputs": []
    },
    {
      "cell_type": "code",
      "metadata": {
        "id": "aPFDDHOOETzm",
        "colab_type": "code",
        "colab": {}
      },
      "source": [
        "# Lets get a better understanding by annotating our visualisation\n",
        "# We simply want to see the numbers in our visualisation.\n",
        "# We also add lines between the cells and change the color \n",
        "# of our plot as well. For more colors palettes we can visit: \n",
        "# https://seaborn.pydata.org/tutorial/color_palettes.html\n",
        "# ---\n",
        "# \n",
        "plt.figure(figsize=(5,5))\n",
        "sns.heatmap(df_corr, annot=True, linewidth=0.5, cmap='coolwarm')\n",
        "plt.show()"
      ],
      "execution_count": 0,
      "outputs": []
    },
    {
      "cell_type": "markdown",
      "metadata": {
        "colab_type": "text",
        "id": "rP9VGEsFrUdp"
      },
      "source": [
        "### <font color=\"green\">Challenges</font>"
      ]
    },
    {
      "cell_type": "code",
      "metadata": {
        "colab_type": "code",
        "id": "GTNbWDykrUdr",
        "colab": {}
      },
      "source": [
        "# Challenge 1\n",
        "# ---\n",
        "# Still, as a data scientist working for a bank, you have been given the \n",
        "# task to identify genuine and counterfeit banknotes. \n",
        "# Use violin plots on following bank notes dataset to find out \n",
        "# whether there are counterfeit bank notes. \n",
        "# ---\n",
        "# Dataset url = https://bit.ly/2yT9oAU\n",
        "# ---\n",
        "#"
      ],
      "execution_count": 0,
      "outputs": []
    },
    {
      "cell_type": "code",
      "metadata": {
        "id": "0-wVxRxUFmw4",
        "colab_type": "code",
        "colab": {}
      },
      "source": [
        "# Challenge 2\n",
        "# ---\n",
        "# You work for a real estate firm as a Data Analyst and are required to \n",
        "# study the relationships between the given features and the prices of houses\n",
        "# and record your observations.\n",
        "# ---\n",
        "# Dataset url = https://bit.ly/3dKa9LE\n",
        "# ---\n",
        "#"
      ],
      "execution_count": 0,
      "outputs": []
    },
    {
      "cell_type": "markdown",
      "metadata": {
        "id": "VjE2aB8imh51",
        "colab_type": "text"
      },
      "source": [
        "## 4. Specific Visualization Tools II\n",
        " "
      ]
    },
    {
      "cell_type": "markdown",
      "metadata": {
        "id": "OnyYj9DNm2Wb",
        "colab_type": "text"
      },
      "source": [
        "### <font color=\"blue\">Examples</font>"
      ]
    },
    {
      "cell_type": "code",
      "metadata": {
        "id": "VLFERGkLmn5x",
        "colab_type": "code",
        "colab": {}
      },
      "source": [
        "# Scatter Plot\n",
        "# ---\n",
        "# Scatter plots are used to plot data points on horizontal and vertical axis \n",
        "# in the attempt to show how much one variable is affected by another.\n",
        "# Scatter plots have the capability to render a different size and/or color for each point.\n",
        "# ---\n",
        "# In the example below we will plot a scatter plot of petal_width vs petal_length\n",
        "\n",
        "# Reading our dataset \n",
        "# ---\n",
        "df = pd.read_csv(\"http://bit.ly/IrisDataset\") \n",
        "df.head()"
      ],
      "execution_count": 0,
      "outputs": []
    },
    {
      "cell_type": "code",
      "metadata": {
        "id": "CJbEGmBDCuPB",
        "colab_type": "code",
        "colab": {}
      },
      "source": [
        "# We can set the style of our scatterplot as shown\n",
        "# ---\n",
        "# \n",
        "sns.set_style(\"ticks\")\n",
        "\n",
        "# Then creating our scatterplot using the lmplot method provided by seaborn.\n",
        "# We could also achieve a scatterplot through the use of matplotlib only.\n",
        "# However we will focus on using seaborn for this example.\n",
        "# A scatterplot allows us to examine the relationship between two variables \n",
        "# as shown where we even decide to draw a line of best fit.\n",
        "# ---\n",
        "#\n",
        "sns.scatterplot(x=\"petal_width\", y=\"petal_length\", data = df) \n",
        "plt.title('Scatter plot of Petal width vs Petal Length') \n",
        "plt.xlabel('Petal Width') \n",
        "plt.ylabel('Petal Length'); \n",
        "\n",
        "# Our observation is that there is a positive linear correlation between the two variables.\n",
        "# As the value of one variable increases, the other variable increases as well."
      ],
      "execution_count": 0,
      "outputs": []
    },
    {
      "cell_type": "code",
      "metadata": {
        "id": "zEx_6rCosW0a",
        "colab_type": "code",
        "colab": {}
      },
      "source": [
        "# Bubble Plot\n",
        "# ---\n",
        "# A bubble plot is a scatterplot with a third dimension. This third dimension\n",
        "# is the value of an additional numeric variable is represented through the size of the dots. \n",
        "# ---\n",
        "# \n",
        "\n",
        "# This time we will use a different dataset and we want to examine the relationship \n",
        "# between preScore and postScore. Let's load the dataset.\n",
        "# ---\n",
        "# \n",
        "prescore_df = pd.read_csv('https://bit.ly/PrescoreDS');\n",
        "prescore_df.head()"
      ],
      "execution_count": 0,
      "outputs": []
    },
    {
      "cell_type": "code",
      "metadata": {
        "id": "Z2esveVoleW2",
        "colab_type": "code",
        "colab": {}
      },
      "source": [
        "# We plot the scatterplot, using size = age to be the third dimension.\n",
        "# Additionaly also use hue to give our dots some color and meaning. \n",
        "# ---\n",
        "# \n",
        "sns.scatterplot(x=\"preScore\", y=\"postScore\", hue=\"age\", size=\"age\", data=prescore_df)\n",
        "plt.show()"
      ],
      "execution_count": 0,
      "outputs": []
    },
    {
      "cell_type": "code",
      "metadata": {
        "id": "Cyao5yUysWuT",
        "colab_type": "code",
        "colab": {}
      },
      "source": [
        "# Pair plot\n",
        "# ---\n",
        "# Another visualisation is a pair plot which would allow us to see both \n",
        "# the distribution of single variables and the relationships between two variables.\n",
        "# It provides us with both scatterplots and histograms.\n",
        "# ---\n",
        "#\n",
        "\n",
        "# Plotting our pairplot\n",
        "# ---\n",
        "#  \n",
        "sns.pairplot(df)  \n",
        "plt.show() "
      ],
      "execution_count": 0,
      "outputs": []
    },
    {
      "cell_type": "code",
      "metadata": {
        "id": "cLWSydKFsI20",
        "colab_type": "code",
        "colab": {}
      },
      "source": [
        "# While plotting a pairplot we can also clearly define the shape \n",
        "# of our distribution by setting diag_kind = \"kde\"\n",
        "# ---\n",
        "#  \n",
        "sns.set_style(\"ticks\")\n",
        "sns.pairplot(df, diag_kind = \"kde\")  \n",
        "plt.show() "
      ],
      "execution_count": 0,
      "outputs": []
    },
    {
      "cell_type": "markdown",
      "metadata": {
        "colab_type": "text",
        "id": "1cQqJ1XfrVX7"
      },
      "source": [
        "### <font color=\"green\">Challenges</font>"
      ]
    },
    {
      "cell_type": "code",
      "metadata": {
        "colab_type": "code",
        "id": "e83wIWGIrVX9",
        "colab": {}
      },
      "source": [
        "# Challenge 1\n",
        "# ---\n",
        "# Given the following dataset that contains expenses of R&D, administration, marketing spend, state, \n",
        "# and profit for 50 startups, you have been tasked to help a venture capital firm determine \n",
        "# whether they should invest in new startups. \n",
        "# Create a scatter plot to determine whether there is a positive linear correlation \n",
        "# between marketing and profit.\n",
        "# ---\n",
        "# Dataset url = https://bit.ly/2WRnECg\n",
        "# ---\n",
        "# OUR CODE GOES BELOW\n",
        "# "
      ],
      "execution_count": 0,
      "outputs": []
    },
    {
      "cell_type": "code",
      "metadata": {
        "id": "gRHrNZ44rhLo",
        "colab_type": "code",
        "colab": {}
      },
      "source": [
        "# Challenge 2\n",
        "# ---\n",
        "# You a researcher trying to understand demographical and geographical factors \n",
        "# of African countries given the following dataset. \n",
        "# Create a bubble chart to visualisate relationships given the following dataset.\n",
        "# ---\n",
        "# Dataset url = https://bit.ly/2WuCHmn\n",
        "# ---\n",
        "# OUR CODE GOES BELOW\n",
        "# "
      ],
      "execution_count": 0,
      "outputs": []
    },
    {
      "cell_type": "code",
      "metadata": {
        "id": "maUMKSezrhvf",
        "colab_type": "code",
        "colab": {}
      },
      "source": [
        "# Challenge 3\n",
        "# ---\n",
        "# You have been given a dataset that contains 7 common different fish species in fish market sales. \n",
        "# With this dataset, a predictive model can be performed using machine friendly data \n",
        "# and estimate the weight of fish can be predicted. Use a pair plot to study the relationships and \n",
        "# distributions of the given variables. Record your observations.\n",
        "# ---\n",
        "# Dataset url = https://bit.ly/3fJ5482\n",
        "# --\n",
        "# OUR CODE GOES BELOW\n",
        "# "
      ],
      "execution_count": 0,
      "outputs": []
    },
    {
      "cell_type": "markdown",
      "metadata": {
        "id": "pA1T-xjgmXI_",
        "colab_type": "text"
      },
      "source": [
        "## 5. Advanced Visualization Tools\n",
        " "
      ]
    },
    {
      "cell_type": "markdown",
      "metadata": {
        "colab_type": "text",
        "id": "pUk1IjWarMoF"
      },
      "source": [
        "### <font color=\"blue\">Examples</font>"
      ]
    },
    {
      "cell_type": "code",
      "metadata": {
        "id": "aPHN2NOLunuN",
        "colab_type": "code",
        "colab": {}
      },
      "source": [
        "# Regression Plots\n",
        "# ---\n",
        "# Regression plots create a regression line between 2 variables \n",
        "# and helps to visualize whether they exhibit linear relationships. \n",
        "# ---\n",
        "# \n",
        "\n",
        "# Let us plot a regression plot below using the iris dataset \n",
        "# ---\n",
        "#  \n",
        "# Reading our dataset \n",
        "# ---\n",
        "df = pd.read_csv(\"http://bit.ly/IrisDataset\") \n",
        "df.head()"
      ],
      "execution_count": 0,
      "outputs": []
    },
    {
      "cell_type": "code",
      "metadata": {
        "id": "ye_4guCnzjbs",
        "colab_type": "code",
        "colab": {}
      },
      "source": [
        "# Creating our regression plot \n",
        "# ---\n",
        "#\n",
        "sns.lmplot(x=\"petal_width\", y=\"petal_length\", data = df) \n",
        "plt.title('Scatter plot of Petal width vs Petal Length') \n",
        "plt.xlabel('Petal Width') \n",
        "plt.ylabel('Petal Length');\n",
        "\n",
        "# From our observation below we can see that the two variables\n",
        "# exhibit a positive linear relationship."
      ],
      "execution_count": 0,
      "outputs": []
    },
    {
      "cell_type": "code",
      "metadata": {
        "id": "ZMaTtQ_Yup3b",
        "colab_type": "code",
        "colab": {}
      },
      "source": [
        "# Time Series \n",
        "# ---\n",
        "# A time series is a series of data points graphed in time order.\n",
        "# Lets plot a timeseries to examine the variables in our dataset.\n",
        "# ---\n",
        "# Dataset url = https://bit.ly/DSAirlinePassengers\n",
        "# \n",
        "\n",
        "# Reading our dataset\n",
        "# ---\n",
        "# \n",
        "airline_df = pd.read_csv('https://bit.ly/DSAirlinePassengers')\n",
        "airline_df_1949 = airline_df.head(12)\n",
        "airline_df_1949"
      ],
      "execution_count": 0,
      "outputs": []
    },
    {
      "cell_type": "code",
      "metadata": {
        "id": "Ao6LMtGo2m6d",
        "colab_type": "code",
        "colab": {}
      },
      "source": [
        "# Plotting a timeseries plot for the year 1949 \n",
        "# ---\n",
        "#\n",
        "plt.subplots(figsize=(10,6))   \n",
        "sns.lineplot(x=\"month\", y=\"passengers_in_thousands\", data=airline_df_1949)\n",
        "plt.title('Time series of Airline Passengers during the year 1949') \n",
        "plt.xlabel('Months') \n",
        "plt.ylabel('Airline Passengers in Thousands')  \n",
        "plt.xticks(rotation=45);"
      ],
      "execution_count": 0,
      "outputs": []
    },
    {
      "cell_type": "markdown",
      "metadata": {
        "colab_type": "text",
        "id": "B97yD-23rV9i"
      },
      "source": [
        "### <font color=\"green\">Challenges</font>"
      ]
    },
    {
      "cell_type": "code",
      "metadata": {
        "colab_type": "code",
        "id": "-fxELDsWrV9j",
        "colab": {}
      },
      "source": [
        "# Challenge 1\n",
        "# --- \n",
        "# You have been provided a dataset that contains numerical features (age, bmi, children and expenses) \n",
        "# and 3 nominal features (sex, smoker and region). Determine which features \n",
        "# (age, physical/family condition or location)are highly correlated with the medical expenses response variable. \n",
        "# Your outcome will be used for predicting future medical expenses of individuals by a medical insurance firm. \n",
        "# This will help an insurance firm make a decision on charging the premium.\n",
        "# You will will be required to use regression plots for this challenge.\n",
        "# ---\n",
        "# Dataset url = https://bit.ly/2y5CRYc\n",
        "# ---\n",
        "# OUR CODE GOES BELOW"
      ],
      "execution_count": 0,
      "outputs": []
    },
    {
      "cell_type": "code",
      "metadata": {
        "id": "0r3lrct58FUh",
        "colab_type": "code",
        "colab": {}
      },
      "source": [
        "# Challenge 2\n",
        "# ---\n",
        "# The following dataset contains temperature time series for Rio de Janeiro city.\n",
        "# Temperature records are provided by months. \n",
        "# Plot a time series plot of comparing temparature for the months of June \n",
        "# from the year 2009 - 2019.\n",
        "# ---\n",
        "# Dataset url = https://bit.ly/RioTemperature\n",
        "# The content is provided by NOAA GHCN v4 and post-processed by NASA's GISTEMP v4.\n",
        "# Source: https://bit.ly/2Z3speK\n",
        "# ---\n",
        "# OUR CODE GOES BELOW"
      ],
      "execution_count": 0,
      "outputs": []
    },
    {
      "cell_type": "markdown",
      "metadata": {
        "id": "-8QI23cGmp1c",
        "colab_type": "text"
      },
      "source": [
        "## 6. Advanced Visualization Tools II (Bonus)\n",
        " "
      ]
    },
    {
      "cell_type": "markdown",
      "metadata": {
        "colab_type": "text",
        "id": "rLLyouAjrNqm"
      },
      "source": [
        "### <font color=\"blue\">Examples</font>"
      ]
    },
    {
      "cell_type": "code",
      "metadata": {
        "colab_type": "code",
        "id": "uCFEO9TjrNqn",
        "colab": {}
      },
      "source": [
        "# Waffle Charts\n",
        "# ---\n",
        "# A waffle chart is a kind of like the square version of a pie chart,\n",
        "# where the size of each word represents its frequency or importance.\n",
        "# A waffle is normally created to display progress towards goals.\n",
        "# ---\n",
        "# You can have a look the documentation found here below:\n",
        "# https://readthedocs.org/projects/pywaffle/downloads/pdf/latest/\n",
        "# ---\n",
        "#\n",
        "\n",
        "# We will first need to install and import the Waffle package \n",
        "# ---\n",
        "# \n",
        "!pip install pywaffle\n",
        "from pywaffle import Waffle "
      ],
      "execution_count": 0,
      "outputs": []
    },
    {
      "cell_type": "code",
      "metadata": {
        "id": "INUNSD3FOt59",
        "colab_type": "code",
        "colab": {}
      },
      "source": [
        "# Then create a dataframe to work with. This can be a summary table. \n",
        "# Such a visualisation can be important when working with summary data and very few observations.\n",
        "# ---\n",
        "# \n",
        "data ={'vehicles': ['Mazda', 'Land Cruiser', 'Toyota Corolla', 'Isuzu', 'Mitstubishi'], \n",
        "       'parked': [64, 34, 13, 10, 2] \n",
        "       } \n",
        "       \n",
        "df = pd.DataFrame(data) \n",
        "df"
      ],
      "execution_count": 0,
      "outputs": []
    },
    {
      "cell_type": "code",
      "metadata": {
        "id": "ItWpnia7MXWN",
        "colab_type": "code",
        "colab": {}
      },
      "source": [
        "# Now plotting a waffle chart\n",
        "# We define, the no. of rows, the values to use, \n",
        "# labels, chart size, fontsize and location of our legend.\n",
        "# ---\n",
        "#    \n",
        "plt.figure(FigureClass = Waffle, rows = 6, values = df.parked,   \n",
        "           labels = list(df.vehicles), figsize=(9, 5), font_size=12,\n",
        "           legend = {'loc': 'upper left', 'bbox_to_anchor': (1, 1)});"
      ],
      "execution_count": 0,
      "outputs": []
    },
    {
      "cell_type": "code",
      "metadata": {
        "id": "FiZY9eRuRrlv",
        "colab_type": "code",
        "colab": {}
      },
      "source": [
        "# You can also add icons parameter to get access to icons \n",
        "# which we can use in our visualisation as shown.\n",
        "# Try changing the value to or 'book'\n",
        "# For more icons, you can reference: https://fontawesome.com/icons?d=gallery\n",
        "# ---\n",
        "# \n",
        "plt.figure(FigureClass = Waffle, rows = 6, values = df.parked, icons='car',\n",
        "           labels = list(df.vehicles), figsize=(9, 5), font_size=16,\n",
        "           legend = {'loc': 'upper left', 'bbox_to_anchor': (1, 1)});"
      ],
      "execution_count": 0,
      "outputs": []
    },
    {
      "cell_type": "markdown",
      "metadata": {
        "colab_type": "text",
        "id": "KIW-2ZpcrWmJ"
      },
      "source": [
        "### <font color=\"green\">Challenges</font>"
      ]
    },
    {
      "cell_type": "code",
      "metadata": {
        "colab_type": "code",
        "id": "yuX8ZrhgrWmK",
        "colab": {}
      },
      "source": [
        "# Challenge \n",
        "# ---\n",
        "# Using the Ebola cases dataset, create a waffle chart that provides \n",
        "# insights on the ebola cases in west africa in 2014. \n",
        "# Use an icon that represennts people in your visualisation. \n",
        "# You can reference: https://fontawesome.com/icons?d=gallery to get \n",
        "# the appropriate icon.\n",
        "# ---\n",
        "# Dataset url = https://bit.ly/2T60DKG\n",
        "# ---\n",
        "# OUR CODE GOES BELOW\n",
        "# "
      ],
      "execution_count": 0,
      "outputs": []
    },
    {
      "cell_type": "markdown",
      "metadata": {
        "id": "SoDgeeHfvDS_",
        "colab_type": "text"
      },
      "source": [
        "## 7. Exporting Visualisations\n",
        " "
      ]
    },
    {
      "cell_type": "markdown",
      "metadata": {
        "colab_type": "text",
        "id": "vR64YCKrvMcY"
      },
      "source": [
        "### <font color=\"blue\">Examples</font>"
      ]
    },
    {
      "cell_type": "code",
      "metadata": {
        "id": "Micap82mTtTl",
        "colab_type": "code",
        "colab": {}
      },
      "source": [
        "# Example 1\n",
        "# ---\n",
        "# This example will show us how we can download our visualisation from colaboratory\n",
        "# ---\n",
        "# \n",
        "\n",
        "# We first import the files module which will allow us to download our file from colaboratory\n",
        "# ---\n",
        "# \n",
        "from google.colab import files\n",
        "\n",
        "# Then, we export our visualisation in png format or any other desired format i.e png, jpeg or pdf\n",
        "# right after performing our plotting as shown in the timeseries dataset that we created earlier on.\n",
        "# ---\n",
        "# \n",
        "airline_df = pd.read_csv('https://bit.ly/DSAirlinePassengers')\n",
        "plt.subplots(figsize=(10,6))   \n",
        "sns.lineplot(x=\"month\", y=\"passengers_in_thousands\", data=airline_df_1949)\n",
        "plt.title('Time series of Airline Passengers during the year 1949') \n",
        "plt.xlabel('Months') \n",
        "plt.ylabel('Airline Passengers in Thousands')  \n",
        "plt.xticks(rotation=45)\n",
        "\n",
        "# We save our visualisaation in our desired format as shown\n",
        "# ---\n",
        "# \n",
        "plt.savefig(\"airline_timeseries.jpeg\", bbox_inches='tight')\n",
        "\n",
        "# And later download the respective file\n",
        "# ---\n",
        "#\n",
        "files.download(\"airline_timeseries.jpeg\");"
      ],
      "execution_count": 0,
      "outputs": []
    },
    {
      "cell_type": "markdown",
      "metadata": {
        "colab_type": "text",
        "id": "xH2tJyLYvQ9j"
      },
      "source": [
        "### <font color=\"green\">Challenges</font>"
      ]
    },
    {
      "cell_type": "code",
      "metadata": {
        "colab_type": "code",
        "id": "E8thrNLevQ9l",
        "colab": {}
      },
      "source": [
        "# Challenge\n",
        "# ---\n",
        "# Export the waffle visualisation that you created to visualise\n",
        "# the Ebola cases in west Africa in 2014.\n",
        "# The resulting file should be in jpeg format.\n",
        "# ---\n",
        "# OUR CODE GOES BELOW\n",
        "# "
      ],
      "execution_count": 0,
      "outputs": []
    }
  ]
}